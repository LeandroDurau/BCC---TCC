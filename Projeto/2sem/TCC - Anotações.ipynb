{
 "cells": [
  {
   "cell_type": "markdown",
   "id": "a582f1e3-ceff-44db-aad7-0df0ba2fd329",
   "metadata": {},
   "source": [
    "Imports"
   ]
  },
  {
   "cell_type": "code",
   "execution_count": 1,
   "id": "3fbd3941-ac0c-4c2f-bd6b-05b1a16eaaf1",
   "metadata": {},
   "outputs": [],
   "source": [
    "import os\n",
    "import datetime\n",
    "\n",
    "import matplotlib as mpl\n",
    "import matplotlib.pyplot as plt\n",
    "import numpy as np\n",
    "import pandas as pd\n",
    "import seaborn as sns\n",
    "import tensorflow as tf\n",
    "import random"
   ]
  },
  {
   "cell_type": "markdown",
   "id": "c72fc89a-aae7-4f22-aa7e-ff2e57be8141",
   "metadata": {},
   "source": [
    "Base"
   ]
  },
  {
   "cell_type": "code",
   "execution_count": 162,
   "id": "6d0be208-f983-40fc-a756-afa40c5b3153",
   "metadata": {},
   "outputs": [
    {
     "data": {
      "text/plain": [
       "609"
      ]
     },
     "execution_count": 162,
     "metadata": {},
     "output_type": "execute_result"
    }
   ],
   "source": [
    "df = pd.read_excel(\"normalizado-Amaro.xlsx\",header = None)\n",
    "len(df)"
   ]
  },
  {
   "cell_type": "code",
   "execution_count": 164,
   "id": "493c199b-ca55-4183-9667-eaa08db18db6",
   "metadata": {
    "scrolled": true
   },
   "outputs": [
    {
     "data": {
      "text/html": [
       "<div>\n",
       "<style scoped>\n",
       "    .dataframe tbody tr th:only-of-type {\n",
       "        vertical-align: middle;\n",
       "    }\n",
       "\n",
       "    .dataframe tbody tr th {\n",
       "        vertical-align: top;\n",
       "    }\n",
       "\n",
       "    .dataframe thead th {\n",
       "        text-align: right;\n",
       "    }\n",
       "</style>\n",
       "<table border=\"1\" class=\"dataframe\">\n",
       "  <thead>\n",
       "    <tr style=\"text-align: right;\">\n",
       "      <th></th>\n",
       "      <th>0</th>\n",
       "      <th>1</th>\n",
       "      <th>2</th>\n",
       "      <th>3</th>\n",
       "      <th>4</th>\n",
       "      <th>5</th>\n",
       "      <th>6</th>\n",
       "      <th>7</th>\n",
       "      <th>8</th>\n",
       "      <th>9</th>\n",
       "      <th>...</th>\n",
       "      <th>176</th>\n",
       "      <th>177</th>\n",
       "      <th>178</th>\n",
       "      <th>179</th>\n",
       "      <th>180</th>\n",
       "      <th>181</th>\n",
       "      <th>182</th>\n",
       "      <th>183</th>\n",
       "      <th>184</th>\n",
       "      <th>185</th>\n",
       "    </tr>\n",
       "  </thead>\n",
       "  <tbody>\n",
       "    <tr>\n",
       "      <th>0</th>\n",
       "      <td>Normal</td>\n",
       "      <td>797.734558</td>\n",
       "      <td>797.615051</td>\n",
       "      <td>797.690674</td>\n",
       "      <td>797.818909</td>\n",
       "      <td>797.674255</td>\n",
       "      <td>797.742920</td>\n",
       "      <td>798.512390</td>\n",
       "      <td>798.507996</td>\n",
       "      <td>798.370605</td>\n",
       "      <td>...</td>\n",
       "      <td>592.758179</td>\n",
       "      <td>592.893188</td>\n",
       "      <td>592.965149</td>\n",
       "      <td>593.009094</td>\n",
       "      <td>592.994629</td>\n",
       "      <td>592.928894</td>\n",
       "      <td>592.828064</td>\n",
       "      <td>592.817322</td>\n",
       "      <td>592.885742</td>\n",
       "      <td>593.006104</td>\n",
       "    </tr>\n",
       "    <tr>\n",
       "      <th>1</th>\n",
       "      <td>Normal</td>\n",
       "      <td>593.115662</td>\n",
       "      <td>593.115662</td>\n",
       "      <td>593.170715</td>\n",
       "      <td>593.274963</td>\n",
       "      <td>593.274963</td>\n",
       "      <td>593.375549</td>\n",
       "      <td>593.471680</td>\n",
       "      <td>593.639771</td>\n",
       "      <td>593.639771</td>\n",
       "      <td>...</td>\n",
       "      <td>794.532776</td>\n",
       "      <td>794.507629</td>\n",
       "      <td>794.468628</td>\n",
       "      <td>794.518921</td>\n",
       "      <td>794.535034</td>\n",
       "      <td>794.483826</td>\n",
       "      <td>794.493408</td>\n",
       "      <td>794.505615</td>\n",
       "      <td>794.437073</td>\n",
       "      <td>794.261597</td>\n",
       "    </tr>\n",
       "    <tr>\n",
       "      <th>2</th>\n",
       "      <td>Normal</td>\n",
       "      <td>794.192749</td>\n",
       "      <td>794.239014</td>\n",
       "      <td>794.257629</td>\n",
       "      <td>794.186707</td>\n",
       "      <td>794.127502</td>\n",
       "      <td>794.175903</td>\n",
       "      <td>794.500427</td>\n",
       "      <td>794.881958</td>\n",
       "      <td>794.997620</td>\n",
       "      <td>...</td>\n",
       "      <td>589.773987</td>\n",
       "      <td>589.802795</td>\n",
       "      <td>589.832947</td>\n",
       "      <td>589.741333</td>\n",
       "      <td>589.665588</td>\n",
       "      <td>589.626099</td>\n",
       "      <td>589.642212</td>\n",
       "      <td>589.750183</td>\n",
       "      <td>589.902771</td>\n",
       "      <td>590.020081</td>\n",
       "    </tr>\n",
       "    <tr>\n",
       "      <th>3</th>\n",
       "      <td>Normal</td>\n",
       "      <td>590.020813</td>\n",
       "      <td>590.020813</td>\n",
       "      <td>589.977661</td>\n",
       "      <td>589.938660</td>\n",
       "      <td>589.954895</td>\n",
       "      <td>589.926147</td>\n",
       "      <td>589.963684</td>\n",
       "      <td>589.987915</td>\n",
       "      <td>590.037109</td>\n",
       "      <td>...</td>\n",
       "      <td>798.350403</td>\n",
       "      <td>798.410889</td>\n",
       "      <td>798.479431</td>\n",
       "      <td>798.552979</td>\n",
       "      <td>798.631042</td>\n",
       "      <td>798.580078</td>\n",
       "      <td>798.458191</td>\n",
       "      <td>798.403076</td>\n",
       "      <td>798.316956</td>\n",
       "      <td>798.115662</td>\n",
       "    </tr>\n",
       "    <tr>\n",
       "      <th>4</th>\n",
       "      <td>Normal</td>\n",
       "      <td>798.037537</td>\n",
       "      <td>797.895447</td>\n",
       "      <td>797.840881</td>\n",
       "      <td>797.751831</td>\n",
       "      <td>797.693970</td>\n",
       "      <td>797.746033</td>\n",
       "      <td>797.748901</td>\n",
       "      <td>798.037537</td>\n",
       "      <td>797.618042</td>\n",
       "      <td>...</td>\n",
       "      <td>590.664490</td>\n",
       "      <td>590.698486</td>\n",
       "      <td>590.647827</td>\n",
       "      <td>590.599243</td>\n",
       "      <td>590.579773</td>\n",
       "      <td>590.579163</td>\n",
       "      <td>590.594727</td>\n",
       "      <td>590.590759</td>\n",
       "      <td>590.623535</td>\n",
       "      <td>590.630615</td>\n",
       "    </tr>\n",
       "  </tbody>\n",
       "</table>\n",
       "<p>5 rows × 186 columns</p>\n",
       "</div>"
      ],
      "text/plain": [
       "      0           1           2           3           4           5    \\\n",
       "0  Normal  797.734558  797.615051  797.690674  797.818909  797.674255   \n",
       "1  Normal  593.115662  593.115662  593.170715  593.274963  593.274963   \n",
       "2  Normal  794.192749  794.239014  794.257629  794.186707  794.127502   \n",
       "3  Normal  590.020813  590.020813  589.977661  589.938660  589.954895   \n",
       "4  Normal  798.037537  797.895447  797.840881  797.751831  797.693970   \n",
       "\n",
       "          6           7           8           9    ...         176  \\\n",
       "0  797.742920  798.512390  798.507996  798.370605  ...  592.758179   \n",
       "1  593.375549  593.471680  593.639771  593.639771  ...  794.532776   \n",
       "2  794.175903  794.500427  794.881958  794.997620  ...  589.773987   \n",
       "3  589.926147  589.963684  589.987915  590.037109  ...  798.350403   \n",
       "4  797.746033  797.748901  798.037537  797.618042  ...  590.664490   \n",
       "\n",
       "          177         178         179         180         181         182  \\\n",
       "0  592.893188  592.965149  593.009094  592.994629  592.928894  592.828064   \n",
       "1  794.507629  794.468628  794.518921  794.535034  794.483826  794.493408   \n",
       "2  589.802795  589.832947  589.741333  589.665588  589.626099  589.642212   \n",
       "3  798.410889  798.479431  798.552979  798.631042  798.580078  798.458191   \n",
       "4  590.698486  590.647827  590.599243  590.579773  590.579163  590.594727   \n",
       "\n",
       "          183         184         185  \n",
       "0  592.817322  592.885742  593.006104  \n",
       "1  794.505615  794.437073  794.261597  \n",
       "2  589.750183  589.902771  590.020081  \n",
       "3  798.403076  798.316956  798.115662  \n",
       "4  590.590759  590.623535  590.630615  \n",
       "\n",
       "[5 rows x 186 columns]"
      ]
     },
     "execution_count": 164,
     "metadata": {},
     "output_type": "execute_result"
    }
   ],
   "source": [
    "df.head(5)"
   ]
  },
  {
   "cell_type": "code",
   "execution_count": 166,
   "id": "04a16d0e-b806-4ffe-baa5-67d7bafe6c6d",
   "metadata": {},
   "outputs": [],
   "source": [
    "nova_df_x = df.drop([0],axis=1)"
   ]
  },
  {
   "cell_type": "code",
   "execution_count": 168,
   "id": "e623d495-99d1-4d11-8c71-ceed98131508",
   "metadata": {},
   "outputs": [],
   "source": [
    "df['fadiga'] = [0 if x == 'Normal' else 1 for x in df[0]]\n",
    "nova_df_y =  df['fadiga']"
   ]
  },
  {
   "cell_type": "code",
   "execution_count": 170,
   "id": "999339a5-7cd7-46db-b3ca-e9b67710d51a",
   "metadata": {},
   "outputs": [
    {
     "name": "stdout",
     "output_type": "stream",
     "text": [
      "0.8850574712643678\n"
     ]
    }
   ],
   "source": [
    "count = 0\n",
    "for i in nova_df_y:\n",
    "    if i == 0:\n",
    "        count += 1\n",
    "print(count/len(nova_df_y))"
   ]
  },
  {
   "cell_type": "markdown",
   "id": "b3f620ae-cda1-4de6-b6a2-035a37c66227",
   "metadata": {},
   "source": [
    "Treino e Teste"
   ]
  },
  {
   "cell_type": "code",
   "execution_count": 173,
   "id": "dd331278-1ca6-4269-b01e-488615e4b0ab",
   "metadata": {},
   "outputs": [],
   "source": [
    "#column_indices = {name: i for i, name in enumerate(nova_df.columns)}\n",
    "n = len(nova_df_x)\n",
    "train_df_x = nova_df_x[0:int(n*0.7)]\n",
    "val_df_x = nova_df_x[int(n*0.7):int(n*0.9)]\n",
    "test_df_x = nova_df_x[int(n*0.9):]\n",
    "\n",
    "train_df_y = nova_df_y[0:int(n*0.7)]\n",
    "val_df_y = nova_df_y[int(n*0.7):int(n*0.9)]\n",
    "test_df_y = nova_df_y[int(n*0.9):]\n",
    "\n",
    "train_x,train_y = train_df_x,train_df_y\n",
    "val_x,val_y = val_df_x,val_df_y\n",
    "test_x,test_y = test_df_x,test_df_y\n",
    "num_features = test_df_x.shape[1]"
   ]
  },
  {
   "cell_type": "code",
   "execution_count": 175,
   "id": "879dc830-c72b-44b5-b100-9720e8d27b0a",
   "metadata": {},
   "outputs": [
    {
     "data": {
      "text/html": [
       "<div>\n",
       "<style scoped>\n",
       "    .dataframe tbody tr th:only-of-type {\n",
       "        vertical-align: middle;\n",
       "    }\n",
       "\n",
       "    .dataframe tbody tr th {\n",
       "        vertical-align: top;\n",
       "    }\n",
       "\n",
       "    .dataframe thead th {\n",
       "        text-align: right;\n",
       "    }\n",
       "</style>\n",
       "<table border=\"1\" class=\"dataframe\">\n",
       "  <thead>\n",
       "    <tr style=\"text-align: right;\">\n",
       "      <th></th>\n",
       "      <th>1</th>\n",
       "      <th>2</th>\n",
       "      <th>3</th>\n",
       "      <th>4</th>\n",
       "      <th>5</th>\n",
       "      <th>6</th>\n",
       "      <th>7</th>\n",
       "      <th>8</th>\n",
       "      <th>9</th>\n",
       "      <th>10</th>\n",
       "      <th>...</th>\n",
       "      <th>176</th>\n",
       "      <th>177</th>\n",
       "      <th>178</th>\n",
       "      <th>179</th>\n",
       "      <th>180</th>\n",
       "      <th>181</th>\n",
       "      <th>182</th>\n",
       "      <th>183</th>\n",
       "      <th>184</th>\n",
       "      <th>185</th>\n",
       "    </tr>\n",
       "  </thead>\n",
       "  <tbody>\n",
       "    <tr>\n",
       "      <th>0</th>\n",
       "      <td>797.734558</td>\n",
       "      <td>797.615051</td>\n",
       "      <td>797.690674</td>\n",
       "      <td>797.818909</td>\n",
       "      <td>797.674255</td>\n",
       "      <td>797.742920</td>\n",
       "      <td>798.512390</td>\n",
       "      <td>798.507996</td>\n",
       "      <td>798.370605</td>\n",
       "      <td>798.257385</td>\n",
       "      <td>...</td>\n",
       "      <td>592.758179</td>\n",
       "      <td>592.893188</td>\n",
       "      <td>592.965149</td>\n",
       "      <td>593.009094</td>\n",
       "      <td>592.994629</td>\n",
       "      <td>592.928894</td>\n",
       "      <td>592.828064</td>\n",
       "      <td>592.817322</td>\n",
       "      <td>592.885742</td>\n",
       "      <td>593.006104</td>\n",
       "    </tr>\n",
       "    <tr>\n",
       "      <th>1</th>\n",
       "      <td>593.115662</td>\n",
       "      <td>593.115662</td>\n",
       "      <td>593.170715</td>\n",
       "      <td>593.274963</td>\n",
       "      <td>593.274963</td>\n",
       "      <td>593.375549</td>\n",
       "      <td>593.471680</td>\n",
       "      <td>593.639771</td>\n",
       "      <td>593.639771</td>\n",
       "      <td>593.761108</td>\n",
       "      <td>...</td>\n",
       "      <td>794.532776</td>\n",
       "      <td>794.507629</td>\n",
       "      <td>794.468628</td>\n",
       "      <td>794.518921</td>\n",
       "      <td>794.535034</td>\n",
       "      <td>794.483826</td>\n",
       "      <td>794.493408</td>\n",
       "      <td>794.505615</td>\n",
       "      <td>794.437073</td>\n",
       "      <td>794.261597</td>\n",
       "    </tr>\n",
       "    <tr>\n",
       "      <th>2</th>\n",
       "      <td>794.192749</td>\n",
       "      <td>794.239014</td>\n",
       "      <td>794.257629</td>\n",
       "      <td>794.186707</td>\n",
       "      <td>794.127502</td>\n",
       "      <td>794.175903</td>\n",
       "      <td>794.500427</td>\n",
       "      <td>794.881958</td>\n",
       "      <td>794.997620</td>\n",
       "      <td>795.308777</td>\n",
       "      <td>...</td>\n",
       "      <td>589.773987</td>\n",
       "      <td>589.802795</td>\n",
       "      <td>589.832947</td>\n",
       "      <td>589.741333</td>\n",
       "      <td>589.665588</td>\n",
       "      <td>589.626099</td>\n",
       "      <td>589.642212</td>\n",
       "      <td>589.750183</td>\n",
       "      <td>589.902771</td>\n",
       "      <td>590.020081</td>\n",
       "    </tr>\n",
       "    <tr>\n",
       "      <th>3</th>\n",
       "      <td>590.020813</td>\n",
       "      <td>590.020813</td>\n",
       "      <td>589.977661</td>\n",
       "      <td>589.938660</td>\n",
       "      <td>589.954895</td>\n",
       "      <td>589.926147</td>\n",
       "      <td>589.963684</td>\n",
       "      <td>589.987915</td>\n",
       "      <td>590.037109</td>\n",
       "      <td>590.070435</td>\n",
       "      <td>...</td>\n",
       "      <td>798.350403</td>\n",
       "      <td>798.410889</td>\n",
       "      <td>798.479431</td>\n",
       "      <td>798.552979</td>\n",
       "      <td>798.631042</td>\n",
       "      <td>798.580078</td>\n",
       "      <td>798.458191</td>\n",
       "      <td>798.403076</td>\n",
       "      <td>798.316956</td>\n",
       "      <td>798.115662</td>\n",
       "    </tr>\n",
       "    <tr>\n",
       "      <th>4</th>\n",
       "      <td>798.037537</td>\n",
       "      <td>797.895447</td>\n",
       "      <td>797.840881</td>\n",
       "      <td>797.751831</td>\n",
       "      <td>797.693970</td>\n",
       "      <td>797.746033</td>\n",
       "      <td>797.748901</td>\n",
       "      <td>798.037537</td>\n",
       "      <td>797.618042</td>\n",
       "      <td>797.338501</td>\n",
       "      <td>...</td>\n",
       "      <td>590.664490</td>\n",
       "      <td>590.698486</td>\n",
       "      <td>590.647827</td>\n",
       "      <td>590.599243</td>\n",
       "      <td>590.579773</td>\n",
       "      <td>590.579163</td>\n",
       "      <td>590.594727</td>\n",
       "      <td>590.590759</td>\n",
       "      <td>590.623535</td>\n",
       "      <td>590.630615</td>\n",
       "    </tr>\n",
       "    <tr>\n",
       "      <th>...</th>\n",
       "      <td>...</td>\n",
       "      <td>...</td>\n",
       "      <td>...</td>\n",
       "      <td>...</td>\n",
       "      <td>...</td>\n",
       "      <td>...</td>\n",
       "      <td>...</td>\n",
       "      <td>...</td>\n",
       "      <td>...</td>\n",
       "      <td>...</td>\n",
       "      <td>...</td>\n",
       "      <td>...</td>\n",
       "      <td>...</td>\n",
       "      <td>...</td>\n",
       "      <td>...</td>\n",
       "      <td>...</td>\n",
       "      <td>...</td>\n",
       "      <td>...</td>\n",
       "      <td>...</td>\n",
       "      <td>...</td>\n",
       "      <td>...</td>\n",
       "    </tr>\n",
       "    <tr>\n",
       "      <th>421</th>\n",
       "      <td>584.359863</td>\n",
       "      <td>584.359863</td>\n",
       "      <td>584.359863</td>\n",
       "      <td>584.359863</td>\n",
       "      <td>584.359863</td>\n",
       "      <td>584.359863</td>\n",
       "      <td>584.359863</td>\n",
       "      <td>584.359863</td>\n",
       "      <td>584.359863</td>\n",
       "      <td>584.359863</td>\n",
       "      <td>...</td>\n",
       "      <td>793.075500</td>\n",
       "      <td>792.936951</td>\n",
       "      <td>792.932617</td>\n",
       "      <td>792.930969</td>\n",
       "      <td>792.948059</td>\n",
       "      <td>793.020508</td>\n",
       "      <td>793.045593</td>\n",
       "      <td>792.984741</td>\n",
       "      <td>792.737366</td>\n",
       "      <td>792.549805</td>\n",
       "    </tr>\n",
       "    <tr>\n",
       "      <th>422</th>\n",
       "      <td>792.393372</td>\n",
       "      <td>792.267822</td>\n",
       "      <td>792.264648</td>\n",
       "      <td>792.205994</td>\n",
       "      <td>792.163696</td>\n",
       "      <td>792.090271</td>\n",
       "      <td>791.645020</td>\n",
       "      <td>791.604431</td>\n",
       "      <td>791.660400</td>\n",
       "      <td>791.711426</td>\n",
       "      <td>...</td>\n",
       "      <td>583.704651</td>\n",
       "      <td>583.715576</td>\n",
       "      <td>583.511353</td>\n",
       "      <td>583.572815</td>\n",
       "      <td>583.441467</td>\n",
       "      <td>583.552490</td>\n",
       "      <td>583.602417</td>\n",
       "      <td>583.682068</td>\n",
       "      <td>583.601807</td>\n",
       "      <td>583.684937</td>\n",
       "    </tr>\n",
       "    <tr>\n",
       "      <th>423</th>\n",
       "      <td>583.458984</td>\n",
       "      <td>583.458984</td>\n",
       "      <td>583.458984</td>\n",
       "      <td>583.557861</td>\n",
       "      <td>583.557861</td>\n",
       "      <td>583.665771</td>\n",
       "      <td>583.665771</td>\n",
       "      <td>583.846497</td>\n",
       "      <td>583.846497</td>\n",
       "      <td>583.831848</td>\n",
       "      <td>...</td>\n",
       "      <td>793.833740</td>\n",
       "      <td>793.794128</td>\n",
       "      <td>793.916687</td>\n",
       "      <td>793.886841</td>\n",
       "      <td>794.048218</td>\n",
       "      <td>794.003479</td>\n",
       "      <td>793.967651</td>\n",
       "      <td>793.695496</td>\n",
       "      <td>793.516296</td>\n",
       "      <td>793.295105</td>\n",
       "    </tr>\n",
       "    <tr>\n",
       "      <th>424</th>\n",
       "      <td>793.093445</td>\n",
       "      <td>792.994812</td>\n",
       "      <td>792.862976</td>\n",
       "      <td>792.622192</td>\n",
       "      <td>792.309509</td>\n",
       "      <td>792.356689</td>\n",
       "      <td>792.415161</td>\n",
       "      <td>792.457275</td>\n",
       "      <td>792.401855</td>\n",
       "      <td>792.302307</td>\n",
       "      <td>...</td>\n",
       "      <td>588.563782</td>\n",
       "      <td>588.600281</td>\n",
       "      <td>588.596436</td>\n",
       "      <td>588.610840</td>\n",
       "      <td>588.470703</td>\n",
       "      <td>588.389832</td>\n",
       "      <td>588.378052</td>\n",
       "      <td>588.648254</td>\n",
       "      <td>588.725525</td>\n",
       "      <td>588.954407</td>\n",
       "    </tr>\n",
       "    <tr>\n",
       "      <th>425</th>\n",
       "      <td>589.111023</td>\n",
       "      <td>589.111023</td>\n",
       "      <td>589.111023</td>\n",
       "      <td>589.111023</td>\n",
       "      <td>589.111023</td>\n",
       "      <td>589.111023</td>\n",
       "      <td>589.111023</td>\n",
       "      <td>589.111023</td>\n",
       "      <td>589.111023</td>\n",
       "      <td>589.111023</td>\n",
       "      <td>...</td>\n",
       "      <td>791.521057</td>\n",
       "      <td>791.685730</td>\n",
       "      <td>791.715881</td>\n",
       "      <td>791.453308</td>\n",
       "      <td>791.250061</td>\n",
       "      <td>791.168213</td>\n",
       "      <td>791.122375</td>\n",
       "      <td>791.166626</td>\n",
       "      <td>791.217468</td>\n",
       "      <td>791.083435</td>\n",
       "    </tr>\n",
       "  </tbody>\n",
       "</table>\n",
       "<p>426 rows × 185 columns</p>\n",
       "</div>"
      ],
      "text/plain": [
       "            1           2           3           4           5           6    \\\n",
       "0    797.734558  797.615051  797.690674  797.818909  797.674255  797.742920   \n",
       "1    593.115662  593.115662  593.170715  593.274963  593.274963  593.375549   \n",
       "2    794.192749  794.239014  794.257629  794.186707  794.127502  794.175903   \n",
       "3    590.020813  590.020813  589.977661  589.938660  589.954895  589.926147   \n",
       "4    798.037537  797.895447  797.840881  797.751831  797.693970  797.746033   \n",
       "..          ...         ...         ...         ...         ...         ...   \n",
       "421  584.359863  584.359863  584.359863  584.359863  584.359863  584.359863   \n",
       "422  792.393372  792.267822  792.264648  792.205994  792.163696  792.090271   \n",
       "423  583.458984  583.458984  583.458984  583.557861  583.557861  583.665771   \n",
       "424  793.093445  792.994812  792.862976  792.622192  792.309509  792.356689   \n",
       "425  589.111023  589.111023  589.111023  589.111023  589.111023  589.111023   \n",
       "\n",
       "            7           8           9           10   ...         176  \\\n",
       "0    798.512390  798.507996  798.370605  798.257385  ...  592.758179   \n",
       "1    593.471680  593.639771  593.639771  593.761108  ...  794.532776   \n",
       "2    794.500427  794.881958  794.997620  795.308777  ...  589.773987   \n",
       "3    589.963684  589.987915  590.037109  590.070435  ...  798.350403   \n",
       "4    797.748901  798.037537  797.618042  797.338501  ...  590.664490   \n",
       "..          ...         ...         ...         ...  ...         ...   \n",
       "421  584.359863  584.359863  584.359863  584.359863  ...  793.075500   \n",
       "422  791.645020  791.604431  791.660400  791.711426  ...  583.704651   \n",
       "423  583.665771  583.846497  583.846497  583.831848  ...  793.833740   \n",
       "424  792.415161  792.457275  792.401855  792.302307  ...  588.563782   \n",
       "425  589.111023  589.111023  589.111023  589.111023  ...  791.521057   \n",
       "\n",
       "            177         178         179         180         181         182  \\\n",
       "0    592.893188  592.965149  593.009094  592.994629  592.928894  592.828064   \n",
       "1    794.507629  794.468628  794.518921  794.535034  794.483826  794.493408   \n",
       "2    589.802795  589.832947  589.741333  589.665588  589.626099  589.642212   \n",
       "3    798.410889  798.479431  798.552979  798.631042  798.580078  798.458191   \n",
       "4    590.698486  590.647827  590.599243  590.579773  590.579163  590.594727   \n",
       "..          ...         ...         ...         ...         ...         ...   \n",
       "421  792.936951  792.932617  792.930969  792.948059  793.020508  793.045593   \n",
       "422  583.715576  583.511353  583.572815  583.441467  583.552490  583.602417   \n",
       "423  793.794128  793.916687  793.886841  794.048218  794.003479  793.967651   \n",
       "424  588.600281  588.596436  588.610840  588.470703  588.389832  588.378052   \n",
       "425  791.685730  791.715881  791.453308  791.250061  791.168213  791.122375   \n",
       "\n",
       "            183         184         185  \n",
       "0    592.817322  592.885742  593.006104  \n",
       "1    794.505615  794.437073  794.261597  \n",
       "2    589.750183  589.902771  590.020081  \n",
       "3    798.403076  798.316956  798.115662  \n",
       "4    590.590759  590.623535  590.630615  \n",
       "..          ...         ...         ...  \n",
       "421  792.984741  792.737366  792.549805  \n",
       "422  583.682068  583.601807  583.684937  \n",
       "423  793.695496  793.516296  793.295105  \n",
       "424  588.648254  588.725525  588.954407  \n",
       "425  791.166626  791.217468  791.083435  \n",
       "\n",
       "[426 rows x 185 columns]"
      ]
     },
     "execution_count": 175,
     "metadata": {},
     "output_type": "execute_result"
    }
   ],
   "source": [
    "train_x"
   ]
  },
  {
   "cell_type": "markdown",
   "id": "48874328-73b6-4d84-8970-3a2a916a6fee",
   "metadata": {},
   "source": [
    "Normalização"
   ]
  },
  {
   "cell_type": "code",
   "execution_count": 178,
   "id": "2d1a6b21-7c80-4aa5-884c-23310df16f6f",
   "metadata": {},
   "outputs": [],
   "source": [
    "train_mean = train_x.mean()\n",
    "train_std = train_x.std()\n",
    "\n",
    "train_x = (train_x - train_mean) / train_std\n",
    "val_x = (val_x - train_mean) / train_std\n",
    "test_x = (test_x - train_mean) / train_std"
   ]
  },
  {
   "cell_type": "code",
   "execution_count": 180,
   "id": "6c9fe054-1122-488a-8c27-2815a9206198",
   "metadata": {},
   "outputs": [],
   "source": [
    "num_classes = len(np.unique(train_y))"
   ]
  },
  {
   "cell_type": "code",
   "execution_count": 182,
   "id": "b9884c00-5ef5-4ab0-b67e-7ad4d25e460b",
   "metadata": {},
   "outputs": [],
   "source": [
    "train_x = train_x.to_numpy()\n",
    "val_x = val_x.to_numpy()\n",
    "test_x = test_x.to_numpy()"
   ]
  },
  {
   "cell_type": "code",
   "execution_count": 184,
   "id": "798dc0c8-ce37-4b05-ada0-30cc72f5a44c",
   "metadata": {},
   "outputs": [],
   "source": [
    "train_x = train_x.reshape((train_x.shape[0], train_x.shape[1], 1))\n",
    "test_x = test_x.reshape((test_x.shape[0], test_x.shape[1], 1))"
   ]
  },
  {
   "cell_type": "code",
   "execution_count": 186,
   "id": "16b91b6d-58e5-492b-ac54-000ca0e6ad62",
   "metadata": {},
   "outputs": [
    {
     "data": {
      "text/plain": [
       "(426, 185, 1)"
      ]
     },
     "execution_count": 186,
     "metadata": {},
     "output_type": "execute_result"
    }
   ],
   "source": [
    "train_x.shape"
   ]
  },
  {
   "cell_type": "markdown",
   "id": "17ec4761-518a-4de7-b7ff-66ed657b15b3",
   "metadata": {},
   "source": [
    "Modelo"
   ]
  },
  {
   "cell_type": "code",
   "execution_count": 189,
   "id": "edfaa189-7a9c-4c6d-81d3-afafa6acf32c",
   "metadata": {},
   "outputs": [],
   "source": [
    "def make_model_lstm(input_shape):\n",
    "    input_layer = tf.keras.layers.Input(input_shape)\n",
    "    lstm1 = tf.keras.layers.LSTM(16,return_sequences=True)(input_layer)\n",
    "    lstm2 = tf.keras.layers.LSTM(8)(lstm1)\n",
    "    output_layer = tf.keras.layers.Dense(num_classes)(lstm2)\n",
    "    return tf.keras.models.Model(inputs=input_layer, outputs=output_layer)"
   ]
  },
  {
   "cell_type": "code",
   "execution_count": 191,
   "id": "3b19f45a-eb58-467b-a98d-70358e28a0de",
   "metadata": {},
   "outputs": [],
   "source": [
    "def make_model_rnn(input_shape):\n",
    "    input_layer = tf.keras.layers.Input(input_shape)\n",
    "    rnn1 = tf.keras.layers.SimpleRNN(16,return_sequences=True)(input_layer)\n",
    "    rnn2 = tf.keras.layers.SimpleRNN(8)(rnn1)\n",
    "    output_layer = tf.keras.layers.Dense(num_classes, activation='softmax')(rnn2)\n",
    "    return tf.keras.models.Model(inputs=input_layer, outputs=output_layer)"
   ]
  },
  {
   "cell_type": "code",
   "execution_count": 193,
   "id": "741844ed-fb24-41c1-ba2c-e23990050fa5",
   "metadata": {},
   "outputs": [],
   "source": [
    "def make_model_cnn(input_shape):\n",
    "    input_layer = tf.keras.layers.Input(input_shape)\n",
    "    cn2 = tf.keras.layers.Conv1D(32,kernel_size=3,padding=\"same\")(input_layer)\n",
    "    max = tf.keras.layers.MaxPooling1D()(cn2)\n",
    "    flat = tf.keras.layers.Flatten()(max)\n",
    "    output_layer = tf.keras.layers.Dense(num_classes, activation='softmax')(flat)\n",
    "    return tf.keras.models.Model(inputs=input_layer, outputs=output_layer)"
   ]
  },
  {
   "cell_type": "code",
   "execution_count": 195,
   "id": "d0169b7d-03c6-444e-8c3a-4b54dc6a2275",
   "metadata": {},
   "outputs": [],
   "source": [
    "def make_model_fcnn(input_shape):\n",
    "    input_layer = tf.keras.layers.Input(input_shape)\n",
    "\n",
    "    conv1 = tf.keras.layers.Conv1D(filters=64, kernel_size=3, padding=\"same\")(input_layer)\n",
    "    conv1 = tf.keras.layers.BatchNormalization()(conv1)\n",
    "    conv1 = tf.keras.layers.ReLU()(conv1)\n",
    "\n",
    "    conv2 = tf.keras.layers.Conv1D(filters=64, kernel_size=3, padding=\"same\")(conv1)\n",
    "    conv2 = tf.keras.layers.BatchNormalization()(conv2)\n",
    "    conv2 = tf.keras.layers.ReLU()(conv2)\n",
    "\n",
    "    conv3 = tf.keras.layers.Conv1D(filters=64, kernel_size=3, padding=\"same\")(conv2)\n",
    "    conv3 = tf.keras.layers.BatchNormalization()(conv3)\n",
    "    conv3 = tf.keras.layers.ReLU()(conv3)\n",
    "\n",
    "    gap = tf.keras.layers.GlobalAveragePooling1D()(conv3)\n",
    "\n",
    "    output_layer = tf.keras.layers.Dense(num_classes, activation=\"softmax\")(gap)\n",
    "\n",
    "    return tf.keras.models.Model(inputs=input_layer, outputs=output_layer)"
   ]
  },
  {
   "cell_type": "code",
   "execution_count": 197,
   "id": "bea2a981-b95b-4dc2-8411-464726503c64",
   "metadata": {},
   "outputs": [
    {
     "data": {
      "text/html": [
       "<pre style=\"white-space:pre;overflow-x:auto;line-height:normal;font-family:Menlo,'DejaVu Sans Mono',consolas,'Courier New',monospace\"><span style=\"font-weight: bold\">Model: \"functional_19\"</span>\n",
       "</pre>\n"
      ],
      "text/plain": [
       "\u001b[1mModel: \"functional_19\"\u001b[0m\n"
      ]
     },
     "metadata": {},
     "output_type": "display_data"
    },
    {
     "data": {
      "text/html": [
       "<pre style=\"white-space:pre;overflow-x:auto;line-height:normal;font-family:Menlo,'DejaVu Sans Mono',consolas,'Courier New',monospace\">┏━━━━━━━━━━━━━━━━━━━━━━━━━━━━━━━━━━━━━━┳━━━━━━━━━━━━━━━━━━━━━━━━━━━━━┳━━━━━━━━━━━━━━━━━┓\n",
       "┃<span style=\"font-weight: bold\"> Layer (type)                         </span>┃<span style=\"font-weight: bold\"> Output Shape                </span>┃<span style=\"font-weight: bold\">         Param # </span>┃\n",
       "┡━━━━━━━━━━━━━━━━━━━━━━━━━━━━━━━━━━━━━━╇━━━━━━━━━━━━━━━━━━━━━━━━━━━━━╇━━━━━━━━━━━━━━━━━┩\n",
       "│ input_layer_9 (<span style=\"color: #0087ff; text-decoration-color: #0087ff\">InputLayer</span>)           │ (<span style=\"color: #00d7ff; text-decoration-color: #00d7ff\">None</span>, <span style=\"color: #00af00; text-decoration-color: #00af00\">185</span>, <span style=\"color: #00af00; text-decoration-color: #00af00\">1</span>)              │               <span style=\"color: #00af00; text-decoration-color: #00af00\">0</span> │\n",
       "├──────────────────────────────────────┼─────────────────────────────┼─────────────────┤\n",
       "│ lstm_6 (<span style=\"color: #0087ff; text-decoration-color: #0087ff\">LSTM</span>)                        │ (<span style=\"color: #00d7ff; text-decoration-color: #00d7ff\">None</span>, <span style=\"color: #00af00; text-decoration-color: #00af00\">185</span>, <span style=\"color: #00af00; text-decoration-color: #00af00\">16</span>)             │           <span style=\"color: #00af00; text-decoration-color: #00af00\">1,152</span> │\n",
       "├──────────────────────────────────────┼─────────────────────────────┼─────────────────┤\n",
       "│ lstm_7 (<span style=\"color: #0087ff; text-decoration-color: #0087ff\">LSTM</span>)                        │ (<span style=\"color: #00d7ff; text-decoration-color: #00d7ff\">None</span>, <span style=\"color: #00af00; text-decoration-color: #00af00\">8</span>)                   │             <span style=\"color: #00af00; text-decoration-color: #00af00\">800</span> │\n",
       "├──────────────────────────────────────┼─────────────────────────────┼─────────────────┤\n",
       "│ dense_9 (<span style=\"color: #0087ff; text-decoration-color: #0087ff\">Dense</span>)                      │ (<span style=\"color: #00d7ff; text-decoration-color: #00d7ff\">None</span>, <span style=\"color: #00af00; text-decoration-color: #00af00\">2</span>)                   │              <span style=\"color: #00af00; text-decoration-color: #00af00\">18</span> │\n",
       "└──────────────────────────────────────┴─────────────────────────────┴─────────────────┘\n",
       "</pre>\n"
      ],
      "text/plain": [
       "┏━━━━━━━━━━━━━━━━━━━━━━━━━━━━━━━━━━━━━━┳━━━━━━━━━━━━━━━━━━━━━━━━━━━━━┳━━━━━━━━━━━━━━━━━┓\n",
       "┃\u001b[1m \u001b[0m\u001b[1mLayer (type)                        \u001b[0m\u001b[1m \u001b[0m┃\u001b[1m \u001b[0m\u001b[1mOutput Shape               \u001b[0m\u001b[1m \u001b[0m┃\u001b[1m \u001b[0m\u001b[1m        Param #\u001b[0m\u001b[1m \u001b[0m┃\n",
       "┡━━━━━━━━━━━━━━━━━━━━━━━━━━━━━━━━━━━━━━╇━━━━━━━━━━━━━━━━━━━━━━━━━━━━━╇━━━━━━━━━━━━━━━━━┩\n",
       "│ input_layer_9 (\u001b[38;5;33mInputLayer\u001b[0m)           │ (\u001b[38;5;45mNone\u001b[0m, \u001b[38;5;34m185\u001b[0m, \u001b[38;5;34m1\u001b[0m)              │               \u001b[38;5;34m0\u001b[0m │\n",
       "├──────────────────────────────────────┼─────────────────────────────┼─────────────────┤\n",
       "│ lstm_6 (\u001b[38;5;33mLSTM\u001b[0m)                        │ (\u001b[38;5;45mNone\u001b[0m, \u001b[38;5;34m185\u001b[0m, \u001b[38;5;34m16\u001b[0m)             │           \u001b[38;5;34m1,152\u001b[0m │\n",
       "├──────────────────────────────────────┼─────────────────────────────┼─────────────────┤\n",
       "│ lstm_7 (\u001b[38;5;33mLSTM\u001b[0m)                        │ (\u001b[38;5;45mNone\u001b[0m, \u001b[38;5;34m8\u001b[0m)                   │             \u001b[38;5;34m800\u001b[0m │\n",
       "├──────────────────────────────────────┼─────────────────────────────┼─────────────────┤\n",
       "│ dense_9 (\u001b[38;5;33mDense\u001b[0m)                      │ (\u001b[38;5;45mNone\u001b[0m, \u001b[38;5;34m2\u001b[0m)                   │              \u001b[38;5;34m18\u001b[0m │\n",
       "└──────────────────────────────────────┴─────────────────────────────┴─────────────────┘\n"
      ]
     },
     "metadata": {},
     "output_type": "display_data"
    },
    {
     "data": {
      "text/html": [
       "<pre style=\"white-space:pre;overflow-x:auto;line-height:normal;font-family:Menlo,'DejaVu Sans Mono',consolas,'Courier New',monospace\"><span style=\"font-weight: bold\"> Total params: </span><span style=\"color: #00af00; text-decoration-color: #00af00\">1,970</span> (7.70 KB)\n",
       "</pre>\n"
      ],
      "text/plain": [
       "\u001b[1m Total params: \u001b[0m\u001b[38;5;34m1,970\u001b[0m (7.70 KB)\n"
      ]
     },
     "metadata": {},
     "output_type": "display_data"
    },
    {
     "data": {
      "text/html": [
       "<pre style=\"white-space:pre;overflow-x:auto;line-height:normal;font-family:Menlo,'DejaVu Sans Mono',consolas,'Courier New',monospace\"><span style=\"font-weight: bold\"> Trainable params: </span><span style=\"color: #00af00; text-decoration-color: #00af00\">1,970</span> (7.70 KB)\n",
       "</pre>\n"
      ],
      "text/plain": [
       "\u001b[1m Trainable params: \u001b[0m\u001b[38;5;34m1,970\u001b[0m (7.70 KB)\n"
      ]
     },
     "metadata": {},
     "output_type": "display_data"
    },
    {
     "data": {
      "text/html": [
       "<pre style=\"white-space:pre;overflow-x:auto;line-height:normal;font-family:Menlo,'DejaVu Sans Mono',consolas,'Courier New',monospace\"><span style=\"font-weight: bold\"> Non-trainable params: </span><span style=\"color: #00af00; text-decoration-color: #00af00\">0</span> (0.00 B)\n",
       "</pre>\n"
      ],
      "text/plain": [
       "\u001b[1m Non-trainable params: \u001b[0m\u001b[38;5;34m0\u001b[0m (0.00 B)\n"
      ]
     },
     "metadata": {},
     "output_type": "display_data"
    }
   ],
   "source": [
    "model_lstm = make_model_lstm(input_shape= train_x.shape[1:])\n",
    "\n",
    "model_lstm.summary()"
   ]
  },
  {
   "cell_type": "code",
   "execution_count": 199,
   "id": "83a3bbbb-0a68-490b-8f1a-8182d4dc5a96",
   "metadata": {},
   "outputs": [
    {
     "data": {
      "text/html": [
       "<pre style=\"white-space:pre;overflow-x:auto;line-height:normal;font-family:Menlo,'DejaVu Sans Mono',consolas,'Courier New',monospace\"><span style=\"font-weight: bold\">Model: \"functional_21\"</span>\n",
       "</pre>\n"
      ],
      "text/plain": [
       "\u001b[1mModel: \"functional_21\"\u001b[0m\n"
      ]
     },
     "metadata": {},
     "output_type": "display_data"
    },
    {
     "data": {
      "text/html": [
       "<pre style=\"white-space:pre;overflow-x:auto;line-height:normal;font-family:Menlo,'DejaVu Sans Mono',consolas,'Courier New',monospace\">┏━━━━━━━━━━━━━━━━━━━━━━━━━━━━━━━━━━━━━━┳━━━━━━━━━━━━━━━━━━━━━━━━━━━━━┳━━━━━━━━━━━━━━━━━┓\n",
       "┃<span style=\"font-weight: bold\"> Layer (type)                         </span>┃<span style=\"font-weight: bold\"> Output Shape                </span>┃<span style=\"font-weight: bold\">         Param # </span>┃\n",
       "┡━━━━━━━━━━━━━━━━━━━━━━━━━━━━━━━━━━━━━━╇━━━━━━━━━━━━━━━━━━━━━━━━━━━━━╇━━━━━━━━━━━━━━━━━┩\n",
       "│ input_layer_10 (<span style=\"color: #0087ff; text-decoration-color: #0087ff\">InputLayer</span>)          │ (<span style=\"color: #00d7ff; text-decoration-color: #00d7ff\">None</span>, <span style=\"color: #00af00; text-decoration-color: #00af00\">185</span>, <span style=\"color: #00af00; text-decoration-color: #00af00\">1</span>)              │               <span style=\"color: #00af00; text-decoration-color: #00af00\">0</span> │\n",
       "├──────────────────────────────────────┼─────────────────────────────┼─────────────────┤\n",
       "│ simple_rnn_6 (<span style=\"color: #0087ff; text-decoration-color: #0087ff\">SimpleRNN</span>)             │ (<span style=\"color: #00d7ff; text-decoration-color: #00d7ff\">None</span>, <span style=\"color: #00af00; text-decoration-color: #00af00\">185</span>, <span style=\"color: #00af00; text-decoration-color: #00af00\">16</span>)             │             <span style=\"color: #00af00; text-decoration-color: #00af00\">288</span> │\n",
       "├──────────────────────────────────────┼─────────────────────────────┼─────────────────┤\n",
       "│ simple_rnn_7 (<span style=\"color: #0087ff; text-decoration-color: #0087ff\">SimpleRNN</span>)             │ (<span style=\"color: #00d7ff; text-decoration-color: #00d7ff\">None</span>, <span style=\"color: #00af00; text-decoration-color: #00af00\">8</span>)                   │             <span style=\"color: #00af00; text-decoration-color: #00af00\">200</span> │\n",
       "├──────────────────────────────────────┼─────────────────────────────┼─────────────────┤\n",
       "│ dense_10 (<span style=\"color: #0087ff; text-decoration-color: #0087ff\">Dense</span>)                     │ (<span style=\"color: #00d7ff; text-decoration-color: #00d7ff\">None</span>, <span style=\"color: #00af00; text-decoration-color: #00af00\">2</span>)                   │              <span style=\"color: #00af00; text-decoration-color: #00af00\">18</span> │\n",
       "└──────────────────────────────────────┴─────────────────────────────┴─────────────────┘\n",
       "</pre>\n"
      ],
      "text/plain": [
       "┏━━━━━━━━━━━━━━━━━━━━━━━━━━━━━━━━━━━━━━┳━━━━━━━━━━━━━━━━━━━━━━━━━━━━━┳━━━━━━━━━━━━━━━━━┓\n",
       "┃\u001b[1m \u001b[0m\u001b[1mLayer (type)                        \u001b[0m\u001b[1m \u001b[0m┃\u001b[1m \u001b[0m\u001b[1mOutput Shape               \u001b[0m\u001b[1m \u001b[0m┃\u001b[1m \u001b[0m\u001b[1m        Param #\u001b[0m\u001b[1m \u001b[0m┃\n",
       "┡━━━━━━━━━━━━━━━━━━━━━━━━━━━━━━━━━━━━━━╇━━━━━━━━━━━━━━━━━━━━━━━━━━━━━╇━━━━━━━━━━━━━━━━━┩\n",
       "│ input_layer_10 (\u001b[38;5;33mInputLayer\u001b[0m)          │ (\u001b[38;5;45mNone\u001b[0m, \u001b[38;5;34m185\u001b[0m, \u001b[38;5;34m1\u001b[0m)              │               \u001b[38;5;34m0\u001b[0m │\n",
       "├──────────────────────────────────────┼─────────────────────────────┼─────────────────┤\n",
       "│ simple_rnn_6 (\u001b[38;5;33mSimpleRNN\u001b[0m)             │ (\u001b[38;5;45mNone\u001b[0m, \u001b[38;5;34m185\u001b[0m, \u001b[38;5;34m16\u001b[0m)             │             \u001b[38;5;34m288\u001b[0m │\n",
       "├──────────────────────────────────────┼─────────────────────────────┼─────────────────┤\n",
       "│ simple_rnn_7 (\u001b[38;5;33mSimpleRNN\u001b[0m)             │ (\u001b[38;5;45mNone\u001b[0m, \u001b[38;5;34m8\u001b[0m)                   │             \u001b[38;5;34m200\u001b[0m │\n",
       "├──────────────────────────────────────┼─────────────────────────────┼─────────────────┤\n",
       "│ dense_10 (\u001b[38;5;33mDense\u001b[0m)                     │ (\u001b[38;5;45mNone\u001b[0m, \u001b[38;5;34m2\u001b[0m)                   │              \u001b[38;5;34m18\u001b[0m │\n",
       "└──────────────────────────────────────┴─────────────────────────────┴─────────────────┘\n"
      ]
     },
     "metadata": {},
     "output_type": "display_data"
    },
    {
     "data": {
      "text/html": [
       "<pre style=\"white-space:pre;overflow-x:auto;line-height:normal;font-family:Menlo,'DejaVu Sans Mono',consolas,'Courier New',monospace\"><span style=\"font-weight: bold\"> Total params: </span><span style=\"color: #00af00; text-decoration-color: #00af00\">506</span> (1.98 KB)\n",
       "</pre>\n"
      ],
      "text/plain": [
       "\u001b[1m Total params: \u001b[0m\u001b[38;5;34m506\u001b[0m (1.98 KB)\n"
      ]
     },
     "metadata": {},
     "output_type": "display_data"
    },
    {
     "data": {
      "text/html": [
       "<pre style=\"white-space:pre;overflow-x:auto;line-height:normal;font-family:Menlo,'DejaVu Sans Mono',consolas,'Courier New',monospace\"><span style=\"font-weight: bold\"> Trainable params: </span><span style=\"color: #00af00; text-decoration-color: #00af00\">506</span> (1.98 KB)\n",
       "</pre>\n"
      ],
      "text/plain": [
       "\u001b[1m Trainable params: \u001b[0m\u001b[38;5;34m506\u001b[0m (1.98 KB)\n"
      ]
     },
     "metadata": {},
     "output_type": "display_data"
    },
    {
     "data": {
      "text/html": [
       "<pre style=\"white-space:pre;overflow-x:auto;line-height:normal;font-family:Menlo,'DejaVu Sans Mono',consolas,'Courier New',monospace\"><span style=\"font-weight: bold\"> Non-trainable params: </span><span style=\"color: #00af00; text-decoration-color: #00af00\">0</span> (0.00 B)\n",
       "</pre>\n"
      ],
      "text/plain": [
       "\u001b[1m Non-trainable params: \u001b[0m\u001b[38;5;34m0\u001b[0m (0.00 B)\n"
      ]
     },
     "metadata": {},
     "output_type": "display_data"
    }
   ],
   "source": [
    "model_rnn = make_model_rnn(input_shape= train_x.shape[1:])\n",
    "\n",
    "model_rnn.summary()"
   ]
  },
  {
   "cell_type": "code",
   "execution_count": 201,
   "id": "51dff9aa-f08a-4fa2-be4e-3f3b33fe6022",
   "metadata": {},
   "outputs": [
    {
     "data": {
      "text/html": [
       "<pre style=\"white-space:pre;overflow-x:auto;line-height:normal;font-family:Menlo,'DejaVu Sans Mono',consolas,'Courier New',monospace\"><span style=\"font-weight: bold\">Model: \"functional_23\"</span>\n",
       "</pre>\n"
      ],
      "text/plain": [
       "\u001b[1mModel: \"functional_23\"\u001b[0m\n"
      ]
     },
     "metadata": {},
     "output_type": "display_data"
    },
    {
     "data": {
      "text/html": [
       "<pre style=\"white-space:pre;overflow-x:auto;line-height:normal;font-family:Menlo,'DejaVu Sans Mono',consolas,'Courier New',monospace\">┏━━━━━━━━━━━━━━━━━━━━━━━━━━━━━━━━━━━━━━┳━━━━━━━━━━━━━━━━━━━━━━━━━━━━━┳━━━━━━━━━━━━━━━━━┓\n",
       "┃<span style=\"font-weight: bold\"> Layer (type)                         </span>┃<span style=\"font-weight: bold\"> Output Shape                </span>┃<span style=\"font-weight: bold\">         Param # </span>┃\n",
       "┡━━━━━━━━━━━━━━━━━━━━━━━━━━━━━━━━━━━━━━╇━━━━━━━━━━━━━━━━━━━━━━━━━━━━━╇━━━━━━━━━━━━━━━━━┩\n",
       "│ input_layer_11 (<span style=\"color: #0087ff; text-decoration-color: #0087ff\">InputLayer</span>)          │ (<span style=\"color: #00d7ff; text-decoration-color: #00d7ff\">None</span>, <span style=\"color: #00af00; text-decoration-color: #00af00\">185</span>, <span style=\"color: #00af00; text-decoration-color: #00af00\">1</span>)              │               <span style=\"color: #00af00; text-decoration-color: #00af00\">0</span> │\n",
       "├──────────────────────────────────────┼─────────────────────────────┼─────────────────┤\n",
       "│ conv1d_3 (<span style=\"color: #0087ff; text-decoration-color: #0087ff\">Conv1D</span>)                    │ (<span style=\"color: #00d7ff; text-decoration-color: #00d7ff\">None</span>, <span style=\"color: #00af00; text-decoration-color: #00af00\">185</span>, <span style=\"color: #00af00; text-decoration-color: #00af00\">32</span>)             │             <span style=\"color: #00af00; text-decoration-color: #00af00\">128</span> │\n",
       "├──────────────────────────────────────┼─────────────────────────────┼─────────────────┤\n",
       "│ max_pooling1d_3 (<span style=\"color: #0087ff; text-decoration-color: #0087ff\">MaxPooling1D</span>)       │ (<span style=\"color: #00d7ff; text-decoration-color: #00d7ff\">None</span>, <span style=\"color: #00af00; text-decoration-color: #00af00\">92</span>, <span style=\"color: #00af00; text-decoration-color: #00af00\">32</span>)              │               <span style=\"color: #00af00; text-decoration-color: #00af00\">0</span> │\n",
       "├──────────────────────────────────────┼─────────────────────────────┼─────────────────┤\n",
       "│ flatten_3 (<span style=\"color: #0087ff; text-decoration-color: #0087ff\">Flatten</span>)                  │ (<span style=\"color: #00d7ff; text-decoration-color: #00d7ff\">None</span>, <span style=\"color: #00af00; text-decoration-color: #00af00\">2944</span>)                │               <span style=\"color: #00af00; text-decoration-color: #00af00\">0</span> │\n",
       "├──────────────────────────────────────┼─────────────────────────────┼─────────────────┤\n",
       "│ dense_11 (<span style=\"color: #0087ff; text-decoration-color: #0087ff\">Dense</span>)                     │ (<span style=\"color: #00d7ff; text-decoration-color: #00d7ff\">None</span>, <span style=\"color: #00af00; text-decoration-color: #00af00\">2</span>)                   │           <span style=\"color: #00af00; text-decoration-color: #00af00\">5,890</span> │\n",
       "└──────────────────────────────────────┴─────────────────────────────┴─────────────────┘\n",
       "</pre>\n"
      ],
      "text/plain": [
       "┏━━━━━━━━━━━━━━━━━━━━━━━━━━━━━━━━━━━━━━┳━━━━━━━━━━━━━━━━━━━━━━━━━━━━━┳━━━━━━━━━━━━━━━━━┓\n",
       "┃\u001b[1m \u001b[0m\u001b[1mLayer (type)                        \u001b[0m\u001b[1m \u001b[0m┃\u001b[1m \u001b[0m\u001b[1mOutput Shape               \u001b[0m\u001b[1m \u001b[0m┃\u001b[1m \u001b[0m\u001b[1m        Param #\u001b[0m\u001b[1m \u001b[0m┃\n",
       "┡━━━━━━━━━━━━━━━━━━━━━━━━━━━━━━━━━━━━━━╇━━━━━━━━━━━━━━━━━━━━━━━━━━━━━╇━━━━━━━━━━━━━━━━━┩\n",
       "│ input_layer_11 (\u001b[38;5;33mInputLayer\u001b[0m)          │ (\u001b[38;5;45mNone\u001b[0m, \u001b[38;5;34m185\u001b[0m, \u001b[38;5;34m1\u001b[0m)              │               \u001b[38;5;34m0\u001b[0m │\n",
       "├──────────────────────────────────────┼─────────────────────────────┼─────────────────┤\n",
       "│ conv1d_3 (\u001b[38;5;33mConv1D\u001b[0m)                    │ (\u001b[38;5;45mNone\u001b[0m, \u001b[38;5;34m185\u001b[0m, \u001b[38;5;34m32\u001b[0m)             │             \u001b[38;5;34m128\u001b[0m │\n",
       "├──────────────────────────────────────┼─────────────────────────────┼─────────────────┤\n",
       "│ max_pooling1d_3 (\u001b[38;5;33mMaxPooling1D\u001b[0m)       │ (\u001b[38;5;45mNone\u001b[0m, \u001b[38;5;34m92\u001b[0m, \u001b[38;5;34m32\u001b[0m)              │               \u001b[38;5;34m0\u001b[0m │\n",
       "├──────────────────────────────────────┼─────────────────────────────┼─────────────────┤\n",
       "│ flatten_3 (\u001b[38;5;33mFlatten\u001b[0m)                  │ (\u001b[38;5;45mNone\u001b[0m, \u001b[38;5;34m2944\u001b[0m)                │               \u001b[38;5;34m0\u001b[0m │\n",
       "├──────────────────────────────────────┼─────────────────────────────┼─────────────────┤\n",
       "│ dense_11 (\u001b[38;5;33mDense\u001b[0m)                     │ (\u001b[38;5;45mNone\u001b[0m, \u001b[38;5;34m2\u001b[0m)                   │           \u001b[38;5;34m5,890\u001b[0m │\n",
       "└──────────────────────────────────────┴─────────────────────────────┴─────────────────┘\n"
      ]
     },
     "metadata": {},
     "output_type": "display_data"
    },
    {
     "data": {
      "text/html": [
       "<pre style=\"white-space:pre;overflow-x:auto;line-height:normal;font-family:Menlo,'DejaVu Sans Mono',consolas,'Courier New',monospace\"><span style=\"font-weight: bold\"> Total params: </span><span style=\"color: #00af00; text-decoration-color: #00af00\">6,018</span> (23.51 KB)\n",
       "</pre>\n"
      ],
      "text/plain": [
       "\u001b[1m Total params: \u001b[0m\u001b[38;5;34m6,018\u001b[0m (23.51 KB)\n"
      ]
     },
     "metadata": {},
     "output_type": "display_data"
    },
    {
     "data": {
      "text/html": [
       "<pre style=\"white-space:pre;overflow-x:auto;line-height:normal;font-family:Menlo,'DejaVu Sans Mono',consolas,'Courier New',monospace\"><span style=\"font-weight: bold\"> Trainable params: </span><span style=\"color: #00af00; text-decoration-color: #00af00\">6,018</span> (23.51 KB)\n",
       "</pre>\n"
      ],
      "text/plain": [
       "\u001b[1m Trainable params: \u001b[0m\u001b[38;5;34m6,018\u001b[0m (23.51 KB)\n"
      ]
     },
     "metadata": {},
     "output_type": "display_data"
    },
    {
     "data": {
      "text/html": [
       "<pre style=\"white-space:pre;overflow-x:auto;line-height:normal;font-family:Menlo,'DejaVu Sans Mono',consolas,'Courier New',monospace\"><span style=\"font-weight: bold\"> Non-trainable params: </span><span style=\"color: #00af00; text-decoration-color: #00af00\">0</span> (0.00 B)\n",
       "</pre>\n"
      ],
      "text/plain": [
       "\u001b[1m Non-trainable params: \u001b[0m\u001b[38;5;34m0\u001b[0m (0.00 B)\n"
      ]
     },
     "metadata": {},
     "output_type": "display_data"
    }
   ],
   "source": [
    "model_cnn = make_model_cnn(input_shape= train_x.shape[1:])\n",
    "\n",
    "model_cnn.summary()"
   ]
  },
  {
   "cell_type": "markdown",
   "id": "9bd880bb-1a81-4e3e-a1bb-39495f448807",
   "metadata": {},
   "source": [
    "Parametros utilizados para rodar as Épocas"
   ]
  },
  {
   "cell_type": "code",
   "execution_count": 204,
   "id": "2f451bb1-419c-45d0-aa97-4866516fce23",
   "metadata": {},
   "outputs": [],
   "source": [
    "epochs = 50\n",
    "batch_size = 32\n",
    "\n",
    "callbacks = [\n",
    "    tf.keras.callbacks.ModelCheckpoint(\n",
    "        \"best_model.keras\", save_best_only=True, monitor=\"val_loss\"\n",
    "    ),\n",
    "    tf.keras.callbacks.ReduceLROnPlateau(\n",
    "        monitor=\"val_loss\", factor=0.5, patience=10, min_lr=0.0001\n",
    "    ),\n",
    "    tf.keras.callbacks.EarlyStopping(monitor=\"val_loss\", patience=20, verbose=1),\n",
    "]"
   ]
  },
  {
   "cell_type": "markdown",
   "id": "981fd858-5de7-42dc-a2f0-0521679563a0",
   "metadata": {},
   "source": [
    "LSTM"
   ]
  },
  {
   "cell_type": "code",
   "execution_count": 207,
   "id": "f46b7dfd-ebce-489c-b010-8a7ea6efbde6",
   "metadata": {},
   "outputs": [
    {
     "name": "stdout",
     "output_type": "stream",
     "text": [
      "Epoch 1/50\n",
      "\u001b[1m11/11\u001b[0m \u001b[32m━━━━━━━━━━━━━━━━━━━━\u001b[0m\u001b[37m\u001b[0m \u001b[1m7s\u001b[0m 146ms/step - loss: 6.6191 - sparse_categorical_accuracy: 0.5623 - val_loss: 5.6426 - val_sparse_categorical_accuracy: 0.6047 - learning_rate: 0.0010\n",
      "Epoch 2/50\n",
      "\u001b[1m11/11\u001b[0m \u001b[32m━━━━━━━━━━━━━━━━━━━━\u001b[0m\u001b[37m\u001b[0m \u001b[1m1s\u001b[0m 78ms/step - loss: 4.5877 - sparse_categorical_accuracy: 0.6455 - val_loss: 1.7737 - val_sparse_categorical_accuracy: 0.8721 - learning_rate: 0.0010\n",
      "Epoch 3/50\n",
      "\u001b[1m11/11\u001b[0m \u001b[32m━━━━━━━━━━━━━━━━━━━━\u001b[0m\u001b[37m\u001b[0m \u001b[1m1s\u001b[0m 79ms/step - loss: 0.8725 - sparse_categorical_accuracy: 0.9377 - val_loss: 1.8212 - val_sparse_categorical_accuracy: 0.8721 - learning_rate: 0.0010\n",
      "Epoch 4/50\n",
      "\u001b[1m11/11\u001b[0m \u001b[32m━━━━━━━━━━━━━━━━━━━━\u001b[0m\u001b[37m\u001b[0m \u001b[1m1s\u001b[0m 74ms/step - loss: 0.8752 - sparse_categorical_accuracy: 0.9386 - val_loss: 1.8177 - val_sparse_categorical_accuracy: 0.8721 - learning_rate: 0.0010\n",
      "Epoch 5/50\n",
      "\u001b[1m11/11\u001b[0m \u001b[32m━━━━━━━━━━━━━━━━━━━━\u001b[0m\u001b[37m\u001b[0m \u001b[1m1s\u001b[0m 73ms/step - loss: 1.3306 - sparse_categorical_accuracy: 0.9062 - val_loss: 1.7935 - val_sparse_categorical_accuracy: 0.8721 - learning_rate: 0.0010\n",
      "Epoch 6/50\n",
      "\u001b[1m11/11\u001b[0m \u001b[32m━━━━━━━━━━━━━━━━━━━━\u001b[0m\u001b[37m\u001b[0m \u001b[1m1s\u001b[0m 86ms/step - loss: 0.9011 - sparse_categorical_accuracy: 0.9355 - val_loss: 1.7578 - val_sparse_categorical_accuracy: 0.8721 - learning_rate: 0.0010\n",
      "Epoch 7/50\n",
      "\u001b[1m11/11\u001b[0m \u001b[32m━━━━━━━━━━━━━━━━━━━━\u001b[0m\u001b[37m\u001b[0m \u001b[1m1s\u001b[0m 84ms/step - loss: 0.7724 - sparse_categorical_accuracy: 0.9433 - val_loss: 1.6691 - val_sparse_categorical_accuracy: 0.8721 - learning_rate: 0.0010\n",
      "Epoch 8/50\n",
      "\u001b[1m11/11\u001b[0m \u001b[32m━━━━━━━━━━━━━━━━━━━━\u001b[0m\u001b[37m\u001b[0m \u001b[1m1s\u001b[0m 86ms/step - loss: 0.6625 - sparse_categorical_accuracy: 0.9417 - val_loss: 0.5125 - val_sparse_categorical_accuracy: 0.8721 - learning_rate: 0.0010\n",
      "Epoch 9/50\n",
      "\u001b[1m11/11\u001b[0m \u001b[32m━━━━━━━━━━━━━━━━━━━━\u001b[0m\u001b[37m\u001b[0m \u001b[1m1s\u001b[0m 83ms/step - loss: 0.4553 - sparse_categorical_accuracy: 0.9423 - val_loss: 0.5125 - val_sparse_categorical_accuracy: 0.8721 - learning_rate: 0.0010\n",
      "Epoch 10/50\n",
      "\u001b[1m11/11\u001b[0m \u001b[32m━━━━━━━━━━━━━━━━━━━━\u001b[0m\u001b[37m\u001b[0m \u001b[1m1s\u001b[0m 82ms/step - loss: 0.4070 - sparse_categorical_accuracy: 0.6884 - val_loss: 0.5123 - val_sparse_categorical_accuracy: 0.6047 - learning_rate: 0.0010\n",
      "Epoch 11/50\n",
      "\u001b[1m11/11\u001b[0m \u001b[32m━━━━━━━━━━━━━━━━━━━━\u001b[0m\u001b[37m\u001b[0m \u001b[1m1s\u001b[0m 76ms/step - loss: 0.4255 - sparse_categorical_accuracy: 0.5503 - val_loss: 0.5119 - val_sparse_categorical_accuracy: 0.6047 - learning_rate: 0.0010\n",
      "Epoch 12/50\n",
      "\u001b[1m11/11\u001b[0m \u001b[32m━━━━━━━━━━━━━━━━━━━━\u001b[0m\u001b[37m\u001b[0m \u001b[1m1s\u001b[0m 78ms/step - loss: 0.5121 - sparse_categorical_accuracy: 0.5250 - val_loss: 0.5113 - val_sparse_categorical_accuracy: 0.6047 - learning_rate: 0.0010\n",
      "Epoch 13/50\n",
      "\u001b[1m11/11\u001b[0m \u001b[32m━━━━━━━━━━━━━━━━━━━━\u001b[0m\u001b[37m\u001b[0m \u001b[1m1s\u001b[0m 82ms/step - loss: 0.4824 - sparse_categorical_accuracy: 0.5737 - val_loss: 0.5108 - val_sparse_categorical_accuracy: 0.6047 - learning_rate: 0.0010\n",
      "Epoch 14/50\n",
      "\u001b[1m11/11\u001b[0m \u001b[32m━━━━━━━━━━━━━━━━━━━━\u001b[0m\u001b[37m\u001b[0m \u001b[1m1s\u001b[0m 81ms/step - loss: 0.3496 - sparse_categorical_accuracy: 0.5723 - val_loss: 0.5104 - val_sparse_categorical_accuracy: 0.6047 - learning_rate: 0.0010\n",
      "Epoch 15/50\n",
      "\u001b[1m11/11\u001b[0m \u001b[32m━━━━━━━━━━━━━━━━━━━━\u001b[0m\u001b[37m\u001b[0m \u001b[1m1s\u001b[0m 85ms/step - loss: 0.3957 - sparse_categorical_accuracy: 0.5560 - val_loss: 0.5096 - val_sparse_categorical_accuracy: 0.6047 - learning_rate: 0.0010\n",
      "Epoch 16/50\n",
      "\u001b[1m11/11\u001b[0m \u001b[32m━━━━━━━━━━━━━━━━━━━━\u001b[0m\u001b[37m\u001b[0m \u001b[1m2s\u001b[0m 133ms/step - loss: 0.4701 - sparse_categorical_accuracy: 0.5614 - val_loss: 0.5086 - val_sparse_categorical_accuracy: 0.6047 - learning_rate: 0.0010\n",
      "Epoch 17/50\n",
      "\u001b[1m11/11\u001b[0m \u001b[32m━━━━━━━━━━━━━━━━━━━━\u001b[0m\u001b[37m\u001b[0m \u001b[1m2s\u001b[0m 80ms/step - loss: 0.3841 - sparse_categorical_accuracy: 0.5588 - val_loss: 0.5077 - val_sparse_categorical_accuracy: 0.6047 - learning_rate: 0.0010\n",
      "Epoch 18/50\n",
      "\u001b[1m11/11\u001b[0m \u001b[32m━━━━━━━━━━━━━━━━━━━━\u001b[0m\u001b[37m\u001b[0m \u001b[1m1s\u001b[0m 79ms/step - loss: 0.4124 - sparse_categorical_accuracy: 0.5496 - val_loss: 0.5064 - val_sparse_categorical_accuracy: 0.6047 - learning_rate: 0.0010\n",
      "Epoch 19/50\n",
      "\u001b[1m11/11\u001b[0m \u001b[32m━━━━━━━━━━━━━━━━━━━━\u001b[0m\u001b[37m\u001b[0m \u001b[1m1s\u001b[0m 71ms/step - loss: 0.4407 - sparse_categorical_accuracy: 0.5430 - val_loss: 0.5049 - val_sparse_categorical_accuracy: 0.6163 - learning_rate: 0.0010\n",
      "Epoch 20/50\n",
      "\u001b[1m11/11\u001b[0m \u001b[32m━━━━━━━━━━━━━━━━━━━━\u001b[0m\u001b[37m\u001b[0m \u001b[1m1s\u001b[0m 84ms/step - loss: 0.3656 - sparse_categorical_accuracy: 0.6179 - val_loss: 0.5031 - val_sparse_categorical_accuracy: 0.8605 - learning_rate: 0.0010\n",
      "Epoch 21/50\n",
      "\u001b[1m11/11\u001b[0m \u001b[32m━━━━━━━━━━━━━━━━━━━━\u001b[0m\u001b[37m\u001b[0m \u001b[1m1s\u001b[0m 82ms/step - loss: 0.3699 - sparse_categorical_accuracy: 0.7673 - val_loss: 0.5007 - val_sparse_categorical_accuracy: 0.8721 - learning_rate: 0.0010\n",
      "Epoch 22/50\n",
      "\u001b[1m11/11\u001b[0m \u001b[32m━━━━━━━━━━━━━━━━━━━━\u001b[0m\u001b[37m\u001b[0m \u001b[1m1s\u001b[0m 89ms/step - loss: 0.3868 - sparse_categorical_accuracy: 0.9231 - val_loss: 0.4947 - val_sparse_categorical_accuracy: 0.8721 - learning_rate: 0.0010\n",
      "Epoch 23/50\n",
      "\u001b[1m11/11\u001b[0m \u001b[32m━━━━━━━━━━━━━━━━━━━━\u001b[0m\u001b[37m\u001b[0m \u001b[1m1s\u001b[0m 74ms/step - loss: 0.4460 - sparse_categorical_accuracy: 0.9194 - val_loss: 0.6931 - val_sparse_categorical_accuracy: 0.4535 - learning_rate: 0.0010\n",
      "Epoch 24/50\n",
      "\u001b[1m11/11\u001b[0m \u001b[32m━━━━━━━━━━━━━━━━━━━━\u001b[0m\u001b[37m\u001b[0m \u001b[1m1s\u001b[0m 79ms/step - loss: 0.6998 - sparse_categorical_accuracy: 0.5740 - val_loss: 0.5064 - val_sparse_categorical_accuracy: 0.6047 - learning_rate: 0.0010\n",
      "Epoch 25/50\n",
      "\u001b[1m11/11\u001b[0m \u001b[32m━━━━━━━━━━━━━━━━━━━━\u001b[0m\u001b[37m\u001b[0m \u001b[1m1s\u001b[0m 83ms/step - loss: 0.4179 - sparse_categorical_accuracy: 0.5575 - val_loss: 0.5122 - val_sparse_categorical_accuracy: 0.6047 - learning_rate: 0.0010\n",
      "Epoch 26/50\n",
      "\u001b[1m11/11\u001b[0m \u001b[32m━━━━━━━━━━━━━━━━━━━━\u001b[0m\u001b[37m\u001b[0m \u001b[1m1s\u001b[0m 78ms/step - loss: 0.4707 - sparse_categorical_accuracy: 0.5591 - val_loss: 0.5132 - val_sparse_categorical_accuracy: 0.6047 - learning_rate: 0.0010\n",
      "Epoch 27/50\n",
      "\u001b[1m11/11\u001b[0m \u001b[32m━━━━━━━━━━━━━━━━━━━━\u001b[0m\u001b[37m\u001b[0m \u001b[1m1s\u001b[0m 80ms/step - loss: 0.4384 - sparse_categorical_accuracy: 0.5178 - val_loss: 0.5134 - val_sparse_categorical_accuracy: 0.6047 - learning_rate: 0.0010\n",
      "Epoch 28/50\n",
      "\u001b[1m11/11\u001b[0m \u001b[32m━━━━━━━━━━━━━━━━━━━━\u001b[0m\u001b[37m\u001b[0m \u001b[1m1s\u001b[0m 77ms/step - loss: 0.4928 - sparse_categorical_accuracy: 0.5411 - val_loss: 0.5132 - val_sparse_categorical_accuracy: 0.6047 - learning_rate: 0.0010\n",
      "Epoch 29/50\n",
      "\u001b[1m11/11\u001b[0m \u001b[32m━━━━━━━━━━━━━━━━━━━━\u001b[0m\u001b[37m\u001b[0m \u001b[1m1s\u001b[0m 88ms/step - loss: 0.3985 - sparse_categorical_accuracy: 0.5617 - val_loss: 0.5131 - val_sparse_categorical_accuracy: 0.6047 - learning_rate: 0.0010\n",
      "Epoch 30/50\n",
      "\u001b[1m11/11\u001b[0m \u001b[32m━━━━━━━━━━━━━━━━━━━━\u001b[0m\u001b[37m\u001b[0m \u001b[1m1s\u001b[0m 75ms/step - loss: 0.5073 - sparse_categorical_accuracy: 0.5060 - val_loss: 0.5128 - val_sparse_categorical_accuracy: 0.6047 - learning_rate: 0.0010\n",
      "Epoch 31/50\n",
      "\u001b[1m11/11\u001b[0m \u001b[32m━━━━━━━━━━━━━━━━━━━━\u001b[0m\u001b[37m\u001b[0m \u001b[1m1s\u001b[0m 73ms/step - loss: 0.5093 - sparse_categorical_accuracy: 0.5461 - val_loss: 0.5124 - val_sparse_categorical_accuracy: 0.6047 - learning_rate: 0.0010\n",
      "Epoch 32/50\n",
      "\u001b[1m11/11\u001b[0m \u001b[32m━━━━━━━━━━━━━━━━━━━━\u001b[0m\u001b[37m\u001b[0m \u001b[1m1s\u001b[0m 78ms/step - loss: 0.4388 - sparse_categorical_accuracy: 0.5263 - val_loss: 0.5121 - val_sparse_categorical_accuracy: 0.6047 - learning_rate: 0.0010\n",
      "Epoch 33/50\n",
      "\u001b[1m11/11\u001b[0m \u001b[32m━━━━━━━━━━━━━━━━━━━━\u001b[0m\u001b[37m\u001b[0m \u001b[1m1s\u001b[0m 72ms/step - loss: 0.3859 - sparse_categorical_accuracy: 0.5574 - val_loss: 0.5120 - val_sparse_categorical_accuracy: 0.6047 - learning_rate: 5.0000e-04\n",
      "Epoch 34/50\n",
      "\u001b[1m11/11\u001b[0m \u001b[32m━━━━━━━━━━━━━━━━━━━━\u001b[0m\u001b[37m\u001b[0m \u001b[1m1s\u001b[0m 73ms/step - loss: 0.3751 - sparse_categorical_accuracy: 0.5353 - val_loss: 0.5119 - val_sparse_categorical_accuracy: 0.6047 - learning_rate: 5.0000e-04\n",
      "Epoch 35/50\n",
      "\u001b[1m11/11\u001b[0m \u001b[32m━━━━━━━━━━━━━━━━━━━━\u001b[0m\u001b[37m\u001b[0m \u001b[1m1s\u001b[0m 73ms/step - loss: 0.4134 - sparse_categorical_accuracy: 0.5702 - val_loss: 0.5116 - val_sparse_categorical_accuracy: 0.6047 - learning_rate: 5.0000e-04\n",
      "Epoch 36/50\n",
      "\u001b[1m11/11\u001b[0m \u001b[32m━━━━━━━━━━━━━━━━━━━━\u001b[0m\u001b[37m\u001b[0m \u001b[1m1s\u001b[0m 84ms/step - loss: 0.4735 - sparse_categorical_accuracy: 0.5465 - val_loss: 0.5114 - val_sparse_categorical_accuracy: 0.6047 - learning_rate: 5.0000e-04\n",
      "Epoch 37/50\n",
      "\u001b[1m11/11\u001b[0m \u001b[32m━━━━━━━━━━━━━━━━━━━━\u001b[0m\u001b[37m\u001b[0m \u001b[1m1s\u001b[0m 78ms/step - loss: 0.3935 - sparse_categorical_accuracy: 0.5639 - val_loss: 0.5112 - val_sparse_categorical_accuracy: 0.6047 - learning_rate: 5.0000e-04\n",
      "Epoch 38/50\n",
      "\u001b[1m11/11\u001b[0m \u001b[32m━━━━━━━━━━━━━━━━━━━━\u001b[0m\u001b[37m\u001b[0m \u001b[1m1s\u001b[0m 73ms/step - loss: 0.4452 - sparse_categorical_accuracy: 0.5414 - val_loss: 0.5110 - val_sparse_categorical_accuracy: 0.6047 - learning_rate: 5.0000e-04\n",
      "Epoch 39/50\n",
      "\u001b[1m11/11\u001b[0m \u001b[32m━━━━━━━━━━━━━━━━━━━━\u001b[0m\u001b[37m\u001b[0m \u001b[1m1s\u001b[0m 79ms/step - loss: 0.3867 - sparse_categorical_accuracy: 0.5830 - val_loss: 0.5107 - val_sparse_categorical_accuracy: 0.6047 - learning_rate: 5.0000e-04\n",
      "Epoch 40/50\n",
      "\u001b[1m11/11\u001b[0m \u001b[32m━━━━━━━━━━━━━━━━━━━━\u001b[0m\u001b[37m\u001b[0m \u001b[1m1s\u001b[0m 86ms/step - loss: 0.4242 - sparse_categorical_accuracy: 0.5512 - val_loss: 0.5105 - val_sparse_categorical_accuracy: 0.6047 - learning_rate: 5.0000e-04\n",
      "Epoch 41/50\n",
      "\u001b[1m11/11\u001b[0m \u001b[32m━━━━━━━━━━━━━━━━━━━━\u001b[0m\u001b[37m\u001b[0m \u001b[1m1s\u001b[0m 82ms/step - loss: 0.4951 - sparse_categorical_accuracy: 0.5194 - val_loss: 0.5102 - val_sparse_categorical_accuracy: 0.6047 - learning_rate: 5.0000e-04\n",
      "Epoch 42/50\n",
      "\u001b[1m11/11\u001b[0m \u001b[32m━━━━━━━━━━━━━━━━━━━━\u001b[0m\u001b[37m\u001b[0m \u001b[1m1s\u001b[0m 81ms/step - loss: 0.4085 - sparse_categorical_accuracy: 0.5783 - val_loss: 0.5099 - val_sparse_categorical_accuracy: 0.6047 - learning_rate: 5.0000e-04\n",
      "Epoch 42: early stopping\n"
     ]
    }
   ],
   "source": [
    "model_lstm.compile(\n",
    "    optimizer=\"adam\",\n",
    "    loss=\"sparse_categorical_crossentropy\",\n",
    "    metrics=[\"sparse_categorical_accuracy\"],\n",
    ")\n",
    "history = model_lstm.fit(\n",
    "    train_x,\n",
    "    train_y,\n",
    "    batch_size=batch_size,\n",
    "    epochs=epochs,\n",
    "    callbacks=callbacks,\n",
    "    validation_split=0.2,\n",
    "    verbose=1,\n",
    ")"
   ]
  },
  {
   "cell_type": "code",
   "execution_count": 208,
   "id": "c249b492-93b8-4b51-9a63-66fcc8ceb56a",
   "metadata": {},
   "outputs": [
    {
     "name": "stdout",
     "output_type": "stream",
     "text": [
      "\u001b[1m2/2\u001b[0m \u001b[32m━━━━━━━━━━━━━━━━━━━━\u001b[0m\u001b[37m\u001b[0m \u001b[1m1s\u001b[0m 20ms/step - loss: 0.3428 - sparse_categorical_accuracy: 0.7423\n",
      "Test accuracy 0.7540983557701111\n",
      "Test loss 0.3408936560153961\n"
     ]
    }
   ],
   "source": [
    "model_lstm = tf.keras.models.load_model(\"best_model.keras\")\n",
    "\n",
    "test_loss, test_acc = model_lstm.evaluate(test_x, test_y)\n",
    "\n",
    "print(\"Test accuracy\", test_acc)\n",
    "print(\"Test loss\", test_loss)"
   ]
  },
  {
   "cell_type": "code",
   "execution_count": 209,
   "id": "987b208b-620d-4b2a-9493-72ddc55c9e46",
   "metadata": {},
   "outputs": [
    {
     "data": {
      "image/png": "[encoded data removed]",
      "text/plain": [
       "<Figure size 640x480 with 1 Axes>"
      ]
     },
     "metadata": {},
     "output_type": "display_data"
    }
   ],
   "source": [
    "metric = \"sparse_categorical_accuracy\"\n",
    "plt.figure()\n",
    "plt.plot(history.history[metric])\n",
    "plt.plot(history.history[\"val_\" + metric])\n",
    "plt.title(\"LSTM: \" + metric)\n",
    "plt.ylabel(metric, fontsize=\"large\")\n",
    "plt.xlabel(\"epoch\", fontsize=\"large\")\n",
    "plt.legend([\"train\", \"val\"], loc=\"best\")\n",
    "plt.show()\n",
    "plt.close()"
   ]
  },
  {
   "cell_type": "markdown",
   "id": "ede7cf24-890e-4cac-a374-2a08c2b8db8b",
   "metadata": {},
   "source": [
    "RNN"
   ]
  },
  {
   "cell_type": "code",
   "execution_count": 213,
   "id": "c8b1502d-906e-4c6d-83a7-b691d6093bb6",
   "metadata": {},
   "outputs": [
    {
     "name": "stdout",
     "output_type": "stream",
     "text": [
      "Epoch 1/50\n",
      "\u001b[1m11/11\u001b[0m \u001b[32m━━━━━━━━━━━━━━━━━━━━\u001b[0m\u001b[37m\u001b[0m \u001b[1m6s\u001b[0m 116ms/step - loss: 0.6930 - sparse_categorical_accuracy: 0.5046 - val_loss: 0.6608 - val_sparse_categorical_accuracy: 0.6047 - learning_rate: 0.0010\n",
      "Epoch 2/50\n",
      "\u001b[1m11/11\u001b[0m \u001b[32m━━━━━━━━━━━━━━━━━━━━\u001b[0m\u001b[37m\u001b[0m \u001b[1m1s\u001b[0m 57ms/step - loss: 0.6587 - sparse_categorical_accuracy: 0.5515 - val_loss: 0.6299 - val_sparse_categorical_accuracy: 0.6047 - learning_rate: 0.0010\n",
      "Epoch 3/50\n",
      "\u001b[1m11/11\u001b[0m \u001b[32m━━━━━━━━━━━━━━━━━━━━\u001b[0m\u001b[37m\u001b[0m \u001b[1m1s\u001b[0m 55ms/step - loss: 0.6234 - sparse_categorical_accuracy: 0.6424 - val_loss: 0.5851 - val_sparse_categorical_accuracy: 0.8721 - learning_rate: 0.0010\n",
      "Epoch 4/50\n",
      "\u001b[1m11/11\u001b[0m \u001b[32m━━━━━━━━━━━━━━━━━━━━\u001b[0m\u001b[37m\u001b[0m \u001b[1m1s\u001b[0m 55ms/step - loss: 0.5431 - sparse_categorical_accuracy: 0.9296 - val_loss: 0.4809 - val_sparse_categorical_accuracy: 0.8721 - learning_rate: 0.0010\n",
      "Epoch 5/50\n",
      "\u001b[1m11/11\u001b[0m \u001b[32m━━━━━━━━━━━━━━━━━━━━\u001b[0m\u001b[37m\u001b[0m \u001b[1m1s\u001b[0m 47ms/step - loss: 0.4102 - sparse_categorical_accuracy: 0.9296 - val_loss: 0.4116 - val_sparse_categorical_accuracy: 0.8721 - learning_rate: 0.0010\n",
      "Epoch 6/50\n",
      "\u001b[1m11/11\u001b[0m \u001b[32m━━━━━━━━━━━━━━━━━━━━\u001b[0m\u001b[37m\u001b[0m \u001b[1m1s\u001b[0m 50ms/step - loss: 0.3165 - sparse_categorical_accuracy: 0.9420 - val_loss: 0.3882 - val_sparse_categorical_accuracy: 0.8721 - learning_rate: 0.0010\n",
      "Epoch 7/50\n",
      "\u001b[1m11/11\u001b[0m \u001b[32m━━━━━━━━━━━━━━━━━━━━\u001b[0m\u001b[37m\u001b[0m \u001b[1m1s\u001b[0m 52ms/step - loss: 0.2778 - sparse_categorical_accuracy: 0.9425 - val_loss: 0.3813 - val_sparse_categorical_accuracy: 0.8721 - learning_rate: 0.0010\n",
      "Epoch 8/50\n",
      "\u001b[1m11/11\u001b[0m \u001b[32m━━━━━━━━━━━━━━━━━━━━\u001b[0m\u001b[37m\u001b[0m \u001b[1m1s\u001b[0m 68ms/step - loss: 0.2903 - sparse_categorical_accuracy: 0.9242 - val_loss: 0.3789 - val_sparse_categorical_accuracy: 0.8721 - learning_rate: 0.0010\n",
      "Epoch 9/50\n",
      "\u001b[1m11/11\u001b[0m \u001b[32m━━━━━━━━━━━━━━━━━━━━\u001b[0m\u001b[37m\u001b[0m \u001b[1m1s\u001b[0m 56ms/step - loss: 0.2595 - sparse_categorical_accuracy: 0.9367 - val_loss: 0.3785 - val_sparse_categorical_accuracy: 0.8721 - learning_rate: 0.0010\n",
      "Epoch 10/50\n",
      "\u001b[1m11/11\u001b[0m \u001b[32m━━━━━━━━━━━━━━━━━━━━\u001b[0m\u001b[37m\u001b[0m \u001b[1m1s\u001b[0m 48ms/step - loss: 0.2477 - sparse_categorical_accuracy: 0.9393 - val_loss: 0.3786 - val_sparse_categorical_accuracy: 0.8721 - learning_rate: 0.0010\n",
      "Epoch 11/50\n",
      "\u001b[1m11/11\u001b[0m \u001b[32m━━━━━━━━━━━━━━━━━━━━\u001b[0m\u001b[37m\u001b[0m \u001b[1m1s\u001b[0m 47ms/step - loss: 0.2827 - sparse_categorical_accuracy: 0.9192 - val_loss: 0.3787 - val_sparse_categorical_accuracy: 0.8721 - learning_rate: 0.0010\n",
      "Epoch 12/50\n",
      "\u001b[1m11/11\u001b[0m \u001b[32m━━━━━━━━━━━━━━━━━━━━\u001b[0m\u001b[37m\u001b[0m \u001b[1m1s\u001b[0m 51ms/step - loss: 0.2513 - sparse_categorical_accuracy: 0.9331 - val_loss: 0.3796 - val_sparse_categorical_accuracy: 0.8721 - learning_rate: 0.0010\n",
      "Epoch 13/50\n",
      "\u001b[1m11/11\u001b[0m \u001b[32m━━━━━━━━━━━━━━━━━━━━\u001b[0m\u001b[37m\u001b[0m \u001b[1m1s\u001b[0m 50ms/step - loss: 0.2517 - sparse_categorical_accuracy: 0.9315 - val_loss: 0.3799 - val_sparse_categorical_accuracy: 0.8721 - learning_rate: 0.0010\n",
      "Epoch 14/50\n",
      "\u001b[1m11/11\u001b[0m \u001b[32m━━━━━━━━━━━━━━━━━━━━\u001b[0m\u001b[37m\u001b[0m \u001b[1m1s\u001b[0m 47ms/step - loss: 0.2334 - sparse_categorical_accuracy: 0.9384 - val_loss: 0.3798 - val_sparse_categorical_accuracy: 0.8721 - learning_rate: 0.0010\n",
      "Epoch 15/50\n",
      "\u001b[1m11/11\u001b[0m \u001b[32m━━━━━━━━━━━━━━━━━━━━\u001b[0m\u001b[37m\u001b[0m \u001b[1m1s\u001b[0m 52ms/step - loss: 0.2665 - sparse_categorical_accuracy: 0.9238 - val_loss: 0.3792 - val_sparse_categorical_accuracy: 0.8721 - learning_rate: 0.0010\n",
      "Epoch 16/50\n",
      "\u001b[1m11/11\u001b[0m \u001b[32m━━━━━━━━━━━━━━━━━━━━\u001b[0m\u001b[37m\u001b[0m \u001b[1m1s\u001b[0m 55ms/step - loss: 0.2441 - sparse_categorical_accuracy: 0.9323 - val_loss: 0.3789 - val_sparse_categorical_accuracy: 0.8721 - learning_rate: 0.0010\n",
      "Epoch 17/50\n",
      "\u001b[1m11/11\u001b[0m \u001b[32m━━━━━━━━━━━━━━━━━━━━\u001b[0m\u001b[37m\u001b[0m \u001b[1m1s\u001b[0m 47ms/step - loss: 0.2371 - sparse_categorical_accuracy: 0.9345 - val_loss: 0.3785 - val_sparse_categorical_accuracy: 0.8721 - learning_rate: 0.0010\n",
      "Epoch 18/50\n",
      "\u001b[1m11/11\u001b[0m \u001b[32m━━━━━━━━━━━━━━━━━━━━\u001b[0m\u001b[37m\u001b[0m \u001b[1m1s\u001b[0m 51ms/step - loss: 0.2665 - sparse_categorical_accuracy: 0.9210 - val_loss: 0.3755 - val_sparse_categorical_accuracy: 0.8721 - learning_rate: 0.0010\n",
      "Epoch 19/50\n",
      "\u001b[1m11/11\u001b[0m \u001b[32m━━━━━━━━━━━━━━━━━━━━\u001b[0m\u001b[37m\u001b[0m \u001b[1m1s\u001b[0m 62ms/step - loss: 0.2067 - sparse_categorical_accuracy: 0.9463 - val_loss: 0.3739 - val_sparse_categorical_accuracy: 0.8721 - learning_rate: 0.0010\n",
      "Epoch 20/50\n",
      "\u001b[1m11/11\u001b[0m \u001b[32m━━━━━━━━━━━━━━━━━━━━\u001b[0m\u001b[37m\u001b[0m \u001b[1m1s\u001b[0m 55ms/step - loss: 0.2356 - sparse_categorical_accuracy: 0.9325 - val_loss: 0.3714 - val_sparse_categorical_accuracy: 0.8721 - learning_rate: 0.0010\n",
      "Epoch 21/50\n",
      "\u001b[1m11/11\u001b[0m \u001b[32m━━━━━━━━━━━━━━━━━━━━\u001b[0m\u001b[37m\u001b[0m \u001b[1m1s\u001b[0m 58ms/step - loss: 0.2556 - sparse_categorical_accuracy: 0.9234 - val_loss: 0.3688 - val_sparse_categorical_accuracy: 0.8721 - learning_rate: 0.0010\n",
      "Epoch 22/50\n",
      "\u001b[1m11/11\u001b[0m \u001b[32m━━━━━━━━━━━━━━━━━━━━\u001b[0m\u001b[37m\u001b[0m \u001b[1m1s\u001b[0m 59ms/step - loss: 0.2514 - sparse_categorical_accuracy: 0.9240 - val_loss: 0.3676 - val_sparse_categorical_accuracy: 0.8721 - learning_rate: 0.0010\n",
      "Epoch 23/50\n",
      "\u001b[1m11/11\u001b[0m \u001b[32m━━━━━━━━━━━━━━━━━━━━\u001b[0m\u001b[37m\u001b[0m \u001b[1m1s\u001b[0m 55ms/step - loss: 0.2510 - sparse_categorical_accuracy: 0.9253 - val_loss: 0.3656 - val_sparse_categorical_accuracy: 0.8721 - learning_rate: 0.0010\n",
      "Epoch 24/50\n",
      "\u001b[1m11/11\u001b[0m \u001b[32m━━━━━━━━━━━━━━━━━━━━\u001b[0m\u001b[37m\u001b[0m \u001b[1m1s\u001b[0m 59ms/step - loss: 0.2524 - sparse_categorical_accuracy: 0.9224 - val_loss: 0.3629 - val_sparse_categorical_accuracy: 0.8721 - learning_rate: 0.0010\n",
      "Epoch 25/50\n",
      "\u001b[1m11/11\u001b[0m \u001b[32m━━━━━━━━━━━━━━━━━━━━\u001b[0m\u001b[37m\u001b[0m \u001b[1m1s\u001b[0m 50ms/step - loss: 0.2347 - sparse_categorical_accuracy: 0.9327 - val_loss: 0.3656 - val_sparse_categorical_accuracy: 0.8721 - learning_rate: 0.0010\n",
      "Epoch 26/50\n",
      "\u001b[1m11/11\u001b[0m \u001b[32m━━━━━━━━━━━━━━━━━━━━\u001b[0m\u001b[37m\u001b[0m \u001b[1m1s\u001b[0m 54ms/step - loss: 0.2213 - sparse_categorical_accuracy: 0.9348 - val_loss: 0.3605 - val_sparse_categorical_accuracy: 0.8721 - learning_rate: 0.0010\n",
      "Epoch 27/50\n",
      "\u001b[1m11/11\u001b[0m \u001b[32m━━━━━━━━━━━━━━━━━━━━\u001b[0m\u001b[37m\u001b[0m \u001b[1m1s\u001b[0m 56ms/step - loss: 0.1917 - sparse_categorical_accuracy: 0.9500 - val_loss: 0.3612 - val_sparse_categorical_accuracy: 0.8721 - learning_rate: 0.0010\n",
      "Epoch 28/50\n",
      "\u001b[1m11/11\u001b[0m \u001b[32m━━━━━━━━━━━━━━━━━━━━\u001b[0m\u001b[37m\u001b[0m \u001b[1m1s\u001b[0m 60ms/step - loss: 0.2080 - sparse_categorical_accuracy: 0.9400 - val_loss: 0.3594 - val_sparse_categorical_accuracy: 0.8721 - learning_rate: 0.0010\n",
      "Epoch 29/50\n",
      "\u001b[1m11/11\u001b[0m \u001b[32m━━━━━━━━━━━━━━━━━━━━\u001b[0m\u001b[37m\u001b[0m \u001b[1m1s\u001b[0m 52ms/step - loss: 0.2311 - sparse_categorical_accuracy: 0.9286 - val_loss: 0.3855 - val_sparse_categorical_accuracy: 0.8605 - learning_rate: 0.0010\n",
      "Epoch 30/50\n",
      "\u001b[1m11/11\u001b[0m \u001b[32m━━━━━━━━━━━━━━━━━━━━\u001b[0m\u001b[37m\u001b[0m \u001b[1m1s\u001b[0m 46ms/step - loss: 0.2365 - sparse_categorical_accuracy: 0.9252 - val_loss: 0.3853 - val_sparse_categorical_accuracy: 0.8605 - learning_rate: 0.0010\n",
      "Epoch 31/50\n",
      "\u001b[1m11/11\u001b[0m \u001b[32m━━━━━━━━━━━━━━━━━━━━\u001b[0m\u001b[37m\u001b[0m \u001b[1m1s\u001b[0m 49ms/step - loss: 0.2115 - sparse_categorical_accuracy: 0.9370 - val_loss: 0.3589 - val_sparse_categorical_accuracy: 0.8721 - learning_rate: 0.0010\n",
      "Epoch 32/50\n",
      "\u001b[1m11/11\u001b[0m \u001b[32m━━━━━━━━━━━━━━━━━━━━\u001b[0m\u001b[37m\u001b[0m \u001b[1m1s\u001b[0m 52ms/step - loss: 0.2379 - sparse_categorical_accuracy: 0.9288 - val_loss: 0.3565 - val_sparse_categorical_accuracy: 0.8721 - learning_rate: 0.0010\n",
      "Epoch 33/50\n",
      "\u001b[1m11/11\u001b[0m \u001b[32m━━━━━━━━━━━━━━━━━━━━\u001b[0m\u001b[37m\u001b[0m \u001b[1m1s\u001b[0m 47ms/step - loss: 0.1842 - sparse_categorical_accuracy: 0.9495 - val_loss: 0.3589 - val_sparse_categorical_accuracy: 0.8721 - learning_rate: 0.0010\n",
      "Epoch 34/50\n",
      "\u001b[1m11/11\u001b[0m \u001b[32m━━━━━━━━━━━━━━━━━━━━\u001b[0m\u001b[37m\u001b[0m \u001b[1m1s\u001b[0m 59ms/step - loss: 0.2297 - sparse_categorical_accuracy: 0.9286 - val_loss: 0.4159 - val_sparse_categorical_accuracy: 0.8488 - learning_rate: 0.0010\n",
      "Epoch 35/50\n",
      "\u001b[1m11/11\u001b[0m \u001b[32m━━━━━━━━━━━━━━━━━━━━\u001b[0m\u001b[37m\u001b[0m \u001b[1m1s\u001b[0m 52ms/step - loss: 0.2315 - sparse_categorical_accuracy: 0.9292 - val_loss: 0.3558 - val_sparse_categorical_accuracy: 0.8721 - learning_rate: 0.0010\n",
      "Epoch 36/50\n",
      "\u001b[1m11/11\u001b[0m \u001b[32m━━━━━━━━━━━━━━━━━━━━\u001b[0m\u001b[37m\u001b[0m \u001b[1m1s\u001b[0m 47ms/step - loss: 0.2341 - sparse_categorical_accuracy: 0.9278 - val_loss: 0.3537 - val_sparse_categorical_accuracy: 0.8721 - learning_rate: 0.0010\n",
      "Epoch 37/50\n",
      "\u001b[1m11/11\u001b[0m \u001b[32m━━━━━━━━━━━━━━━━━━━━\u001b[0m\u001b[37m\u001b[0m \u001b[1m1s\u001b[0m 50ms/step - loss: 0.2182 - sparse_categorical_accuracy: 0.9322 - val_loss: 0.3577 - val_sparse_categorical_accuracy: 0.8721 - learning_rate: 0.0010\n",
      "Epoch 38/50\n",
      "\u001b[1m11/11\u001b[0m \u001b[32m━━━━━━━━━━━━━━━━━━━━\u001b[0m\u001b[37m\u001b[0m \u001b[1m1s\u001b[0m 46ms/step - loss: 0.2293 - sparse_categorical_accuracy: 0.9287 - val_loss: 0.3569 - val_sparse_categorical_accuracy: 0.8721 - learning_rate: 0.0010\n",
      "Epoch 39/50\n",
      "\u001b[1m11/11\u001b[0m \u001b[32m━━━━━━━━━━━━━━━━━━━━\u001b[0m\u001b[37m\u001b[0m \u001b[1m1s\u001b[0m 48ms/step - loss: 0.2292 - sparse_categorical_accuracy: 0.9273 - val_loss: 0.3578 - val_sparse_categorical_accuracy: 0.8721 - learning_rate: 0.0010\n",
      "Epoch 40/50\n",
      "\u001b[1m11/11\u001b[0m \u001b[32m━━━━━━━━━━━━━━━━━━━━\u001b[0m\u001b[37m\u001b[0m \u001b[1m1s\u001b[0m 53ms/step - loss: 0.2217 - sparse_categorical_accuracy: 0.9332 - val_loss: 0.3543 - val_sparse_categorical_accuracy: 0.8721 - learning_rate: 0.0010\n",
      "Epoch 41/50\n",
      "\u001b[1m11/11\u001b[0m \u001b[32m━━━━━━━━━━━━━━━━━━━━\u001b[0m\u001b[37m\u001b[0m \u001b[1m1s\u001b[0m 52ms/step - loss: 0.2485 - sparse_categorical_accuracy: 0.9222 - val_loss: 0.3533 - val_sparse_categorical_accuracy: 0.8721 - learning_rate: 0.0010\n",
      "Epoch 42/50\n",
      "\u001b[1m11/11\u001b[0m \u001b[32m━━━━━━━━━━━━━━━━━━━━\u001b[0m\u001b[37m\u001b[0m \u001b[1m0s\u001b[0m 44ms/step - loss: 0.2153 - sparse_categorical_accuracy: 0.9362 - val_loss: 0.3577 - val_sparse_categorical_accuracy: 0.8721 - learning_rate: 0.0010\n",
      "Epoch 43/50\n",
      "\u001b[1m11/11\u001b[0m \u001b[32m━━━━━━━━━━━━━━━━━━━━\u001b[0m\u001b[37m\u001b[0m \u001b[1m1s\u001b[0m 48ms/step - loss: 0.2068 - sparse_categorical_accuracy: 0.9368 - val_loss: 0.3544 - val_sparse_categorical_accuracy: 0.8721 - learning_rate: 0.0010\n",
      "Epoch 44/50\n",
      "\u001b[1m11/11\u001b[0m \u001b[32m━━━━━━━━━━━━━━━━━━━━\u001b[0m\u001b[37m\u001b[0m \u001b[1m1s\u001b[0m 46ms/step - loss: 0.2137 - sparse_categorical_accuracy: 0.9356 - val_loss: 0.3575 - val_sparse_categorical_accuracy: 0.8721 - learning_rate: 0.0010\n",
      "Epoch 45/50\n",
      "\u001b[1m11/11\u001b[0m \u001b[32m━━━━━━━━━━━━━━━━━━━━\u001b[0m\u001b[37m\u001b[0m \u001b[1m1s\u001b[0m 58ms/step - loss: 0.2434 - sparse_categorical_accuracy: 0.9243 - val_loss: 0.3514 - val_sparse_categorical_accuracy: 0.8721 - learning_rate: 0.0010\n",
      "Epoch 46/50\n",
      "\u001b[1m11/11\u001b[0m \u001b[32m━━━━━━━━━━━━━━━━━━━━\u001b[0m\u001b[37m\u001b[0m \u001b[1m1s\u001b[0m 47ms/step - loss: 0.2063 - sparse_categorical_accuracy: 0.9426 - val_loss: 0.3573 - val_sparse_categorical_accuracy: 0.8721 - learning_rate: 0.0010\n",
      "Epoch 47/50\n",
      "\u001b[1m11/11\u001b[0m \u001b[32m━━━━━━━━━━━━━━━━━━━━\u001b[0m\u001b[37m\u001b[0m \u001b[1m1s\u001b[0m 54ms/step - loss: 0.2121 - sparse_categorical_accuracy: 0.9402 - val_loss: 0.3535 - val_sparse_categorical_accuracy: 0.8721 - learning_rate: 0.0010\n",
      "Epoch 48/50\n",
      "\u001b[1m11/11\u001b[0m \u001b[32m━━━━━━━━━━━━━━━━━━━━\u001b[0m\u001b[37m\u001b[0m \u001b[1m0s\u001b[0m 44ms/step - loss: 0.2173 - sparse_categorical_accuracy: 0.9323 - val_loss: 0.3530 - val_sparse_categorical_accuracy: 0.8721 - learning_rate: 0.0010\n",
      "Epoch 49/50\n",
      "\u001b[1m11/11\u001b[0m \u001b[32m━━━━━━━━━━━━━━━━━━━━\u001b[0m\u001b[37m\u001b[0m \u001b[1m1s\u001b[0m 46ms/step - loss: 0.2076 - sparse_categorical_accuracy: 0.9368 - val_loss: 0.3529 - val_sparse_categorical_accuracy: 0.8721 - learning_rate: 0.0010\n",
      "Epoch 50/50\n",
      "\u001b[1m11/11\u001b[0m \u001b[32m━━━━━━━━━━━━━━━━━━━━\u001b[0m\u001b[37m\u001b[0m \u001b[1m1s\u001b[0m 46ms/step - loss: 0.1796 - sparse_categorical_accuracy: 0.9503 - val_loss: 0.3578 - val_sparse_categorical_accuracy: 0.8721 - learning_rate: 0.0010\n"
     ]
    }
   ],
   "source": [
    "model_rnn.compile(\n",
    "    optimizer=\"adam\",\n",
    "    loss=\"sparse_categorical_crossentropy\",\n",
    "    metrics=[\"sparse_categorical_accuracy\"],\n",
    ")\n",
    "history = model_rnn.fit(\n",
    "    train_x,\n",
    "    train_y,\n",
    "    batch_size=batch_size,\n",
    "    epochs=epochs,\n",
    "    callbacks=callbacks,\n",
    "    validation_split=0.2,\n",
    "    verbose=1,\n",
    ")"
   ]
  },
  {
   "cell_type": "code",
   "execution_count": 214,
   "id": "92e8a822-85c3-43b1-906f-0185e359814e",
   "metadata": {},
   "outputs": [
    {
     "name": "stdout",
     "output_type": "stream",
     "text": [
      "\u001b[1m2/2\u001b[0m \u001b[32m━━━━━━━━━━━━━━━━━━━━\u001b[0m\u001b[37m\u001b[0m \u001b[1m1s\u001b[0m 21ms/step - loss: 0.5912 - sparse_categorical_accuracy: 0.7423\n",
      "Test accuracy 0.7540983557701111\n",
      "Test loss 0.5675451755523682\n"
     ]
    }
   ],
   "source": [
    "model_rnn = tf.keras.models.load_model(\"best_model.keras\")\n",
    "\n",
    "test_loss, test_acc = model_rnn.evaluate(test_x, test_y)\n",
    "\n",
    "print(\"Test accuracy\", test_acc)\n",
    "print(\"Test loss\", test_loss)"
   ]
  },
  {
   "cell_type": "code",
   "execution_count": 215,
   "id": "03485e19-4b43-493e-ba52-3139b3f09fb2",
   "metadata": {},
   "outputs": [
    {
     "data": {
      "image/png": "[encoded data removed]",
      "text/plain": [
       "<Figure size 640x480 with 1 Axes>"
      ]
     },
     "metadata": {},
     "output_type": "display_data"
    }
   ],
   "source": [
    "metric = \"sparse_categorical_accuracy\"\n",
    "plt.figure()\n",
    "plt.plot(history.history[metric])\n",
    "plt.plot(history.history[\"val_\" + metric])\n",
    "plt.title(\"RNN \" + metric)\n",
    "plt.ylabel(metric, fontsize=\"large\")\n",
    "plt.xlabel(\"epoch\", fontsize=\"large\")\n",
    "plt.legend([\"train\", \"val\"], loc=\"best\")\n",
    "plt.show()\n",
    "plt.close()"
   ]
  },
  {
   "cell_type": "markdown",
   "id": "6cfabe83-03d7-44bf-91e5-405aed8d50d2",
   "metadata": {},
   "source": [
    "CNN"
   ]
  },
  {
   "cell_type": "code",
   "execution_count": 217,
   "id": "89978828-42a9-47fe-834a-04df86c7326a",
   "metadata": {},
   "outputs": [
    {
     "name": "stdout",
     "output_type": "stream",
     "text": [
      "Epoch 1/50\n",
      "\u001b[1m11/11\u001b[0m \u001b[32m━━━━━━━━━━━━━━━━━━━━\u001b[0m\u001b[37m\u001b[0m \u001b[1m2s\u001b[0m 37ms/step - loss: 0.7243 - sparse_categorical_accuracy: 0.5032 - val_loss: 0.6328 - val_sparse_categorical_accuracy: 0.8605 - learning_rate: 0.0010\n",
      "Epoch 2/50\n",
      "\u001b[1m11/11\u001b[0m \u001b[32m━━━━━━━━━━━━━━━━━━━━\u001b[0m\u001b[37m\u001b[0m \u001b[1m0s\u001b[0m 8ms/step - loss: 0.5653 - sparse_categorical_accuracy: 0.8688 - val_loss: 0.4623 - val_sparse_categorical_accuracy: 0.8721 - learning_rate: 0.0010\n",
      "Epoch 3/50\n",
      "\u001b[1m11/11\u001b[0m \u001b[32m━━━━━━━━━━━━━━━━━━━━\u001b[0m\u001b[37m\u001b[0m \u001b[1m0s\u001b[0m 8ms/step - loss: 0.3816 - sparse_categorical_accuracy: 0.9155 - val_loss: 0.3469 - val_sparse_categorical_accuracy: 0.8721 - learning_rate: 0.0010\n",
      "Epoch 4/50\n",
      "\u001b[1m11/11\u001b[0m \u001b[32m━━━━━━━━━━━━━━━━━━━━\u001b[0m\u001b[37m\u001b[0m \u001b[1m0s\u001b[0m 6ms/step - loss: 0.2127 - sparse_categorical_accuracy: 0.9468 - val_loss: 0.3482 - val_sparse_categorical_accuracy: 0.8721 - learning_rate: 0.0010\n",
      "Epoch 5/50\n",
      "\u001b[1m11/11\u001b[0m \u001b[32m━━━━━━━━━━━━━━━━━━━━\u001b[0m\u001b[37m\u001b[0m \u001b[1m0s\u001b[0m 8ms/step - loss: 0.1633 - sparse_categorical_accuracy: 0.9564 - val_loss: 0.3523 - val_sparse_categorical_accuracy: 0.8721 - learning_rate: 0.0010\n",
      "Epoch 6/50\n",
      "\u001b[1m11/11\u001b[0m \u001b[32m━━━━━━━━━━━━━━━━━━━━\u001b[0m\u001b[37m\u001b[0m \u001b[1m0s\u001b[0m 7ms/step - loss: 0.2084 - sparse_categorical_accuracy: 0.9350 - val_loss: 0.3599 - val_sparse_categorical_accuracy: 0.8721 - learning_rate: 0.0010\n",
      "Epoch 7/50\n",
      "\u001b[1m11/11\u001b[0m \u001b[32m━━━━━━━━━━━━━━━━━━━━\u001b[0m\u001b[37m\u001b[0m \u001b[1m0s\u001b[0m 9ms/step - loss: 0.2084 - sparse_categorical_accuracy: 0.9317 - val_loss: 0.3645 - val_sparse_categorical_accuracy: 0.8721 - learning_rate: 0.0010\n",
      "Epoch 8/50\n",
      "\u001b[1m11/11\u001b[0m \u001b[32m━━━━━━━━━━━━━━━━━━━━\u001b[0m\u001b[37m\u001b[0m \u001b[1m0s\u001b[0m 6ms/step - loss: 0.2227 - sparse_categorical_accuracy: 0.9293 - val_loss: 0.3658 - val_sparse_categorical_accuracy: 0.8721 - learning_rate: 0.0010\n",
      "Epoch 9/50\n",
      "\u001b[1m11/11\u001b[0m \u001b[32m━━━━━━━━━━━━━━━━━━━━\u001b[0m\u001b[37m\u001b[0m \u001b[1m0s\u001b[0m 9ms/step - loss: 0.1801 - sparse_categorical_accuracy: 0.9498 - val_loss: 0.3524 - val_sparse_categorical_accuracy: 0.8721 - learning_rate: 0.0010\n",
      "Epoch 10/50\n",
      "\u001b[1m11/11\u001b[0m \u001b[32m━━━━━━━━━━━━━━━━━━━━\u001b[0m\u001b[37m\u001b[0m \u001b[1m0s\u001b[0m 9ms/step - loss: 0.1768 - sparse_categorical_accuracy: 0.9499 - val_loss: 0.3394 - val_sparse_categorical_accuracy: 0.8721 - learning_rate: 0.0010\n",
      "Epoch 11/50\n",
      "\u001b[1m11/11\u001b[0m \u001b[32m━━━━━━━━━━━━━━━━━━━━\u001b[0m\u001b[37m\u001b[0m \u001b[1m0s\u001b[0m 6ms/step - loss: 0.2167 - sparse_categorical_accuracy: 0.9274 - val_loss: 0.3937 - val_sparse_categorical_accuracy: 0.8721 - learning_rate: 0.0010\n",
      "Epoch 12/50\n",
      "\u001b[1m11/11\u001b[0m \u001b[32m━━━━━━━━━━━━━━━━━━━━\u001b[0m\u001b[37m\u001b[0m \u001b[1m0s\u001b[0m 16ms/step - loss: 0.2329 - sparse_categorical_accuracy: 0.9299 - val_loss: 0.3365 - val_sparse_categorical_accuracy: 0.8721 - learning_rate: 0.0010\n",
      "Epoch 13/50\n",
      "\u001b[1m11/11\u001b[0m \u001b[32m━━━━━━━━━━━━━━━━━━━━\u001b[0m\u001b[37m\u001b[0m \u001b[1m0s\u001b[0m 6ms/step - loss: 0.1961 - sparse_categorical_accuracy: 0.9497 - val_loss: 0.3602 - val_sparse_categorical_accuracy: 0.8721 - learning_rate: 0.0010\n",
      "Epoch 14/50\n",
      "\u001b[1m11/11\u001b[0m \u001b[32m━━━━━━━━━━━━━━━━━━━━\u001b[0m\u001b[37m\u001b[0m \u001b[1m0s\u001b[0m 6ms/step - loss: 0.1861 - sparse_categorical_accuracy: 0.9496 - val_loss: 0.3408 - val_sparse_categorical_accuracy: 0.8721 - learning_rate: 0.0010\n",
      "Epoch 15/50\n",
      "\u001b[1m11/11\u001b[0m \u001b[32m━━━━━━━━━━━━━━━━━━━━\u001b[0m\u001b[37m\u001b[0m \u001b[1m0s\u001b[0m 9ms/step - loss: 0.1958 - sparse_categorical_accuracy: 0.9455 - val_loss: 0.3506 - val_sparse_categorical_accuracy: 0.8721 - learning_rate: 0.0010\n",
      "Epoch 16/50\n",
      "\u001b[1m11/11\u001b[0m \u001b[32m━━━━━━━━━━━━━━━━━━━━\u001b[0m\u001b[37m\u001b[0m \u001b[1m0s\u001b[0m 6ms/step - loss: 0.2581 - sparse_categorical_accuracy: 0.9149 - val_loss: 0.3738 - val_sparse_categorical_accuracy: 0.8721 - learning_rate: 0.0010\n",
      "Epoch 17/50\n",
      "\u001b[1m11/11\u001b[0m \u001b[32m━━━━━━━━━━━━━━━━━━━━\u001b[0m\u001b[37m\u001b[0m \u001b[1m0s\u001b[0m 6ms/step - loss: 0.2033 - sparse_categorical_accuracy: 0.9403 - val_loss: 0.3545 - val_sparse_categorical_accuracy: 0.8721 - learning_rate: 0.0010\n",
      "Epoch 18/50\n",
      "\u001b[1m11/11\u001b[0m \u001b[32m━━━━━━━━━━━━━━━━━━━━\u001b[0m\u001b[37m\u001b[0m \u001b[1m0s\u001b[0m 7ms/step - loss: 0.2179 - sparse_categorical_accuracy: 0.9340 - val_loss: 0.3746 - val_sparse_categorical_accuracy: 0.8721 - learning_rate: 0.0010\n",
      "Epoch 19/50\n",
      "\u001b[1m11/11\u001b[0m \u001b[32m━━━━━━━━━━━━━━━━━━━━\u001b[0m\u001b[37m\u001b[0m \u001b[1m0s\u001b[0m 10ms/step - loss: 0.1798 - sparse_categorical_accuracy: 0.9471 - val_loss: 0.3447 - val_sparse_categorical_accuracy: 0.8721 - learning_rate: 0.0010\n",
      "Epoch 20/50\n",
      "\u001b[1m11/11\u001b[0m \u001b[32m━━━━━━━━━━━━━━━━━━━━\u001b[0m\u001b[37m\u001b[0m \u001b[1m0s\u001b[0m 6ms/step - loss: 0.2364 - sparse_categorical_accuracy: 0.9214 - val_loss: 0.4011 - val_sparse_categorical_accuracy: 0.8721 - learning_rate: 0.0010\n",
      "Epoch 21/50\n",
      "\u001b[1m11/11\u001b[0m \u001b[32m━━━━━━━━━━━━━━━━━━━━\u001b[0m\u001b[37m\u001b[0m \u001b[1m0s\u001b[0m 6ms/step - loss: 0.1986 - sparse_categorical_accuracy: 0.9468 - val_loss: 0.3386 - val_sparse_categorical_accuracy: 0.8721 - learning_rate: 0.0010\n",
      "Epoch 22/50\n",
      "\u001b[1m11/11\u001b[0m \u001b[32m━━━━━━━━━━━━━━━━━━━━\u001b[0m\u001b[37m\u001b[0m \u001b[1m0s\u001b[0m 7ms/step - loss: 0.2483 - sparse_categorical_accuracy: 0.9245 - val_loss: 0.3601 - val_sparse_categorical_accuracy: 0.8721 - learning_rate: 0.0010\n",
      "Epoch 23/50\n",
      "\u001b[1m11/11\u001b[0m \u001b[32m━━━━━━━━━━━━━━━━━━━━\u001b[0m\u001b[37m\u001b[0m \u001b[1m0s\u001b[0m 6ms/step - loss: 0.1965 - sparse_categorical_accuracy: 0.9467 - val_loss: 0.3658 - val_sparse_categorical_accuracy: 0.8721 - learning_rate: 5.0000e-04\n",
      "Epoch 24/50\n",
      "\u001b[1m11/11\u001b[0m \u001b[32m━━━━━━━━━━━━━━━━━━━━\u001b[0m\u001b[37m\u001b[0m \u001b[1m0s\u001b[0m 8ms/step - loss: 0.1759 - sparse_categorical_accuracy: 0.9511 - val_loss: 0.3364 - val_sparse_categorical_accuracy: 0.8721 - learning_rate: 5.0000e-04\n",
      "Epoch 25/50\n",
      "\u001b[1m11/11\u001b[0m \u001b[32m━━━━━━━━━━━━━━━━━━━━\u001b[0m\u001b[37m\u001b[0m \u001b[1m0s\u001b[0m 6ms/step - loss: 0.2165 - sparse_categorical_accuracy: 0.9319 - val_loss: 0.3551 - val_sparse_categorical_accuracy: 0.8721 - learning_rate: 5.0000e-04\n",
      "Epoch 26/50\n",
      "\u001b[1m11/11\u001b[0m \u001b[32m━━━━━━━━━━━━━━━━━━━━\u001b[0m\u001b[37m\u001b[0m \u001b[1m0s\u001b[0m 23ms/step - loss: 0.2009 - sparse_categorical_accuracy: 0.9335 - val_loss: 0.3604 - val_sparse_categorical_accuracy: 0.8721 - learning_rate: 5.0000e-04\n",
      "Epoch 27/50\n",
      "\u001b[1m11/11\u001b[0m \u001b[32m━━━━━━━━━━━━━━━━━━━━\u001b[0m\u001b[37m\u001b[0m \u001b[1m0s\u001b[0m 7ms/step - loss: 0.2186 - sparse_categorical_accuracy: 0.9292 - val_loss: 0.3610 - val_sparse_categorical_accuracy: 0.8721 - learning_rate: 5.0000e-04\n",
      "Epoch 28/50\n",
      "\u001b[1m11/11\u001b[0m \u001b[32m━━━━━━━━━━━━━━━━━━━━\u001b[0m\u001b[37m\u001b[0m \u001b[1m0s\u001b[0m 7ms/step - loss: 0.1960 - sparse_categorical_accuracy: 0.9439 - val_loss: 0.3486 - val_sparse_categorical_accuracy: 0.8721 - learning_rate: 5.0000e-04\n",
      "Epoch 29/50\n",
      "\u001b[1m11/11\u001b[0m \u001b[32m━━━━━━━━━━━━━━━━━━━━\u001b[0m\u001b[37m\u001b[0m \u001b[1m0s\u001b[0m 7ms/step - loss: 0.2051 - sparse_categorical_accuracy: 0.9403 - val_loss: 0.3546 - val_sparse_categorical_accuracy: 0.8721 - learning_rate: 5.0000e-04\n",
      "Epoch 30/50\n",
      "\u001b[1m11/11\u001b[0m \u001b[32m━━━━━━━━━━━━━━━━━━━━\u001b[0m\u001b[37m\u001b[0m \u001b[1m0s\u001b[0m 7ms/step - loss: 0.2217 - sparse_categorical_accuracy: 0.9364 - val_loss: 0.3544 - val_sparse_categorical_accuracy: 0.8721 - learning_rate: 5.0000e-04\n",
      "Epoch 31/50\n",
      "\u001b[1m11/11\u001b[0m \u001b[32m━━━━━━━━━━━━━━━━━━━━\u001b[0m\u001b[37m\u001b[0m \u001b[1m0s\u001b[0m 6ms/step - loss: 0.2092 - sparse_categorical_accuracy: 0.9358 - val_loss: 0.3470 - val_sparse_categorical_accuracy: 0.8721 - learning_rate: 5.0000e-04\n",
      "Epoch 32/50\n",
      "\u001b[1m11/11\u001b[0m \u001b[32m━━━━━━━━━━━━━━━━━━━━\u001b[0m\u001b[37m\u001b[0m \u001b[1m0s\u001b[0m 8ms/step - loss: 0.2191 - sparse_categorical_accuracy: 0.9271 - val_loss: 0.3627 - val_sparse_categorical_accuracy: 0.8721 - learning_rate: 5.0000e-04\n",
      "Epoch 33/50\n",
      "\u001b[1m11/11\u001b[0m \u001b[32m━━━━━━━━━━━━━━━━━━━━\u001b[0m\u001b[37m\u001b[0m \u001b[1m0s\u001b[0m 6ms/step - loss: 0.2334 - sparse_categorical_accuracy: 0.9270 - val_loss: 0.3620 - val_sparse_categorical_accuracy: 0.8721 - learning_rate: 5.0000e-04\n",
      "Epoch 34/50\n",
      "\u001b[1m11/11\u001b[0m \u001b[32m━━━━━━━━━━━━━━━━━━━━\u001b[0m\u001b[37m\u001b[0m \u001b[1m0s\u001b[0m 7ms/step - loss: 0.2441 - sparse_categorical_accuracy: 0.9181 - val_loss: 0.3464 - val_sparse_categorical_accuracy: 0.8721 - learning_rate: 5.0000e-04\n",
      "Epoch 35/50\n",
      "\u001b[1m11/11\u001b[0m \u001b[32m━━━━━━━━━━━━━━━━━━━━\u001b[0m\u001b[37m\u001b[0m \u001b[1m0s\u001b[0m 8ms/step - loss: 0.1974 - sparse_categorical_accuracy: 0.9349 - val_loss: 0.3642 - val_sparse_categorical_accuracy: 0.8721 - learning_rate: 2.5000e-04\n",
      "Epoch 36/50\n",
      "\u001b[1m11/11\u001b[0m \u001b[32m━━━━━━━━━━━━━━━━━━━━\u001b[0m\u001b[37m\u001b[0m \u001b[1m0s\u001b[0m 8ms/step - loss: 0.2058 - sparse_categorical_accuracy: 0.9342 - val_loss: 0.3594 - val_sparse_categorical_accuracy: 0.8721 - learning_rate: 2.5000e-04\n",
      "Epoch 37/50\n",
      "\u001b[1m11/11\u001b[0m \u001b[32m━━━━━━━━━━━━━━━━━━━━\u001b[0m\u001b[37m\u001b[0m \u001b[1m0s\u001b[0m 6ms/step - loss: 0.1963 - sparse_categorical_accuracy: 0.9398 - val_loss: 0.3543 - val_sparse_categorical_accuracy: 0.8721 - learning_rate: 2.5000e-04\n",
      "Epoch 38/50\n",
      "\u001b[1m11/11\u001b[0m \u001b[32m━━━━━━━━━━━━━━━━━━━━\u001b[0m\u001b[37m\u001b[0m \u001b[1m0s\u001b[0m 6ms/step - loss: 0.2046 - sparse_categorical_accuracy: 0.9351 - val_loss: 0.3485 - val_sparse_categorical_accuracy: 0.8721 - learning_rate: 2.5000e-04\n",
      "Epoch 39/50\n",
      "\u001b[1m11/11\u001b[0m \u001b[32m━━━━━━━━━━━━━━━━━━━━\u001b[0m\u001b[37m\u001b[0m \u001b[1m0s\u001b[0m 11ms/step - loss: 0.1687 - sparse_categorical_accuracy: 0.9481 - val_loss: 0.3591 - val_sparse_categorical_accuracy: 0.8721 - learning_rate: 2.5000e-04\n",
      "Epoch 40/50\n",
      "\u001b[1m11/11\u001b[0m \u001b[32m━━━━━━━━━━━━━━━━━━━━\u001b[0m\u001b[37m\u001b[0m \u001b[1m0s\u001b[0m 6ms/step - loss: 0.2151 - sparse_categorical_accuracy: 0.9375 - val_loss: 0.3566 - val_sparse_categorical_accuracy: 0.8721 - learning_rate: 2.5000e-04\n",
      "Epoch 41/50\n",
      "\u001b[1m11/11\u001b[0m \u001b[32m━━━━━━━━━━━━━━━━━━━━\u001b[0m\u001b[37m\u001b[0m \u001b[1m0s\u001b[0m 7ms/step - loss: 0.1898 - sparse_categorical_accuracy: 0.9415 - val_loss: 0.3531 - val_sparse_categorical_accuracy: 0.8721 - learning_rate: 2.5000e-04\n",
      "Epoch 42/50\n",
      "\u001b[1m11/11\u001b[0m \u001b[32m━━━━━━━━━━━━━━━━━━━━\u001b[0m\u001b[37m\u001b[0m \u001b[1m0s\u001b[0m 9ms/step - loss: 0.2295 - sparse_categorical_accuracy: 0.9240 - val_loss: 0.3510 - val_sparse_categorical_accuracy: 0.8721 - learning_rate: 2.5000e-04\n",
      "Epoch 43/50\n",
      "\u001b[1m11/11\u001b[0m \u001b[32m━━━━━━━━━━━━━━━━━━━━\u001b[0m\u001b[37m\u001b[0m \u001b[1m0s\u001b[0m 6ms/step - loss: 0.2428 - sparse_categorical_accuracy: 0.9253 - val_loss: 0.3556 - val_sparse_categorical_accuracy: 0.8721 - learning_rate: 2.5000e-04\n",
      "Epoch 44/50\n",
      "\u001b[1m11/11\u001b[0m \u001b[32m━━━━━━━━━━━━━━━━━━━━\u001b[0m\u001b[37m\u001b[0m \u001b[1m0s\u001b[0m 6ms/step - loss: 0.1930 - sparse_categorical_accuracy: 0.9422 - val_loss: 0.3586 - val_sparse_categorical_accuracy: 0.8721 - learning_rate: 2.5000e-04\n",
      "Epoch 44: early stopping\n"
     ]
    }
   ],
   "source": [
    "model_cnn.compile(\n",
    "    optimizer=\"adam\",\n",
    "    loss=\"sparse_categorical_crossentropy\",\n",
    "    metrics=[\"sparse_categorical_accuracy\"],\n",
    ")\n",
    "history = model_cnn.fit(\n",
    "    train_x,\n",
    "    train_y,\n",
    "    batch_size=batch_size,\n",
    "    epochs=epochs,\n",
    "    callbacks=callbacks,\n",
    "    validation_split=0.2,\n",
    "    verbose=1,\n",
    ")"
   ]
  },
  {
   "cell_type": "code",
   "execution_count": 218,
   "id": "6c7d046f-80ed-472c-9009-996be9f4e9bd",
   "metadata": {},
   "outputs": [
    {
     "name": "stdout",
     "output_type": "stream",
     "text": [
      "\u001b[1m2/2\u001b[0m \u001b[32m━━━━━━━━━━━━━━━━━━━━\u001b[0m\u001b[37m\u001b[0m \u001b[1m1s\u001b[0m 6ms/step - loss: 0.5386 - sparse_categorical_accuracy: 0.7423  \n",
      "Test accuracy 0.7540983557701111\n",
      "Test loss 0.5328713655471802\n"
     ]
    }
   ],
   "source": [
    "model_cnn = tf.keras.models.load_model(\"best_model.keras\")\n",
    "\n",
    "test_loss, test_acc = model_cnn.evaluate(test_x, test_y)\n",
    "\n",
    "print(\"Test accuracy\", test_acc)\n",
    "print(\"Test loss\", test_loss)"
   ]
  },
  {
   "cell_type": "code",
   "execution_count": 219,
   "id": "7ca6f0e5-09bc-4f84-a0c6-49c58bdf50e0",
   "metadata": {},
   "outputs": [
    {
     "data": {
      "image/png": "[encoded data removed]",
      "text/plain": [
       "<Figure size 640x480 with 1 Axes>"
      ]
     },
     "metadata": {},
     "output_type": "display_data"
    }
   ],
   "source": [
    "metric = \"sparse_categorical_accuracy\"\n",
    "plt.figure()\n",
    "plt.plot(history.history[metric])\n",
    "plt.plot(history.history[\"val_\" + metric])\n",
    "plt.title(\"CNN: \" + metric)\n",
    "plt.ylabel(metric, fontsize=\"large\")\n",
    "plt.xlabel(\"epoch\", fontsize=\"large\")\n",
    "plt.legend([\"train\", \"val\"], loc=\"best\")\n",
    "plt.show()\n",
    "plt.close()"
   ]
  },
  {
   "cell_type": "code",
   "execution_count": null,
   "id": "b32e0f57-f0c1-4c68-a7bd-989b7d92bda8",
   "metadata": {},
   "outputs": [],
   "source": []
  }
 ],
 "metadata": {
  "kernelspec": {
   "display_name": "Python 3 (ipykernel)",
   "language": "python",
   "name": "python3"
  },
  "language_info": {
   "codemirror_mode": {
    "name": "ipython",
    "version": 3
   },
   "file_extension": ".py",
   "mimetype": "text/x-python",
   "name": "python",
   "nbconvert_exporter": "python",
   "pygments_lexer": "ipython3",
   "version": "3.11.7"
  }
 },
 "nbformat": 4,
 "nbformat_minor": 5
}

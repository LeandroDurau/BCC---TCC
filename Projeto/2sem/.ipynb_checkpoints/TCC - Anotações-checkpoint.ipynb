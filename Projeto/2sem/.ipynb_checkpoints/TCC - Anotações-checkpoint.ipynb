{
 "cells": [
  {
   "cell_type": "markdown",
   "id": "a582f1e3-ceff-44db-aad7-0df0ba2fd329",
   "metadata": {},
   "source": [
    "Imports"
   ]
  },
  {
   "cell_type": "code",
   "execution_count": 90,
   "id": "3fbd3941-ac0c-4c2f-bd6b-05b1a16eaaf1",
   "metadata": {},
   "outputs": [],
   "source": [
    "import os\n",
    "import datetime\n",
    "\n",
    "import matplotlib as mpl\n",
    "import matplotlib.pyplot as plt\n",
    "import numpy as np\n",
    "import pandas as pd\n",
    "import seaborn as sns\n",
    "import tensorflow as tf\n",
    "import random"
   ]
  },
  {
   "cell_type": "markdown",
   "id": "c72fc89a-aae7-4f22-aa7e-ff2e57be8141",
   "metadata": {},
   "source": [
    "Base"
   ]
  },
  {
   "cell_type": "code",
   "execution_count": 165,
   "id": "6d0be208-f983-40fc-a756-afa40c5b3153",
   "metadata": {},
   "outputs": [
    {
     "data": {
      "text/plain": [
       "14399"
      ]
     },
     "execution_count": 165,
     "metadata": {},
     "output_type": "execute_result"
    }
   ],
   "source": [
    "df = pd.read_excel(\"reestrutura_Nelson_Y.xlsx\",header = None)\n",
    "len(df)"
   ]
  },
  {
   "cell_type": "code",
   "execution_count": 167,
   "id": "a0721db1-c1a7-477d-b2db-c700d29d8ebe",
   "metadata": {},
   "outputs": [
    {
     "data": {
      "text/plain": [
       "38342"
      ]
     },
     "execution_count": 167,
     "metadata": {},
     "output_type": "execute_result"
    }
   ],
   "source": [
    "df = pd.read_csv(\"nelson.csv\", header=[0])\n",
    "df = df.reset_index()\n",
    "len(df)"
   ]
  },
  {
   "cell_type": "code",
   "execution_count": 93,
   "id": "05133b33-3d28-410b-8f6a-9da23572c93c",
   "metadata": {},
   "outputs": [],
   "source": [
    "df['Fadiga'] = [1 if x > ((7/10) * len(df)) else 0 for x in df['index']]"
   ]
  },
  {
   "cell_type": "code",
   "execution_count": 94,
   "id": "493c199b-ca55-4183-9667-eaa08db18db6",
   "metadata": {},
   "outputs": [
    {
     "data": {
      "text/html": [
       "<div>\n",
       "<style scoped>\n",
       "    .dataframe tbody tr th:only-of-type {\n",
       "        vertical-align: middle;\n",
       "    }\n",
       "\n",
       "    .dataframe tbody tr th {\n",
       "        vertical-align: top;\n",
       "    }\n",
       "\n",
       "    .dataframe thead th {\n",
       "        text-align: right;\n",
       "    }\n",
       "</style>\n",
       "<table border=\"1\" class=\"dataframe\">\n",
       "  <thead>\n",
       "    <tr style=\"text-align: right;\">\n",
       "      <th></th>\n",
       "      <th>index</th>\n",
       "      <th>Skeleton 016:LFTC X</th>\n",
       "      <th>Skeleton 016:LFTC Y</th>\n",
       "      <th>Skeleton 016:LFTC Z</th>\n",
       "      <th>Fadiga</th>\n",
       "    </tr>\n",
       "  </thead>\n",
       "  <tbody>\n",
       "    <tr>\n",
       "      <th>0</th>\n",
       "      <td>0</td>\n",
       "      <td>-785.775269</td>\n",
       "      <td>958.105652</td>\n",
       "      <td>-1245.510986</td>\n",
       "      <td>0</td>\n",
       "    </tr>\n",
       "    <tr>\n",
       "      <th>1</th>\n",
       "      <td>1</td>\n",
       "      <td>-785.869995</td>\n",
       "      <td>958.078369</td>\n",
       "      <td>-1245.574097</td>\n",
       "      <td>0</td>\n",
       "    </tr>\n",
       "    <tr>\n",
       "      <th>2</th>\n",
       "      <td>2</td>\n",
       "      <td>-785.915771</td>\n",
       "      <td>958.087280</td>\n",
       "      <td>-1245.652832</td>\n",
       "      <td>0</td>\n",
       "    </tr>\n",
       "    <tr>\n",
       "      <th>3</th>\n",
       "      <td>3</td>\n",
       "      <td>-785.933716</td>\n",
       "      <td>958.090515</td>\n",
       "      <td>-1245.795898</td>\n",
       "      <td>0</td>\n",
       "    </tr>\n",
       "    <tr>\n",
       "      <th>4</th>\n",
       "      <td>4</td>\n",
       "      <td>-786.016113</td>\n",
       "      <td>958.077454</td>\n",
       "      <td>-1245.967285</td>\n",
       "      <td>0</td>\n",
       "    </tr>\n",
       "  </tbody>\n",
       "</table>\n",
       "</div>"
      ],
      "text/plain": [
       "   index  Skeleton 016:LFTC X  Skeleton 016:LFTC Y  Skeleton 016:LFTC Z  \\\n",
       "0      0          -785.775269           958.105652         -1245.510986   \n",
       "1      1          -785.869995           958.078369         -1245.574097   \n",
       "2      2          -785.915771           958.087280         -1245.652832   \n",
       "3      3          -785.933716           958.090515         -1245.795898   \n",
       "4      4          -786.016113           958.077454         -1245.967285   \n",
       "\n",
       "   Fadiga  \n",
       "0       0  \n",
       "1       0  \n",
       "2       0  \n",
       "3       0  \n",
       "4       0  "
      ]
     },
     "execution_count": 94,
     "metadata": {},
     "output_type": "execute_result"
    }
   ],
   "source": [
    "df.head(5)"
   ]
  },
  {
   "cell_type": "code",
   "execution_count": 95,
   "id": "9d04a007-e30e-485a-881a-b1904a070fd6",
   "metadata": {},
   "outputs": [],
   "source": [
    "tam_janela = 50\n",
    "split = 2\n",
    "nova_df = []\n",
    "janela_x = []\n",
    "janela_y = []\n",
    "\n",
    "for i in range(len(df)):\n",
    "    janela_x.append(df['Skeleton 016:LFTC Y'][i])\n",
    "    janela_y.append(df['Fadiga'][i])\n",
    "    if (len(janela_x) == tam_janela):\n",
    "        nova_df.append([janela_x.copy(),round(np.mean(janela_y))])\n",
    "        for i in range(split):\n",
    "            janela_x.pop(0)\n",
    "            janela_y.pop(0)\n",
    "random.shuffle(nova_df)\n",
    "# print(nova_df[0])\n",
    "# print(nova_df[:0][0])\n",
    "nova_df_x = pd.DataFrame([x[0] for x in nova_df])\n",
    "nova_df_y = pd.DataFrame([x[1] for x in nova_df])\n"
   ]
  },
  {
   "cell_type": "markdown",
   "id": "b3f620ae-cda1-4de6-b6a2-035a37c66227",
   "metadata": {},
   "source": [
    "Treino e Teste"
   ]
  },
  {
   "cell_type": "code",
   "execution_count": 97,
   "id": "dd331278-1ca6-4269-b01e-488615e4b0ab",
   "metadata": {},
   "outputs": [],
   "source": [
    "#column_indices = {name: i for i, name in enumerate(nova_df.columns)}\n",
    "n = len(nova_df)\n",
    "train_df_x = nova_df_x[0:int(n*0.7)]\n",
    "val_df_x = nova_df_x[int(n*0.7):int(n*0.9)]\n",
    "test_df_x = nova_df_x[int(n*0.9):]\n",
    "\n",
    "train_df_y = nova_df_y[0:int(n*0.7)]\n",
    "val_df_y = nova_df_y[int(n*0.7):int(n*0.9)]\n",
    "test_df_y = nova_df_y[int(n*0.9):]\n",
    "\n",
    "train_x,train_y = train_df_x,train_df_y\n",
    "val_x,val_y = val_df_x,val_df_y\n",
    "test_x,test_y = test_df_x,test_df_y\n",
    "num_features = test_df_x.shape[1]"
   ]
  },
  {
   "cell_type": "code",
   "execution_count": 98,
   "id": "879dc830-c72b-44b5-b100-9720e8d27b0a",
   "metadata": {},
   "outputs": [
    {
     "data": {
      "text/html": [
       "<div>\n",
       "<style scoped>\n",
       "    .dataframe tbody tr th:only-of-type {\n",
       "        vertical-align: middle;\n",
       "    }\n",
       "\n",
       "    .dataframe tbody tr th {\n",
       "        vertical-align: top;\n",
       "    }\n",
       "\n",
       "    .dataframe thead th {\n",
       "        text-align: right;\n",
       "    }\n",
       "</style>\n",
       "<table border=\"1\" class=\"dataframe\">\n",
       "  <thead>\n",
       "    <tr style=\"text-align: right;\">\n",
       "      <th></th>\n",
       "      <th>0</th>\n",
       "      <th>1</th>\n",
       "      <th>2</th>\n",
       "      <th>3</th>\n",
       "      <th>4</th>\n",
       "      <th>5</th>\n",
       "      <th>6</th>\n",
       "      <th>7</th>\n",
       "      <th>8</th>\n",
       "      <th>9</th>\n",
       "      <th>...</th>\n",
       "      <th>40</th>\n",
       "      <th>41</th>\n",
       "      <th>42</th>\n",
       "      <th>43</th>\n",
       "      <th>44</th>\n",
       "      <th>45</th>\n",
       "      <th>46</th>\n",
       "      <th>47</th>\n",
       "      <th>48</th>\n",
       "      <th>49</th>\n",
       "    </tr>\n",
       "  </thead>\n",
       "  <tbody>\n",
       "    <tr>\n",
       "      <th>0</th>\n",
       "      <td>606.098145</td>\n",
       "      <td>605.483093</td>\n",
       "      <td>605.027771</td>\n",
       "      <td>604.403625</td>\n",
       "      <td>603.702881</td>\n",
       "      <td>602.847107</td>\n",
       "      <td>601.719116</td>\n",
       "      <td>600.873352</td>\n",
       "      <td>599.973816</td>\n",
       "      <td>599.106323</td>\n",
       "      <td>...</td>\n",
       "      <td>585.098267</td>\n",
       "      <td>584.970642</td>\n",
       "      <td>584.763062</td>\n",
       "      <td>584.544617</td>\n",
       "      <td>584.290405</td>\n",
       "      <td>583.678345</td>\n",
       "      <td>583.304749</td>\n",
       "      <td>583.099915</td>\n",
       "      <td>583.010620</td>\n",
       "      <td>582.961426</td>\n",
       "    </tr>\n",
       "    <tr>\n",
       "      <th>1</th>\n",
       "      <td>948.143188</td>\n",
       "      <td>948.244507</td>\n",
       "      <td>947.808838</td>\n",
       "      <td>947.775146</td>\n",
       "      <td>947.553833</td>\n",
       "      <td>947.249146</td>\n",
       "      <td>947.171936</td>\n",
       "      <td>946.862366</td>\n",
       "      <td>946.422119</td>\n",
       "      <td>946.398865</td>\n",
       "      <td>...</td>\n",
       "      <td>935.008667</td>\n",
       "      <td>933.871399</td>\n",
       "      <td>932.798767</td>\n",
       "      <td>931.568970</td>\n",
       "      <td>930.346436</td>\n",
       "      <td>928.962524</td>\n",
       "      <td>927.692993</td>\n",
       "      <td>926.339355</td>\n",
       "      <td>924.962036</td>\n",
       "      <td>923.480042</td>\n",
       "    </tr>\n",
       "    <tr>\n",
       "      <th>2</th>\n",
       "      <td>951.251831</td>\n",
       "      <td>951.332397</td>\n",
       "      <td>951.069580</td>\n",
       "      <td>951.077332</td>\n",
       "      <td>950.865051</td>\n",
       "      <td>950.688110</td>\n",
       "      <td>950.263733</td>\n",
       "      <td>949.939270</td>\n",
       "      <td>949.774658</td>\n",
       "      <td>949.663452</td>\n",
       "      <td>...</td>\n",
       "      <td>948.285522</td>\n",
       "      <td>948.241028</td>\n",
       "      <td>948.255554</td>\n",
       "      <td>948.415039</td>\n",
       "      <td>948.474915</td>\n",
       "      <td>948.530518</td>\n",
       "      <td>948.499756</td>\n",
       "      <td>948.420044</td>\n",
       "      <td>948.349365</td>\n",
       "      <td>948.431030</td>\n",
       "    </tr>\n",
       "    <tr>\n",
       "      <th>3</th>\n",
       "      <td>817.184814</td>\n",
       "      <td>821.136841</td>\n",
       "      <td>825.426331</td>\n",
       "      <td>829.686584</td>\n",
       "      <td>833.636505</td>\n",
       "      <td>837.586426</td>\n",
       "      <td>841.024902</td>\n",
       "      <td>844.576721</td>\n",
       "      <td>848.553406</td>\n",
       "      <td>851.887634</td>\n",
       "      <td>...</td>\n",
       "      <td>934.006836</td>\n",
       "      <td>935.787720</td>\n",
       "      <td>937.533142</td>\n",
       "      <td>939.154663</td>\n",
       "      <td>940.746582</td>\n",
       "      <td>942.234558</td>\n",
       "      <td>943.582825</td>\n",
       "      <td>944.788696</td>\n",
       "      <td>945.892151</td>\n",
       "      <td>946.963135</td>\n",
       "    </tr>\n",
       "    <tr>\n",
       "      <th>4</th>\n",
       "      <td>816.419647</td>\n",
       "      <td>813.522461</td>\n",
       "      <td>810.441772</td>\n",
       "      <td>807.471924</td>\n",
       "      <td>804.536194</td>\n",
       "      <td>801.097473</td>\n",
       "      <td>797.462830</td>\n",
       "      <td>794.793701</td>\n",
       "      <td>791.250549</td>\n",
       "      <td>787.531738</td>\n",
       "      <td>...</td>\n",
       "      <td>657.267883</td>\n",
       "      <td>652.214294</td>\n",
       "      <td>647.863495</td>\n",
       "      <td>643.512695</td>\n",
       "      <td>639.828918</td>\n",
       "      <td>636.776306</td>\n",
       "      <td>633.878418</td>\n",
       "      <td>631.179077</td>\n",
       "      <td>628.920166</td>\n",
       "      <td>626.517944</td>\n",
       "    </tr>\n",
       "    <tr>\n",
       "      <th>...</th>\n",
       "      <td>...</td>\n",
       "      <td>...</td>\n",
       "      <td>...</td>\n",
       "      <td>...</td>\n",
       "      <td>...</td>\n",
       "      <td>...</td>\n",
       "      <td>...</td>\n",
       "      <td>...</td>\n",
       "      <td>...</td>\n",
       "      <td>...</td>\n",
       "      <td>...</td>\n",
       "      <td>...</td>\n",
       "      <td>...</td>\n",
       "      <td>...</td>\n",
       "      <td>...</td>\n",
       "      <td>...</td>\n",
       "      <td>...</td>\n",
       "      <td>...</td>\n",
       "      <td>...</td>\n",
       "      <td>...</td>\n",
       "      <td>...</td>\n",
       "    </tr>\n",
       "    <tr>\n",
       "      <th>13397</th>\n",
       "      <td>600.165100</td>\n",
       "      <td>599.026428</td>\n",
       "      <td>598.545349</td>\n",
       "      <td>597.598877</td>\n",
       "      <td>596.470093</td>\n",
       "      <td>595.826721</td>\n",
       "      <td>594.856506</td>\n",
       "      <td>593.472534</td>\n",
       "      <td>592.838318</td>\n",
       "      <td>591.503113</td>\n",
       "      <td>...</td>\n",
       "      <td>579.263794</td>\n",
       "      <td>578.644165</td>\n",
       "      <td>579.102905</td>\n",
       "      <td>578.640747</td>\n",
       "      <td>579.040588</td>\n",
       "      <td>578.749877</td>\n",
       "      <td>578.459167</td>\n",
       "      <td>578.064148</td>\n",
       "      <td>578.264893</td>\n",
       "      <td>577.943176</td>\n",
       "    </tr>\n",
       "    <tr>\n",
       "      <th>13398</th>\n",
       "      <td>905.138855</td>\n",
       "      <td>902.573120</td>\n",
       "      <td>900.378418</td>\n",
       "      <td>897.727539</td>\n",
       "      <td>895.316528</td>\n",
       "      <td>892.763367</td>\n",
       "      <td>890.263428</td>\n",
       "      <td>887.801270</td>\n",
       "      <td>885.348145</td>\n",
       "      <td>882.903015</td>\n",
       "      <td>...</td>\n",
       "      <td>781.678406</td>\n",
       "      <td>777.278503</td>\n",
       "      <td>774.131653</td>\n",
       "      <td>769.855652</td>\n",
       "      <td>766.513611</td>\n",
       "      <td>762.098511</td>\n",
       "      <td>757.979065</td>\n",
       "      <td>753.623108</td>\n",
       "      <td>749.450989</td>\n",
       "      <td>745.159790</td>\n",
       "    </tr>\n",
       "    <tr>\n",
       "      <th>13399</th>\n",
       "      <td>585.351013</td>\n",
       "      <td>585.195557</td>\n",
       "      <td>585.026062</td>\n",
       "      <td>584.829224</td>\n",
       "      <td>584.594727</td>\n",
       "      <td>584.403320</td>\n",
       "      <td>584.061218</td>\n",
       "      <td>583.868958</td>\n",
       "      <td>583.745605</td>\n",
       "      <td>583.612854</td>\n",
       "      <td>...</td>\n",
       "      <td>583.275208</td>\n",
       "      <td>583.453095</td>\n",
       "      <td>583.630981</td>\n",
       "      <td>583.933411</td>\n",
       "      <td>584.069031</td>\n",
       "      <td>584.117676</td>\n",
       "      <td>584.125183</td>\n",
       "      <td>584.206665</td>\n",
       "      <td>584.294861</td>\n",
       "      <td>584.438354</td>\n",
       "    </tr>\n",
       "    <tr>\n",
       "      <th>13400</th>\n",
       "      <td>946.688049</td>\n",
       "      <td>946.372192</td>\n",
       "      <td>946.110352</td>\n",
       "      <td>945.857361</td>\n",
       "      <td>945.675964</td>\n",
       "      <td>945.585876</td>\n",
       "      <td>945.314148</td>\n",
       "      <td>945.000549</td>\n",
       "      <td>944.748535</td>\n",
       "      <td>944.723816</td>\n",
       "      <td>...</td>\n",
       "      <td>944.287048</td>\n",
       "      <td>944.301880</td>\n",
       "      <td>944.243896</td>\n",
       "      <td>944.321106</td>\n",
       "      <td>944.338135</td>\n",
       "      <td>944.461792</td>\n",
       "      <td>944.621216</td>\n",
       "      <td>944.626770</td>\n",
       "      <td>944.689575</td>\n",
       "      <td>944.657227</td>\n",
       "    </tr>\n",
       "    <tr>\n",
       "      <th>13401</th>\n",
       "      <td>593.095154</td>\n",
       "      <td>593.262756</td>\n",
       "      <td>593.275391</td>\n",
       "      <td>593.370850</td>\n",
       "      <td>593.525208</td>\n",
       "      <td>593.636108</td>\n",
       "      <td>594.636169</td>\n",
       "      <td>594.789886</td>\n",
       "      <td>594.943604</td>\n",
       "      <td>595.245117</td>\n",
       "      <td>...</td>\n",
       "      <td>631.886475</td>\n",
       "      <td>633.218994</td>\n",
       "      <td>635.765686</td>\n",
       "      <td>637.368530</td>\n",
       "      <td>640.258667</td>\n",
       "      <td>642.326660</td>\n",
       "      <td>645.780457</td>\n",
       "      <td>648.329041</td>\n",
       "      <td>651.151062</td>\n",
       "      <td>654.472961</td>\n",
       "    </tr>\n",
       "  </tbody>\n",
       "</table>\n",
       "<p>13402 rows × 50 columns</p>\n",
       "</div>"
      ],
      "text/plain": [
       "               0           1           2           3           4           5   \\\n",
       "0      606.098145  605.483093  605.027771  604.403625  603.702881  602.847107   \n",
       "1      948.143188  948.244507  947.808838  947.775146  947.553833  947.249146   \n",
       "2      951.251831  951.332397  951.069580  951.077332  950.865051  950.688110   \n",
       "3      817.184814  821.136841  825.426331  829.686584  833.636505  837.586426   \n",
       "4      816.419647  813.522461  810.441772  807.471924  804.536194  801.097473   \n",
       "...           ...         ...         ...         ...         ...         ...   \n",
       "13397  600.165100  599.026428  598.545349  597.598877  596.470093  595.826721   \n",
       "13398  905.138855  902.573120  900.378418  897.727539  895.316528  892.763367   \n",
       "13399  585.351013  585.195557  585.026062  584.829224  584.594727  584.403320   \n",
       "13400  946.688049  946.372192  946.110352  945.857361  945.675964  945.585876   \n",
       "13401  593.095154  593.262756  593.275391  593.370850  593.525208  593.636108   \n",
       "\n",
       "               6           7           8           9   ...          40  \\\n",
       "0      601.719116  600.873352  599.973816  599.106323  ...  585.098267   \n",
       "1      947.171936  946.862366  946.422119  946.398865  ...  935.008667   \n",
       "2      950.263733  949.939270  949.774658  949.663452  ...  948.285522   \n",
       "3      841.024902  844.576721  848.553406  851.887634  ...  934.006836   \n",
       "4      797.462830  794.793701  791.250549  787.531738  ...  657.267883   \n",
       "...           ...         ...         ...         ...  ...         ...   \n",
       "13397  594.856506  593.472534  592.838318  591.503113  ...  579.263794   \n",
       "13398  890.263428  887.801270  885.348145  882.903015  ...  781.678406   \n",
       "13399  584.061218  583.868958  583.745605  583.612854  ...  583.275208   \n",
       "13400  945.314148  945.000549  944.748535  944.723816  ...  944.287048   \n",
       "13401  594.636169  594.789886  594.943604  595.245117  ...  631.886475   \n",
       "\n",
       "               41          42          43          44          45          46  \\\n",
       "0      584.970642  584.763062  584.544617  584.290405  583.678345  583.304749   \n",
       "1      933.871399  932.798767  931.568970  930.346436  928.962524  927.692993   \n",
       "2      948.241028  948.255554  948.415039  948.474915  948.530518  948.499756   \n",
       "3      935.787720  937.533142  939.154663  940.746582  942.234558  943.582825   \n",
       "4      652.214294  647.863495  643.512695  639.828918  636.776306  633.878418   \n",
       "...           ...         ...         ...         ...         ...         ...   \n",
       "13397  578.644165  579.102905  578.640747  579.040588  578.749877  578.459167   \n",
       "13398  777.278503  774.131653  769.855652  766.513611  762.098511  757.979065   \n",
       "13399  583.453095  583.630981  583.933411  584.069031  584.117676  584.125183   \n",
       "13400  944.301880  944.243896  944.321106  944.338135  944.461792  944.621216   \n",
       "13401  633.218994  635.765686  637.368530  640.258667  642.326660  645.780457   \n",
       "\n",
       "               47          48          49  \n",
       "0      583.099915  583.010620  582.961426  \n",
       "1      926.339355  924.962036  923.480042  \n",
       "2      948.420044  948.349365  948.431030  \n",
       "3      944.788696  945.892151  946.963135  \n",
       "4      631.179077  628.920166  626.517944  \n",
       "...           ...         ...         ...  \n",
       "13397  578.064148  578.264893  577.943176  \n",
       "13398  753.623108  749.450989  745.159790  \n",
       "13399  584.206665  584.294861  584.438354  \n",
       "13400  944.626770  944.689575  944.657227  \n",
       "13401  648.329041  651.151062  654.472961  \n",
       "\n",
       "[13402 rows x 50 columns]"
      ]
     },
     "execution_count": 98,
     "metadata": {},
     "output_type": "execute_result"
    }
   ],
   "source": [
    "train_x"
   ]
  },
  {
   "cell_type": "markdown",
   "id": "48874328-73b6-4d84-8970-3a2a916a6fee",
   "metadata": {},
   "source": [
    "Normalização"
   ]
  },
  {
   "cell_type": "code",
   "execution_count": 100,
   "id": "2d1a6b21-7c80-4aa5-884c-23310df16f6f",
   "metadata": {},
   "outputs": [],
   "source": [
    "train_mean = train_x.mean()\n",
    "train_std = train_x.std()\n",
    "\n",
    "train_x = (train_x - train_mean) / train_std\n",
    "val_x = (val_x - train_mean) / train_std\n",
    "test_x = (test_x - train_mean) / train_std"
   ]
  },
  {
   "cell_type": "code",
   "execution_count": 101,
   "id": "6c9fe054-1122-488a-8c27-2815a9206198",
   "metadata": {},
   "outputs": [],
   "source": [
    "num_classes = len(np.unique(train_y))"
   ]
  },
  {
   "cell_type": "code",
   "execution_count": 102,
   "id": "b9884c00-5ef5-4ab0-b67e-7ad4d25e460b",
   "metadata": {},
   "outputs": [],
   "source": [
    "train_x = train_x.to_numpy()\n",
    "val_x = val_x.to_numpy()\n",
    "test_x = test_x.to_numpy()"
   ]
  },
  {
   "cell_type": "code",
   "execution_count": 103,
   "id": "798dc0c8-ce37-4b05-ada0-30cc72f5a44c",
   "metadata": {},
   "outputs": [],
   "source": [
    "train_x = train_x.reshape((train_x.shape[0], train_x.shape[1], 1))\n",
    "test_x = test_x.reshape((test_x.shape[0], test_x.shape[1], 1))"
   ]
  },
  {
   "cell_type": "code",
   "execution_count": 104,
   "id": "16b91b6d-58e5-492b-ac54-000ca0e6ad62",
   "metadata": {},
   "outputs": [
    {
     "data": {
      "text/plain": [
       "(13402, 50, 1)"
      ]
     },
     "execution_count": 104,
     "metadata": {},
     "output_type": "execute_result"
    }
   ],
   "source": [
    "train_x.shape"
   ]
  },
  {
   "cell_type": "markdown",
   "id": "17ec4761-518a-4de7-b7ff-66ed657b15b3",
   "metadata": {},
   "source": [
    "Modelo"
   ]
  },
  {
   "cell_type": "code",
   "execution_count": 106,
   "id": "edfaa189-7a9c-4c6d-81d3-afafa6acf32c",
   "metadata": {},
   "outputs": [],
   "source": [
    "def make_model_lstm(input_shape):\n",
    "    input_layer = tf.keras.layers.Input(input_shape)\n",
    "    lstm1 = tf.keras.layers.LSTM(16,return_sequences=True)(input_layer)\n",
    "    lstm2 = tf.keras.layers.LSTM(8)(lstm1)\n",
    "    output_layer = tf.keras.layers.Dense(num_classes)(lstm2)\n",
    "    return tf.keras.models.Model(inputs=input_layer, outputs=output_layer)"
   ]
  },
  {
   "cell_type": "code",
   "execution_count": 107,
   "id": "3b19f45a-eb58-467b-a98d-70358e28a0de",
   "metadata": {},
   "outputs": [],
   "source": [
    "def make_model_rnn(input_shape):\n",
    "    input_layer = tf.keras.layers.Input(input_shape)\n",
    "    rnn1 = tf.keras.layers.SimpleRNN(16,return_sequences=True)(input_layer)\n",
    "    rnn2 = tf.keras.layers.SimpleRNN(8)(rnn1)\n",
    "    output_layer = tf.keras.layers.Dense(num_classes, activation='softmax')(rnn2)\n",
    "    return tf.keras.models.Model(inputs=input_layer, outputs=output_layer)"
   ]
  },
  {
   "cell_type": "code",
   "execution_count": 108,
   "id": "741844ed-fb24-41c1-ba2c-e23990050fa5",
   "metadata": {},
   "outputs": [],
   "source": [
    "def make_model_cnn(input_shape):\n",
    "    input_layer = tf.keras.layers.Input(input_shape)\n",
    "    cn2 = tf.keras.layers.Conv1D(32,kernel_size=3,padding=\"same\")(input_layer)\n",
    "    max = tf.keras.layers.MaxPooling1D()(cn2)\n",
    "    flat = tf.keras.layers.Flatten()(max)\n",
    "    output_layer = tf.keras.layers.Dense(num_classes, activation='softmax')(flat)\n",
    "    return tf.keras.models.Model(inputs=input_layer, outputs=output_layer)"
   ]
  },
  {
   "cell_type": "code",
   "execution_count": 109,
   "id": "d0169b7d-03c6-444e-8c3a-4b54dc6a2275",
   "metadata": {},
   "outputs": [],
   "source": [
    "def make_model_fcnn(input_shape):\n",
    "    input_layer = tf.keras.layers.Input(input_shape)\n",
    "\n",
    "    conv1 = tf.keras.layers.Conv1D(filters=64, kernel_size=3, padding=\"same\")(input_layer)\n",
    "    conv1 = tf.keras.layers.BatchNormalization()(conv1)\n",
    "    conv1 = tf.keras.layers.ReLU()(conv1)\n",
    "\n",
    "    conv2 = tf.keras.layers.Conv1D(filters=64, kernel_size=3, padding=\"same\")(conv1)\n",
    "    conv2 = tf.keras.layers.BatchNormalization()(conv2)\n",
    "    conv2 = tf.keras.layers.ReLU()(conv2)\n",
    "\n",
    "    conv3 = tf.keras.layers.Conv1D(filters=64, kernel_size=3, padding=\"same\")(conv2)\n",
    "    conv3 = tf.keras.layers.BatchNormalization()(conv3)\n",
    "    conv3 = tf.keras.layers.ReLU()(conv3)\n",
    "\n",
    "    gap = tf.keras.layers.GlobalAveragePooling1D()(conv3)\n",
    "\n",
    "    output_layer = tf.keras.layers.Dense(num_classes, activation=\"softmax\")(gap)\n",
    "\n",
    "    return tf.keras.models.Model(inputs=input_layer, outputs=output_layer)"
   ]
  },
  {
   "cell_type": "code",
   "execution_count": 110,
   "id": "bea2a981-b95b-4dc2-8411-464726503c64",
   "metadata": {},
   "outputs": [
    {
     "data": {
      "text/html": [
       "<pre style=\"white-space:pre;overflow-x:auto;line-height:normal;font-family:Menlo,'DejaVu Sans Mono',consolas,'Courier New',monospace\"><span style=\"font-weight: bold\">Model: \"functional_7\"</span>\n",
       "</pre>\n"
      ],
      "text/plain": [
       "\u001b[1mModel: \"functional_7\"\u001b[0m\n"
      ]
     },
     "metadata": {},
     "output_type": "display_data"
    },
    {
     "data": {
      "text/html": [
       "<pre style=\"white-space:pre;overflow-x:auto;line-height:normal;font-family:Menlo,'DejaVu Sans Mono',consolas,'Courier New',monospace\">┏━━━━━━━━━━━━━━━━━━━━━━━━━━━━━━━━━━━━━━┳━━━━━━━━━━━━━━━━━━━━━━━━━━━━━┳━━━━━━━━━━━━━━━━━┓\n",
       "┃<span style=\"font-weight: bold\"> Layer (type)                         </span>┃<span style=\"font-weight: bold\"> Output Shape                </span>┃<span style=\"font-weight: bold\">         Param # </span>┃\n",
       "┡━━━━━━━━━━━━━━━━━━━━━━━━━━━━━━━━━━━━━━╇━━━━━━━━━━━━━━━━━━━━━━━━━━━━━╇━━━━━━━━━━━━━━━━━┩\n",
       "│ input_layer_3 (<span style=\"color: #0087ff; text-decoration-color: #0087ff\">InputLayer</span>)           │ (<span style=\"color: #00d7ff; text-decoration-color: #00d7ff\">None</span>, <span style=\"color: #00af00; text-decoration-color: #00af00\">50</span>, <span style=\"color: #00af00; text-decoration-color: #00af00\">1</span>)               │               <span style=\"color: #00af00; text-decoration-color: #00af00\">0</span> │\n",
       "├──────────────────────────────────────┼─────────────────────────────┼─────────────────┤\n",
       "│ lstm_2 (<span style=\"color: #0087ff; text-decoration-color: #0087ff\">LSTM</span>)                        │ (<span style=\"color: #00d7ff; text-decoration-color: #00d7ff\">None</span>, <span style=\"color: #00af00; text-decoration-color: #00af00\">50</span>, <span style=\"color: #00af00; text-decoration-color: #00af00\">16</span>)              │           <span style=\"color: #00af00; text-decoration-color: #00af00\">1,152</span> │\n",
       "├──────────────────────────────────────┼─────────────────────────────┼─────────────────┤\n",
       "│ lstm_3 (<span style=\"color: #0087ff; text-decoration-color: #0087ff\">LSTM</span>)                        │ (<span style=\"color: #00d7ff; text-decoration-color: #00d7ff\">None</span>, <span style=\"color: #00af00; text-decoration-color: #00af00\">8</span>)                   │             <span style=\"color: #00af00; text-decoration-color: #00af00\">800</span> │\n",
       "├──────────────────────────────────────┼─────────────────────────────┼─────────────────┤\n",
       "│ dense_3 (<span style=\"color: #0087ff; text-decoration-color: #0087ff\">Dense</span>)                      │ (<span style=\"color: #00d7ff; text-decoration-color: #00d7ff\">None</span>, <span style=\"color: #00af00; text-decoration-color: #00af00\">2</span>)                   │              <span style=\"color: #00af00; text-decoration-color: #00af00\">18</span> │\n",
       "└──────────────────────────────────────┴─────────────────────────────┴─────────────────┘\n",
       "</pre>\n"
      ],
      "text/plain": [
       "┏━━━━━━━━━━━━━━━━━━━━━━━━━━━━━━━━━━━━━━┳━━━━━━━━━━━━━━━━━━━━━━━━━━━━━┳━━━━━━━━━━━━━━━━━┓\n",
       "┃\u001b[1m \u001b[0m\u001b[1mLayer (type)                        \u001b[0m\u001b[1m \u001b[0m┃\u001b[1m \u001b[0m\u001b[1mOutput Shape               \u001b[0m\u001b[1m \u001b[0m┃\u001b[1m \u001b[0m\u001b[1m        Param #\u001b[0m\u001b[1m \u001b[0m┃\n",
       "┡━━━━━━━━━━━━━━━━━━━━━━━━━━━━━━━━━━━━━━╇━━━━━━━━━━━━━━━━━━━━━━━━━━━━━╇━━━━━━━━━━━━━━━━━┩\n",
       "│ input_layer_3 (\u001b[38;5;33mInputLayer\u001b[0m)           │ (\u001b[38;5;45mNone\u001b[0m, \u001b[38;5;34m50\u001b[0m, \u001b[38;5;34m1\u001b[0m)               │               \u001b[38;5;34m0\u001b[0m │\n",
       "├──────────────────────────────────────┼─────────────────────────────┼─────────────────┤\n",
       "│ lstm_2 (\u001b[38;5;33mLSTM\u001b[0m)                        │ (\u001b[38;5;45mNone\u001b[0m, \u001b[38;5;34m50\u001b[0m, \u001b[38;5;34m16\u001b[0m)              │           \u001b[38;5;34m1,152\u001b[0m │\n",
       "├──────────────────────────────────────┼─────────────────────────────┼─────────────────┤\n",
       "│ lstm_3 (\u001b[38;5;33mLSTM\u001b[0m)                        │ (\u001b[38;5;45mNone\u001b[0m, \u001b[38;5;34m8\u001b[0m)                   │             \u001b[38;5;34m800\u001b[0m │\n",
       "├──────────────────────────────────────┼─────────────────────────────┼─────────────────┤\n",
       "│ dense_3 (\u001b[38;5;33mDense\u001b[0m)                      │ (\u001b[38;5;45mNone\u001b[0m, \u001b[38;5;34m2\u001b[0m)                   │              \u001b[38;5;34m18\u001b[0m │\n",
       "└──────────────────────────────────────┴─────────────────────────────┴─────────────────┘\n"
      ]
     },
     "metadata": {},
     "output_type": "display_data"
    },
    {
     "data": {
      "text/html": [
       "<pre style=\"white-space:pre;overflow-x:auto;line-height:normal;font-family:Menlo,'DejaVu Sans Mono',consolas,'Courier New',monospace\"><span style=\"font-weight: bold\"> Total params: </span><span style=\"color: #00af00; text-decoration-color: #00af00\">1,970</span> (7.70 KB)\n",
       "</pre>\n"
      ],
      "text/plain": [
       "\u001b[1m Total params: \u001b[0m\u001b[38;5;34m1,970\u001b[0m (7.70 KB)\n"
      ]
     },
     "metadata": {},
     "output_type": "display_data"
    },
    {
     "data": {
      "text/html": [
       "<pre style=\"white-space:pre;overflow-x:auto;line-height:normal;font-family:Menlo,'DejaVu Sans Mono',consolas,'Courier New',monospace\"><span style=\"font-weight: bold\"> Trainable params: </span><span style=\"color: #00af00; text-decoration-color: #00af00\">1,970</span> (7.70 KB)\n",
       "</pre>\n"
      ],
      "text/plain": [
       "\u001b[1m Trainable params: \u001b[0m\u001b[38;5;34m1,970\u001b[0m (7.70 KB)\n"
      ]
     },
     "metadata": {},
     "output_type": "display_data"
    },
    {
     "data": {
      "text/html": [
       "<pre style=\"white-space:pre;overflow-x:auto;line-height:normal;font-family:Menlo,'DejaVu Sans Mono',consolas,'Courier New',monospace\"><span style=\"font-weight: bold\"> Non-trainable params: </span><span style=\"color: #00af00; text-decoration-color: #00af00\">0</span> (0.00 B)\n",
       "</pre>\n"
      ],
      "text/plain": [
       "\u001b[1m Non-trainable params: \u001b[0m\u001b[38;5;34m0\u001b[0m (0.00 B)\n"
      ]
     },
     "metadata": {},
     "output_type": "display_data"
    }
   ],
   "source": [
    "model_lstm = make_model_lstm(input_shape= train_x.shape[1:])\n",
    "\n",
    "model_lstm.summary()"
   ]
  },
  {
   "cell_type": "code",
   "execution_count": 111,
   "id": "83a3bbbb-0a68-490b-8f1a-8182d4dc5a96",
   "metadata": {},
   "outputs": [
    {
     "data": {
      "text/html": [
       "<pre style=\"white-space:pre;overflow-x:auto;line-height:normal;font-family:Menlo,'DejaVu Sans Mono',consolas,'Courier New',monospace\"><span style=\"font-weight: bold\">Model: \"functional_9\"</span>\n",
       "</pre>\n"
      ],
      "text/plain": [
       "\u001b[1mModel: \"functional_9\"\u001b[0m\n"
      ]
     },
     "metadata": {},
     "output_type": "display_data"
    },
    {
     "data": {
      "text/html": [
       "<pre style=\"white-space:pre;overflow-x:auto;line-height:normal;font-family:Menlo,'DejaVu Sans Mono',consolas,'Courier New',monospace\">┏━━━━━━━━━━━━━━━━━━━━━━━━━━━━━━━━━━━━━━┳━━━━━━━━━━━━━━━━━━━━━━━━━━━━━┳━━━━━━━━━━━━━━━━━┓\n",
       "┃<span style=\"font-weight: bold\"> Layer (type)                         </span>┃<span style=\"font-weight: bold\"> Output Shape                </span>┃<span style=\"font-weight: bold\">         Param # </span>┃\n",
       "┡━━━━━━━━━━━━━━━━━━━━━━━━━━━━━━━━━━━━━━╇━━━━━━━━━━━━━━━━━━━━━━━━━━━━━╇━━━━━━━━━━━━━━━━━┩\n",
       "│ input_layer_4 (<span style=\"color: #0087ff; text-decoration-color: #0087ff\">InputLayer</span>)           │ (<span style=\"color: #00d7ff; text-decoration-color: #00d7ff\">None</span>, <span style=\"color: #00af00; text-decoration-color: #00af00\">50</span>, <span style=\"color: #00af00; text-decoration-color: #00af00\">1</span>)               │               <span style=\"color: #00af00; text-decoration-color: #00af00\">0</span> │\n",
       "├──────────────────────────────────────┼─────────────────────────────┼─────────────────┤\n",
       "│ simple_rnn_2 (<span style=\"color: #0087ff; text-decoration-color: #0087ff\">SimpleRNN</span>)             │ (<span style=\"color: #00d7ff; text-decoration-color: #00d7ff\">None</span>, <span style=\"color: #00af00; text-decoration-color: #00af00\">50</span>, <span style=\"color: #00af00; text-decoration-color: #00af00\">16</span>)              │             <span style=\"color: #00af00; text-decoration-color: #00af00\">288</span> │\n",
       "├──────────────────────────────────────┼─────────────────────────────┼─────────────────┤\n",
       "│ simple_rnn_3 (<span style=\"color: #0087ff; text-decoration-color: #0087ff\">SimpleRNN</span>)             │ (<span style=\"color: #00d7ff; text-decoration-color: #00d7ff\">None</span>, <span style=\"color: #00af00; text-decoration-color: #00af00\">8</span>)                   │             <span style=\"color: #00af00; text-decoration-color: #00af00\">200</span> │\n",
       "├──────────────────────────────────────┼─────────────────────────────┼─────────────────┤\n",
       "│ dense_4 (<span style=\"color: #0087ff; text-decoration-color: #0087ff\">Dense</span>)                      │ (<span style=\"color: #00d7ff; text-decoration-color: #00d7ff\">None</span>, <span style=\"color: #00af00; text-decoration-color: #00af00\">2</span>)                   │              <span style=\"color: #00af00; text-decoration-color: #00af00\">18</span> │\n",
       "└──────────────────────────────────────┴─────────────────────────────┴─────────────────┘\n",
       "</pre>\n"
      ],
      "text/plain": [
       "┏━━━━━━━━━━━━━━━━━━━━━━━━━━━━━━━━━━━━━━┳━━━━━━━━━━━━━━━━━━━━━━━━━━━━━┳━━━━━━━━━━━━━━━━━┓\n",
       "┃\u001b[1m \u001b[0m\u001b[1mLayer (type)                        \u001b[0m\u001b[1m \u001b[0m┃\u001b[1m \u001b[0m\u001b[1mOutput Shape               \u001b[0m\u001b[1m \u001b[0m┃\u001b[1m \u001b[0m\u001b[1m        Param #\u001b[0m\u001b[1m \u001b[0m┃\n",
       "┡━━━━━━━━━━━━━━━━━━━━━━━━━━━━━━━━━━━━━━╇━━━━━━━━━━━━━━━━━━━━━━━━━━━━━╇━━━━━━━━━━━━━━━━━┩\n",
       "│ input_layer_4 (\u001b[38;5;33mInputLayer\u001b[0m)           │ (\u001b[38;5;45mNone\u001b[0m, \u001b[38;5;34m50\u001b[0m, \u001b[38;5;34m1\u001b[0m)               │               \u001b[38;5;34m0\u001b[0m │\n",
       "├──────────────────────────────────────┼─────────────────────────────┼─────────────────┤\n",
       "│ simple_rnn_2 (\u001b[38;5;33mSimpleRNN\u001b[0m)             │ (\u001b[38;5;45mNone\u001b[0m, \u001b[38;5;34m50\u001b[0m, \u001b[38;5;34m16\u001b[0m)              │             \u001b[38;5;34m288\u001b[0m │\n",
       "├──────────────────────────────────────┼─────────────────────────────┼─────────────────┤\n",
       "│ simple_rnn_3 (\u001b[38;5;33mSimpleRNN\u001b[0m)             │ (\u001b[38;5;45mNone\u001b[0m, \u001b[38;5;34m8\u001b[0m)                   │             \u001b[38;5;34m200\u001b[0m │\n",
       "├──────────────────────────────────────┼─────────────────────────────┼─────────────────┤\n",
       "│ dense_4 (\u001b[38;5;33mDense\u001b[0m)                      │ (\u001b[38;5;45mNone\u001b[0m, \u001b[38;5;34m2\u001b[0m)                   │              \u001b[38;5;34m18\u001b[0m │\n",
       "└──────────────────────────────────────┴─────────────────────────────┴─────────────────┘\n"
      ]
     },
     "metadata": {},
     "output_type": "display_data"
    },
    {
     "data": {
      "text/html": [
       "<pre style=\"white-space:pre;overflow-x:auto;line-height:normal;font-family:Menlo,'DejaVu Sans Mono',consolas,'Courier New',monospace\"><span style=\"font-weight: bold\"> Total params: </span><span style=\"color: #00af00; text-decoration-color: #00af00\">506</span> (1.98 KB)\n",
       "</pre>\n"
      ],
      "text/plain": [
       "\u001b[1m Total params: \u001b[0m\u001b[38;5;34m506\u001b[0m (1.98 KB)\n"
      ]
     },
     "metadata": {},
     "output_type": "display_data"
    },
    {
     "data": {
      "text/html": [
       "<pre style=\"white-space:pre;overflow-x:auto;line-height:normal;font-family:Menlo,'DejaVu Sans Mono',consolas,'Courier New',monospace\"><span style=\"font-weight: bold\"> Trainable params: </span><span style=\"color: #00af00; text-decoration-color: #00af00\">506</span> (1.98 KB)\n",
       "</pre>\n"
      ],
      "text/plain": [
       "\u001b[1m Trainable params: \u001b[0m\u001b[38;5;34m506\u001b[0m (1.98 KB)\n"
      ]
     },
     "metadata": {},
     "output_type": "display_data"
    },
    {
     "data": {
      "text/html": [
       "<pre style=\"white-space:pre;overflow-x:auto;line-height:normal;font-family:Menlo,'DejaVu Sans Mono',consolas,'Courier New',monospace\"><span style=\"font-weight: bold\"> Non-trainable params: </span><span style=\"color: #00af00; text-decoration-color: #00af00\">0</span> (0.00 B)\n",
       "</pre>\n"
      ],
      "text/plain": [
       "\u001b[1m Non-trainable params: \u001b[0m\u001b[38;5;34m0\u001b[0m (0.00 B)\n"
      ]
     },
     "metadata": {},
     "output_type": "display_data"
    }
   ],
   "source": [
    "model_rnn = make_model_rnn(input_shape= train_x.shape[1:])\n",
    "\n",
    "model_rnn.summary()"
   ]
  },
  {
   "cell_type": "code",
   "execution_count": 112,
   "id": "51dff9aa-f08a-4fa2-be4e-3f3b33fe6022",
   "metadata": {},
   "outputs": [
    {
     "data": {
      "text/html": [
       "<pre style=\"white-space:pre;overflow-x:auto;line-height:normal;font-family:Menlo,'DejaVu Sans Mono',consolas,'Courier New',monospace\"><span style=\"font-weight: bold\">Model: \"functional_11\"</span>\n",
       "</pre>\n"
      ],
      "text/plain": [
       "\u001b[1mModel: \"functional_11\"\u001b[0m\n"
      ]
     },
     "metadata": {},
     "output_type": "display_data"
    },
    {
     "data": {
      "text/html": [
       "<pre style=\"white-space:pre;overflow-x:auto;line-height:normal;font-family:Menlo,'DejaVu Sans Mono',consolas,'Courier New',monospace\">┏━━━━━━━━━━━━━━━━━━━━━━━━━━━━━━━━━━━━━━┳━━━━━━━━━━━━━━━━━━━━━━━━━━━━━┳━━━━━━━━━━━━━━━━━┓\n",
       "┃<span style=\"font-weight: bold\"> Layer (type)                         </span>┃<span style=\"font-weight: bold\"> Output Shape                </span>┃<span style=\"font-weight: bold\">         Param # </span>┃\n",
       "┡━━━━━━━━━━━━━━━━━━━━━━━━━━━━━━━━━━━━━━╇━━━━━━━━━━━━━━━━━━━━━━━━━━━━━╇━━━━━━━━━━━━━━━━━┩\n",
       "│ input_layer_5 (<span style=\"color: #0087ff; text-decoration-color: #0087ff\">InputLayer</span>)           │ (<span style=\"color: #00d7ff; text-decoration-color: #00d7ff\">None</span>, <span style=\"color: #00af00; text-decoration-color: #00af00\">50</span>, <span style=\"color: #00af00; text-decoration-color: #00af00\">1</span>)               │               <span style=\"color: #00af00; text-decoration-color: #00af00\">0</span> │\n",
       "├──────────────────────────────────────┼─────────────────────────────┼─────────────────┤\n",
       "│ conv1d_1 (<span style=\"color: #0087ff; text-decoration-color: #0087ff\">Conv1D</span>)                    │ (<span style=\"color: #00d7ff; text-decoration-color: #00d7ff\">None</span>, <span style=\"color: #00af00; text-decoration-color: #00af00\">50</span>, <span style=\"color: #00af00; text-decoration-color: #00af00\">32</span>)              │             <span style=\"color: #00af00; text-decoration-color: #00af00\">128</span> │\n",
       "├──────────────────────────────────────┼─────────────────────────────┼─────────────────┤\n",
       "│ max_pooling1d_1 (<span style=\"color: #0087ff; text-decoration-color: #0087ff\">MaxPooling1D</span>)       │ (<span style=\"color: #00d7ff; text-decoration-color: #00d7ff\">None</span>, <span style=\"color: #00af00; text-decoration-color: #00af00\">25</span>, <span style=\"color: #00af00; text-decoration-color: #00af00\">32</span>)              │               <span style=\"color: #00af00; text-decoration-color: #00af00\">0</span> │\n",
       "├──────────────────────────────────────┼─────────────────────────────┼─────────────────┤\n",
       "│ flatten_1 (<span style=\"color: #0087ff; text-decoration-color: #0087ff\">Flatten</span>)                  │ (<span style=\"color: #00d7ff; text-decoration-color: #00d7ff\">None</span>, <span style=\"color: #00af00; text-decoration-color: #00af00\">800</span>)                 │               <span style=\"color: #00af00; text-decoration-color: #00af00\">0</span> │\n",
       "├──────────────────────────────────────┼─────────────────────────────┼─────────────────┤\n",
       "│ dense_5 (<span style=\"color: #0087ff; text-decoration-color: #0087ff\">Dense</span>)                      │ (<span style=\"color: #00d7ff; text-decoration-color: #00d7ff\">None</span>, <span style=\"color: #00af00; text-decoration-color: #00af00\">2</span>)                   │           <span style=\"color: #00af00; text-decoration-color: #00af00\">1,602</span> │\n",
       "└──────────────────────────────────────┴─────────────────────────────┴─────────────────┘\n",
       "</pre>\n"
      ],
      "text/plain": [
       "┏━━━━━━━━━━━━━━━━━━━━━━━━━━━━━━━━━━━━━━┳━━━━━━━━━━━━━━━━━━━━━━━━━━━━━┳━━━━━━━━━━━━━━━━━┓\n",
       "┃\u001b[1m \u001b[0m\u001b[1mLayer (type)                        \u001b[0m\u001b[1m \u001b[0m┃\u001b[1m \u001b[0m\u001b[1mOutput Shape               \u001b[0m\u001b[1m \u001b[0m┃\u001b[1m \u001b[0m\u001b[1m        Param #\u001b[0m\u001b[1m \u001b[0m┃\n",
       "┡━━━━━━━━━━━━━━━━━━━━━━━━━━━━━━━━━━━━━━╇━━━━━━━━━━━━━━━━━━━━━━━━━━━━━╇━━━━━━━━━━━━━━━━━┩\n",
       "│ input_layer_5 (\u001b[38;5;33mInputLayer\u001b[0m)           │ (\u001b[38;5;45mNone\u001b[0m, \u001b[38;5;34m50\u001b[0m, \u001b[38;5;34m1\u001b[0m)               │               \u001b[38;5;34m0\u001b[0m │\n",
       "├──────────────────────────────────────┼─────────────────────────────┼─────────────────┤\n",
       "│ conv1d_1 (\u001b[38;5;33mConv1D\u001b[0m)                    │ (\u001b[38;5;45mNone\u001b[0m, \u001b[38;5;34m50\u001b[0m, \u001b[38;5;34m32\u001b[0m)              │             \u001b[38;5;34m128\u001b[0m │\n",
       "├──────────────────────────────────────┼─────────────────────────────┼─────────────────┤\n",
       "│ max_pooling1d_1 (\u001b[38;5;33mMaxPooling1D\u001b[0m)       │ (\u001b[38;5;45mNone\u001b[0m, \u001b[38;5;34m25\u001b[0m, \u001b[38;5;34m32\u001b[0m)              │               \u001b[38;5;34m0\u001b[0m │\n",
       "├──────────────────────────────────────┼─────────────────────────────┼─────────────────┤\n",
       "│ flatten_1 (\u001b[38;5;33mFlatten\u001b[0m)                  │ (\u001b[38;5;45mNone\u001b[0m, \u001b[38;5;34m800\u001b[0m)                 │               \u001b[38;5;34m0\u001b[0m │\n",
       "├──────────────────────────────────────┼─────────────────────────────┼─────────────────┤\n",
       "│ dense_5 (\u001b[38;5;33mDense\u001b[0m)                      │ (\u001b[38;5;45mNone\u001b[0m, \u001b[38;5;34m2\u001b[0m)                   │           \u001b[38;5;34m1,602\u001b[0m │\n",
       "└──────────────────────────────────────┴─────────────────────────────┴─────────────────┘\n"
      ]
     },
     "metadata": {},
     "output_type": "display_data"
    },
    {
     "data": {
      "text/html": [
       "<pre style=\"white-space:pre;overflow-x:auto;line-height:normal;font-family:Menlo,'DejaVu Sans Mono',consolas,'Courier New',monospace\"><span style=\"font-weight: bold\"> Total params: </span><span style=\"color: #00af00; text-decoration-color: #00af00\">1,730</span> (6.76 KB)\n",
       "</pre>\n"
      ],
      "text/plain": [
       "\u001b[1m Total params: \u001b[0m\u001b[38;5;34m1,730\u001b[0m (6.76 KB)\n"
      ]
     },
     "metadata": {},
     "output_type": "display_data"
    },
    {
     "data": {
      "text/html": [
       "<pre style=\"white-space:pre;overflow-x:auto;line-height:normal;font-family:Menlo,'DejaVu Sans Mono',consolas,'Courier New',monospace\"><span style=\"font-weight: bold\"> Trainable params: </span><span style=\"color: #00af00; text-decoration-color: #00af00\">1,730</span> (6.76 KB)\n",
       "</pre>\n"
      ],
      "text/plain": [
       "\u001b[1m Trainable params: \u001b[0m\u001b[38;5;34m1,730\u001b[0m (6.76 KB)\n"
      ]
     },
     "metadata": {},
     "output_type": "display_data"
    },
    {
     "data": {
      "text/html": [
       "<pre style=\"white-space:pre;overflow-x:auto;line-height:normal;font-family:Menlo,'DejaVu Sans Mono',consolas,'Courier New',monospace\"><span style=\"font-weight: bold\"> Non-trainable params: </span><span style=\"color: #00af00; text-decoration-color: #00af00\">0</span> (0.00 B)\n",
       "</pre>\n"
      ],
      "text/plain": [
       "\u001b[1m Non-trainable params: \u001b[0m\u001b[38;5;34m0\u001b[0m (0.00 B)\n"
      ]
     },
     "metadata": {},
     "output_type": "display_data"
    }
   ],
   "source": [
    "model_cnn = make_model_cnn(input_shape= train_x.shape[1:])\n",
    "\n",
    "model_cnn.summary()"
   ]
  },
  {
   "cell_type": "markdown",
   "id": "9bd880bb-1a81-4e3e-a1bb-39495f448807",
   "metadata": {},
   "source": [
    "Parametros utilizados para rodar as Épocas"
   ]
  },
  {
   "cell_type": "code",
   "execution_count": 114,
   "id": "2f451bb1-419c-45d0-aa97-4866516fce23",
   "metadata": {},
   "outputs": [],
   "source": [
    "epochs = 50\n",
    "batch_size = 32\n",
    "\n",
    "callbacks = [\n",
    "    tf.keras.callbacks.ModelCheckpoint(\n",
    "        \"best_model.keras\", save_best_only=True, monitor=\"val_loss\"\n",
    "    ),\n",
    "    tf.keras.callbacks.ReduceLROnPlateau(\n",
    "        monitor=\"val_loss\", factor=0.5, patience=10, min_lr=0.0001\n",
    "    ),\n",
    "    tf.keras.callbacks.EarlyStopping(monitor=\"val_loss\", patience=20, verbose=1),\n",
    "]"
   ]
  },
  {
   "cell_type": "markdown",
   "id": "981fd858-5de7-42dc-a2f0-0521679563a0",
   "metadata": {},
   "source": [
    "LSTM"
   ]
  },
  {
   "cell_type": "code",
   "execution_count": 116,
   "id": "f46b7dfd-ebce-489c-b010-8a7ea6efbde6",
   "metadata": {},
   "outputs": [
    {
     "name": "stdout",
     "output_type": "stream",
     "text": [
      "Epoch 1/50\n",
      "\u001b[1m336/336\u001b[0m \u001b[32m━━━━━━━━━━━━━━━━━━━━\u001b[0m\u001b[37m\u001b[0m \u001b[1m13s\u001b[0m 21ms/step - loss: 0.7360 - sparse_categorical_accuracy: 0.5211 - val_loss: 0.6931 - val_sparse_categorical_accuracy: 0.3025 - learning_rate: 0.0010\n",
      "Epoch 2/50\n",
      "\u001b[1m336/336\u001b[0m \u001b[32m━━━━━━━━━━━━━━━━━━━━\u001b[0m\u001b[37m\u001b[0m \u001b[1m6s\u001b[0m 19ms/step - loss: 0.6931 - sparse_categorical_accuracy: 0.2973 - val_loss: 0.6931 - val_sparse_categorical_accuracy: 0.3025 - learning_rate: 0.0010\n",
      "Epoch 3/50\n",
      "\u001b[1m336/336\u001b[0m \u001b[32m━━━━━━━━━━━━━━━━━━━━\u001b[0m\u001b[37m\u001b[0m \u001b[1m6s\u001b[0m 19ms/step - loss: 0.6931 - sparse_categorical_accuracy: 0.2924 - val_loss: 0.6931 - val_sparse_categorical_accuracy: 0.3025 - learning_rate: 0.0010\n",
      "Epoch 4/50\n",
      "\u001b[1m336/336\u001b[0m \u001b[32m━━━━━━━━━━━━━━━━━━━━\u001b[0m\u001b[37m\u001b[0m \u001b[1m7s\u001b[0m 19ms/step - loss: 0.6931 - sparse_categorical_accuracy: 0.3052 - val_loss: 0.6931 - val_sparse_categorical_accuracy: 0.3025 - learning_rate: 0.0010\n",
      "Epoch 5/50\n",
      "\u001b[1m336/336\u001b[0m \u001b[32m━━━━━━━━━━━━━━━━━━━━\u001b[0m\u001b[37m\u001b[0m \u001b[1m6s\u001b[0m 19ms/step - loss: 0.6931 - sparse_categorical_accuracy: 0.3019 - val_loss: 0.6931 - val_sparse_categorical_accuracy: 0.3025 - learning_rate: 0.0010\n",
      "Epoch 6/50\n",
      "\u001b[1m336/336\u001b[0m \u001b[32m━━━━━━━━━━━━━━━━━━━━\u001b[0m\u001b[37m\u001b[0m \u001b[1m10s\u001b[0m 18ms/step - loss: 0.6931 - sparse_categorical_accuracy: 0.3023 - val_loss: 0.6931 - val_sparse_categorical_accuracy: 0.3025 - learning_rate: 0.0010\n",
      "Epoch 7/50\n",
      "\u001b[1m336/336\u001b[0m \u001b[32m━━━━━━━━━━━━━━━━━━━━\u001b[0m\u001b[37m\u001b[0m \u001b[1m10s\u001b[0m 18ms/step - loss: 0.6931 - sparse_categorical_accuracy: 0.3005 - val_loss: 0.6931 - val_sparse_categorical_accuracy: 0.3025 - learning_rate: 0.0010\n",
      "Epoch 8/50\n",
      "\u001b[1m336/336\u001b[0m \u001b[32m━━━━━━━━━━━━━━━━━━━━\u001b[0m\u001b[37m\u001b[0m \u001b[1m10s\u001b[0m 19ms/step - loss: 0.6931 - sparse_categorical_accuracy: 0.2948 - val_loss: 0.6931 - val_sparse_categorical_accuracy: 0.3025 - learning_rate: 0.0010\n",
      "Epoch 9/50\n",
      "\u001b[1m336/336\u001b[0m \u001b[32m━━━━━━━━━━━━━━━━━━━━\u001b[0m\u001b[37m\u001b[0m \u001b[1m6s\u001b[0m 19ms/step - loss: 0.6931 - sparse_categorical_accuracy: 0.3002 - val_loss: 0.6931 - val_sparse_categorical_accuracy: 0.3025 - learning_rate: 0.0010\n",
      "Epoch 10/50\n",
      "\u001b[1m336/336\u001b[0m \u001b[32m━━━━━━━━━━━━━━━━━━━━\u001b[0m\u001b[37m\u001b[0m \u001b[1m6s\u001b[0m 18ms/step - loss: 0.6931 - sparse_categorical_accuracy: 0.2995 - val_loss: 0.6931 - val_sparse_categorical_accuracy: 0.3025 - learning_rate: 0.0010\n",
      "Epoch 11/50\n",
      "\u001b[1m336/336\u001b[0m \u001b[32m━━━━━━━━━━━━━━━━━━━━\u001b[0m\u001b[37m\u001b[0m \u001b[1m6s\u001b[0m 19ms/step - loss: 0.6931 - sparse_categorical_accuracy: 0.3037 - val_loss: 0.6931 - val_sparse_categorical_accuracy: 0.3025 - learning_rate: 0.0010\n",
      "Epoch 12/50\n",
      "\u001b[1m336/336\u001b[0m \u001b[32m━━━━━━━━━━━━━━━━━━━━\u001b[0m\u001b[37m\u001b[0m \u001b[1m6s\u001b[0m 19ms/step - loss: 0.6931 - sparse_categorical_accuracy: 0.3002 - val_loss: 0.6931 - val_sparse_categorical_accuracy: 0.3025 - learning_rate: 5.0000e-04\n",
      "Epoch 13/50\n",
      "\u001b[1m336/336\u001b[0m \u001b[32m━━━━━━━━━━━━━━━━━━━━\u001b[0m\u001b[37m\u001b[0m \u001b[1m6s\u001b[0m 19ms/step - loss: 0.6931 - sparse_categorical_accuracy: 0.2925 - val_loss: 0.6931 - val_sparse_categorical_accuracy: 0.3025 - learning_rate: 5.0000e-04\n",
      "Epoch 14/50\n",
      "\u001b[1m336/336\u001b[0m \u001b[32m━━━━━━━━━━━━━━━━━━━━\u001b[0m\u001b[37m\u001b[0m \u001b[1m7s\u001b[0m 19ms/step - loss: 0.6931 - sparse_categorical_accuracy: 0.2976 - val_loss: 0.6931 - val_sparse_categorical_accuracy: 0.3025 - learning_rate: 5.0000e-04\n",
      "Epoch 15/50\n",
      "\u001b[1m336/336\u001b[0m \u001b[32m━━━━━━━━━━━━━━━━━━━━\u001b[0m\u001b[37m\u001b[0m \u001b[1m7s\u001b[0m 19ms/step - loss: 0.6931 - sparse_categorical_accuracy: 0.3064 - val_loss: 0.6931 - val_sparse_categorical_accuracy: 0.3025 - learning_rate: 5.0000e-04\n",
      "Epoch 16/50\n",
      "\u001b[1m336/336\u001b[0m \u001b[32m━━━━━━━━━━━━━━━━━━━━\u001b[0m\u001b[37m\u001b[0m \u001b[1m7s\u001b[0m 20ms/step - loss: 0.6931 - sparse_categorical_accuracy: 0.3040 - val_loss: 0.6931 - val_sparse_categorical_accuracy: 0.3025 - learning_rate: 5.0000e-04\n",
      "Epoch 17/50\n",
      "\u001b[1m336/336\u001b[0m \u001b[32m━━━━━━━━━━━━━━━━━━━━\u001b[0m\u001b[37m\u001b[0m \u001b[1m10s\u001b[0m 20ms/step - loss: 0.6931 - sparse_categorical_accuracy: 0.2963 - val_loss: 0.6931 - val_sparse_categorical_accuracy: 0.3025 - learning_rate: 5.0000e-04\n",
      "Epoch 18/50\n",
      "\u001b[1m336/336\u001b[0m \u001b[32m━━━━━━━━━━━━━━━━━━━━\u001b[0m\u001b[37m\u001b[0m \u001b[1m7s\u001b[0m 21ms/step - loss: 0.6931 - sparse_categorical_accuracy: 0.2977 - val_loss: 0.6931 - val_sparse_categorical_accuracy: 0.3025 - learning_rate: 5.0000e-04\n",
      "Epoch 19/50\n",
      "\u001b[1m336/336\u001b[0m \u001b[32m━━━━━━━━━━━━━━━━━━━━\u001b[0m\u001b[37m\u001b[0m \u001b[1m7s\u001b[0m 20ms/step - loss: 0.6931 - sparse_categorical_accuracy: 0.3086 - val_loss: 0.6931 - val_sparse_categorical_accuracy: 0.3025 - learning_rate: 5.0000e-04\n",
      "Epoch 20/50\n",
      "\u001b[1m336/336\u001b[0m \u001b[32m━━━━━━━━━━━━━━━━━━━━\u001b[0m\u001b[37m\u001b[0m \u001b[1m6s\u001b[0m 19ms/step - loss: 0.6931 - sparse_categorical_accuracy: 0.2971 - val_loss: 0.6931 - val_sparse_categorical_accuracy: 0.3025 - learning_rate: 5.0000e-04\n",
      "Epoch 21/50\n",
      "\u001b[1m336/336\u001b[0m \u001b[32m━━━━━━━━━━━━━━━━━━━━\u001b[0m\u001b[37m\u001b[0m \u001b[1m9s\u001b[0m 28ms/step - loss: 0.6931 - sparse_categorical_accuracy: 0.3001 - val_loss: 0.6931 - val_sparse_categorical_accuracy: 0.3025 - learning_rate: 5.0000e-04\n",
      "Epoch 21: early stopping\n"
     ]
    }
   ],
   "source": [
    "model_lstm.compile(\n",
    "    optimizer=\"adam\",\n",
    "    loss=\"sparse_categorical_crossentropy\",\n",
    "    metrics=[\"sparse_categorical_accuracy\"],\n",
    ")\n",
    "history = model_lstm.fit(\n",
    "    train_x,\n",
    "    train_y,\n",
    "    batch_size=batch_size,\n",
    "    epochs=epochs,\n",
    "    callbacks=callbacks,\n",
    "    validation_split=0.2,\n",
    "    verbose=1,\n",
    ")"
   ]
  },
  {
   "cell_type": "code",
   "execution_count": 117,
   "id": "c249b492-93b8-4b51-9a63-66fcc8ceb56a",
   "metadata": {},
   "outputs": [
    {
     "name": "stdout",
     "output_type": "stream",
     "text": [
      "\u001b[1m60/60\u001b[0m \u001b[32m━━━━━━━━━━━━━━━━━━━━\u001b[0m\u001b[37m\u001b[0m \u001b[1m2s\u001b[0m 6ms/step - loss: 0.6931 - sparse_categorical_accuracy: 0.3123\n",
      "Test accuracy 0.3169712722301483\n",
      "Test loss 0.6931471824645996\n"
     ]
    }
   ],
   "source": [
    "model_lstm = tf.keras.models.load_model(\"best_model.keras\")\n",
    "\n",
    "test_loss, test_acc = model_lstm.evaluate(test_x, test_y)\n",
    "\n",
    "print(\"Test accuracy\", test_acc)\n",
    "print(\"Test loss\", test_loss)"
   ]
  },
  {
   "cell_type": "code",
   "execution_count": 118,
   "id": "987b208b-620d-4b2a-9493-72ddc55c9e46",
   "metadata": {},
   "outputs": [
    {
     "data": {
      "image/png": "[encoded data removed]",
      "text/plain": [
       "<Figure size 640x480 with 1 Axes>"
      ]
     },
     "metadata": {},
     "output_type": "display_data"
    }
   ],
   "source": [
    "metric = \"sparse_categorical_accuracy\"\n",
    "plt.figure()\n",
    "plt.plot(history.history[metric])\n",
    "plt.plot(history.history[\"val_\" + metric])\n",
    "plt.title(\"LSTM: \" + metric)\n",
    "plt.ylabel(metric, fontsize=\"large\")\n",
    "plt.xlabel(\"epoch\", fontsize=\"large\")\n",
    "plt.legend([\"train\", \"val\"], loc=\"best\")\n",
    "plt.show()\n",
    "plt.close()"
   ]
  },
  {
   "cell_type": "markdown",
   "id": "ede7cf24-890e-4cac-a374-2a08c2b8db8b",
   "metadata": {},
   "source": [
    "RNN"
   ]
  },
  {
   "cell_type": "code",
   "execution_count": 120,
   "id": "c8b1502d-906e-4c6d-83a7-b691d6093bb6",
   "metadata": {},
   "outputs": [
    {
     "name": "stdout",
     "output_type": "stream",
     "text": [
      "Epoch 1/50\n",
      "\u001b[1m336/336\u001b[0m \u001b[32m━━━━━━━━━━━━━━━━━━━━\u001b[0m\u001b[37m\u001b[0m \u001b[1m9s\u001b[0m 14ms/step - loss: 0.6397 - sparse_categorical_accuracy: 0.6607 - val_loss: 0.6126 - val_sparse_categorical_accuracy: 0.6975 - learning_rate: 0.0010\n",
      "Epoch 2/50\n",
      "\u001b[1m336/336\u001b[0m \u001b[32m━━━━━━━━━━━━━━━━━━━━\u001b[0m\u001b[37m\u001b[0m \u001b[1m4s\u001b[0m 13ms/step - loss: 0.6092 - sparse_categorical_accuracy: 0.7031 - val_loss: 0.6121 - val_sparse_categorical_accuracy: 0.6975 - learning_rate: 0.0010\n",
      "Epoch 3/50\n",
      "\u001b[1m336/336\u001b[0m \u001b[32m━━━━━━━━━━━━━━━━━━━━\u001b[0m\u001b[37m\u001b[0m \u001b[1m5s\u001b[0m 13ms/step - loss: 0.6125 - sparse_categorical_accuracy: 0.6992 - val_loss: 0.6072 - val_sparse_categorical_accuracy: 0.6975 - learning_rate: 0.0010\n",
      "Epoch 4/50\n",
      "\u001b[1m336/336\u001b[0m \u001b[32m━━━━━━━━━━━━━━━━━━━━\u001b[0m\u001b[37m\u001b[0m \u001b[1m4s\u001b[0m 13ms/step - loss: 0.6030 - sparse_categorical_accuracy: 0.7058 - val_loss: 0.6047 - val_sparse_categorical_accuracy: 0.6986 - learning_rate: 0.0010\n",
      "Epoch 5/50\n",
      "\u001b[1m336/336\u001b[0m \u001b[32m━━━━━━━━━━━━━━━━━━━━\u001b[0m\u001b[37m\u001b[0m \u001b[1m5s\u001b[0m 12ms/step - loss: 0.6071 - sparse_categorical_accuracy: 0.7000 - val_loss: 0.6141 - val_sparse_categorical_accuracy: 0.6968 - learning_rate: 0.0010\n",
      "Epoch 6/50\n",
      "\u001b[1m336/336\u001b[0m \u001b[32m━━━━━━━━━━━━━━━━━━━━\u001b[0m\u001b[37m\u001b[0m \u001b[1m5s\u001b[0m 12ms/step - loss: 0.6179 - sparse_categorical_accuracy: 0.6900 - val_loss: 0.6076 - val_sparse_categorical_accuracy: 0.6975 - learning_rate: 0.0010\n",
      "Epoch 7/50\n",
      "\u001b[1m336/336\u001b[0m \u001b[32m━━━━━━━━━━━━━━━━━━━━\u001b[0m\u001b[37m\u001b[0m \u001b[1m5s\u001b[0m 13ms/step - loss: 0.6059 - sparse_categorical_accuracy: 0.7034 - val_loss: 0.6086 - val_sparse_categorical_accuracy: 0.6986 - learning_rate: 0.0010\n",
      "Epoch 8/50\n",
      "\u001b[1m336/336\u001b[0m \u001b[32m━━━━━━━━━━━━━━━━━━━━\u001b[0m\u001b[37m\u001b[0m \u001b[1m4s\u001b[0m 11ms/step - loss: 0.6079 - sparse_categorical_accuracy: 0.7017 - val_loss: 0.6104 - val_sparse_categorical_accuracy: 0.6975 - learning_rate: 0.0010\n",
      "Epoch 9/50\n",
      "\u001b[1m336/336\u001b[0m \u001b[32m━━━━━━━━━━━━━━━━━━━━\u001b[0m\u001b[37m\u001b[0m \u001b[1m5s\u001b[0m 13ms/step - loss: 0.6081 - sparse_categorical_accuracy: 0.7027 - val_loss: 0.6060 - val_sparse_categorical_accuracy: 0.6990 - learning_rate: 0.0010\n",
      "Epoch 10/50\n",
      "\u001b[1m336/336\u001b[0m \u001b[32m━━━━━━━━━━━━━━━━━━━━\u001b[0m\u001b[37m\u001b[0m \u001b[1m5s\u001b[0m 14ms/step - loss: 0.6056 - sparse_categorical_accuracy: 0.7024 - val_loss: 0.6146 - val_sparse_categorical_accuracy: 0.6897 - learning_rate: 0.0010\n",
      "Epoch 11/50\n",
      "\u001b[1m336/336\u001b[0m \u001b[32m━━━━━━━━━━━━━━━━━━━━\u001b[0m\u001b[37m\u001b[0m \u001b[1m6s\u001b[0m 17ms/step - loss: 0.6013 - sparse_categorical_accuracy: 0.7068 - val_loss: 0.6115 - val_sparse_categorical_accuracy: 0.6975 - learning_rate: 0.0010\n",
      "Epoch 12/50\n",
      "\u001b[1m336/336\u001b[0m \u001b[32m━━━━━━━━━━━━━━━━━━━━\u001b[0m\u001b[37m\u001b[0m \u001b[1m5s\u001b[0m 13ms/step - loss: 0.6084 - sparse_categorical_accuracy: 0.7016 - val_loss: 0.6041 - val_sparse_categorical_accuracy: 0.6979 - learning_rate: 0.0010\n",
      "Epoch 13/50\n",
      "\u001b[1m336/336\u001b[0m \u001b[32m━━━━━━━━━━━━━━━━━━━━\u001b[0m\u001b[37m\u001b[0m \u001b[1m4s\u001b[0m 13ms/step - loss: 0.6049 - sparse_categorical_accuracy: 0.6999 - val_loss: 0.6038 - val_sparse_categorical_accuracy: 0.6982 - learning_rate: 0.0010\n",
      "Epoch 14/50\n",
      "\u001b[1m336/336\u001b[0m \u001b[32m━━━━━━━━━━━━━━━━━━━━\u001b[0m\u001b[37m\u001b[0m \u001b[1m5s\u001b[0m 11ms/step - loss: 0.6051 - sparse_categorical_accuracy: 0.7026 - val_loss: 0.6046 - val_sparse_categorical_accuracy: 0.6997 - learning_rate: 0.0010\n",
      "Epoch 15/50\n",
      "\u001b[1m336/336\u001b[0m \u001b[32m━━━━━━━━━━━━━━━━━━━━\u001b[0m\u001b[37m\u001b[0m \u001b[1m4s\u001b[0m 12ms/step - loss: 0.6034 - sparse_categorical_accuracy: 0.7022 - val_loss: 0.6097 - val_sparse_categorical_accuracy: 0.6956 - learning_rate: 0.0010\n",
      "Epoch 16/50\n",
      "\u001b[1m336/336\u001b[0m \u001b[32m━━━━━━━━━━━━━━━━━━━━\u001b[0m\u001b[37m\u001b[0m \u001b[1m4s\u001b[0m 12ms/step - loss: 0.6121 - sparse_categorical_accuracy: 0.6970 - val_loss: 0.6110 - val_sparse_categorical_accuracy: 0.6975 - learning_rate: 0.0010\n",
      "Epoch 17/50\n",
      "\u001b[1m336/336\u001b[0m \u001b[32m━━━━━━━━━━━━━━━━━━━━\u001b[0m\u001b[37m\u001b[0m \u001b[1m5s\u001b[0m 13ms/step - loss: 0.6136 - sparse_categorical_accuracy: 0.6946 - val_loss: 0.6096 - val_sparse_categorical_accuracy: 0.6990 - learning_rate: 0.0010\n",
      "Epoch 18/50\n",
      "\u001b[1m336/336\u001b[0m \u001b[32m━━━━━━━━━━━━━━━━━━━━\u001b[0m\u001b[37m\u001b[0m \u001b[1m4s\u001b[0m 12ms/step - loss: 0.6082 - sparse_categorical_accuracy: 0.7007 - val_loss: 0.6086 - val_sparse_categorical_accuracy: 0.7001 - learning_rate: 0.0010\n",
      "Epoch 19/50\n",
      "\u001b[1m336/336\u001b[0m \u001b[32m━━━━━━━━━━━━━━━━━━━━\u001b[0m\u001b[37m\u001b[0m \u001b[1m4s\u001b[0m 12ms/step - loss: 0.6041 - sparse_categorical_accuracy: 0.7053 - val_loss: 0.6082 - val_sparse_categorical_accuracy: 0.6990 - learning_rate: 0.0010\n",
      "Epoch 20/50\n",
      "\u001b[1m336/336\u001b[0m \u001b[32m━━━━━━━━━━━━━━━━━━━━\u001b[0m\u001b[37m\u001b[0m \u001b[1m4s\u001b[0m 12ms/step - loss: 0.6081 - sparse_categorical_accuracy: 0.7004 - val_loss: 0.6110 - val_sparse_categorical_accuracy: 0.6975 - learning_rate: 0.0010\n",
      "Epoch 21/50\n",
      "\u001b[1m336/336\u001b[0m \u001b[32m━━━━━━━━━━━━━━━━━━━━\u001b[0m\u001b[37m\u001b[0m \u001b[1m4s\u001b[0m 12ms/step - loss: 0.6085 - sparse_categorical_accuracy: 0.7000 - val_loss: 0.6080 - val_sparse_categorical_accuracy: 0.6994 - learning_rate: 0.0010\n",
      "Epoch 22/50\n",
      "\u001b[1m336/336\u001b[0m \u001b[32m━━━━━━━━━━━━━━━━━━━━\u001b[0m\u001b[37m\u001b[0m \u001b[1m4s\u001b[0m 12ms/step - loss: 0.6111 - sparse_categorical_accuracy: 0.6960 - val_loss: 0.6086 - val_sparse_categorical_accuracy: 0.6982 - learning_rate: 0.0010\n",
      "Epoch 23/50\n",
      "\u001b[1m336/336\u001b[0m \u001b[32m━━━━━━━━━━━━━━━━━━━━\u001b[0m\u001b[37m\u001b[0m \u001b[1m4s\u001b[0m 12ms/step - loss: 0.6072 - sparse_categorical_accuracy: 0.7008 - val_loss: 0.6090 - val_sparse_categorical_accuracy: 0.6975 - learning_rate: 0.0010\n",
      "Epoch 24/50\n",
      "\u001b[1m336/336\u001b[0m \u001b[32m━━━━━━━━━━━━━━━━━━━━\u001b[0m\u001b[37m\u001b[0m \u001b[1m4s\u001b[0m 13ms/step - loss: 0.6090 - sparse_categorical_accuracy: 0.6976 - val_loss: 0.6095 - val_sparse_categorical_accuracy: 0.6979 - learning_rate: 5.0000e-04\n",
      "Epoch 25/50\n",
      "\u001b[1m336/336\u001b[0m \u001b[32m━━━━━━━━━━━━━━━━━━━━\u001b[0m\u001b[37m\u001b[0m \u001b[1m4s\u001b[0m 12ms/step - loss: 0.6127 - sparse_categorical_accuracy: 0.6930 - val_loss: 0.6059 - val_sparse_categorical_accuracy: 0.6982 - learning_rate: 5.0000e-04\n",
      "Epoch 26/50\n",
      "\u001b[1m336/336\u001b[0m \u001b[32m━━━━━━━━━━━━━━━━━━━━\u001b[0m\u001b[37m\u001b[0m \u001b[1m4s\u001b[0m 13ms/step - loss: 0.6077 - sparse_categorical_accuracy: 0.7008 - val_loss: 0.6083 - val_sparse_categorical_accuracy: 0.6975 - learning_rate: 5.0000e-04\n",
      "Epoch 27/50\n",
      "\u001b[1m336/336\u001b[0m \u001b[32m━━━━━━━━━━━━━━━━━━━━\u001b[0m\u001b[37m\u001b[0m \u001b[1m4s\u001b[0m 12ms/step - loss: 0.6042 - sparse_categorical_accuracy: 0.7026 - val_loss: 0.6039 - val_sparse_categorical_accuracy: 0.7016 - learning_rate: 5.0000e-04\n",
      "Epoch 28/50\n",
      "\u001b[1m336/336\u001b[0m \u001b[32m━━━━━━━━━━━━━━━━━━━━\u001b[0m\u001b[37m\u001b[0m \u001b[1m4s\u001b[0m 12ms/step - loss: 0.6074 - sparse_categorical_accuracy: 0.6998 - val_loss: 0.6055 - val_sparse_categorical_accuracy: 0.6986 - learning_rate: 5.0000e-04\n",
      "Epoch 29/50\n",
      "\u001b[1m336/336\u001b[0m \u001b[32m━━━━━━━━━━━━━━━━━━━━\u001b[0m\u001b[37m\u001b[0m \u001b[1m4s\u001b[0m 13ms/step - loss: 0.6009 - sparse_categorical_accuracy: 0.7065 - val_loss: 0.6036 - val_sparse_categorical_accuracy: 0.7009 - learning_rate: 5.0000e-04\n",
      "Epoch 30/50\n",
      "\u001b[1m336/336\u001b[0m \u001b[32m━━━━━━━━━━━━━━━━━━━━\u001b[0m\u001b[37m\u001b[0m \u001b[1m5s\u001b[0m 13ms/step - loss: 0.6009 - sparse_categorical_accuracy: 0.7051 - val_loss: 0.6029 - val_sparse_categorical_accuracy: 0.6986 - learning_rate: 5.0000e-04\n",
      "Epoch 31/50\n",
      "\u001b[1m336/336\u001b[0m \u001b[32m━━━━━━━━━━━━━━━━━━━━\u001b[0m\u001b[37m\u001b[0m \u001b[1m5s\u001b[0m 12ms/step - loss: 0.6039 - sparse_categorical_accuracy: 0.7007 - val_loss: 0.6250 - val_sparse_categorical_accuracy: 0.6811 - learning_rate: 5.0000e-04\n",
      "Epoch 32/50\n",
      "\u001b[1m336/336\u001b[0m \u001b[32m━━━━━━━━━━━━━━━━━━━━\u001b[0m\u001b[37m\u001b[0m \u001b[1m4s\u001b[0m 13ms/step - loss: 0.6082 - sparse_categorical_accuracy: 0.6999 - val_loss: 0.6033 - val_sparse_categorical_accuracy: 0.7012 - learning_rate: 5.0000e-04\n",
      "Epoch 33/50\n",
      "\u001b[1m336/336\u001b[0m \u001b[32m━━━━━━━━━━━━━━━━━━━━\u001b[0m\u001b[37m\u001b[0m \u001b[1m5s\u001b[0m 14ms/step - loss: 0.5945 - sparse_categorical_accuracy: 0.7117 - val_loss: 0.6056 - val_sparse_categorical_accuracy: 0.6941 - learning_rate: 5.0000e-04\n",
      "Epoch 34/50\n",
      "\u001b[1m336/336\u001b[0m \u001b[32m━━━━━━━━━━━━━━━━━━━━\u001b[0m\u001b[37m\u001b[0m \u001b[1m4s\u001b[0m 12ms/step - loss: 0.5995 - sparse_categorical_accuracy: 0.7056 - val_loss: 0.5994 - val_sparse_categorical_accuracy: 0.7009 - learning_rate: 5.0000e-04\n",
      "Epoch 35/50\n",
      "\u001b[1m336/336\u001b[0m \u001b[32m━━━━━━━━━━━━━━━━━━━━\u001b[0m\u001b[37m\u001b[0m \u001b[1m4s\u001b[0m 12ms/step - loss: 0.6045 - sparse_categorical_accuracy: 0.6997 - val_loss: 0.6005 - val_sparse_categorical_accuracy: 0.6994 - learning_rate: 5.0000e-04\n",
      "Epoch 36/50\n",
      "\u001b[1m336/336\u001b[0m \u001b[32m━━━━━━━━━━━━━━━━━━━━\u001b[0m\u001b[37m\u001b[0m \u001b[1m4s\u001b[0m 13ms/step - loss: 0.6069 - sparse_categorical_accuracy: 0.6967 - val_loss: 0.6034 - val_sparse_categorical_accuracy: 0.6982 - learning_rate: 5.0000e-04\n",
      "Epoch 37/50\n",
      "\u001b[1m336/336\u001b[0m \u001b[32m━━━━━━━━━━━━━━━━━━━━\u001b[0m\u001b[37m\u001b[0m \u001b[1m4s\u001b[0m 12ms/step - loss: 0.6005 - sparse_categorical_accuracy: 0.7040 - val_loss: 0.5980 - val_sparse_categorical_accuracy: 0.7009 - learning_rate: 5.0000e-04\n",
      "Epoch 38/50\n",
      "\u001b[1m336/336\u001b[0m \u001b[32m━━━━━━━━━━━━━━━━━━━━\u001b[0m\u001b[37m\u001b[0m \u001b[1m4s\u001b[0m 13ms/step - loss: 0.6003 - sparse_categorical_accuracy: 0.7021 - val_loss: 0.5967 - val_sparse_categorical_accuracy: 0.7031 - learning_rate: 5.0000e-04\n",
      "Epoch 39/50\n",
      "\u001b[1m336/336\u001b[0m \u001b[32m━━━━━━━━━━━━━━━━━━━━\u001b[0m\u001b[37m\u001b[0m \u001b[1m6s\u001b[0m 15ms/step - loss: 0.5986 - sparse_categorical_accuracy: 0.7041 - val_loss: 0.6080 - val_sparse_categorical_accuracy: 0.6971 - learning_rate: 5.0000e-04\n",
      "Epoch 40/50\n",
      "\u001b[1m336/336\u001b[0m \u001b[32m━━━━━━━━━━━━━━━━━━━━\u001b[0m\u001b[37m\u001b[0m \u001b[1m5s\u001b[0m 13ms/step - loss: 0.6055 - sparse_categorical_accuracy: 0.6996 - val_loss: 0.5947 - val_sparse_categorical_accuracy: 0.7031 - learning_rate: 5.0000e-04\n",
      "Epoch 41/50\n",
      "\u001b[1m336/336\u001b[0m \u001b[32m━━━━━━━━━━━━━━━━━━━━\u001b[0m\u001b[37m\u001b[0m \u001b[1m4s\u001b[0m 12ms/step - loss: 0.5986 - sparse_categorical_accuracy: 0.7036 - val_loss: 0.5944 - val_sparse_categorical_accuracy: 0.7035 - learning_rate: 5.0000e-04\n",
      "Epoch 42/50\n",
      "\u001b[1m336/336\u001b[0m \u001b[32m━━━━━━━━━━━━━━━━━━━━\u001b[0m\u001b[37m\u001b[0m \u001b[1m6s\u001b[0m 16ms/step - loss: 0.5933 - sparse_categorical_accuracy: 0.7093 - val_loss: 0.5932 - val_sparse_categorical_accuracy: 0.7012 - learning_rate: 5.0000e-04\n",
      "Epoch 43/50\n",
      "\u001b[1m336/336\u001b[0m \u001b[32m━━━━━━━━━━━━━━━━━━━━\u001b[0m\u001b[37m\u001b[0m \u001b[1m5s\u001b[0m 14ms/step - loss: 0.5970 - sparse_categorical_accuracy: 0.7030 - val_loss: 0.5962 - val_sparse_categorical_accuracy: 0.6997 - learning_rate: 5.0000e-04\n",
      "Epoch 44/50\n",
      "\u001b[1m336/336\u001b[0m \u001b[32m━━━━━━━━━━━━━━━━━━━━\u001b[0m\u001b[37m\u001b[0m \u001b[1m4s\u001b[0m 13ms/step - loss: 0.5982 - sparse_categorical_accuracy: 0.7013 - val_loss: 0.5917 - val_sparse_categorical_accuracy: 0.7046 - learning_rate: 5.0000e-04\n",
      "Epoch 45/50\n",
      "\u001b[1m336/336\u001b[0m \u001b[32m━━━━━━━━━━━━━━━━━━━━\u001b[0m\u001b[37m\u001b[0m \u001b[1m4s\u001b[0m 12ms/step - loss: 0.5963 - sparse_categorical_accuracy: 0.7026 - val_loss: 0.5956 - val_sparse_categorical_accuracy: 0.7031 - learning_rate: 5.0000e-04\n",
      "Epoch 46/50\n",
      "\u001b[1m336/336\u001b[0m \u001b[32m━━━━━━━━━━━━━━━━━━━━\u001b[0m\u001b[37m\u001b[0m \u001b[1m4s\u001b[0m 12ms/step - loss: 0.5951 - sparse_categorical_accuracy: 0.7071 - val_loss: 0.5940 - val_sparse_categorical_accuracy: 0.7065 - learning_rate: 5.0000e-04\n",
      "Epoch 47/50\n",
      "\u001b[1m336/336\u001b[0m \u001b[32m━━━━━━━━━━━━━━━━━━━━\u001b[0m\u001b[37m\u001b[0m \u001b[1m4s\u001b[0m 13ms/step - loss: 0.5958 - sparse_categorical_accuracy: 0.7044 - val_loss: 0.5984 - val_sparse_categorical_accuracy: 0.6997 - learning_rate: 5.0000e-04\n",
      "Epoch 48/50\n",
      "\u001b[1m336/336\u001b[0m \u001b[32m━━━━━━━━━━━━━━━━━━━━\u001b[0m\u001b[37m\u001b[0m \u001b[1m4s\u001b[0m 13ms/step - loss: 0.6014 - sparse_categorical_accuracy: 0.6985 - val_loss: 0.5903 - val_sparse_categorical_accuracy: 0.7079 - learning_rate: 5.0000e-04\n",
      "Epoch 49/50\n",
      "\u001b[1m336/336\u001b[0m \u001b[32m━━━━━━━━━━━━━━━━━━━━\u001b[0m\u001b[37m\u001b[0m \u001b[1m5s\u001b[0m 12ms/step - loss: 0.5953 - sparse_categorical_accuracy: 0.7050 - val_loss: 0.5876 - val_sparse_categorical_accuracy: 0.7076 - learning_rate: 5.0000e-04\n",
      "Epoch 50/50\n",
      "\u001b[1m336/336\u001b[0m \u001b[32m━━━━━━━━━━━━━━━━━━━━\u001b[0m\u001b[37m\u001b[0m \u001b[1m4s\u001b[0m 12ms/step - loss: 0.5947 - sparse_categorical_accuracy: 0.7080 - val_loss: 0.5881 - val_sparse_categorical_accuracy: 0.7042 - learning_rate: 5.0000e-04\n"
     ]
    }
   ],
   "source": [
    "model_rnn.compile(\n",
    "    optimizer=\"adam\",\n",
    "    loss=\"sparse_categorical_crossentropy\",\n",
    "    metrics=[\"sparse_categorical_accuracy\"],\n",
    ")\n",
    "history = model_rnn.fit(\n",
    "    train_x,\n",
    "    train_y,\n",
    "    batch_size=batch_size,\n",
    "    epochs=epochs,\n",
    "    callbacks=callbacks,\n",
    "    validation_split=0.2,\n",
    "    verbose=1,\n",
    ")"
   ]
  },
  {
   "cell_type": "code",
   "execution_count": 121,
   "id": "92e8a822-85c3-43b1-906f-0185e359814e",
   "metadata": {},
   "outputs": [
    {
     "name": "stdout",
     "output_type": "stream",
     "text": [
      "\u001b[1m60/60\u001b[0m \u001b[32m━━━━━━━━━━━━━━━━━━━━\u001b[0m\u001b[37m\u001b[0m \u001b[1m1s\u001b[0m 4ms/step - loss: 0.6063 - sparse_categorical_accuracy: 0.6952\n",
      "Test accuracy 0.6903394460678101\n",
      "Test loss 0.6085037589073181\n"
     ]
    }
   ],
   "source": [
    "model_rnn = tf.keras.models.load_model(\"best_model.keras\")\n",
    "\n",
    "test_loss, test_acc = model_rnn.evaluate(test_x, test_y)\n",
    "\n",
    "print(\"Test accuracy\", test_acc)\n",
    "print(\"Test loss\", test_loss)"
   ]
  },
  {
   "cell_type": "code",
   "execution_count": 122,
   "id": "03485e19-4b43-493e-ba52-3139b3f09fb2",
   "metadata": {},
   "outputs": [
    {
     "data": {
      "image/png": "[encoded data removed]",
      "text/plain": [
       "<Figure size 640x480 with 1 Axes>"
      ]
     },
     "metadata": {},
     "output_type": "display_data"
    }
   ],
   "source": [
    "metric = \"sparse_categorical_accuracy\"\n",
    "plt.figure()\n",
    "plt.plot(history.history[metric])\n",
    "plt.plot(history.history[\"val_\" + metric])\n",
    "plt.title(\"RNN \" + metric)\n",
    "plt.ylabel(metric, fontsize=\"large\")\n",
    "plt.xlabel(\"epoch\", fontsize=\"large\")\n",
    "plt.legend([\"train\", \"val\"], loc=\"best\")\n",
    "plt.show()\n",
    "plt.close()"
   ]
  },
  {
   "cell_type": "markdown",
   "id": "6cfabe83-03d7-44bf-91e5-405aed8d50d2",
   "metadata": {},
   "source": [
    "CNN"
   ]
  },
  {
   "cell_type": "code",
   "execution_count": 124,
   "id": "89978828-42a9-47fe-834a-04df86c7326a",
   "metadata": {},
   "outputs": [
    {
     "name": "stdout",
     "output_type": "stream",
     "text": [
      "Epoch 1/50\n",
      "\u001b[1m336/336\u001b[0m \u001b[32m━━━━━━━━━━━━━━━━━━━━\u001b[0m\u001b[37m\u001b[0m \u001b[1m3s\u001b[0m 4ms/step - loss: 0.6331 - sparse_categorical_accuracy: 0.6751 - val_loss: 0.6179 - val_sparse_categorical_accuracy: 0.6975 - learning_rate: 0.0010\n",
      "Epoch 2/50\n",
      "\u001b[1m336/336\u001b[0m \u001b[32m━━━━━━━━━━━━━━━━━━━━\u001b[0m\u001b[37m\u001b[0m \u001b[1m1s\u001b[0m 3ms/step - loss: 0.6201 - sparse_categorical_accuracy: 0.6950 - val_loss: 0.6160 - val_sparse_categorical_accuracy: 0.6975 - learning_rate: 0.0010\n",
      "Epoch 3/50\n",
      "\u001b[1m336/336\u001b[0m \u001b[32m━━━━━━━━━━━━━━━━━━━━\u001b[0m\u001b[37m\u001b[0m \u001b[1m1s\u001b[0m 2ms/step - loss: 0.6121 - sparse_categorical_accuracy: 0.7036 - val_loss: 0.6138 - val_sparse_categorical_accuracy: 0.6975 - learning_rate: 0.0010\n",
      "Epoch 4/50\n",
      "\u001b[1m336/336\u001b[0m \u001b[32m━━━━━━━━━━━━━━━━━━━━\u001b[0m\u001b[37m\u001b[0m \u001b[1m1s\u001b[0m 3ms/step - loss: 0.6130 - sparse_categorical_accuracy: 0.7021 - val_loss: 0.6193 - val_sparse_categorical_accuracy: 0.6975 - learning_rate: 0.0010\n",
      "Epoch 5/50\n",
      "\u001b[1m336/336\u001b[0m \u001b[32m━━━━━━━━━━━━━━━━━━━━\u001b[0m\u001b[37m\u001b[0m \u001b[1m1s\u001b[0m 3ms/step - loss: 0.6080 - sparse_categorical_accuracy: 0.7051 - val_loss: 0.6159 - val_sparse_categorical_accuracy: 0.6975 - learning_rate: 0.0010\n",
      "Epoch 6/50\n",
      "\u001b[1m336/336\u001b[0m \u001b[32m━━━━━━━━━━━━━━━━━━━━\u001b[0m\u001b[37m\u001b[0m \u001b[1m1s\u001b[0m 3ms/step - loss: 0.6129 - sparse_categorical_accuracy: 0.6993 - val_loss: 0.6172 - val_sparse_categorical_accuracy: 0.6975 - learning_rate: 0.0010\n",
      "Epoch 7/50\n",
      "\u001b[1m336/336\u001b[0m \u001b[32m━━━━━━━━━━━━━━━━━━━━\u001b[0m\u001b[37m\u001b[0m \u001b[1m1s\u001b[0m 3ms/step - loss: 0.6209 - sparse_categorical_accuracy: 0.6915 - val_loss: 0.6197 - val_sparse_categorical_accuracy: 0.6975 - learning_rate: 0.0010\n",
      "Epoch 8/50\n",
      "\u001b[1m336/336\u001b[0m \u001b[32m━━━━━━━━━━━━━━━━━━━━\u001b[0m\u001b[37m\u001b[0m \u001b[1m1s\u001b[0m 3ms/step - loss: 0.6164 - sparse_categorical_accuracy: 0.6951 - val_loss: 0.6197 - val_sparse_categorical_accuracy: 0.6975 - learning_rate: 0.0010\n",
      "Epoch 9/50\n",
      "\u001b[1m336/336\u001b[0m \u001b[32m━━━━━━━━━━━━━━━━━━━━\u001b[0m\u001b[37m\u001b[0m \u001b[1m1s\u001b[0m 3ms/step - loss: 0.6153 - sparse_categorical_accuracy: 0.6997 - val_loss: 0.6151 - val_sparse_categorical_accuracy: 0.6975 - learning_rate: 0.0010\n",
      "Epoch 10/50\n",
      "\u001b[1m336/336\u001b[0m \u001b[32m━━━━━━━━━━━━━━━━━━━━\u001b[0m\u001b[37m\u001b[0m \u001b[1m1s\u001b[0m 2ms/step - loss: 0.6030 - sparse_categorical_accuracy: 0.7090 - val_loss: 0.6138 - val_sparse_categorical_accuracy: 0.6975 - learning_rate: 0.0010\n",
      "Epoch 11/50\n",
      "\u001b[1m336/336\u001b[0m \u001b[32m━━━━━━━━━━━━━━━━━━━━\u001b[0m\u001b[37m\u001b[0m \u001b[1m1s\u001b[0m 3ms/step - loss: 0.6122 - sparse_categorical_accuracy: 0.7010 - val_loss: 0.6171 - val_sparse_categorical_accuracy: 0.6975 - learning_rate: 0.0010\n",
      "Epoch 12/50\n",
      "\u001b[1m336/336\u001b[0m \u001b[32m━━━━━━━━━━━━━━━━━━━━\u001b[0m\u001b[37m\u001b[0m \u001b[1m1s\u001b[0m 2ms/step - loss: 0.6138 - sparse_categorical_accuracy: 0.6996 - val_loss: 0.6157 - val_sparse_categorical_accuracy: 0.6975 - learning_rate: 0.0010\n",
      "Epoch 13/50\n",
      "\u001b[1m336/336\u001b[0m \u001b[32m━━━━━━━━━━━━━━━━━━━━\u001b[0m\u001b[37m\u001b[0m \u001b[1m1s\u001b[0m 3ms/step - loss: 0.6171 - sparse_categorical_accuracy: 0.6953 - val_loss: 0.6152 - val_sparse_categorical_accuracy: 0.6975 - learning_rate: 0.0010\n",
      "Epoch 14/50\n",
      "\u001b[1m336/336\u001b[0m \u001b[32m━━━━━━━━━━━━━━━━━━━━\u001b[0m\u001b[37m\u001b[0m \u001b[1m1s\u001b[0m 3ms/step - loss: 0.6096 - sparse_categorical_accuracy: 0.7027 - val_loss: 0.6141 - val_sparse_categorical_accuracy: 0.6975 - learning_rate: 5.0000e-04\n",
      "Epoch 15/50\n",
      "\u001b[1m336/336\u001b[0m \u001b[32m━━━━━━━━━━━━━━━━━━━━\u001b[0m\u001b[37m\u001b[0m \u001b[1m1s\u001b[0m 2ms/step - loss: 0.6048 - sparse_categorical_accuracy: 0.7076 - val_loss: 0.6145 - val_sparse_categorical_accuracy: 0.6975 - learning_rate: 5.0000e-04\n",
      "Epoch 16/50\n",
      "\u001b[1m336/336\u001b[0m \u001b[32m━━━━━━━━━━━━━━━━━━━━\u001b[0m\u001b[37m\u001b[0m \u001b[1m1s\u001b[0m 2ms/step - loss: 0.6082 - sparse_categorical_accuracy: 0.7039 - val_loss: 0.6141 - val_sparse_categorical_accuracy: 0.6975 - learning_rate: 5.0000e-04\n",
      "Epoch 17/50\n",
      "\u001b[1m336/336\u001b[0m \u001b[32m━━━━━━━━━━━━━━━━━━━━\u001b[0m\u001b[37m\u001b[0m \u001b[1m1s\u001b[0m 3ms/step - loss: 0.6135 - sparse_categorical_accuracy: 0.6979 - val_loss: 0.6142 - val_sparse_categorical_accuracy: 0.6975 - learning_rate: 5.0000e-04\n",
      "Epoch 18/50\n",
      "\u001b[1m336/336\u001b[0m \u001b[32m━━━━━━━━━━━━━━━━━━━━\u001b[0m\u001b[37m\u001b[0m \u001b[1m1s\u001b[0m 3ms/step - loss: 0.6080 - sparse_categorical_accuracy: 0.7059 - val_loss: 0.6145 - val_sparse_categorical_accuracy: 0.6975 - learning_rate: 5.0000e-04\n",
      "Epoch 19/50\n",
      "\u001b[1m336/336\u001b[0m \u001b[32m━━━━━━━━━━━━━━━━━━━━\u001b[0m\u001b[37m\u001b[0m \u001b[1m1s\u001b[0m 3ms/step - loss: 0.6130 - sparse_categorical_accuracy: 0.6981 - val_loss: 0.6137 - val_sparse_categorical_accuracy: 0.6975 - learning_rate: 5.0000e-04\n",
      "Epoch 20/50\n",
      "\u001b[1m336/336\u001b[0m \u001b[32m━━━━━━━━━━━━━━━━━━━━\u001b[0m\u001b[37m\u001b[0m \u001b[1m1s\u001b[0m 3ms/step - loss: 0.6100 - sparse_categorical_accuracy: 0.7010 - val_loss: 0.6137 - val_sparse_categorical_accuracy: 0.6975 - learning_rate: 5.0000e-04\n",
      "Epoch 20: early stopping\n"
     ]
    }
   ],
   "source": [
    "model_cnn.compile(\n",
    "    optimizer=\"adam\",\n",
    "    loss=\"sparse_categorical_crossentropy\",\n",
    "    metrics=[\"sparse_categorical_accuracy\"],\n",
    ")\n",
    "history = model_cnn.fit(\n",
    "    train_x,\n",
    "    train_y,\n",
    "    batch_size=batch_size,\n",
    "    epochs=epochs,\n",
    "    callbacks=callbacks,\n",
    "    validation_split=0.2,\n",
    "    verbose=1,\n",
    ")"
   ]
  },
  {
   "cell_type": "code",
   "execution_count": 125,
   "id": "6c7d046f-80ed-472c-9009-996be9f4e9bd",
   "metadata": {},
   "outputs": [
    {
     "name": "stdout",
     "output_type": "stream",
     "text": [
      "\u001b[1m60/60\u001b[0m \u001b[32m━━━━━━━━━━━━━━━━━━━━\u001b[0m\u001b[37m\u001b[0m \u001b[1m1s\u001b[0m 4ms/step - loss: 0.6063 - sparse_categorical_accuracy: 0.6952\n",
      "Test accuracy 0.6903394460678101\n",
      "Test loss 0.6085037589073181\n"
     ]
    }
   ],
   "source": [
    "model_cnn = tf.keras.models.load_model(\"best_model.keras\")\n",
    "\n",
    "test_loss, test_acc = model_cnn.evaluate(test_x, test_y)\n",
    "\n",
    "print(\"Test accuracy\", test_acc)\n",
    "print(\"Test loss\", test_loss)"
   ]
  },
  {
   "cell_type": "code",
   "execution_count": 126,
   "id": "7ca6f0e5-09bc-4f84-a0c6-49c58bdf50e0",
   "metadata": {},
   "outputs": [
    {
     "data": {
      "image/png": "[encoded data removed]",
      "text/plain": [
       "<Figure size 640x480 with 1 Axes>"
      ]
     },
     "metadata": {},
     "output_type": "display_data"
    }
   ],
   "source": [
    "metric = \"sparse_categorical_accuracy\"\n",
    "plt.figure()\n",
    "plt.plot(history.history[metric])\n",
    "plt.plot(history.history[\"val_\" + metric])\n",
    "plt.title(\"CNN: \" + metric)\n",
    "plt.ylabel(metric, fontsize=\"large\")\n",
    "plt.xlabel(\"epoch\", fontsize=\"large\")\n",
    "plt.legend([\"train\", \"val\"], loc=\"best\")\n",
    "plt.show()\n",
    "plt.close()"
   ]
  }
 ],
 "metadata": {
  "kernelspec": {
   "display_name": "Python 3 (ipykernel)",
   "language": "python",
   "name": "python3"
  },
  "language_info": {
   "codemirror_mode": {
    "name": "ipython",
    "version": 3
   },
   "file_extension": ".py",
   "mimetype": "text/x-python",
   "name": "python",
   "nbconvert_exporter": "python",
   "pygments_lexer": "ipython3",
   "version": "3.11.7"
  }
 },
 "nbformat": 4,
 "nbformat_minor": 5
}

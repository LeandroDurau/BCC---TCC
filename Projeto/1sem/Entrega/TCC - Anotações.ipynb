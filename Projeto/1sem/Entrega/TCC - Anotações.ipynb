{
 "cells": [
  {
   "cell_type": "markdown",
   "id": "a582f1e3-ceff-44db-aad7-0df0ba2fd329",
   "metadata": {},
   "source": [
    "Imports"
   ]
  },
  {
   "cell_type": "code",
   "execution_count": 105,
   "id": "3fbd3941-ac0c-4c2f-bd6b-05b1a16eaaf1",
   "metadata": {},
   "outputs": [],
   "source": [
    "import os\n",
    "import datetime\n",
    "\n",
    "import matplotlib as mpl\n",
    "import matplotlib.pyplot as plt\n",
    "import numpy as np\n",
    "import pandas as pd\n",
    "import seaborn as sns\n",
    "import tensorflow as tf\n",
    "import random"
   ]
  },
  {
   "cell_type": "markdown",
   "id": "c72fc89a-aae7-4f22-aa7e-ff2e57be8141",
   "metadata": {},
   "source": [
    "Base"
   ]
  },
  {
   "cell_type": "code",
   "execution_count": 107,
   "id": "6d0be208-f983-40fc-a756-afa40c5b3153",
   "metadata": {},
   "outputs": [
    {
     "data": {
      "text/plain": [
       "611"
      ]
     },
     "execution_count": 107,
     "metadata": {},
     "output_type": "execute_result"
    }
   ],
   "source": [
    "df = pd.read_excel(\"normalizacao/normalizado-Amaro.xlsx\",header = None)\n",
    "len(df)"
   ]
  },
  {
   "cell_type": "code",
   "execution_count": 108,
   "id": "493c199b-ca55-4183-9667-eaa08db18db6",
   "metadata": {
    "scrolled": true
   },
   "outputs": [
    {
     "data": {
      "text/html": [
       "<div>\n",
       "<style scoped>\n",
       "    .dataframe tbody tr th:only-of-type {\n",
       "        vertical-align: middle;\n",
       "    }\n",
       "\n",
       "    .dataframe tbody tr th {\n",
       "        vertical-align: top;\n",
       "    }\n",
       "\n",
       "    .dataframe thead th {\n",
       "        text-align: right;\n",
       "    }\n",
       "</style>\n",
       "<table border=\"1\" class=\"dataframe\">\n",
       "  <thead>\n",
       "    <tr style=\"text-align: right;\">\n",
       "      <th></th>\n",
       "      <th>0</th>\n",
       "      <th>1</th>\n",
       "      <th>2</th>\n",
       "      <th>3</th>\n",
       "      <th>4</th>\n",
       "      <th>5</th>\n",
       "      <th>6</th>\n",
       "      <th>7</th>\n",
       "      <th>8</th>\n",
       "      <th>9</th>\n",
       "      <th>...</th>\n",
       "      <th>177</th>\n",
       "      <th>178</th>\n",
       "      <th>179</th>\n",
       "      <th>180</th>\n",
       "      <th>181</th>\n",
       "      <th>182</th>\n",
       "      <th>183</th>\n",
       "      <th>184</th>\n",
       "      <th>185</th>\n",
       "      <th>186</th>\n",
       "    </tr>\n",
       "  </thead>\n",
       "  <tbody>\n",
       "    <tr>\n",
       "      <th>0</th>\n",
       "      <td>Normal</td>\n",
       "      <td>797766418.0</td>\n",
       "      <td>7.976836e+08</td>\n",
       "      <td>7.976132e+08</td>\n",
       "      <td>7.976932e+08</td>\n",
       "      <td>7.978051e+08</td>\n",
       "      <td>7.977534e+08</td>\n",
       "      <td>7.975633e+08</td>\n",
       "      <td>7.980001e+08</td>\n",
       "      <td>7.985450e+08</td>\n",
       "      <td>...</td>\n",
       "      <td>5.927387e+08</td>\n",
       "      <td>5.925812e+08</td>\n",
       "      <td>5.925742e+08</td>\n",
       "      <td>5.926284e+08</td>\n",
       "      <td>5.926800e+08</td>\n",
       "      <td>5.924132e+08</td>\n",
       "      <td>5.924986e+08</td>\n",
       "      <td>5.927184e+08</td>\n",
       "      <td>5.927748e+08</td>\n",
       "      <td>592758179.0</td>\n",
       "    </tr>\n",
       "    <tr>\n",
       "      <th>1</th>\n",
       "      <td>Normal</td>\n",
       "      <td>592893188.0</td>\n",
       "      <td>5.929576e+08</td>\n",
       "      <td>5.930038e+08</td>\n",
       "      <td>5.930056e+08</td>\n",
       "      <td>5.929661e+08</td>\n",
       "      <td>5.928822e+08</td>\n",
       "      <td>5.928130e+08</td>\n",
       "      <td>5.928260e+08</td>\n",
       "      <td>5.928952e+08</td>\n",
       "      <td>...</td>\n",
       "      <td>7.945067e+08</td>\n",
       "      <td>7.944689e+08</td>\n",
       "      <td>7.945062e+08</td>\n",
       "      <td>7.945400e+08</td>\n",
       "      <td>7.945050e+08</td>\n",
       "      <td>7.944806e+08</td>\n",
       "      <td>7.945024e+08</td>\n",
       "      <td>7.944988e+08</td>\n",
       "      <td>7.944228e+08</td>\n",
       "      <td>794261597.0</td>\n",
       "    </tr>\n",
       "    <tr>\n",
       "      <th>2</th>\n",
       "      <td>Normal</td>\n",
       "      <td>794196960.0</td>\n",
       "      <td>7.942114e+08</td>\n",
       "      <td>7.942750e+08</td>\n",
       "      <td>7.942332e+08</td>\n",
       "      <td>7.941412e+08</td>\n",
       "      <td>7.941456e+08</td>\n",
       "      <td>7.941471e+08</td>\n",
       "      <td>7.945786e+08</td>\n",
       "      <td>7.952045e+08</td>\n",
       "      <td>...</td>\n",
       "      <td>5.899185e+08</td>\n",
       "      <td>5.897557e+08</td>\n",
       "      <td>5.897092e+08</td>\n",
       "      <td>5.897825e+08</td>\n",
       "      <td>5.898335e+08</td>\n",
       "      <td>5.897254e+08</td>\n",
       "      <td>5.896366e+08</td>\n",
       "      <td>5.896476e+08</td>\n",
       "      <td>5.898321e+08</td>\n",
       "      <td>590020081.0</td>\n",
       "    </tr>\n",
       "    <tr>\n",
       "      <th>3</th>\n",
       "      <td>Normal</td>\n",
       "      <td>590020813.0</td>\n",
       "      <td>5.899802e+08</td>\n",
       "      <td>5.899391e+08</td>\n",
       "      <td>5.899551e+08</td>\n",
       "      <td>5.899282e+08</td>\n",
       "      <td>5.899542e+08</td>\n",
       "      <td>5.899806e+08</td>\n",
       "      <td>5.900231e+08</td>\n",
       "      <td>5.900554e+08</td>\n",
       "      <td>...</td>\n",
       "      <td>7.983703e+08</td>\n",
       "      <td>7.984350e+08</td>\n",
       "      <td>7.984996e+08</td>\n",
       "      <td>7.985776e+08</td>\n",
       "      <td>7.986325e+08</td>\n",
       "      <td>7.985593e+08</td>\n",
       "      <td>7.984473e+08</td>\n",
       "      <td>7.983986e+08</td>\n",
       "      <td>7.983111e+08</td>\n",
       "      <td>798115662.0</td>\n",
       "    </tr>\n",
       "    <tr>\n",
       "      <th>4</th>\n",
       "      <td>Normal</td>\n",
       "      <td>798007568.0</td>\n",
       "      <td>7.979743e+08</td>\n",
       "      <td>7.978910e+08</td>\n",
       "      <td>7.978479e+08</td>\n",
       "      <td>7.977852e+08</td>\n",
       "      <td>7.976765e+08</td>\n",
       "      <td>7.977107e+08</td>\n",
       "      <td>7.977559e+08</td>\n",
       "      <td>7.977479e+08</td>\n",
       "      <td>...</td>\n",
       "      <td>5.907331e+08</td>\n",
       "      <td>5.906532e+08</td>\n",
       "      <td>5.905842e+08</td>\n",
       "      <td>5.906232e+08</td>\n",
       "      <td>5.906981e+08</td>\n",
       "      <td>5.906141e+08</td>\n",
       "      <td>5.905779e+08</td>\n",
       "      <td>5.905933e+08</td>\n",
       "      <td>5.906006e+08</td>\n",
       "      <td>590630615.0</td>\n",
       "    </tr>\n",
       "  </tbody>\n",
       "</table>\n",
       "<p>5 rows × 187 columns</p>\n",
       "</div>"
      ],
      "text/plain": [
       "      0            1             2             3             4    \\\n",
       "0  Normal  797766418.0  7.976836e+08  7.976132e+08  7.976932e+08   \n",
       "1  Normal  592893188.0  5.929576e+08  5.930038e+08  5.930056e+08   \n",
       "2  Normal  794196960.0  7.942114e+08  7.942750e+08  7.942332e+08   \n",
       "3  Normal  590020813.0  5.899802e+08  5.899391e+08  5.899551e+08   \n",
       "4  Normal  798007568.0  7.979743e+08  7.978910e+08  7.978479e+08   \n",
       "\n",
       "            5             6             7             8             9    ...  \\\n",
       "0  7.978051e+08  7.977534e+08  7.975633e+08  7.980001e+08  7.985450e+08  ...   \n",
       "1  5.929661e+08  5.928822e+08  5.928130e+08  5.928260e+08  5.928952e+08  ...   \n",
       "2  7.941412e+08  7.941456e+08  7.941471e+08  7.945786e+08  7.952045e+08  ...   \n",
       "3  5.899282e+08  5.899542e+08  5.899806e+08  5.900231e+08  5.900554e+08  ...   \n",
       "4  7.977852e+08  7.976765e+08  7.977107e+08  7.977559e+08  7.977479e+08  ...   \n",
       "\n",
       "            177           178           179           180           181  \\\n",
       "0  5.927387e+08  5.925812e+08  5.925742e+08  5.926284e+08  5.926800e+08   \n",
       "1  7.945067e+08  7.944689e+08  7.945062e+08  7.945400e+08  7.945050e+08   \n",
       "2  5.899185e+08  5.897557e+08  5.897092e+08  5.897825e+08  5.898335e+08   \n",
       "3  7.983703e+08  7.984350e+08  7.984996e+08  7.985776e+08  7.986325e+08   \n",
       "4  5.907331e+08  5.906532e+08  5.905842e+08  5.906232e+08  5.906981e+08   \n",
       "\n",
       "            182           183           184           185          186  \n",
       "0  5.924132e+08  5.924986e+08  5.927184e+08  5.927748e+08  592758179.0  \n",
       "1  7.944806e+08  7.945024e+08  7.944988e+08  7.944228e+08  794261597.0  \n",
       "2  5.897254e+08  5.896366e+08  5.896476e+08  5.898321e+08  590020081.0  \n",
       "3  7.985593e+08  7.984473e+08  7.983986e+08  7.983111e+08  798115662.0  \n",
       "4  5.906141e+08  5.905779e+08  5.905933e+08  5.906006e+08  590630615.0  \n",
       "\n",
       "[5 rows x 187 columns]"
      ]
     },
     "execution_count": 108,
     "metadata": {},
     "output_type": "execute_result"
    }
   ],
   "source": [
    "df.head(5)"
   ]
  },
  {
   "cell_type": "code",
   "execution_count": 109,
   "id": "04a16d0e-b806-4ffe-baa5-67d7bafe6c6d",
   "metadata": {},
   "outputs": [],
   "source": [
    "df_x = df.drop([0],axis=1)"
   ]
  },
  {
   "cell_type": "code",
   "execution_count": 110,
   "id": "90d527b6-b32f-4367-89e7-398ee42b3511",
   "metadata": {},
   "outputs": [
    {
     "name": "stdout",
     "output_type": "stream",
     "text": [
      "['Normal' 'Duplo' 'Ritmo']\n"
     ]
    }
   ],
   "source": [
    "print(df[0].unique())"
   ]
  },
  {
   "cell_type": "code",
   "execution_count": 111,
   "id": "e623d495-99d1-4d11-8c71-ceed98131508",
   "metadata": {},
   "outputs": [],
   "source": [
    "# Classificando Normal = 0 e outros comportamentos como = 1\n",
    "df['fadiga'] = [0 if x == 'Normal' else 1 for x in df[0]]\n",
    "df['classes_completa'] = [0 if x == 'Normal' else 1 if x == 'Duplo' else 2 for x in df[0]]\n",
    "df_y =  df['fadiga']\n",
    "df_y_real = df['classes_completa']"
   ]
  },
  {
   "cell_type": "code",
   "execution_count": 112,
   "id": "999339a5-7cd7-46db-b3ca-e9b67710d51a",
   "metadata": {},
   "outputs": [
    {
     "name": "stdout",
     "output_type": "stream",
     "text": [
      "% de Normal: 88.54337152209493\n"
     ]
    }
   ],
   "source": [
    "count = 0\n",
    "for i in df_y:\n",
    "    if i == 0:\n",
    "        count += 1\n",
    "print(f'% de Normal: {count/len(df_y) * 100}')"
   ]
  },
  {
   "cell_type": "code",
   "execution_count": 113,
   "id": "a04c9f31-5705-4470-badb-a68b4439b18c",
   "metadata": {},
   "outputs": [
    {
     "data": {
      "image/png": "[encoded data removed]",
      "text/plain": [
       "<Figure size 640x480 with 1 Axes>"
      ]
     },
     "metadata": {},
     "output_type": "display_data"
    }
   ],
   "source": [
    "#Mostrando exemplos de cada classe\n",
    "classes = np.unique(df_y_real, axis=0)\n",
    "idx = np.random.default_rng(seed=42).permutation(len(df_x))\n",
    "nova_df_x = df_x.values[idx]\n",
    "nova_df_y = df_y_real.values[idx]\n",
    "plt.figure()\n",
    "for c in classes:\n",
    "    c_x_train = nova_df_x[nova_df_y == c]\n",
    "    if c == 0:\n",
    "        text = 'Normal'\n",
    "    if c == 1:\n",
    "        text = 'Duplo'\n",
    "    if c == 2:\n",
    "        text = 'Ritmo'\n",
    "    plt.plot(c_x_train[0], label=\"class \" + str(text))\n",
    "plt.legend(loc=\"best\")\n",
    "plt.show()\n",
    "plt.close()"
   ]
  },
  {
   "cell_type": "markdown",
   "id": "b3f620ae-cda1-4de6-b6a2-035a37c66227",
   "metadata": {},
   "source": [
    "Treino e Teste"
   ]
  },
  {
   "cell_type": "code",
   "execution_count": 115,
   "id": "dd331278-1ca6-4269-b01e-488615e4b0ab",
   "metadata": {},
   "outputs": [],
   "source": [
    "#Randomizar a ordem\n",
    "idx = np.random.permutation(len(nova_df_x))\n",
    "nova_df_x = df_x.values[idx]\n",
    "nova_df_y = df_y.values[idx]\n",
    "\n",
    "#Separar em Treino (70%), Validação (20%) e Teste (10%)\n",
    "n = len(nova_df_x)\n",
    "train_df_x = nova_df_x[0:int(n*0.7)]\n",
    "val_df_x = nova_df_x[int(n*0.7):int(n*0.9)]\n",
    "test_df_x = nova_df_x[int(n*0.9):]\n",
    "\n",
    "train_df_y = nova_df_y[0:int(n*0.7)]\n",
    "val_df_y = nova_df_y[int(n*0.7):int(n*0.9)]\n",
    "test_df_y = nova_df_y[int(n*0.9):]\n",
    "\n",
    "train_x,train_y = train_df_x,train_df_y\n",
    "val_x,val_y = val_df_x,val_df_y\n",
    "test_x,test_y = test_df_x,test_df_y\n",
    "num_features = test_df_x.shape[1]"
   ]
  },
  {
   "cell_type": "markdown",
   "id": "48874328-73b6-4d84-8970-3a2a916a6fee",
   "metadata": {},
   "source": [
    "Normalização"
   ]
  },
  {
   "cell_type": "code",
   "execution_count": 117,
   "id": "2d1a6b21-7c80-4aa5-884c-23310df16f6f",
   "metadata": {},
   "outputs": [],
   "source": [
    "train_mean = train_x.mean()\n",
    "train_std = train_x.std()\n",
    "\n",
    "train_x = (train_x - train_mean) / train_std\n",
    "val_x = (val_x - train_mean) / train_std\n",
    "test_x = (test_x - train_mean) / train_std"
   ]
  },
  {
   "cell_type": "code",
   "execution_count": 118,
   "id": "6c9fe054-1122-488a-8c27-2815a9206198",
   "metadata": {},
   "outputs": [],
   "source": [
    "num_classes = len(np.unique(train_y))"
   ]
  },
  {
   "cell_type": "code",
   "execution_count": 119,
   "id": "798dc0c8-ce37-4b05-ada0-30cc72f5a44c",
   "metadata": {},
   "outputs": [],
   "source": [
    "train_x = train_x.reshape((train_x.shape[0], train_x.shape[1], 1))\n",
    "val_x = val_x.reshape((val_x.shape[0], val_x.shape[1], 1))\n",
    "test_x = test_x.reshape((test_x.shape[0], test_x.shape[1], 1))"
   ]
  },
  {
   "cell_type": "code",
   "execution_count": 120,
   "id": "16b91b6d-58e5-492b-ac54-000ca0e6ad62",
   "metadata": {},
   "outputs": [
    {
     "data": {
      "text/plain": [
       "(427, 186, 1)"
      ]
     },
     "execution_count": 120,
     "metadata": {},
     "output_type": "execute_result"
    }
   ],
   "source": [
    "train_x.shape"
   ]
  },
  {
   "cell_type": "markdown",
   "id": "17ec4761-518a-4de7-b7ff-66ed657b15b3",
   "metadata": {},
   "source": [
    "Modelo"
   ]
  },
  {
   "cell_type": "code",
   "execution_count": 122,
   "id": "edfaa189-7a9c-4c6d-81d3-afafa6acf32c",
   "metadata": {},
   "outputs": [],
   "source": [
    "def make_model_lstm(input_shape):\n",
    "    input_layer = tf.keras.layers.Input(input_shape)\n",
    "    lstm1 = tf.keras.layers.LSTM(16,return_sequences=True)(input_layer)\n",
    "    lstm2 = tf.keras.layers.LSTM(8)(lstm1)\n",
    "    output_layer = tf.keras.layers.Dense(num_classes)(lstm2)\n",
    "    return tf.keras.models.Model(inputs=input_layer, outputs=output_layer)"
   ]
  },
  {
   "cell_type": "code",
   "execution_count": 123,
   "id": "3b19f45a-eb58-467b-a98d-70358e28a0de",
   "metadata": {},
   "outputs": [],
   "source": [
    "def make_model_rnn(input_shape):\n",
    "    input_layer = tf.keras.layers.Input(input_shape)\n",
    "    rnn1 = tf.keras.layers.SimpleRNN(16,return_sequences=True)(input_layer)\n",
    "    rnn2 = tf.keras.layers.SimpleRNN(8)(rnn1)\n",
    "    output_layer = tf.keras.layers.Dense(num_classes, activation='softmax')(rnn2)\n",
    "    return tf.keras.models.Model(inputs=input_layer, outputs=output_layer)"
   ]
  },
  {
   "cell_type": "code",
   "execution_count": 124,
   "id": "741844ed-fb24-41c1-ba2c-e23990050fa5",
   "metadata": {},
   "outputs": [],
   "source": [
    "def make_model_cnn(input_shape):\n",
    "    input_layer = tf.keras.layers.Input(input_shape)\n",
    "    cn2 = tf.keras.layers.Conv1D(32,kernel_size=3,padding=\"same\")(input_layer)\n",
    "    max = tf.keras.layers.MaxPooling1D()(cn2)\n",
    "    flat = tf.keras.layers.Flatten()(max)\n",
    "    output_layer = tf.keras.layers.Dense(num_classes, activation='softmax')(flat)\n",
    "    return tf.keras.models.Model(inputs=input_layer, outputs=output_layer)"
   ]
  },
  {
   "cell_type": "code",
   "execution_count": 125,
   "id": "d0169b7d-03c6-444e-8c3a-4b54dc6a2275",
   "metadata": {},
   "outputs": [],
   "source": [
    "def make_model_fcnn(input_shape):\n",
    "    input_layer = tf.keras.layers.Input(input_shape)\n",
    "\n",
    "    conv1 = tf.keras.layers.Conv1D(filters=64, kernel_size=3, padding=\"same\")(input_layer)\n",
    "    conv1 = tf.keras.layers.BatchNormalization()(conv1)\n",
    "    conv1 = tf.keras.layers.ReLU()(conv1)\n",
    "\n",
    "    conv2 = tf.keras.layers.Conv1D(filters=64, kernel_size=3, padding=\"same\")(conv1)\n",
    "    conv2 = tf.keras.layers.BatchNormalization()(conv2)\n",
    "    conv2 = tf.keras.layers.ReLU()(conv2)\n",
    "\n",
    "    conv3 = tf.keras.layers.Conv1D(filters=64, kernel_size=3, padding=\"same\")(conv2)\n",
    "    conv3 = tf.keras.layers.BatchNormalization()(conv3)\n",
    "    conv3 = tf.keras.layers.ReLU()(conv3)\n",
    "\n",
    "    gap = tf.keras.layers.GlobalAveragePooling1D()(conv3)\n",
    "\n",
    "    output_layer = tf.keras.layers.Dense(num_classes, activation=\"softmax\")(gap)\n",
    "\n",
    "    return tf.keras.models.Model(inputs=input_layer, outputs=output_layer)"
   ]
  },
  {
   "cell_type": "code",
   "execution_count": 126,
   "id": "bea2a981-b95b-4dc2-8411-464726503c64",
   "metadata": {},
   "outputs": [
    {
     "data": {
      "text/html": [
       "<pre style=\"white-space:pre;overflow-x:auto;line-height:normal;font-family:Menlo,'DejaVu Sans Mono',consolas,'Courier New',monospace\"><span style=\"font-weight: bold\">Model: \"functional_7\"</span>\n",
       "</pre>\n"
      ],
      "text/plain": [
       "\u001b[1mModel: \"functional_7\"\u001b[0m\n"
      ]
     },
     "metadata": {},
     "output_type": "display_data"
    },
    {
     "data": {
      "text/html": [
       "<pre style=\"white-space:pre;overflow-x:auto;line-height:normal;font-family:Menlo,'DejaVu Sans Mono',consolas,'Courier New',monospace\">┏━━━━━━━━━━━━━━━━━━━━━━━━━━━━━━━━━━━━━━┳━━━━━━━━━━━━━━━━━━━━━━━━━━━━━┳━━━━━━━━━━━━━━━━━┓\n",
       "┃<span style=\"font-weight: bold\"> Layer (type)                         </span>┃<span style=\"font-weight: bold\"> Output Shape                </span>┃<span style=\"font-weight: bold\">         Param # </span>┃\n",
       "┡━━━━━━━━━━━━━━━━━━━━━━━━━━━━━━━━━━━━━━╇━━━━━━━━━━━━━━━━━━━━━━━━━━━━━╇━━━━━━━━━━━━━━━━━┩\n",
       "│ input_layer_3 (<span style=\"color: #0087ff; text-decoration-color: #0087ff\">InputLayer</span>)           │ (<span style=\"color: #00d7ff; text-decoration-color: #00d7ff\">None</span>, <span style=\"color: #00af00; text-decoration-color: #00af00\">186</span>, <span style=\"color: #00af00; text-decoration-color: #00af00\">1</span>)              │               <span style=\"color: #00af00; text-decoration-color: #00af00\">0</span> │\n",
       "├──────────────────────────────────────┼─────────────────────────────┼─────────────────┤\n",
       "│ lstm_2 (<span style=\"color: #0087ff; text-decoration-color: #0087ff\">LSTM</span>)                        │ (<span style=\"color: #00d7ff; text-decoration-color: #00d7ff\">None</span>, <span style=\"color: #00af00; text-decoration-color: #00af00\">186</span>, <span style=\"color: #00af00; text-decoration-color: #00af00\">16</span>)             │           <span style=\"color: #00af00; text-decoration-color: #00af00\">1,152</span> │\n",
       "├──────────────────────────────────────┼─────────────────────────────┼─────────────────┤\n",
       "│ lstm_3 (<span style=\"color: #0087ff; text-decoration-color: #0087ff\">LSTM</span>)                        │ (<span style=\"color: #00d7ff; text-decoration-color: #00d7ff\">None</span>, <span style=\"color: #00af00; text-decoration-color: #00af00\">8</span>)                   │             <span style=\"color: #00af00; text-decoration-color: #00af00\">800</span> │\n",
       "├──────────────────────────────────────┼─────────────────────────────┼─────────────────┤\n",
       "│ dense_3 (<span style=\"color: #0087ff; text-decoration-color: #0087ff\">Dense</span>)                      │ (<span style=\"color: #00d7ff; text-decoration-color: #00d7ff\">None</span>, <span style=\"color: #00af00; text-decoration-color: #00af00\">2</span>)                   │              <span style=\"color: #00af00; text-decoration-color: #00af00\">18</span> │\n",
       "└──────────────────────────────────────┴─────────────────────────────┴─────────────────┘\n",
       "</pre>\n"
      ],
      "text/plain": [
       "┏━━━━━━━━━━━━━━━━━━━━━━━━━━━━━━━━━━━━━━┳━━━━━━━━━━━━━━━━━━━━━━━━━━━━━┳━━━━━━━━━━━━━━━━━┓\n",
       "┃\u001b[1m \u001b[0m\u001b[1mLayer (type)                        \u001b[0m\u001b[1m \u001b[0m┃\u001b[1m \u001b[0m\u001b[1mOutput Shape               \u001b[0m\u001b[1m \u001b[0m┃\u001b[1m \u001b[0m\u001b[1m        Param #\u001b[0m\u001b[1m \u001b[0m┃\n",
       "┡━━━━━━━━━━━━━━━━━━━━━━━━━━━━━━━━━━━━━━╇━━━━━━━━━━━━━━━━━━━━━━━━━━━━━╇━━━━━━━━━━━━━━━━━┩\n",
       "│ input_layer_3 (\u001b[38;5;33mInputLayer\u001b[0m)           │ (\u001b[38;5;45mNone\u001b[0m, \u001b[38;5;34m186\u001b[0m, \u001b[38;5;34m1\u001b[0m)              │               \u001b[38;5;34m0\u001b[0m │\n",
       "├──────────────────────────────────────┼─────────────────────────────┼─────────────────┤\n",
       "│ lstm_2 (\u001b[38;5;33mLSTM\u001b[0m)                        │ (\u001b[38;5;45mNone\u001b[0m, \u001b[38;5;34m186\u001b[0m, \u001b[38;5;34m16\u001b[0m)             │           \u001b[38;5;34m1,152\u001b[0m │\n",
       "├──────────────────────────────────────┼─────────────────────────────┼─────────────────┤\n",
       "│ lstm_3 (\u001b[38;5;33mLSTM\u001b[0m)                        │ (\u001b[38;5;45mNone\u001b[0m, \u001b[38;5;34m8\u001b[0m)                   │             \u001b[38;5;34m800\u001b[0m │\n",
       "├──────────────────────────────────────┼─────────────────────────────┼─────────────────┤\n",
       "│ dense_3 (\u001b[38;5;33mDense\u001b[0m)                      │ (\u001b[38;5;45mNone\u001b[0m, \u001b[38;5;34m2\u001b[0m)                   │              \u001b[38;5;34m18\u001b[0m │\n",
       "└──────────────────────────────────────┴─────────────────────────────┴─────────────────┘\n"
      ]
     },
     "metadata": {},
     "output_type": "display_data"
    },
    {
     "data": {
      "text/html": [
       "<pre style=\"white-space:pre;overflow-x:auto;line-height:normal;font-family:Menlo,'DejaVu Sans Mono',consolas,'Courier New',monospace\"><span style=\"font-weight: bold\"> Total params: </span><span style=\"color: #00af00; text-decoration-color: #00af00\">1,970</span> (7.70 KB)\n",
       "</pre>\n"
      ],
      "text/plain": [
       "\u001b[1m Total params: \u001b[0m\u001b[38;5;34m1,970\u001b[0m (7.70 KB)\n"
      ]
     },
     "metadata": {},
     "output_type": "display_data"
    },
    {
     "data": {
      "text/html": [
       "<pre style=\"white-space:pre;overflow-x:auto;line-height:normal;font-family:Menlo,'DejaVu Sans Mono',consolas,'Courier New',monospace\"><span style=\"font-weight: bold\"> Trainable params: </span><span style=\"color: #00af00; text-decoration-color: #00af00\">1,970</span> (7.70 KB)\n",
       "</pre>\n"
      ],
      "text/plain": [
       "\u001b[1m Trainable params: \u001b[0m\u001b[38;5;34m1,970\u001b[0m (7.70 KB)\n"
      ]
     },
     "metadata": {},
     "output_type": "display_data"
    },
    {
     "data": {
      "text/html": [
       "<pre style=\"white-space:pre;overflow-x:auto;line-height:normal;font-family:Menlo,'DejaVu Sans Mono',consolas,'Courier New',monospace\"><span style=\"font-weight: bold\"> Non-trainable params: </span><span style=\"color: #00af00; text-decoration-color: #00af00\">0</span> (0.00 B)\n",
       "</pre>\n"
      ],
      "text/plain": [
       "\u001b[1m Non-trainable params: \u001b[0m\u001b[38;5;34m0\u001b[0m (0.00 B)\n"
      ]
     },
     "metadata": {},
     "output_type": "display_data"
    }
   ],
   "source": [
    "model_lstm = make_model_lstm(input_shape= train_x.shape[1:])\n",
    "\n",
    "model_lstm.summary()"
   ]
  },
  {
   "cell_type": "code",
   "execution_count": 127,
   "id": "83a3bbbb-0a68-490b-8f1a-8182d4dc5a96",
   "metadata": {},
   "outputs": [
    {
     "data": {
      "text/html": [
       "<pre style=\"white-space:pre;overflow-x:auto;line-height:normal;font-family:Menlo,'DejaVu Sans Mono',consolas,'Courier New',monospace\"><span style=\"font-weight: bold\">Model: \"functional_9\"</span>\n",
       "</pre>\n"
      ],
      "text/plain": [
       "\u001b[1mModel: \"functional_9\"\u001b[0m\n"
      ]
     },
     "metadata": {},
     "output_type": "display_data"
    },
    {
     "data": {
      "text/html": [
       "<pre style=\"white-space:pre;overflow-x:auto;line-height:normal;font-family:Menlo,'DejaVu Sans Mono',consolas,'Courier New',monospace\">┏━━━━━━━━━━━━━━━━━━━━━━━━━━━━━━━━━━━━━━┳━━━━━━━━━━━━━━━━━━━━━━━━━━━━━┳━━━━━━━━━━━━━━━━━┓\n",
       "┃<span style=\"font-weight: bold\"> Layer (type)                         </span>┃<span style=\"font-weight: bold\"> Output Shape                </span>┃<span style=\"font-weight: bold\">         Param # </span>┃\n",
       "┡━━━━━━━━━━━━━━━━━━━━━━━━━━━━━━━━━━━━━━╇━━━━━━━━━━━━━━━━━━━━━━━━━━━━━╇━━━━━━━━━━━━━━━━━┩\n",
       "│ input_layer_4 (<span style=\"color: #0087ff; text-decoration-color: #0087ff\">InputLayer</span>)           │ (<span style=\"color: #00d7ff; text-decoration-color: #00d7ff\">None</span>, <span style=\"color: #00af00; text-decoration-color: #00af00\">186</span>, <span style=\"color: #00af00; text-decoration-color: #00af00\">1</span>)              │               <span style=\"color: #00af00; text-decoration-color: #00af00\">0</span> │\n",
       "├──────────────────────────────────────┼─────────────────────────────┼─────────────────┤\n",
       "│ simple_rnn_2 (<span style=\"color: #0087ff; text-decoration-color: #0087ff\">SimpleRNN</span>)             │ (<span style=\"color: #00d7ff; text-decoration-color: #00d7ff\">None</span>, <span style=\"color: #00af00; text-decoration-color: #00af00\">186</span>, <span style=\"color: #00af00; text-decoration-color: #00af00\">16</span>)             │             <span style=\"color: #00af00; text-decoration-color: #00af00\">288</span> │\n",
       "├──────────────────────────────────────┼─────────────────────────────┼─────────────────┤\n",
       "│ simple_rnn_3 (<span style=\"color: #0087ff; text-decoration-color: #0087ff\">SimpleRNN</span>)             │ (<span style=\"color: #00d7ff; text-decoration-color: #00d7ff\">None</span>, <span style=\"color: #00af00; text-decoration-color: #00af00\">8</span>)                   │             <span style=\"color: #00af00; text-decoration-color: #00af00\">200</span> │\n",
       "├──────────────────────────────────────┼─────────────────────────────┼─────────────────┤\n",
       "│ dense_4 (<span style=\"color: #0087ff; text-decoration-color: #0087ff\">Dense</span>)                      │ (<span style=\"color: #00d7ff; text-decoration-color: #00d7ff\">None</span>, <span style=\"color: #00af00; text-decoration-color: #00af00\">2</span>)                   │              <span style=\"color: #00af00; text-decoration-color: #00af00\">18</span> │\n",
       "└──────────────────────────────────────┴─────────────────────────────┴─────────────────┘\n",
       "</pre>\n"
      ],
      "text/plain": [
       "┏━━━━━━━━━━━━━━━━━━━━━━━━━━━━━━━━━━━━━━┳━━━━━━━━━━━━━━━━━━━━━━━━━━━━━┳━━━━━━━━━━━━━━━━━┓\n",
       "┃\u001b[1m \u001b[0m\u001b[1mLayer (type)                        \u001b[0m\u001b[1m \u001b[0m┃\u001b[1m \u001b[0m\u001b[1mOutput Shape               \u001b[0m\u001b[1m \u001b[0m┃\u001b[1m \u001b[0m\u001b[1m        Param #\u001b[0m\u001b[1m \u001b[0m┃\n",
       "┡━━━━━━━━━━━━━━━━━━━━━━━━━━━━━━━━━━━━━━╇━━━━━━━━━━━━━━━━━━━━━━━━━━━━━╇━━━━━━━━━━━━━━━━━┩\n",
       "│ input_layer_4 (\u001b[38;5;33mInputLayer\u001b[0m)           │ (\u001b[38;5;45mNone\u001b[0m, \u001b[38;5;34m186\u001b[0m, \u001b[38;5;34m1\u001b[0m)              │               \u001b[38;5;34m0\u001b[0m │\n",
       "├──────────────────────────────────────┼─────────────────────────────┼─────────────────┤\n",
       "│ simple_rnn_2 (\u001b[38;5;33mSimpleRNN\u001b[0m)             │ (\u001b[38;5;45mNone\u001b[0m, \u001b[38;5;34m186\u001b[0m, \u001b[38;5;34m16\u001b[0m)             │             \u001b[38;5;34m288\u001b[0m │\n",
       "├──────────────────────────────────────┼─────────────────────────────┼─────────────────┤\n",
       "│ simple_rnn_3 (\u001b[38;5;33mSimpleRNN\u001b[0m)             │ (\u001b[38;5;45mNone\u001b[0m, \u001b[38;5;34m8\u001b[0m)                   │             \u001b[38;5;34m200\u001b[0m │\n",
       "├──────────────────────────────────────┼─────────────────────────────┼─────────────────┤\n",
       "│ dense_4 (\u001b[38;5;33mDense\u001b[0m)                      │ (\u001b[38;5;45mNone\u001b[0m, \u001b[38;5;34m2\u001b[0m)                   │              \u001b[38;5;34m18\u001b[0m │\n",
       "└──────────────────────────────────────┴─────────────────────────────┴─────────────────┘\n"
      ]
     },
     "metadata": {},
     "output_type": "display_data"
    },
    {
     "data": {
      "text/html": [
       "<pre style=\"white-space:pre;overflow-x:auto;line-height:normal;font-family:Menlo,'DejaVu Sans Mono',consolas,'Courier New',monospace\"><span style=\"font-weight: bold\"> Total params: </span><span style=\"color: #00af00; text-decoration-color: #00af00\">506</span> (1.98 KB)\n",
       "</pre>\n"
      ],
      "text/plain": [
       "\u001b[1m Total params: \u001b[0m\u001b[38;5;34m506\u001b[0m (1.98 KB)\n"
      ]
     },
     "metadata": {},
     "output_type": "display_data"
    },
    {
     "data": {
      "text/html": [
       "<pre style=\"white-space:pre;overflow-x:auto;line-height:normal;font-family:Menlo,'DejaVu Sans Mono',consolas,'Courier New',monospace\"><span style=\"font-weight: bold\"> Trainable params: </span><span style=\"color: #00af00; text-decoration-color: #00af00\">506</span> (1.98 KB)\n",
       "</pre>\n"
      ],
      "text/plain": [
       "\u001b[1m Trainable params: \u001b[0m\u001b[38;5;34m506\u001b[0m (1.98 KB)\n"
      ]
     },
     "metadata": {},
     "output_type": "display_data"
    },
    {
     "data": {
      "text/html": [
       "<pre style=\"white-space:pre;overflow-x:auto;line-height:normal;font-family:Menlo,'DejaVu Sans Mono',consolas,'Courier New',monospace\"><span style=\"font-weight: bold\"> Non-trainable params: </span><span style=\"color: #00af00; text-decoration-color: #00af00\">0</span> (0.00 B)\n",
       "</pre>\n"
      ],
      "text/plain": [
       "\u001b[1m Non-trainable params: \u001b[0m\u001b[38;5;34m0\u001b[0m (0.00 B)\n"
      ]
     },
     "metadata": {},
     "output_type": "display_data"
    }
   ],
   "source": [
    "model_rnn = make_model_rnn(input_shape= train_x.shape[1:])\n",
    "\n",
    "model_rnn.summary()"
   ]
  },
  {
   "cell_type": "code",
   "execution_count": 128,
   "id": "51dff9aa-f08a-4fa2-be4e-3f3b33fe6022",
   "metadata": {},
   "outputs": [
    {
     "data": {
      "text/html": [
       "<pre style=\"white-space:pre;overflow-x:auto;line-height:normal;font-family:Menlo,'DejaVu Sans Mono',consolas,'Courier New',monospace\"><span style=\"font-weight: bold\">Model: \"functional_11\"</span>\n",
       "</pre>\n"
      ],
      "text/plain": [
       "\u001b[1mModel: \"functional_11\"\u001b[0m\n"
      ]
     },
     "metadata": {},
     "output_type": "display_data"
    },
    {
     "data": {
      "text/html": [
       "<pre style=\"white-space:pre;overflow-x:auto;line-height:normal;font-family:Menlo,'DejaVu Sans Mono',consolas,'Courier New',monospace\">┏━━━━━━━━━━━━━━━━━━━━━━━━━━━━━━━━━━━━━━┳━━━━━━━━━━━━━━━━━━━━━━━━━━━━━┳━━━━━━━━━━━━━━━━━┓\n",
       "┃<span style=\"font-weight: bold\"> Layer (type)                         </span>┃<span style=\"font-weight: bold\"> Output Shape                </span>┃<span style=\"font-weight: bold\">         Param # </span>┃\n",
       "┡━━━━━━━━━━━━━━━━━━━━━━━━━━━━━━━━━━━━━━╇━━━━━━━━━━━━━━━━━━━━━━━━━━━━━╇━━━━━━━━━━━━━━━━━┩\n",
       "│ input_layer_5 (<span style=\"color: #0087ff; text-decoration-color: #0087ff\">InputLayer</span>)           │ (<span style=\"color: #00d7ff; text-decoration-color: #00d7ff\">None</span>, <span style=\"color: #00af00; text-decoration-color: #00af00\">186</span>, <span style=\"color: #00af00; text-decoration-color: #00af00\">1</span>)              │               <span style=\"color: #00af00; text-decoration-color: #00af00\">0</span> │\n",
       "├──────────────────────────────────────┼─────────────────────────────┼─────────────────┤\n",
       "│ conv1d_1 (<span style=\"color: #0087ff; text-decoration-color: #0087ff\">Conv1D</span>)                    │ (<span style=\"color: #00d7ff; text-decoration-color: #00d7ff\">None</span>, <span style=\"color: #00af00; text-decoration-color: #00af00\">186</span>, <span style=\"color: #00af00; text-decoration-color: #00af00\">32</span>)             │             <span style=\"color: #00af00; text-decoration-color: #00af00\">128</span> │\n",
       "├──────────────────────────────────────┼─────────────────────────────┼─────────────────┤\n",
       "│ max_pooling1d_1 (<span style=\"color: #0087ff; text-decoration-color: #0087ff\">MaxPooling1D</span>)       │ (<span style=\"color: #00d7ff; text-decoration-color: #00d7ff\">None</span>, <span style=\"color: #00af00; text-decoration-color: #00af00\">93</span>, <span style=\"color: #00af00; text-decoration-color: #00af00\">32</span>)              │               <span style=\"color: #00af00; text-decoration-color: #00af00\">0</span> │\n",
       "├──────────────────────────────────────┼─────────────────────────────┼─────────────────┤\n",
       "│ flatten_1 (<span style=\"color: #0087ff; text-decoration-color: #0087ff\">Flatten</span>)                  │ (<span style=\"color: #00d7ff; text-decoration-color: #00d7ff\">None</span>, <span style=\"color: #00af00; text-decoration-color: #00af00\">2976</span>)                │               <span style=\"color: #00af00; text-decoration-color: #00af00\">0</span> │\n",
       "├──────────────────────────────────────┼─────────────────────────────┼─────────────────┤\n",
       "│ dense_5 (<span style=\"color: #0087ff; text-decoration-color: #0087ff\">Dense</span>)                      │ (<span style=\"color: #00d7ff; text-decoration-color: #00d7ff\">None</span>, <span style=\"color: #00af00; text-decoration-color: #00af00\">2</span>)                   │           <span style=\"color: #00af00; text-decoration-color: #00af00\">5,954</span> │\n",
       "└──────────────────────────────────────┴─────────────────────────────┴─────────────────┘\n",
       "</pre>\n"
      ],
      "text/plain": [
       "┏━━━━━━━━━━━━━━━━━━━━━━━━━━━━━━━━━━━━━━┳━━━━━━━━━━━━━━━━━━━━━━━━━━━━━┳━━━━━━━━━━━━━━━━━┓\n",
       "┃\u001b[1m \u001b[0m\u001b[1mLayer (type)                        \u001b[0m\u001b[1m \u001b[0m┃\u001b[1m \u001b[0m\u001b[1mOutput Shape               \u001b[0m\u001b[1m \u001b[0m┃\u001b[1m \u001b[0m\u001b[1m        Param #\u001b[0m\u001b[1m \u001b[0m┃\n",
       "┡━━━━━━━━━━━━━━━━━━━━━━━━━━━━━━━━━━━━━━╇━━━━━━━━━━━━━━━━━━━━━━━━━━━━━╇━━━━━━━━━━━━━━━━━┩\n",
       "│ input_layer_5 (\u001b[38;5;33mInputLayer\u001b[0m)           │ (\u001b[38;5;45mNone\u001b[0m, \u001b[38;5;34m186\u001b[0m, \u001b[38;5;34m1\u001b[0m)              │               \u001b[38;5;34m0\u001b[0m │\n",
       "├──────────────────────────────────────┼─────────────────────────────┼─────────────────┤\n",
       "│ conv1d_1 (\u001b[38;5;33mConv1D\u001b[0m)                    │ (\u001b[38;5;45mNone\u001b[0m, \u001b[38;5;34m186\u001b[0m, \u001b[38;5;34m32\u001b[0m)             │             \u001b[38;5;34m128\u001b[0m │\n",
       "├──────────────────────────────────────┼─────────────────────────────┼─────────────────┤\n",
       "│ max_pooling1d_1 (\u001b[38;5;33mMaxPooling1D\u001b[0m)       │ (\u001b[38;5;45mNone\u001b[0m, \u001b[38;5;34m93\u001b[0m, \u001b[38;5;34m32\u001b[0m)              │               \u001b[38;5;34m0\u001b[0m │\n",
       "├──────────────────────────────────────┼─────────────────────────────┼─────────────────┤\n",
       "│ flatten_1 (\u001b[38;5;33mFlatten\u001b[0m)                  │ (\u001b[38;5;45mNone\u001b[0m, \u001b[38;5;34m2976\u001b[0m)                │               \u001b[38;5;34m0\u001b[0m │\n",
       "├──────────────────────────────────────┼─────────────────────────────┼─────────────────┤\n",
       "│ dense_5 (\u001b[38;5;33mDense\u001b[0m)                      │ (\u001b[38;5;45mNone\u001b[0m, \u001b[38;5;34m2\u001b[0m)                   │           \u001b[38;5;34m5,954\u001b[0m │\n",
       "└──────────────────────────────────────┴─────────────────────────────┴─────────────────┘\n"
      ]
     },
     "metadata": {},
     "output_type": "display_data"
    },
    {
     "data": {
      "text/html": [
       "<pre style=\"white-space:pre;overflow-x:auto;line-height:normal;font-family:Menlo,'DejaVu Sans Mono',consolas,'Courier New',monospace\"><span style=\"font-weight: bold\"> Total params: </span><span style=\"color: #00af00; text-decoration-color: #00af00\">6,082</span> (23.76 KB)\n",
       "</pre>\n"
      ],
      "text/plain": [
       "\u001b[1m Total params: \u001b[0m\u001b[38;5;34m6,082\u001b[0m (23.76 KB)\n"
      ]
     },
     "metadata": {},
     "output_type": "display_data"
    },
    {
     "data": {
      "text/html": [
       "<pre style=\"white-space:pre;overflow-x:auto;line-height:normal;font-family:Menlo,'DejaVu Sans Mono',consolas,'Courier New',monospace\"><span style=\"font-weight: bold\"> Trainable params: </span><span style=\"color: #00af00; text-decoration-color: #00af00\">6,082</span> (23.76 KB)\n",
       "</pre>\n"
      ],
      "text/plain": [
       "\u001b[1m Trainable params: \u001b[0m\u001b[38;5;34m6,082\u001b[0m (23.76 KB)\n"
      ]
     },
     "metadata": {},
     "output_type": "display_data"
    },
    {
     "data": {
      "text/html": [
       "<pre style=\"white-space:pre;overflow-x:auto;line-height:normal;font-family:Menlo,'DejaVu Sans Mono',consolas,'Courier New',monospace\"><span style=\"font-weight: bold\"> Non-trainable params: </span><span style=\"color: #00af00; text-decoration-color: #00af00\">0</span> (0.00 B)\n",
       "</pre>\n"
      ],
      "text/plain": [
       "\u001b[1m Non-trainable params: \u001b[0m\u001b[38;5;34m0\u001b[0m (0.00 B)\n"
      ]
     },
     "metadata": {},
     "output_type": "display_data"
    }
   ],
   "source": [
    "model_cnn = make_model_cnn(input_shape= train_x.shape[1:])\n",
    "\n",
    "model_cnn.summary()"
   ]
  },
  {
   "cell_type": "markdown",
   "id": "9bd880bb-1a81-4e3e-a1bb-39495f448807",
   "metadata": {},
   "source": [
    "Parametros utilizados para rodar as Épocas"
   ]
  },
  {
   "cell_type": "code",
   "execution_count": 130,
   "id": "2f451bb1-419c-45d0-aa97-4866516fce23",
   "metadata": {},
   "outputs": [],
   "source": [
    "epochs = 50\n",
    "batch_size = 32\n",
    "\n",
    "callbacks = [\n",
    "    tf.keras.callbacks.ModelCheckpoint(\n",
    "        \"best_model.keras\", save_best_only=True, monitor=\"val_loss\"\n",
    "    ),\n",
    "    tf.keras.callbacks.ReduceLROnPlateau(\n",
    "        monitor=\"val_loss\", factor=0.5, patience=10, min_lr=0.0001\n",
    "    ),\n",
    "    tf.keras.callbacks.EarlyStopping(monitor=\"val_loss\", patience=20, verbose=1),\n",
    "]"
   ]
  },
  {
   "cell_type": "markdown",
   "id": "981fd858-5de7-42dc-a2f0-0521679563a0",
   "metadata": {},
   "source": [
    "LSTM"
   ]
  },
  {
   "cell_type": "code",
   "execution_count": 132,
   "id": "f46b7dfd-ebce-489c-b010-8a7ea6efbde6",
   "metadata": {},
   "outputs": [
    {
     "name": "stdout",
     "output_type": "stream",
     "text": [
      "Epoch 1/50\n",
      "\u001b[1m11/11\u001b[0m \u001b[32m━━━━━━━━━━━━━━━━━━━━\u001b[0m\u001b[37m\u001b[0m \u001b[1m7s\u001b[0m 138ms/step - loss: 0.6502 - sparse_categorical_accuracy: 0.4244 - val_loss: 0.5902 - val_sparse_categorical_accuracy: 0.4186 - learning_rate: 0.0010\n",
      "Epoch 2/50\n",
      "\u001b[1m11/11\u001b[0m \u001b[32m━━━━━━━━━━━━━━━━━━━━\u001b[0m\u001b[37m\u001b[0m \u001b[1m2s\u001b[0m 72ms/step - loss: 0.5903 - sparse_categorical_accuracy: 0.4359 - val_loss: 0.5866 - val_sparse_categorical_accuracy: 0.4186 - learning_rate: 0.0010\n",
      "Epoch 3/50\n",
      "\u001b[1m11/11\u001b[0m \u001b[32m━━━━━━━━━━━━━━━━━━━━\u001b[0m\u001b[37m\u001b[0m \u001b[1m1s\u001b[0m 77ms/step - loss: 0.6177 - sparse_categorical_accuracy: 0.3742 - val_loss: 0.5859 - val_sparse_categorical_accuracy: 0.4186 - learning_rate: 0.0010\n",
      "Epoch 4/50\n",
      "\u001b[1m11/11\u001b[0m \u001b[32m━━━━━━━━━━━━━━━━━━━━\u001b[0m\u001b[37m\u001b[0m \u001b[1m1s\u001b[0m 77ms/step - loss: 0.5987 - sparse_categorical_accuracy: 0.4128 - val_loss: 0.5865 - val_sparse_categorical_accuracy: 0.4186 - learning_rate: 0.0010\n",
      "Epoch 5/50\n",
      "\u001b[1m11/11\u001b[0m \u001b[32m━━━━━━━━━━━━━━━━━━━━\u001b[0m\u001b[37m\u001b[0m \u001b[1m1s\u001b[0m 70ms/step - loss: 0.5911 - sparse_categorical_accuracy: 0.4224 - val_loss: 0.5864 - val_sparse_categorical_accuracy: 0.4186 - learning_rate: 0.0010\n",
      "Epoch 6/50\n",
      "\u001b[1m11/11\u001b[0m \u001b[32m━━━━━━━━━━━━━━━━━━━━\u001b[0m\u001b[37m\u001b[0m \u001b[1m1s\u001b[0m 69ms/step - loss: 0.5930 - sparse_categorical_accuracy: 0.4191 - val_loss: 0.5872 - val_sparse_categorical_accuracy: 0.4186 - learning_rate: 0.0010\n",
      "Epoch 7/50\n",
      "\u001b[1m11/11\u001b[0m \u001b[32m━━━━━━━━━━━━━━━━━━━━\u001b[0m\u001b[37m\u001b[0m \u001b[1m1s\u001b[0m 95ms/step - loss: 0.5966 - sparse_categorical_accuracy: 0.3961 - val_loss: 0.5859 - val_sparse_categorical_accuracy: 0.4186 - learning_rate: 0.0010\n",
      "Epoch 8/50\n",
      "\u001b[1m11/11\u001b[0m \u001b[32m━━━━━━━━━━━━━━━━━━━━\u001b[0m\u001b[37m\u001b[0m \u001b[1m1s\u001b[0m 77ms/step - loss: 0.5975 - sparse_categorical_accuracy: 0.3969 - val_loss: 0.5872 - val_sparse_categorical_accuracy: 0.4186 - learning_rate: 0.0010\n",
      "Epoch 9/50\n",
      "\u001b[1m11/11\u001b[0m \u001b[32m━━━━━━━━━━━━━━━━━━━━\u001b[0m\u001b[37m\u001b[0m \u001b[1m1s\u001b[0m 74ms/step - loss: 0.5761 - sparse_categorical_accuracy: 0.4123 - val_loss: 0.5869 - val_sparse_categorical_accuracy: 0.4186 - learning_rate: 0.0010\n",
      "Epoch 10/50\n",
      "\u001b[1m11/11\u001b[0m \u001b[32m━━━━━━━━━━━━━━━━━━━━\u001b[0m\u001b[37m\u001b[0m \u001b[1m1s\u001b[0m 72ms/step - loss: 0.6002 - sparse_categorical_accuracy: 0.4063 - val_loss: 0.5873 - val_sparse_categorical_accuracy: 0.4186 - learning_rate: 0.0010\n",
      "Epoch 11/50\n",
      "\u001b[1m11/11\u001b[0m \u001b[32m━━━━━━━━━━━━━━━━━━━━\u001b[0m\u001b[37m\u001b[0m \u001b[1m1s\u001b[0m 73ms/step - loss: 0.5971 - sparse_categorical_accuracy: 0.4011 - val_loss: 0.5866 - val_sparse_categorical_accuracy: 0.4186 - learning_rate: 0.0010\n",
      "Epoch 12/50\n",
      "\u001b[1m11/11\u001b[0m \u001b[32m━━━━━━━━━━━━━━━━━━━━\u001b[0m\u001b[37m\u001b[0m \u001b[1m1s\u001b[0m 68ms/step - loss: 0.6032 - sparse_categorical_accuracy: 0.4164 - val_loss: 0.5865 - val_sparse_categorical_accuracy: 0.4186 - learning_rate: 0.0010\n",
      "Epoch 13/50\n",
      "\u001b[1m11/11\u001b[0m \u001b[32m━━━━━━━━━━━━━━━━━━━━\u001b[0m\u001b[37m\u001b[0m \u001b[1m1s\u001b[0m 69ms/step - loss: 0.6136 - sparse_categorical_accuracy: 0.3965 - val_loss: 0.5861 - val_sparse_categorical_accuracy: 0.4186 - learning_rate: 0.0010\n",
      "Epoch 14/50\n",
      "\u001b[1m11/11\u001b[0m \u001b[32m━━━━━━━━━━━━━━━━━━━━\u001b[0m\u001b[37m\u001b[0m \u001b[1m2s\u001b[0m 90ms/step - loss: 0.5882 - sparse_categorical_accuracy: 0.4126 - val_loss: 0.5857 - val_sparse_categorical_accuracy: 0.4186 - learning_rate: 5.0000e-04\n",
      "Epoch 15/50\n",
      "\u001b[1m11/11\u001b[0m \u001b[32m━━━━━━━━━━━━━━━━━━━━\u001b[0m\u001b[37m\u001b[0m \u001b[1m1s\u001b[0m 71ms/step - loss: 0.5862 - sparse_categorical_accuracy: 0.4090 - val_loss: 0.5861 - val_sparse_categorical_accuracy: 0.4186 - learning_rate: 5.0000e-04\n",
      "Epoch 16/50\n",
      "\u001b[1m11/11\u001b[0m \u001b[32m━━━━━━━━━━━━━━━━━━━━\u001b[0m\u001b[37m\u001b[0m \u001b[1m1s\u001b[0m 65ms/step - loss: 0.6242 - sparse_categorical_accuracy: 0.3896 - val_loss: 0.5880 - val_sparse_categorical_accuracy: 0.4186 - learning_rate: 5.0000e-04\n",
      "Epoch 17/50\n",
      "\u001b[1m11/11\u001b[0m \u001b[32m━━━━━━━━━━━━━━━━━━━━\u001b[0m\u001b[37m\u001b[0m \u001b[1m1s\u001b[0m 73ms/step - loss: 0.5958 - sparse_categorical_accuracy: 0.4023 - val_loss: 0.5858 - val_sparse_categorical_accuracy: 0.4186 - learning_rate: 5.0000e-04\n",
      "Epoch 18/50\n",
      "\u001b[1m11/11\u001b[0m \u001b[32m━━━━━━━━━━━━━━━━━━━━\u001b[0m\u001b[37m\u001b[0m \u001b[1m1s\u001b[0m 76ms/step - loss: 0.5963 - sparse_categorical_accuracy: 0.3934 - val_loss: 0.5859 - val_sparse_categorical_accuracy: 0.4186 - learning_rate: 5.0000e-04\n",
      "Epoch 19/50\n",
      "\u001b[1m11/11\u001b[0m \u001b[32m━━━━━━━━━━━━━━━━━━━━\u001b[0m\u001b[37m\u001b[0m \u001b[1m1s\u001b[0m 78ms/step - loss: 0.6190 - sparse_categorical_accuracy: 0.4104 - val_loss: 0.5868 - val_sparse_categorical_accuracy: 0.4186 - learning_rate: 5.0000e-04\n",
      "Epoch 20/50\n",
      "\u001b[1m11/11\u001b[0m \u001b[32m━━━━━━━━━━━━━━━━━━━━\u001b[0m\u001b[37m\u001b[0m \u001b[1m1s\u001b[0m 77ms/step - loss: 0.5796 - sparse_categorical_accuracy: 0.4341 - val_loss: 0.5857 - val_sparse_categorical_accuracy: 0.4186 - learning_rate: 5.0000e-04\n",
      "Epoch 21/50\n",
      "\u001b[1m11/11\u001b[0m \u001b[32m━━━━━━━━━━━━━━━━━━━━\u001b[0m\u001b[37m\u001b[0m \u001b[1m1s\u001b[0m 121ms/step - loss: 0.5919 - sparse_categorical_accuracy: 0.4032 - val_loss: 0.5864 - val_sparse_categorical_accuracy: 0.4186 - learning_rate: 5.0000e-04\n",
      "Epoch 22/50\n",
      "\u001b[1m11/11\u001b[0m \u001b[32m━━━━━━━━━━━━━━━━━━━━\u001b[0m\u001b[37m\u001b[0m \u001b[1m1s\u001b[0m 81ms/step - loss: 0.6254 - sparse_categorical_accuracy: 0.3754 - val_loss: 0.5888 - val_sparse_categorical_accuracy: 0.4186 - learning_rate: 5.0000e-04\n",
      "Epoch 23/50\n",
      "\u001b[1m11/11\u001b[0m \u001b[32m━━━━━━━━━━━━━━━━━━━━\u001b[0m\u001b[37m\u001b[0m \u001b[1m1s\u001b[0m 82ms/step - loss: 0.5675 - sparse_categorical_accuracy: 0.4484 - val_loss: 0.5855 - val_sparse_categorical_accuracy: 0.4186 - learning_rate: 5.0000e-04\n",
      "Epoch 24/50\n",
      "\u001b[1m11/11\u001b[0m \u001b[32m━━━━━━━━━━━━━━━━━━━━\u001b[0m\u001b[37m\u001b[0m \u001b[1m1s\u001b[0m 77ms/step - loss: 0.5998 - sparse_categorical_accuracy: 0.3832 - val_loss: 0.5867 - val_sparse_categorical_accuracy: 0.4186 - learning_rate: 5.0000e-04\n",
      "Epoch 25/50\n",
      "\u001b[1m11/11\u001b[0m \u001b[32m━━━━━━━━━━━━━━━━━━━━\u001b[0m\u001b[37m\u001b[0m \u001b[1m1s\u001b[0m 69ms/step - loss: 0.5806 - sparse_categorical_accuracy: 0.4397 - val_loss: 0.5864 - val_sparse_categorical_accuracy: 0.4186 - learning_rate: 5.0000e-04\n",
      "Epoch 26/50\n",
      "\u001b[1m11/11\u001b[0m \u001b[32m━━━━━━━━━━━━━━━━━━━━\u001b[0m\u001b[37m\u001b[0m \u001b[1m1s\u001b[0m 84ms/step - loss: 0.6116 - sparse_categorical_accuracy: 0.3839 - val_loss: 0.5862 - val_sparse_categorical_accuracy: 0.4186 - learning_rate: 5.0000e-04\n",
      "Epoch 27/50\n",
      "\u001b[1m11/11\u001b[0m \u001b[32m━━━━━━━━━━━━━━━━━━━━\u001b[0m\u001b[37m\u001b[0m \u001b[1m1s\u001b[0m 72ms/step - loss: 0.5870 - sparse_categorical_accuracy: 0.3869 - val_loss: 0.5857 - val_sparse_categorical_accuracy: 0.4186 - learning_rate: 5.0000e-04\n",
      "Epoch 28/50\n",
      "\u001b[1m11/11\u001b[0m \u001b[32m━━━━━━━━━━━━━━━━━━━━\u001b[0m\u001b[37m\u001b[0m \u001b[1m1s\u001b[0m 82ms/step - loss: 0.5726 - sparse_categorical_accuracy: 0.4289 - val_loss: 0.5866 - val_sparse_categorical_accuracy: 0.4186 - learning_rate: 5.0000e-04\n",
      "Epoch 29/50\n",
      "\u001b[1m11/11\u001b[0m \u001b[32m━━━━━━━━━━━━━━━━━━━━\u001b[0m\u001b[37m\u001b[0m \u001b[1m1s\u001b[0m 68ms/step - loss: 0.5790 - sparse_categorical_accuracy: 0.4309 - val_loss: 0.5865 - val_sparse_categorical_accuracy: 0.4186 - learning_rate: 5.0000e-04\n",
      "Epoch 30/50\n",
      "\u001b[1m11/11\u001b[0m \u001b[32m━━━━━━━━━━━━━━━━━━━━\u001b[0m\u001b[37m\u001b[0m \u001b[1m1s\u001b[0m 70ms/step - loss: 0.6214 - sparse_categorical_accuracy: 0.4050 - val_loss: 0.5865 - val_sparse_categorical_accuracy: 0.4186 - learning_rate: 5.0000e-04\n",
      "Epoch 31/50\n",
      "\u001b[1m11/11\u001b[0m \u001b[32m━━━━━━━━━━━━━━━━━━━━\u001b[0m\u001b[37m\u001b[0m \u001b[1m1s\u001b[0m 71ms/step - loss: 0.6119 - sparse_categorical_accuracy: 0.3806 - val_loss: 0.5863 - val_sparse_categorical_accuracy: 0.4186 - learning_rate: 5.0000e-04\n",
      "Epoch 32/50\n",
      "\u001b[1m11/11\u001b[0m \u001b[32m━━━━━━━━━━━━━━━━━━━━\u001b[0m\u001b[37m\u001b[0m \u001b[1m1s\u001b[0m 69ms/step - loss: 0.5781 - sparse_categorical_accuracy: 0.4286 - val_loss: 0.5854 - val_sparse_categorical_accuracy: 0.4186 - learning_rate: 5.0000e-04\n",
      "Epoch 33/50\n",
      "\u001b[1m11/11\u001b[0m \u001b[32m━━━━━━━━━━━━━━━━━━━━\u001b[0m\u001b[37m\u001b[0m \u001b[1m1s\u001b[0m 70ms/step - loss: 0.6063 - sparse_categorical_accuracy: 0.3988 - val_loss: 0.5873 - val_sparse_categorical_accuracy: 0.4186 - learning_rate: 5.0000e-04\n",
      "Epoch 34/50\n",
      "\u001b[1m11/11\u001b[0m \u001b[32m━━━━━━━━━━━━━━━━━━━━\u001b[0m\u001b[37m\u001b[0m \u001b[1m1s\u001b[0m 72ms/step - loss: 0.6182 - sparse_categorical_accuracy: 0.3621 - val_loss: 0.5872 - val_sparse_categorical_accuracy: 0.4186 - learning_rate: 2.5000e-04\n",
      "Epoch 35/50\n",
      "\u001b[1m11/11\u001b[0m \u001b[32m━━━━━━━━━━━━━━━━━━━━\u001b[0m\u001b[37m\u001b[0m \u001b[1m1s\u001b[0m 71ms/step - loss: 0.5915 - sparse_categorical_accuracy: 0.4062 - val_loss: 0.5857 - val_sparse_categorical_accuracy: 0.4186 - learning_rate: 2.5000e-04\n",
      "Epoch 36/50\n",
      "\u001b[1m11/11\u001b[0m \u001b[32m━━━━━━━━━━━━━━━━━━━━\u001b[0m\u001b[37m\u001b[0m \u001b[1m1s\u001b[0m 73ms/step - loss: 0.5931 - sparse_categorical_accuracy: 0.4051 - val_loss: 0.5858 - val_sparse_categorical_accuracy: 0.4186 - learning_rate: 2.5000e-04\n",
      "Epoch 37/50\n",
      "\u001b[1m11/11\u001b[0m \u001b[32m━━━━━━━━━━━━━━━━━━━━\u001b[0m\u001b[37m\u001b[0m \u001b[1m1s\u001b[0m 66ms/step - loss: 0.5966 - sparse_categorical_accuracy: 0.4112 - val_loss: 0.5857 - val_sparse_categorical_accuracy: 0.4186 - learning_rate: 2.5000e-04\n",
      "Epoch 38/50\n",
      "\u001b[1m11/11\u001b[0m \u001b[32m━━━━━━━━━━━━━━━━━━━━\u001b[0m\u001b[37m\u001b[0m \u001b[1m1s\u001b[0m 74ms/step - loss: 0.5640 - sparse_categorical_accuracy: 0.4235 - val_loss: 0.5859 - val_sparse_categorical_accuracy: 0.4186 - learning_rate: 2.5000e-04\n",
      "Epoch 39/50\n",
      "\u001b[1m11/11\u001b[0m \u001b[32m━━━━━━━━━━━━━━━━━━━━\u001b[0m\u001b[37m\u001b[0m \u001b[1m1s\u001b[0m 100ms/step - loss: 0.5996 - sparse_categorical_accuracy: 0.4196 - val_loss: 0.5875 - val_sparse_categorical_accuracy: 0.4186 - learning_rate: 2.5000e-04\n",
      "Epoch 40/50\n",
      "\u001b[1m11/11\u001b[0m \u001b[32m━━━━━━━━━━━━━━━━━━━━\u001b[0m\u001b[37m\u001b[0m \u001b[1m1s\u001b[0m 70ms/step - loss: 0.5937 - sparse_categorical_accuracy: 0.4294 - val_loss: 0.5864 - val_sparse_categorical_accuracy: 0.4186 - learning_rate: 2.5000e-04\n",
      "Epoch 41/50\n",
      "\u001b[1m11/11\u001b[0m \u001b[32m━━━━━━━━━━━━━━━━━━━━\u001b[0m\u001b[37m\u001b[0m \u001b[1m1s\u001b[0m 79ms/step - loss: 0.5913 - sparse_categorical_accuracy: 0.3943 - val_loss: 0.5853 - val_sparse_categorical_accuracy: 0.4186 - learning_rate: 2.5000e-04\n",
      "Epoch 42/50\n",
      "\u001b[1m11/11\u001b[0m \u001b[32m━━━━━━━━━━━━━━━━━━━━\u001b[0m\u001b[37m\u001b[0m \u001b[1m1s\u001b[0m 130ms/step - loss: 0.6024 - sparse_categorical_accuracy: 0.4037 - val_loss: 0.5860 - val_sparse_categorical_accuracy: 0.4186 - learning_rate: 2.5000e-04\n",
      "Epoch 43/50\n",
      "\u001b[1m11/11\u001b[0m \u001b[32m━━━━━━━━━━━━━━━━━━━━\u001b[0m\u001b[37m\u001b[0m \u001b[1m1s\u001b[0m 78ms/step - loss: 0.5801 - sparse_categorical_accuracy: 0.4325 - val_loss: 0.5858 - val_sparse_categorical_accuracy: 0.4186 - learning_rate: 2.5000e-04\n",
      "Epoch 44/50\n",
      "\u001b[1m11/11\u001b[0m \u001b[32m━━━━━━━━━━━━━━━━━━━━\u001b[0m\u001b[37m\u001b[0m \u001b[1m1s\u001b[0m 120ms/step - loss: 0.5730 - sparse_categorical_accuracy: 0.4239 - val_loss: 0.5855 - val_sparse_categorical_accuracy: 0.4186 - learning_rate: 2.5000e-04\n",
      "Epoch 45/50\n",
      "\u001b[1m11/11\u001b[0m \u001b[32m━━━━━━━━━━━━━━━━━━━━\u001b[0m\u001b[37m\u001b[0m \u001b[1m1s\u001b[0m 78ms/step - loss: 0.5826 - sparse_categorical_accuracy: 0.4151 - val_loss: 0.5864 - val_sparse_categorical_accuracy: 0.4186 - learning_rate: 2.5000e-04\n",
      "Epoch 46/50\n",
      "\u001b[1m11/11\u001b[0m \u001b[32m━━━━━━━━━━━━━━━━━━━━\u001b[0m\u001b[37m\u001b[0m \u001b[1m1s\u001b[0m 98ms/step - loss: 0.6352 - sparse_categorical_accuracy: 0.3799 - val_loss: 0.5875 - val_sparse_categorical_accuracy: 0.4186 - learning_rate: 2.5000e-04\n",
      "Epoch 47/50\n",
      "\u001b[1m11/11\u001b[0m \u001b[32m━━━━━━━━━━━━━━━━━━━━\u001b[0m\u001b[37m\u001b[0m \u001b[1m1s\u001b[0m 77ms/step - loss: 0.6070 - sparse_categorical_accuracy: 0.3828 - val_loss: 0.5857 - val_sparse_categorical_accuracy: 0.4186 - learning_rate: 2.5000e-04\n",
      "Epoch 48/50\n",
      "\u001b[1m11/11\u001b[0m \u001b[32m━━━━━━━━━━━━━━━━━━━━\u001b[0m\u001b[37m\u001b[0m \u001b[1m1s\u001b[0m 84ms/step - loss: 0.5848 - sparse_categorical_accuracy: 0.4096 - val_loss: 0.5852 - val_sparse_categorical_accuracy: 0.4186 - learning_rate: 2.5000e-04\n",
      "Epoch 49/50\n",
      "\u001b[1m11/11\u001b[0m \u001b[32m━━━━━━━━━━━━━━━━━━━━\u001b[0m\u001b[37m\u001b[0m \u001b[1m1s\u001b[0m 67ms/step - loss: 0.6151 - sparse_categorical_accuracy: 0.3808 - val_loss: 0.5867 - val_sparse_categorical_accuracy: 0.4186 - learning_rate: 2.5000e-04\n",
      "Epoch 50/50\n",
      "\u001b[1m11/11\u001b[0m \u001b[32m━━━━━━━━━━━━━━━━━━━━\u001b[0m\u001b[37m\u001b[0m \u001b[1m1s\u001b[0m 75ms/step - loss: 0.5729 - sparse_categorical_accuracy: 0.4336 - val_loss: 0.5859 - val_sparse_categorical_accuracy: 0.4186 - learning_rate: 2.5000e-04\n"
     ]
    }
   ],
   "source": [
    "model_lstm.compile(\n",
    "    optimizer=\"adam\",\n",
    "    loss=\"sparse_categorical_crossentropy\",\n",
    "    metrics=[\n",
    "        \"sparse_categorical_accuracy\"\n",
    "    ]\n",
    ")\n",
    "history = model_lstm.fit(\n",
    "    train_x,\n",
    "    train_y,\n",
    "    batch_size=batch_size,\n",
    "    epochs=epochs,\n",
    "    callbacks=callbacks,\n",
    "    validation_split=0.2,\n",
    "    verbose=1,\n",
    ")"
   ]
  },
  {
   "cell_type": "code",
   "execution_count": 133,
   "id": "c249b492-93b8-4b51-9a63-66fcc8ceb56a",
   "metadata": {},
   "outputs": [
    {
     "name": "stdout",
     "output_type": "stream",
     "text": [
      "\u001b[1m2/2\u001b[0m \u001b[32m━━━━━━━━━━━━━━━━━━━━\u001b[0m\u001b[37m\u001b[0m \u001b[1m2s\u001b[0m 18ms/step - loss: 0.6206 - sparse_categorical_accuracy: 0.4472\n",
      "Test accuracy 0.4677419364452362\n",
      "Test loss 0.5987316966056824\n"
     ]
    }
   ],
   "source": [
    "model_lstm = tf.keras.models.load_model(\"best_model.keras\")\n",
    "\n",
    "test_loss, test_acc = model_lstm.evaluate(test_x, test_y)\n",
    "\n",
    "print(\"Test accuracy\", test_acc)\n",
    "print(\"Test loss\", test_loss)"
   ]
  },
  {
   "cell_type": "code",
   "execution_count": 134,
   "id": "987b208b-620d-4b2a-9493-72ddc55c9e46",
   "metadata": {},
   "outputs": [
    {
     "data": {
      "image/png": "[encoded data removed]",
      "text/plain": [
       "<Figure size 640x480 with 1 Axes>"
      ]
     },
     "metadata": {},
     "output_type": "display_data"
    }
   ],
   "source": [
    "metric = \"sparse_categorical_accuracy\"\n",
    "plt.figure()\n",
    "plt.plot(history.history[metric])\n",
    "plt.plot(history.history[\"val_\" + metric])\n",
    "plt.title(\"LSTM: \" + metric)\n",
    "plt.ylabel(metric, fontsize=\"large\")\n",
    "plt.xlabel(\"epoch\", fontsize=\"large\")\n",
    "plt.legend([\"train\", \"val\"], loc=\"best\")\n",
    "plt.show()\n",
    "plt.close()"
   ]
  },
  {
   "cell_type": "markdown",
   "id": "ede7cf24-890e-4cac-a374-2a08c2b8db8b",
   "metadata": {},
   "source": [
    "RNN"
   ]
  },
  {
   "cell_type": "code",
   "execution_count": 136,
   "id": "c8b1502d-906e-4c6d-83a7-b691d6093bb6",
   "metadata": {},
   "outputs": [
    {
     "name": "stdout",
     "output_type": "stream",
     "text": [
      "Epoch 1/50\n",
      "\u001b[1m11/11\u001b[0m \u001b[32m━━━━━━━━━━━━━━━━━━━━\u001b[0m\u001b[37m\u001b[0m \u001b[1m6s\u001b[0m 147ms/step - loss: 0.6970 - sparse_categorical_accuracy: 0.5129 - val_loss: 0.6525 - val_sparse_categorical_accuracy: 0.5814 - learning_rate: 0.0010\n",
      "Epoch 2/50\n",
      "\u001b[1m11/11\u001b[0m \u001b[32m━━━━━━━━━━━━━━━━━━━━\u001b[0m\u001b[37m\u001b[0m \u001b[1m1s\u001b[0m 44ms/step - loss: 0.6446 - sparse_categorical_accuracy: 0.5719 - val_loss: 0.6249 - val_sparse_categorical_accuracy: 0.5814 - learning_rate: 0.0010\n",
      "Epoch 3/50\n",
      "\u001b[1m11/11\u001b[0m \u001b[32m━━━━━━━━━━━━━━━━━━━━\u001b[0m\u001b[37m\u001b[0m \u001b[1m1s\u001b[0m 53ms/step - loss: 0.6163 - sparse_categorical_accuracy: 0.5822 - val_loss: 0.5715 - val_sparse_categorical_accuracy: 0.5814 - learning_rate: 0.0010\n",
      "Epoch 4/50\n",
      "\u001b[1m11/11\u001b[0m \u001b[32m━━━━━━━━━━━━━━━━━━━━\u001b[0m\u001b[37m\u001b[0m \u001b[1m1s\u001b[0m 46ms/step - loss: 0.5474 - sparse_categorical_accuracy: 0.7345 - val_loss: 0.4856 - val_sparse_categorical_accuracy: 0.8953 - learning_rate: 0.0010\n",
      "Epoch 5/50\n",
      "\u001b[1m11/11\u001b[0m \u001b[32m━━━━━━━━━━━━━━━━━━━━\u001b[0m\u001b[37m\u001b[0m \u001b[1m1s\u001b[0m 49ms/step - loss: 0.4606 - sparse_categorical_accuracy: 0.8975 - val_loss: 0.3989 - val_sparse_categorical_accuracy: 0.8953 - learning_rate: 0.0010\n",
      "Epoch 6/50\n",
      "\u001b[1m11/11\u001b[0m \u001b[32m━━━━━━━━━━━━━━━━━━━━\u001b[0m\u001b[37m\u001b[0m \u001b[1m1s\u001b[0m 46ms/step - loss: 0.3751 - sparse_categorical_accuracy: 0.8965 - val_loss: 0.3450 - val_sparse_categorical_accuracy: 0.8953 - learning_rate: 0.0010\n",
      "Epoch 7/50\n",
      "\u001b[1m11/11\u001b[0m \u001b[32m━━━━━━━━━━━━━━━━━━━━\u001b[0m\u001b[37m\u001b[0m \u001b[1m1s\u001b[0m 58ms/step - loss: 0.3740 - sparse_categorical_accuracy: 0.8633 - val_loss: 0.3263 - val_sparse_categorical_accuracy: 0.8953 - learning_rate: 0.0010\n",
      "Epoch 8/50\n",
      "\u001b[1m11/11\u001b[0m \u001b[32m━━━━━━━━━━━━━━━━━━━━\u001b[0m\u001b[37m\u001b[0m \u001b[1m1s\u001b[0m 53ms/step - loss: 0.3310 - sparse_categorical_accuracy: 0.8834 - val_loss: 0.3163 - val_sparse_categorical_accuracy: 0.8953 - learning_rate: 0.0010\n",
      "Epoch 9/50\n",
      "\u001b[1m11/11\u001b[0m \u001b[32m━━━━━━━━━━━━━━━━━━━━\u001b[0m\u001b[37m\u001b[0m \u001b[1m1s\u001b[0m 48ms/step - loss: 0.3134 - sparse_categorical_accuracy: 0.8897 - val_loss: 0.3113 - val_sparse_categorical_accuracy: 0.8953 - learning_rate: 0.0010\n",
      "Epoch 10/50\n",
      "\u001b[1m11/11\u001b[0m \u001b[32m━━━━━━━━━━━━━━━━━━━━\u001b[0m\u001b[37m\u001b[0m \u001b[1m1s\u001b[0m 61ms/step - loss: 0.2886 - sparse_categorical_accuracy: 0.9018 - val_loss: 0.3080 - val_sparse_categorical_accuracy: 0.8953 - learning_rate: 0.0010\n",
      "Epoch 11/50\n",
      "\u001b[1m11/11\u001b[0m \u001b[32m━━━━━━━━━━━━━━━━━━━━\u001b[0m\u001b[37m\u001b[0m \u001b[1m1s\u001b[0m 54ms/step - loss: 0.2946 - sparse_categorical_accuracy: 0.8966 - val_loss: 0.3060 - val_sparse_categorical_accuracy: 0.8953 - learning_rate: 0.0010\n",
      "Epoch 12/50\n",
      "\u001b[1m11/11\u001b[0m \u001b[32m━━━━━━━━━━━━━━━━━━━━\u001b[0m\u001b[37m\u001b[0m \u001b[1m1s\u001b[0m 52ms/step - loss: 0.3518 - sparse_categorical_accuracy: 0.8613 - val_loss: 0.3044 - val_sparse_categorical_accuracy: 0.8953 - learning_rate: 0.0010\n",
      "Epoch 13/50\n",
      "\u001b[1m11/11\u001b[0m \u001b[32m━━━━━━━━━━━━━━━━━━━━\u001b[0m\u001b[37m\u001b[0m \u001b[1m1s\u001b[0m 54ms/step - loss: 0.2623 - sparse_categorical_accuracy: 0.9135 - val_loss: 0.3029 - val_sparse_categorical_accuracy: 0.8953 - learning_rate: 0.0010\n",
      "Epoch 14/50\n",
      "\u001b[1m11/11\u001b[0m \u001b[32m━━━━━━━━━━━━━━━━━━━━\u001b[0m\u001b[37m\u001b[0m \u001b[1m1s\u001b[0m 52ms/step - loss: 0.3179 - sparse_categorical_accuracy: 0.8787 - val_loss: 0.3019 - val_sparse_categorical_accuracy: 0.8953 - learning_rate: 0.0010\n",
      "Epoch 15/50\n",
      "\u001b[1m11/11\u001b[0m \u001b[32m━━━━━━━━━━━━━━━━━━━━\u001b[0m\u001b[37m\u001b[0m \u001b[1m1s\u001b[0m 82ms/step - loss: 0.2835 - sparse_categorical_accuracy: 0.9021 - val_loss: 0.3010 - val_sparse_categorical_accuracy: 0.8953 - learning_rate: 0.0010\n",
      "Epoch 16/50\n",
      "\u001b[1m11/11\u001b[0m \u001b[32m━━━━━━━━━━━━━━━━━━━━\u001b[0m\u001b[37m\u001b[0m \u001b[1m1s\u001b[0m 47ms/step - loss: 0.3339 - sparse_categorical_accuracy: 0.8783 - val_loss: 0.3003 - val_sparse_categorical_accuracy: 0.8953 - learning_rate: 0.0010\n",
      "Epoch 17/50\n",
      "\u001b[1m11/11\u001b[0m \u001b[32m━━━━━━━━━━━━━━━━━━━━\u001b[0m\u001b[37m\u001b[0m \u001b[1m1s\u001b[0m 49ms/step - loss: 0.2854 - sparse_categorical_accuracy: 0.8990 - val_loss: 0.2993 - val_sparse_categorical_accuracy: 0.8953 - learning_rate: 0.0010\n",
      "Epoch 18/50\n",
      "\u001b[1m11/11\u001b[0m \u001b[32m━━━━━━━━━━━━━━━━━━━━\u001b[0m\u001b[37m\u001b[0m \u001b[1m1s\u001b[0m 56ms/step - loss: 0.3038 - sparse_categorical_accuracy: 0.8888 - val_loss: 0.2987 - val_sparse_categorical_accuracy: 0.8953 - learning_rate: 0.0010\n",
      "Epoch 19/50\n",
      "\u001b[1m11/11\u001b[0m \u001b[32m━━━━━━━━━━━━━━━━━━━━\u001b[0m\u001b[37m\u001b[0m \u001b[1m1s\u001b[0m 49ms/step - loss: 0.2839 - sparse_categorical_accuracy: 0.8993 - val_loss: 0.2982 - val_sparse_categorical_accuracy: 0.8953 - learning_rate: 0.0010\n",
      "Epoch 20/50\n",
      "\u001b[1m11/11\u001b[0m \u001b[32m━━━━━━━━━━━━━━━━━━━━\u001b[0m\u001b[37m\u001b[0m \u001b[1m1s\u001b[0m 47ms/step - loss: 0.2945 - sparse_categorical_accuracy: 0.8864 - val_loss: 0.2980 - val_sparse_categorical_accuracy: 0.8953 - learning_rate: 0.0010\n",
      "Epoch 21/50\n",
      "\u001b[1m11/11\u001b[0m \u001b[32m━━━━━━━━━━━━━━━━━━━━\u001b[0m\u001b[37m\u001b[0m \u001b[1m1s\u001b[0m 45ms/step - loss: 0.2856 - sparse_categorical_accuracy: 0.8975 - val_loss: 0.2974 - val_sparse_categorical_accuracy: 0.8953 - learning_rate: 0.0010\n",
      "Epoch 22/50\n",
      "\u001b[1m11/11\u001b[0m \u001b[32m━━━━━━━━━━━━━━━━━━━━\u001b[0m\u001b[37m\u001b[0m \u001b[1m0s\u001b[0m 45ms/step - loss: 0.2942 - sparse_categorical_accuracy: 0.8889 - val_loss: 0.2971 - val_sparse_categorical_accuracy: 0.8953 - learning_rate: 0.0010\n",
      "Epoch 23/50\n",
      "\u001b[1m11/11\u001b[0m \u001b[32m━━━━━━━━━━━━━━━━━━━━\u001b[0m\u001b[37m\u001b[0m \u001b[1m1s\u001b[0m 45ms/step - loss: 0.2989 - sparse_categorical_accuracy: 0.8832 - val_loss: 0.2975 - val_sparse_categorical_accuracy: 0.8953 - learning_rate: 0.0010\n",
      "Epoch 24/50\n",
      "\u001b[1m11/11\u001b[0m \u001b[32m━━━━━━━━━━━━━━━━━━━━\u001b[0m\u001b[37m\u001b[0m \u001b[1m1s\u001b[0m 46ms/step - loss: 0.2860 - sparse_categorical_accuracy: 0.8910 - val_loss: 0.2968 - val_sparse_categorical_accuracy: 0.8953 - learning_rate: 0.0010\n",
      "Epoch 25/50\n",
      "\u001b[1m11/11\u001b[0m \u001b[32m━━━━━━━━━━━━━━━━━━━━\u001b[0m\u001b[37m\u001b[0m \u001b[1m1s\u001b[0m 45ms/step - loss: 0.2675 - sparse_categorical_accuracy: 0.9069 - val_loss: 0.2964 - val_sparse_categorical_accuracy: 0.8953 - learning_rate: 0.0010\n",
      "Epoch 26/50\n",
      "\u001b[1m11/11\u001b[0m \u001b[32m━━━━━━━━━━━━━━━━━━━━\u001b[0m\u001b[37m\u001b[0m \u001b[1m1s\u001b[0m 51ms/step - loss: 0.2720 - sparse_categorical_accuracy: 0.9014 - val_loss: 0.2963 - val_sparse_categorical_accuracy: 0.8953 - learning_rate: 0.0010\n",
      "Epoch 27/50\n",
      "\u001b[1m11/11\u001b[0m \u001b[32m━━━━━━━━━━━━━━━━━━━━\u001b[0m\u001b[37m\u001b[0m \u001b[1m1s\u001b[0m 44ms/step - loss: 0.2682 - sparse_categorical_accuracy: 0.9008 - val_loss: 0.2971 - val_sparse_categorical_accuracy: 0.8953 - learning_rate: 0.0010\n",
      "Epoch 28/50\n",
      "\u001b[1m11/11\u001b[0m \u001b[32m━━━━━━━━━━━━━━━━━━━━\u001b[0m\u001b[37m\u001b[0m \u001b[1m0s\u001b[0m 44ms/step - loss: 0.2833 - sparse_categorical_accuracy: 0.8929 - val_loss: 0.2973 - val_sparse_categorical_accuracy: 0.8953 - learning_rate: 0.0010\n",
      "Epoch 29/50\n",
      "\u001b[1m11/11\u001b[0m \u001b[32m━━━━━━━━━━━━━━━━━━━━\u001b[0m\u001b[37m\u001b[0m \u001b[1m1s\u001b[0m 45ms/step - loss: 0.2999 - sparse_categorical_accuracy: 0.8896 - val_loss: 0.2964 - val_sparse_categorical_accuracy: 0.8953 - learning_rate: 0.0010\n",
      "Epoch 30/50\n",
      "\u001b[1m11/11\u001b[0m \u001b[32m━━━━━━━━━━━━━━━━━━━━\u001b[0m\u001b[37m\u001b[0m \u001b[1m1s\u001b[0m 77ms/step - loss: 0.2865 - sparse_categorical_accuracy: 0.8953 - val_loss: 0.2961 - val_sparse_categorical_accuracy: 0.8953 - learning_rate: 0.0010\n",
      "Epoch 31/50\n",
      "\u001b[1m11/11\u001b[0m \u001b[32m━━━━━━━━━━━━━━━━━━━━\u001b[0m\u001b[37m\u001b[0m \u001b[1m1s\u001b[0m 47ms/step - loss: 0.3053 - sparse_categorical_accuracy: 0.8793 - val_loss: 0.2969 - val_sparse_categorical_accuracy: 0.8953 - learning_rate: 0.0010\n",
      "Epoch 32/50\n",
      "\u001b[1m11/11\u001b[0m \u001b[32m━━━━━━━━━━━━━━━━━━━━\u001b[0m\u001b[37m\u001b[0m \u001b[1m1s\u001b[0m 45ms/step - loss: 0.2733 - sparse_categorical_accuracy: 0.8986 - val_loss: 0.2960 - val_sparse_categorical_accuracy: 0.8953 - learning_rate: 0.0010\n",
      "Epoch 33/50\n",
      "\u001b[1m11/11\u001b[0m \u001b[32m━━━━━━━━━━━━━━━━━━━━\u001b[0m\u001b[37m\u001b[0m \u001b[1m1s\u001b[0m 42ms/step - loss: 0.2933 - sparse_categorical_accuracy: 0.8844 - val_loss: 0.2963 - val_sparse_categorical_accuracy: 0.8953 - learning_rate: 0.0010\n",
      "Epoch 34/50\n",
      "\u001b[1m11/11\u001b[0m \u001b[32m━━━━━━━━━━━━━━━━━━━━\u001b[0m\u001b[37m\u001b[0m \u001b[1m1s\u001b[0m 46ms/step - loss: 0.2885 - sparse_categorical_accuracy: 0.8849 - val_loss: 0.2962 - val_sparse_categorical_accuracy: 0.8953 - learning_rate: 0.0010\n",
      "Epoch 35/50\n",
      "\u001b[1m11/11\u001b[0m \u001b[32m━━━━━━━━━━━━━━━━━━━━\u001b[0m\u001b[37m\u001b[0m \u001b[1m1s\u001b[0m 46ms/step - loss: 0.2746 - sparse_categorical_accuracy: 0.8964 - val_loss: 0.2963 - val_sparse_categorical_accuracy: 0.8953 - learning_rate: 0.0010\n",
      "Epoch 36/50\n",
      "\u001b[1m11/11\u001b[0m \u001b[32m━━━━━━━━━━━━━━━━━━━━\u001b[0m\u001b[37m\u001b[0m \u001b[1m0s\u001b[0m 41ms/step - loss: 0.2933 - sparse_categorical_accuracy: 0.8976 - val_loss: 0.2962 - val_sparse_categorical_accuracy: 0.8953 - learning_rate: 0.0010\n",
      "Epoch 37/50\n",
      "\u001b[1m11/11\u001b[0m \u001b[32m━━━━━━━━━━━━━━━━━━━━\u001b[0m\u001b[37m\u001b[0m \u001b[1m1s\u001b[0m 45ms/step - loss: 0.2599 - sparse_categorical_accuracy: 0.9130 - val_loss: 0.2961 - val_sparse_categorical_accuracy: 0.8953 - learning_rate: 0.0010\n",
      "Epoch 38/50\n",
      "\u001b[1m11/11\u001b[0m \u001b[32m━━━━━━━━━━━━━━━━━━━━\u001b[0m\u001b[37m\u001b[0m \u001b[1m0s\u001b[0m 40ms/step - loss: 0.2982 - sparse_categorical_accuracy: 0.8780 - val_loss: 0.2967 - val_sparse_categorical_accuracy: 0.8953 - learning_rate: 0.0010\n",
      "Epoch 39/50\n",
      "\u001b[1m11/11\u001b[0m \u001b[32m━━━━━━━━━━━━━━━━━━━━\u001b[0m\u001b[37m\u001b[0m \u001b[1m1s\u001b[0m 48ms/step - loss: 0.2734 - sparse_categorical_accuracy: 0.8974 - val_loss: 0.2965 - val_sparse_categorical_accuracy: 0.8953 - learning_rate: 0.0010\n",
      "Epoch 40/50\n",
      "\u001b[1m11/11\u001b[0m \u001b[32m━━━━━━━━━━━━━━━━━━━━\u001b[0m\u001b[37m\u001b[0m \u001b[1m1s\u001b[0m 44ms/step - loss: 0.2614 - sparse_categorical_accuracy: 0.9058 - val_loss: 0.2961 - val_sparse_categorical_accuracy: 0.8953 - learning_rate: 0.0010\n",
      "Epoch 41/50\n",
      "\u001b[1m11/11\u001b[0m \u001b[32m━━━━━━━━━━━━━━━━━━━━\u001b[0m\u001b[37m\u001b[0m \u001b[1m0s\u001b[0m 43ms/step - loss: 0.2543 - sparse_categorical_accuracy: 0.9068 - val_loss: 0.2962 - val_sparse_categorical_accuracy: 0.8953 - learning_rate: 0.0010\n",
      "Epoch 42/50\n",
      "\u001b[1m11/11\u001b[0m \u001b[32m━━━━━━━━━━━━━━━━━━━━\u001b[0m\u001b[37m\u001b[0m \u001b[1m0s\u001b[0m 44ms/step - loss: 0.2695 - sparse_categorical_accuracy: 0.9012 - val_loss: 0.2963 - val_sparse_categorical_accuracy: 0.8953 - learning_rate: 0.0010\n",
      "Epoch 43/50\n",
      "\u001b[1m11/11\u001b[0m \u001b[32m━━━━━━━━━━━━━━━━━━━━\u001b[0m\u001b[37m\u001b[0m \u001b[1m1s\u001b[0m 46ms/step - loss: 0.2683 - sparse_categorical_accuracy: 0.9042 - val_loss: 0.2964 - val_sparse_categorical_accuracy: 0.8953 - learning_rate: 5.0000e-04\n",
      "Epoch 44/50\n",
      "\u001b[1m11/11\u001b[0m \u001b[32m━━━━━━━━━━━━━━━━━━━━\u001b[0m\u001b[37m\u001b[0m \u001b[1m0s\u001b[0m 43ms/step - loss: 0.2936 - sparse_categorical_accuracy: 0.8826 - val_loss: 0.2968 - val_sparse_categorical_accuracy: 0.8953 - learning_rate: 5.0000e-04\n",
      "Epoch 45/50\n",
      "\u001b[1m11/11\u001b[0m \u001b[32m━━━━━━━━━━━━━━━━━━━━\u001b[0m\u001b[37m\u001b[0m \u001b[1m1s\u001b[0m 45ms/step - loss: 0.3103 - sparse_categorical_accuracy: 0.8838 - val_loss: 0.2967 - val_sparse_categorical_accuracy: 0.8953 - learning_rate: 5.0000e-04\n",
      "Epoch 46/50\n",
      "\u001b[1m11/11\u001b[0m \u001b[32m━━━━━━━━━━━━━━━━━━━━\u001b[0m\u001b[37m\u001b[0m \u001b[1m0s\u001b[0m 42ms/step - loss: 0.2746 - sparse_categorical_accuracy: 0.9055 - val_loss: 0.2963 - val_sparse_categorical_accuracy: 0.8953 - learning_rate: 5.0000e-04\n",
      "Epoch 47/50\n",
      "\u001b[1m11/11\u001b[0m \u001b[32m━━━━━━━━━━━━━━━━━━━━\u001b[0m\u001b[37m\u001b[0m \u001b[1m1s\u001b[0m 44ms/step - loss: 0.2863 - sparse_categorical_accuracy: 0.8926 - val_loss: 0.2964 - val_sparse_categorical_accuracy: 0.8953 - learning_rate: 5.0000e-04\n",
      "Epoch 48/50\n",
      "\u001b[1m11/11\u001b[0m \u001b[32m━━━━━━━━━━━━━━━━━━━━\u001b[0m\u001b[37m\u001b[0m \u001b[1m1s\u001b[0m 45ms/step - loss: 0.2938 - sparse_categorical_accuracy: 0.8904 - val_loss: 0.2964 - val_sparse_categorical_accuracy: 0.8953 - learning_rate: 5.0000e-04\n",
      "Epoch 49/50\n",
      "\u001b[1m11/11\u001b[0m \u001b[32m━━━━━━━━━━━━━━━━━━━━\u001b[0m\u001b[37m\u001b[0m \u001b[1m0s\u001b[0m 43ms/step - loss: 0.2881 - sparse_categorical_accuracy: 0.8845 - val_loss: 0.2966 - val_sparse_categorical_accuracy: 0.8953 - learning_rate: 5.0000e-04\n",
      "Epoch 50/50\n",
      "\u001b[1m11/11\u001b[0m \u001b[32m━━━━━━━━━━━━━━━━━━━━\u001b[0m\u001b[37m\u001b[0m \u001b[1m0s\u001b[0m 43ms/step - loss: 0.2980 - sparse_categorical_accuracy: 0.8914 - val_loss: 0.2962 - val_sparse_categorical_accuracy: 0.8953 - learning_rate: 5.0000e-04\n"
     ]
    }
   ],
   "source": [
    "model_rnn.compile(\n",
    "    optimizer=\"adam\",\n",
    "    loss=\"sparse_categorical_crossentropy\",\n",
    "    metrics=[\"sparse_categorical_accuracy\"],\n",
    ")\n",
    "history = model_rnn.fit(\n",
    "    train_x,\n",
    "    train_y,\n",
    "    batch_size=batch_size,\n",
    "    epochs=epochs,\n",
    "    callbacks=callbacks,\n",
    "    validation_split=0.2,\n",
    "    verbose=1,\n",
    ")"
   ]
  },
  {
   "cell_type": "code",
   "execution_count": 137,
   "id": "92e8a822-85c3-43b1-906f-0185e359814e",
   "metadata": {},
   "outputs": [
    {
     "name": "stdout",
     "output_type": "stream",
     "text": [
      "\u001b[1m2/2\u001b[0m \u001b[32m━━━━━━━━━━━━━━━━━━━━\u001b[0m\u001b[37m\u001b[0m \u001b[1m1s\u001b[0m 11ms/step - loss: 0.4106 - sparse_categorical_accuracy: 0.8407 \n",
      "Test accuracy 0.8548387289047241\n",
      "Test loss 0.3817227780818939\n"
     ]
    }
   ],
   "source": [
    "model_rnn = tf.keras.models.load_model(\"best_model.keras\")\n",
    "\n",
    "test_loss, test_acc = model_rnn.evaluate(test_x, test_y)\n",
    "\n",
    "print(\"Test accuracy\", test_acc)\n",
    "print(\"Test loss\", test_loss)"
   ]
  },
  {
   "cell_type": "code",
   "execution_count": 138,
   "id": "03485e19-4b43-493e-ba52-3139b3f09fb2",
   "metadata": {},
   "outputs": [
    {
     "data": {
      "image/png": "[encoded data removed]",
      "text/plain": [
       "<Figure size 640x480 with 1 Axes>"
      ]
     },
     "metadata": {},
     "output_type": "display_data"
    }
   ],
   "source": [
    "metric = \"sparse_categorical_accuracy\"\n",
    "plt.figure()\n",
    "plt.plot(history.history[metric])\n",
    "plt.plot(history.history[\"val_\" + metric])\n",
    "plt.title(\"RNN \" + metric)\n",
    "plt.ylabel(metric, fontsize=\"large\")\n",
    "plt.xlabel(\"epoch\", fontsize=\"large\")\n",
    "plt.legend([\"train\", \"val\"], loc=\"best\")\n",
    "plt.show()\n",
    "plt.close()"
   ]
  },
  {
   "cell_type": "markdown",
   "id": "6cfabe83-03d7-44bf-91e5-405aed8d50d2",
   "metadata": {},
   "source": [
    "CNN"
   ]
  },
  {
   "cell_type": "code",
   "execution_count": 140,
   "id": "89978828-42a9-47fe-834a-04df86c7326a",
   "metadata": {},
   "outputs": [
    {
     "name": "stdout",
     "output_type": "stream",
     "text": [
      "Epoch 1/50\n",
      "\u001b[1m11/11\u001b[0m \u001b[32m━━━━━━━━━━━━━━━━━━━━\u001b[0m\u001b[37m\u001b[0m \u001b[1m2s\u001b[0m 30ms/step - loss: 0.7141 - sparse_categorical_accuracy: 0.5445 - val_loss: 0.6497 - val_sparse_categorical_accuracy: 0.6163 - learning_rate: 0.0010\n",
      "Epoch 2/50\n",
      "\u001b[1m11/11\u001b[0m \u001b[32m━━━━━━━━━━━━━━━━━━━━\u001b[0m\u001b[37m\u001b[0m \u001b[1m0s\u001b[0m 5ms/step - loss: 0.6085 - sparse_categorical_accuracy: 0.6571 - val_loss: 0.4601 - val_sparse_categorical_accuracy: 0.8953 - learning_rate: 0.0010\n",
      "Epoch 3/50\n",
      "\u001b[1m11/11\u001b[0m \u001b[32m━━━━━━━━━━━━━━━━━━━━\u001b[0m\u001b[37m\u001b[0m \u001b[1m0s\u001b[0m 6ms/step - loss: 0.3915 - sparse_categorical_accuracy: 0.9101 - val_loss: 0.3721 - val_sparse_categorical_accuracy: 0.8953 - learning_rate: 0.0010\n",
      "Epoch 4/50\n",
      "\u001b[1m11/11\u001b[0m \u001b[32m━━━━━━━━━━━━━━━━━━━━\u001b[0m\u001b[37m\u001b[0m \u001b[1m0s\u001b[0m 6ms/step - loss: 0.3004 - sparse_categorical_accuracy: 0.8984 - val_loss: 0.3369 - val_sparse_categorical_accuracy: 0.8953 - learning_rate: 0.0010\n",
      "Epoch 5/50\n",
      "\u001b[1m11/11\u001b[0m \u001b[32m━━━━━━━━━━━━━━━━━━━━\u001b[0m\u001b[37m\u001b[0m \u001b[1m0s\u001b[0m 10ms/step - loss: 0.2594 - sparse_categorical_accuracy: 0.9060 - val_loss: 0.3479 - val_sparse_categorical_accuracy: 0.8953 - learning_rate: 0.0010\n",
      "Epoch 6/50\n",
      "\u001b[1m11/11\u001b[0m \u001b[32m━━━━━━━━━━━━━━━━━━━━\u001b[0m\u001b[37m\u001b[0m \u001b[1m0s\u001b[0m 6ms/step - loss: 0.2654 - sparse_categorical_accuracy: 0.9150 - val_loss: 0.3542 - val_sparse_categorical_accuracy: 0.8953 - learning_rate: 0.0010\n",
      "Epoch 7/50\n",
      "\u001b[1m11/11\u001b[0m \u001b[32m━━━━━━━━━━━━━━━━━━━━\u001b[0m\u001b[37m\u001b[0m \u001b[1m0s\u001b[0m 6ms/step - loss: 0.2358 - sparse_categorical_accuracy: 0.9145 - val_loss: 0.3542 - val_sparse_categorical_accuracy: 0.8953 - learning_rate: 0.0010\n",
      "Epoch 8/50\n",
      "\u001b[1m11/11\u001b[0m \u001b[32m━━━━━━━━━━━━━━━━━━━━\u001b[0m\u001b[37m\u001b[0m \u001b[1m0s\u001b[0m 6ms/step - loss: 0.2969 - sparse_categorical_accuracy: 0.8895 - val_loss: 0.3550 - val_sparse_categorical_accuracy: 0.8953 - learning_rate: 0.0010\n",
      "Epoch 9/50\n",
      "\u001b[1m11/11\u001b[0m \u001b[32m━━━━━━━━━━━━━━━━━━━━\u001b[0m\u001b[37m\u001b[0m \u001b[1m0s\u001b[0m 5ms/step - loss: 0.2930 - sparse_categorical_accuracy: 0.8869 - val_loss: 0.3458 - val_sparse_categorical_accuracy: 0.8953 - learning_rate: 0.0010\n",
      "Epoch 10/50\n",
      "\u001b[1m11/11\u001b[0m \u001b[32m━━━━━━━━━━━━━━━━━━━━\u001b[0m\u001b[37m\u001b[0m \u001b[1m0s\u001b[0m 6ms/step - loss: 0.2581 - sparse_categorical_accuracy: 0.9134 - val_loss: 0.3695 - val_sparse_categorical_accuracy: 0.8953 - learning_rate: 0.0010\n",
      "Epoch 11/50\n",
      "\u001b[1m11/11\u001b[0m \u001b[32m━━━━━━━━━━━━━━━━━━━━\u001b[0m\u001b[37m\u001b[0m \u001b[1m0s\u001b[0m 6ms/step - loss: 0.2867 - sparse_categorical_accuracy: 0.9046 - val_loss: 0.3464 - val_sparse_categorical_accuracy: 0.8953 - learning_rate: 0.0010\n",
      "Epoch 12/50\n",
      "\u001b[1m11/11\u001b[0m \u001b[32m━━━━━━━━━━━━━━━━━━━━\u001b[0m\u001b[37m\u001b[0m \u001b[1m0s\u001b[0m 6ms/step - loss: 0.2251 - sparse_categorical_accuracy: 0.9157 - val_loss: 0.3577 - val_sparse_categorical_accuracy: 0.8953 - learning_rate: 0.0010\n",
      "Epoch 13/50\n",
      "\u001b[1m11/11\u001b[0m \u001b[32m━━━━━━━━━━━━━━━━━━━━\u001b[0m\u001b[37m\u001b[0m \u001b[1m0s\u001b[0m 5ms/step - loss: 0.3130 - sparse_categorical_accuracy: 0.8749 - val_loss: 0.3411 - val_sparse_categorical_accuracy: 0.8953 - learning_rate: 0.0010\n",
      "Epoch 14/50\n",
      "\u001b[1m11/11\u001b[0m \u001b[32m━━━━━━━━━━━━━━━━━━━━\u001b[0m\u001b[37m\u001b[0m \u001b[1m0s\u001b[0m 5ms/step - loss: 0.2782 - sparse_categorical_accuracy: 0.8946 - val_loss: 0.3630 - val_sparse_categorical_accuracy: 0.8953 - learning_rate: 0.0010\n",
      "Epoch 15/50\n",
      "\u001b[1m11/11\u001b[0m \u001b[32m━━━━━━━━━━━━━━━━━━━━\u001b[0m\u001b[37m\u001b[0m \u001b[1m0s\u001b[0m 6ms/step - loss: 0.2568 - sparse_categorical_accuracy: 0.9099 - val_loss: 0.3411 - val_sparse_categorical_accuracy: 0.8953 - learning_rate: 5.0000e-04\n",
      "Epoch 16/50\n",
      "\u001b[1m11/11\u001b[0m \u001b[32m━━━━━━━━━━━━━━━━━━━━\u001b[0m\u001b[37m\u001b[0m \u001b[1m0s\u001b[0m 5ms/step - loss: 0.2751 - sparse_categorical_accuracy: 0.8976 - val_loss: 0.3494 - val_sparse_categorical_accuracy: 0.8953 - learning_rate: 5.0000e-04\n",
      "Epoch 17/50\n",
      "\u001b[1m11/11\u001b[0m \u001b[32m━━━━━━━━━━━━━━━━━━━━\u001b[0m\u001b[37m\u001b[0m \u001b[1m0s\u001b[0m 6ms/step - loss: 0.2851 - sparse_categorical_accuracy: 0.8969 - val_loss: 0.3416 - val_sparse_categorical_accuracy: 0.8953 - learning_rate: 5.0000e-04\n",
      "Epoch 18/50\n",
      "\u001b[1m11/11\u001b[0m \u001b[32m━━━━━━━━━━━━━━━━━━━━\u001b[0m\u001b[37m\u001b[0m \u001b[1m0s\u001b[0m 6ms/step - loss: 0.2575 - sparse_categorical_accuracy: 0.8990 - val_loss: 0.3452 - val_sparse_categorical_accuracy: 0.8953 - learning_rate: 5.0000e-04\n",
      "Epoch 19/50\n",
      "\u001b[1m11/11\u001b[0m \u001b[32m━━━━━━━━━━━━━━━━━━━━\u001b[0m\u001b[37m\u001b[0m \u001b[1m0s\u001b[0m 6ms/step - loss: 0.2924 - sparse_categorical_accuracy: 0.8907 - val_loss: 0.3419 - val_sparse_categorical_accuracy: 0.8953 - learning_rate: 5.0000e-04\n",
      "Epoch 20/50\n",
      "\u001b[1m11/11\u001b[0m \u001b[32m━━━━━━━━━━━━━━━━━━━━\u001b[0m\u001b[37m\u001b[0m \u001b[1m0s\u001b[0m 5ms/step - loss: 0.2417 - sparse_categorical_accuracy: 0.9177 - val_loss: 0.3435 - val_sparse_categorical_accuracy: 0.8953 - learning_rate: 5.0000e-04\n",
      "Epoch 20: early stopping\n"
     ]
    }
   ],
   "source": [
    "model_cnn.compile(\n",
    "    optimizer=\"adam\",\n",
    "    loss=\"sparse_categorical_crossentropy\",\n",
    "    metrics=[\"sparse_categorical_accuracy\"],\n",
    ")\n",
    "history = model_cnn.fit(\n",
    "    train_x,\n",
    "    train_y,\n",
    "    batch_size=batch_size,\n",
    "    epochs=epochs,\n",
    "    callbacks=callbacks,\n",
    "    validation_split=0.2,\n",
    "    verbose=1,\n",
    ")"
   ]
  },
  {
   "cell_type": "code",
   "execution_count": 141,
   "id": "6c7d046f-80ed-472c-9009-996be9f4e9bd",
   "metadata": {},
   "outputs": [
    {
     "name": "stdout",
     "output_type": "stream",
     "text": [
      "\u001b[1m2/2\u001b[0m \u001b[32m━━━━━━━━━━━━━━━━━━━━\u001b[0m\u001b[37m\u001b[0m \u001b[1m1s\u001b[0m 10ms/step - loss: 0.4106 - sparse_categorical_accuracy: 0.8407 \n",
      "Test accuracy 0.8548387289047241\n",
      "Test loss 0.3817227780818939\n"
     ]
    }
   ],
   "source": [
    "model_cnn = tf.keras.models.load_model(\"best_model.keras\")\n",
    "\n",
    "test_loss, test_acc = model_cnn.evaluate(test_x, test_y)\n",
    "\n",
    "print(\"Test accuracy\", test_acc)\n",
    "print(\"Test loss\", test_loss)"
   ]
  },
  {
   "cell_type": "code",
   "execution_count": 142,
   "id": "7ca6f0e5-09bc-4f84-a0c6-49c58bdf50e0",
   "metadata": {},
   "outputs": [
    {
     "data": {
      "image/png": "[encoded data removed]",
      "text/plain": [
       "<Figure size 640x480 with 1 Axes>"
      ]
     },
     "metadata": {},
     "output_type": "display_data"
    }
   ],
   "source": [
    "metric = \"sparse_categorical_accuracy\"\n",
    "plt.figure()\n",
    "plt.plot(history.history[metric])\n",
    "plt.plot(history.history[\"val_\" + metric])\n",
    "plt.title(\"CNN: \" + metric)\n",
    "plt.ylabel(metric, fontsize=\"large\")\n",
    "plt.xlabel(\"epoch\", fontsize=\"large\")\n",
    "plt.legend([\"train\", \"val\"], loc=\"best\")\n",
    "plt.show()\n",
    "plt.close()"
   ]
  }
 ],
 "metadata": {
  "kernelspec": {
   "display_name": "Python 3 (ipykernel)",
   "language": "python",
   "name": "python3"
  },
  "language_info": {
   "codemirror_mode": {
    "name": "ipython",
    "version": 3
   },
   "file_extension": ".py",
   "mimetype": "text/x-python",
   "name": "python",
   "nbconvert_exporter": "python",
   "pygments_lexer": "ipython3",
   "version": "3.11.7"
  }
 },
 "nbformat": 4,
 "nbformat_minor": 5
}

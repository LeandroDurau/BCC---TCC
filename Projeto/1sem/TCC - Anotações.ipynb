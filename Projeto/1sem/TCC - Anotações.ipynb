{
 "cells": [
  {
   "cell_type": "markdown",
   "id": "a582f1e3-ceff-44db-aad7-0df0ba2fd329",
   "metadata": {},
   "source": [
    "Imports"
   ]
  },
  {
   "cell_type": "code",
   "execution_count": 483,
   "id": "3fbd3941-ac0c-4c2f-bd6b-05b1a16eaaf1",
   "metadata": {},
   "outputs": [],
   "source": [
    "import os\n",
    "import datetime\n",
    "\n",
    "import matplotlib as mpl\n",
    "import matplotlib.pyplot as plt\n",
    "import numpy as np\n",
    "import pandas as pd\n",
    "import seaborn as sns\n",
    "import tensorflow as tf\n",
    "import random"
   ]
  },
  {
   "cell_type": "markdown",
   "id": "c72fc89a-aae7-4f22-aa7e-ff2e57be8141",
   "metadata": {},
   "source": [
    "Base"
   ]
  },
  {
   "cell_type": "code",
   "execution_count": 485,
   "id": "6d0be208-f983-40fc-a756-afa40c5b3153",
   "metadata": {},
   "outputs": [
    {
     "data": {
      "text/plain": [
       "611"
      ]
     },
     "execution_count": 485,
     "metadata": {},
     "output_type": "execute_result"
    }
   ],
   "source": [
    "df = pd.read_excel(\"normalizado-Amaro.xlsx\",header = None)\n",
    "len(df)"
   ]
  },
  {
   "cell_type": "code",
   "execution_count": 486,
   "id": "493c199b-ca55-4183-9667-eaa08db18db6",
   "metadata": {
    "scrolled": true
   },
   "outputs": [
    {
     "data": {
      "text/html": [
       "<div>\n",
       "<style scoped>\n",
       "    .dataframe tbody tr th:only-of-type {\n",
       "        vertical-align: middle;\n",
       "    }\n",
       "\n",
       "    .dataframe tbody tr th {\n",
       "        vertical-align: top;\n",
       "    }\n",
       "\n",
       "    .dataframe thead th {\n",
       "        text-align: right;\n",
       "    }\n",
       "</style>\n",
       "<table border=\"1\" class=\"dataframe\">\n",
       "  <thead>\n",
       "    <tr style=\"text-align: right;\">\n",
       "      <th></th>\n",
       "      <th>0</th>\n",
       "      <th>1</th>\n",
       "      <th>2</th>\n",
       "      <th>3</th>\n",
       "      <th>4</th>\n",
       "      <th>5</th>\n",
       "      <th>6</th>\n",
       "      <th>7</th>\n",
       "      <th>8</th>\n",
       "      <th>9</th>\n",
       "      <th>...</th>\n",
       "      <th>177</th>\n",
       "      <th>178</th>\n",
       "      <th>179</th>\n",
       "      <th>180</th>\n",
       "      <th>181</th>\n",
       "      <th>182</th>\n",
       "      <th>183</th>\n",
       "      <th>184</th>\n",
       "      <th>185</th>\n",
       "      <th>186</th>\n",
       "    </tr>\n",
       "  </thead>\n",
       "  <tbody>\n",
       "    <tr>\n",
       "      <th>0</th>\n",
       "      <td>Normal</td>\n",
       "      <td>797.766418</td>\n",
       "      <td>797.683644</td>\n",
       "      <td>797.613187</td>\n",
       "      <td>797.693186</td>\n",
       "      <td>797.805090</td>\n",
       "      <td>797.753375</td>\n",
       "      <td>797.563333</td>\n",
       "      <td>798.000149</td>\n",
       "      <td>798.545036</td>\n",
       "      <td>...</td>\n",
       "      <td>592.738705</td>\n",
       "      <td>592.581189</td>\n",
       "      <td>592.574241</td>\n",
       "      <td>592.628389</td>\n",
       "      <td>592.679977</td>\n",
       "      <td>592.413202</td>\n",
       "      <td>592.498636</td>\n",
       "      <td>592.718366</td>\n",
       "      <td>592.774764</td>\n",
       "      <td>592.758179</td>\n",
       "    </tr>\n",
       "    <tr>\n",
       "      <th>1</th>\n",
       "      <td>Normal</td>\n",
       "      <td>592.893188</td>\n",
       "      <td>592.957595</td>\n",
       "      <td>593.003784</td>\n",
       "      <td>593.005584</td>\n",
       "      <td>592.966058</td>\n",
       "      <td>592.882190</td>\n",
       "      <td>592.813000</td>\n",
       "      <td>592.825978</td>\n",
       "      <td>592.895234</td>\n",
       "      <td>...</td>\n",
       "      <td>794.506726</td>\n",
       "      <td>794.468904</td>\n",
       "      <td>794.506192</td>\n",
       "      <td>794.539992</td>\n",
       "      <td>794.504967</td>\n",
       "      <td>794.480642</td>\n",
       "      <td>794.502439</td>\n",
       "      <td>794.498750</td>\n",
       "      <td>794.422782</td>\n",
       "      <td>794.261597</td>\n",
       "    </tr>\n",
       "    <tr>\n",
       "      <th>2</th>\n",
       "      <td>Normal</td>\n",
       "      <td>794.196960</td>\n",
       "      <td>794.211399</td>\n",
       "      <td>794.274985</td>\n",
       "      <td>794.233181</td>\n",
       "      <td>794.141157</td>\n",
       "      <td>794.145646</td>\n",
       "      <td>794.147134</td>\n",
       "      <td>794.578599</td>\n",
       "      <td>795.204511</td>\n",
       "      <td>...</td>\n",
       "      <td>589.918523</td>\n",
       "      <td>589.755735</td>\n",
       "      <td>589.709232</td>\n",
       "      <td>589.782470</td>\n",
       "      <td>589.833534</td>\n",
       "      <td>589.725387</td>\n",
       "      <td>589.636634</td>\n",
       "      <td>589.647622</td>\n",
       "      <td>589.832054</td>\n",
       "      <td>590.020081</td>\n",
       "    </tr>\n",
       "    <tr>\n",
       "      <th>3</th>\n",
       "      <td>Normal</td>\n",
       "      <td>590.020813</td>\n",
       "      <td>589.980242</td>\n",
       "      <td>589.939066</td>\n",
       "      <td>589.955064</td>\n",
       "      <td>589.928249</td>\n",
       "      <td>589.954199</td>\n",
       "      <td>589.980573</td>\n",
       "      <td>590.023051</td>\n",
       "      <td>590.055368</td>\n",
       "      <td>...</td>\n",
       "      <td>798.370259</td>\n",
       "      <td>798.434964</td>\n",
       "      <td>798.499558</td>\n",
       "      <td>798.577617</td>\n",
       "      <td>798.632516</td>\n",
       "      <td>798.559296</td>\n",
       "      <td>798.447329</td>\n",
       "      <td>798.398584</td>\n",
       "      <td>798.311089</td>\n",
       "      <td>798.115662</td>\n",
       "    </tr>\n",
       "    <tr>\n",
       "      <th>4</th>\n",
       "      <td>Normal</td>\n",
       "      <td>798.007568</td>\n",
       "      <td>797.974260</td>\n",
       "      <td>797.890975</td>\n",
       "      <td>797.847882</td>\n",
       "      <td>797.785183</td>\n",
       "      <td>797.676456</td>\n",
       "      <td>797.710671</td>\n",
       "      <td>797.755902</td>\n",
       "      <td>797.747933</td>\n",
       "      <td>...</td>\n",
       "      <td>590.733121</td>\n",
       "      <td>590.653185</td>\n",
       "      <td>590.584245</td>\n",
       "      <td>590.623168</td>\n",
       "      <td>590.698066</td>\n",
       "      <td>590.614059</td>\n",
       "      <td>590.577872</td>\n",
       "      <td>590.593340</td>\n",
       "      <td>590.600638</td>\n",
       "      <td>590.630615</td>\n",
       "    </tr>\n",
       "  </tbody>\n",
       "</table>\n",
       "<p>5 rows × 187 columns</p>\n",
       "</div>"
      ],
      "text/plain": [
       "      0           1           2           3           4           5    \\\n",
       "0  Normal  797.766418  797.683644  797.613187  797.693186  797.805090   \n",
       "1  Normal  592.893188  592.957595  593.003784  593.005584  592.966058   \n",
       "2  Normal  794.196960  794.211399  794.274985  794.233181  794.141157   \n",
       "3  Normal  590.020813  589.980242  589.939066  589.955064  589.928249   \n",
       "4  Normal  798.007568  797.974260  797.890975  797.847882  797.785183   \n",
       "\n",
       "          6           7           8           9    ...         177  \\\n",
       "0  797.753375  797.563333  798.000149  798.545036  ...  592.738705   \n",
       "1  592.882190  592.813000  592.825978  592.895234  ...  794.506726   \n",
       "2  794.145646  794.147134  794.578599  795.204511  ...  589.918523   \n",
       "3  589.954199  589.980573  590.023051  590.055368  ...  798.370259   \n",
       "4  797.676456  797.710671  797.755902  797.747933  ...  590.733121   \n",
       "\n",
       "          178         179         180         181         182         183  \\\n",
       "0  592.581189  592.574241  592.628389  592.679977  592.413202  592.498636   \n",
       "1  794.468904  794.506192  794.539992  794.504967  794.480642  794.502439   \n",
       "2  589.755735  589.709232  589.782470  589.833534  589.725387  589.636634   \n",
       "3  798.434964  798.499558  798.577617  798.632516  798.559296  798.447329   \n",
       "4  590.653185  590.584245  590.623168  590.698066  590.614059  590.577872   \n",
       "\n",
       "          184         185         186  \n",
       "0  592.718366  592.774764  592.758179  \n",
       "1  794.498750  794.422782  794.261597  \n",
       "2  589.647622  589.832054  590.020081  \n",
       "3  798.398584  798.311089  798.115662  \n",
       "4  590.593340  590.600638  590.630615  \n",
       "\n",
       "[5 rows x 187 columns]"
      ]
     },
     "execution_count": 486,
     "metadata": {},
     "output_type": "execute_result"
    }
   ],
   "source": [
    "df.head(5)"
   ]
  },
  {
   "cell_type": "code",
   "execution_count": 487,
   "id": "04a16d0e-b806-4ffe-baa5-67d7bafe6c6d",
   "metadata": {},
   "outputs": [],
   "source": [
    "df_x = df.drop([0],axis=1)"
   ]
  },
  {
   "cell_type": "code",
   "execution_count": 488,
   "id": "90d527b6-b32f-4367-89e7-398ee42b3511",
   "metadata": {},
   "outputs": [
    {
     "name": "stdout",
     "output_type": "stream",
     "text": [
      "['Normal' 'Duplo' 'Ritmo']\n"
     ]
    }
   ],
   "source": [
    "print(df[0].unique())"
   ]
  },
  {
   "cell_type": "code",
   "execution_count": 489,
   "id": "e623d495-99d1-4d11-8c71-ceed98131508",
   "metadata": {},
   "outputs": [],
   "source": [
    "# Classificando Normal = 0 e outros comportamentos como = 1\n",
    "df['fadiga'] = [0 if x == 'Normal' else 1 for x in df[0]]\n",
    "df['classes_completa'] = [0 if x == 'Normal' else 1 if x == 'Duplo' else 2 for x in df[0]]\n",
    "df_y =  df['fadiga']\n",
    "df_y_real = df['classes_completa']"
   ]
  },
  {
   "cell_type": "code",
   "execution_count": 490,
   "id": "999339a5-7cd7-46db-b3ca-e9b67710d51a",
   "metadata": {},
   "outputs": [
    {
     "name": "stdout",
     "output_type": "stream",
     "text": [
      "% de Normal: 88.54337152209493\n"
     ]
    }
   ],
   "source": [
    "count = 0\n",
    "for i in nova_df_y:\n",
    "    if i == 0:\n",
    "        count += 1\n",
    "print(f'% de Normal: {count/len(nova_df_y) * 100}')"
   ]
  },
  {
   "cell_type": "code",
   "execution_count": 491,
   "id": "a04c9f31-5705-4470-badb-a68b4439b18c",
   "metadata": {},
   "outputs": [
    {
     "data": {
      "image/png": "[encoded data removed]",
      "text/plain": [
       "<Figure size 640x480 with 1 Axes>"
      ]
     },
     "metadata": {},
     "output_type": "display_data"
    }
   ],
   "source": [
    "#Mostrando exemplos de cada classe\n",
    "classes = np.unique(df_y_real, axis=0)\n",
    "idx = np.random.default_rng(seed=42).permutation(len(nova_df_x))#np.random.permutation(len(nova_df_x))\n",
    "nova_df_x = df_x.values[idx]\n",
    "nova_df_y = df_y_real.values[idx]\n",
    "plt.figure()\n",
    "for c in classes:\n",
    "    c_x_train = nova_df_x[nova_df_y == c]\n",
    "    if c == 0:\n",
    "        text = 'Normal'\n",
    "    if c == 1:\n",
    "        text = 'Duplo'\n",
    "    if c == 2:\n",
    "        text = 'Ritmo'\n",
    "    plt.plot(c_x_train[0], label=\"class \" + str(text))\n",
    "plt.legend(loc=\"best\")\n",
    "plt.show()\n",
    "plt.close()"
   ]
  },
  {
   "cell_type": "markdown",
   "id": "b3f620ae-cda1-4de6-b6a2-035a37c66227",
   "metadata": {},
   "source": [
    "Treino e Teste"
   ]
  },
  {
   "cell_type": "code",
   "execution_count": 493,
   "id": "dd331278-1ca6-4269-b01e-488615e4b0ab",
   "metadata": {},
   "outputs": [],
   "source": [
    "#Randomizar a ordem\n",
    "idx = np.random.permutation(len(nova_df_x))\n",
    "nova_df_x = df_x.values[idx]\n",
    "nova_df_y = df_y.values[idx]\n",
    "\n",
    "#Separar em Treino (70%), Validação (20%) e Teste (10%)\n",
    "n = len(nova_df_x)\n",
    "train_df_x = nova_df_x[0:int(n*0.7)]\n",
    "val_df_x = nova_df_x[int(n*0.7):int(n*0.9)]\n",
    "test_df_x = nova_df_x[int(n*0.9):]\n",
    "\n",
    "train_df_y = nova_df_y[0:int(n*0.7)]\n",
    "val_df_y = nova_df_y[int(n*0.7):int(n*0.9)]\n",
    "test_df_y = nova_df_y[int(n*0.9):]\n",
    "\n",
    "train_x,train_y = train_df_x,train_df_y\n",
    "val_x,val_y = val_df_x,val_df_y\n",
    "test_x,test_y = test_df_x,test_df_y\n",
    "num_features = test_df_x.shape[1]"
   ]
  },
  {
   "cell_type": "markdown",
   "id": "48874328-73b6-4d84-8970-3a2a916a6fee",
   "metadata": {},
   "source": [
    "Normalização"
   ]
  },
  {
   "cell_type": "code",
   "execution_count": 495,
   "id": "2d1a6b21-7c80-4aa5-884c-23310df16f6f",
   "metadata": {},
   "outputs": [],
   "source": [
    "train_mean = train_x.mean()\n",
    "train_std = train_x.std()\n",
    "\n",
    "train_x = (train_x - train_mean) / train_std\n",
    "val_x = (val_x - train_mean) / train_std\n",
    "test_x = (test_x - train_mean) / train_std"
   ]
  },
  {
   "cell_type": "code",
   "execution_count": 496,
   "id": "6c9fe054-1122-488a-8c27-2815a9206198",
   "metadata": {},
   "outputs": [],
   "source": [
    "num_classes = len(np.unique(train_y))"
   ]
  },
  {
   "cell_type": "code",
   "execution_count": 497,
   "id": "798dc0c8-ce37-4b05-ada0-30cc72f5a44c",
   "metadata": {},
   "outputs": [],
   "source": [
    "train_x = train_x.reshape((train_x.shape[0], train_x.shape[1], 1))\n",
    "val_x = val_x.reshape((val_x.shape[0], val_x.shape[1], 1))\n",
    "test_x = test_x.reshape((test_x.shape[0], test_x.shape[1], 1))"
   ]
  },
  {
   "cell_type": "code",
   "execution_count": 498,
   "id": "16b91b6d-58e5-492b-ac54-000ca0e6ad62",
   "metadata": {},
   "outputs": [
    {
     "data": {
      "text/plain": [
       "(427, 186, 1)"
      ]
     },
     "execution_count": 498,
     "metadata": {},
     "output_type": "execute_result"
    }
   ],
   "source": [
    "train_x.shape"
   ]
  },
  {
   "cell_type": "markdown",
   "id": "17ec4761-518a-4de7-b7ff-66ed657b15b3",
   "metadata": {},
   "source": [
    "Modelo"
   ]
  },
  {
   "cell_type": "code",
   "execution_count": 500,
   "id": "edfaa189-7a9c-4c6d-81d3-afafa6acf32c",
   "metadata": {},
   "outputs": [],
   "source": [
    "def make_model_lstm(input_shape):\n",
    "    input_layer = tf.keras.layers.Input(input_shape)\n",
    "    lstm1 = tf.keras.layers.LSTM(16,return_sequences=True)(input_layer)\n",
    "    lstm2 = tf.keras.layers.LSTM(8)(lstm1)\n",
    "    output_layer = tf.keras.layers.Dense(num_classes)(lstm2)\n",
    "    return tf.keras.models.Model(inputs=input_layer, outputs=output_layer)"
   ]
  },
  {
   "cell_type": "code",
   "execution_count": 501,
   "id": "3b19f45a-eb58-467b-a98d-70358e28a0de",
   "metadata": {},
   "outputs": [],
   "source": [
    "def make_model_rnn(input_shape):\n",
    "    input_layer = tf.keras.layers.Input(input_shape)\n",
    "    rnn1 = tf.keras.layers.SimpleRNN(16,return_sequences=True)(input_layer)\n",
    "    rnn2 = tf.keras.layers.SimpleRNN(8)(rnn1)\n",
    "    output_layer = tf.keras.layers.Dense(num_classes, activation='softmax')(rnn2)\n",
    "    return tf.keras.models.Model(inputs=input_layer, outputs=output_layer)"
   ]
  },
  {
   "cell_type": "code",
   "execution_count": 502,
   "id": "741844ed-fb24-41c1-ba2c-e23990050fa5",
   "metadata": {},
   "outputs": [],
   "source": [
    "def make_model_cnn(input_shape):\n",
    "    input_layer = tf.keras.layers.Input(input_shape)\n",
    "    cn2 = tf.keras.layers.Conv1D(32,kernel_size=3,padding=\"same\")(input_layer)\n",
    "    max = tf.keras.layers.MaxPooling1D()(cn2)\n",
    "    flat = tf.keras.layers.Flatten()(max)\n",
    "    output_layer = tf.keras.layers.Dense(num_classes, activation='softmax')(flat)\n",
    "    return tf.keras.models.Model(inputs=input_layer, outputs=output_layer)"
   ]
  },
  {
   "cell_type": "code",
   "execution_count": 503,
   "id": "d0169b7d-03c6-444e-8c3a-4b54dc6a2275",
   "metadata": {},
   "outputs": [],
   "source": [
    "def make_model_fcnn(input_shape):\n",
    "    input_layer = tf.keras.layers.Input(input_shape)\n",
    "\n",
    "    conv1 = tf.keras.layers.Conv1D(filters=64, kernel_size=3, padding=\"same\")(input_layer)\n",
    "    conv1 = tf.keras.layers.BatchNormalization()(conv1)\n",
    "    conv1 = tf.keras.layers.ReLU()(conv1)\n",
    "\n",
    "    conv2 = tf.keras.layers.Conv1D(filters=64, kernel_size=3, padding=\"same\")(conv1)\n",
    "    conv2 = tf.keras.layers.BatchNormalization()(conv2)\n",
    "    conv2 = tf.keras.layers.ReLU()(conv2)\n",
    "\n",
    "    conv3 = tf.keras.layers.Conv1D(filters=64, kernel_size=3, padding=\"same\")(conv2)\n",
    "    conv3 = tf.keras.layers.BatchNormalization()(conv3)\n",
    "    conv3 = tf.keras.layers.ReLU()(conv3)\n",
    "\n",
    "    gap = tf.keras.layers.GlobalAveragePooling1D()(conv3)\n",
    "\n",
    "    output_layer = tf.keras.layers.Dense(num_classes, activation=\"softmax\")(gap)\n",
    "\n",
    "    return tf.keras.models.Model(inputs=input_layer, outputs=output_layer)"
   ]
  },
  {
   "cell_type": "code",
   "execution_count": 504,
   "id": "bea2a981-b95b-4dc2-8411-464726503c64",
   "metadata": {},
   "outputs": [
    {
     "data": {
      "text/html": [
       "<pre style=\"white-space:pre;overflow-x:auto;line-height:normal;font-family:Menlo,'DejaVu Sans Mono',consolas,'Courier New',monospace\"><span style=\"font-weight: bold\">Model: \"functional_25\"</span>\n",
       "</pre>\n"
      ],
      "text/plain": [
       "\u001b[1mModel: \"functional_25\"\u001b[0m\n"
      ]
     },
     "metadata": {},
     "output_type": "display_data"
    },
    {
     "data": {
      "text/html": [
       "<pre style=\"white-space:pre;overflow-x:auto;line-height:normal;font-family:Menlo,'DejaVu Sans Mono',consolas,'Courier New',monospace\">┏━━━━━━━━━━━━━━━━━━━━━━━━━━━━━━━━━━━━━━┳━━━━━━━━━━━━━━━━━━━━━━━━━━━━━┳━━━━━━━━━━━━━━━━━┓\n",
       "┃<span style=\"font-weight: bold\"> Layer (type)                         </span>┃<span style=\"font-weight: bold\"> Output Shape                </span>┃<span style=\"font-weight: bold\">         Param # </span>┃\n",
       "┡━━━━━━━━━━━━━━━━━━━━━━━━━━━━━━━━━━━━━━╇━━━━━━━━━━━━━━━━━━━━━━━━━━━━━╇━━━━━━━━━━━━━━━━━┩\n",
       "│ input_layer_12 (<span style=\"color: #0087ff; text-decoration-color: #0087ff\">InputLayer</span>)          │ (<span style=\"color: #00d7ff; text-decoration-color: #00d7ff\">None</span>, <span style=\"color: #00af00; text-decoration-color: #00af00\">186</span>, <span style=\"color: #00af00; text-decoration-color: #00af00\">1</span>)              │               <span style=\"color: #00af00; text-decoration-color: #00af00\">0</span> │\n",
       "├──────────────────────────────────────┼─────────────────────────────┼─────────────────┤\n",
       "│ lstm_8 (<span style=\"color: #0087ff; text-decoration-color: #0087ff\">LSTM</span>)                        │ (<span style=\"color: #00d7ff; text-decoration-color: #00d7ff\">None</span>, <span style=\"color: #00af00; text-decoration-color: #00af00\">186</span>, <span style=\"color: #00af00; text-decoration-color: #00af00\">16</span>)             │           <span style=\"color: #00af00; text-decoration-color: #00af00\">1,152</span> │\n",
       "├──────────────────────────────────────┼─────────────────────────────┼─────────────────┤\n",
       "│ lstm_9 (<span style=\"color: #0087ff; text-decoration-color: #0087ff\">LSTM</span>)                        │ (<span style=\"color: #00d7ff; text-decoration-color: #00d7ff\">None</span>, <span style=\"color: #00af00; text-decoration-color: #00af00\">8</span>)                   │             <span style=\"color: #00af00; text-decoration-color: #00af00\">800</span> │\n",
       "├──────────────────────────────────────┼─────────────────────────────┼─────────────────┤\n",
       "│ dense_12 (<span style=\"color: #0087ff; text-decoration-color: #0087ff\">Dense</span>)                     │ (<span style=\"color: #00d7ff; text-decoration-color: #00d7ff\">None</span>, <span style=\"color: #00af00; text-decoration-color: #00af00\">2</span>)                   │              <span style=\"color: #00af00; text-decoration-color: #00af00\">18</span> │\n",
       "└──────────────────────────────────────┴─────────────────────────────┴─────────────────┘\n",
       "</pre>\n"
      ],
      "text/plain": [
       "┏━━━━━━━━━━━━━━━━━━━━━━━━━━━━━━━━━━━━━━┳━━━━━━━━━━━━━━━━━━━━━━━━━━━━━┳━━━━━━━━━━━━━━━━━┓\n",
       "┃\u001b[1m \u001b[0m\u001b[1mLayer (type)                        \u001b[0m\u001b[1m \u001b[0m┃\u001b[1m \u001b[0m\u001b[1mOutput Shape               \u001b[0m\u001b[1m \u001b[0m┃\u001b[1m \u001b[0m\u001b[1m        Param #\u001b[0m\u001b[1m \u001b[0m┃\n",
       "┡━━━━━━━━━━━━━━━━━━━━━━━━━━━━━━━━━━━━━━╇━━━━━━━━━━━━━━━━━━━━━━━━━━━━━╇━━━━━━━━━━━━━━━━━┩\n",
       "│ input_layer_12 (\u001b[38;5;33mInputLayer\u001b[0m)          │ (\u001b[38;5;45mNone\u001b[0m, \u001b[38;5;34m186\u001b[0m, \u001b[38;5;34m1\u001b[0m)              │               \u001b[38;5;34m0\u001b[0m │\n",
       "├──────────────────────────────────────┼─────────────────────────────┼─────────────────┤\n",
       "│ lstm_8 (\u001b[38;5;33mLSTM\u001b[0m)                        │ (\u001b[38;5;45mNone\u001b[0m, \u001b[38;5;34m186\u001b[0m, \u001b[38;5;34m16\u001b[0m)             │           \u001b[38;5;34m1,152\u001b[0m │\n",
       "├──────────────────────────────────────┼─────────────────────────────┼─────────────────┤\n",
       "│ lstm_9 (\u001b[38;5;33mLSTM\u001b[0m)                        │ (\u001b[38;5;45mNone\u001b[0m, \u001b[38;5;34m8\u001b[0m)                   │             \u001b[38;5;34m800\u001b[0m │\n",
       "├──────────────────────────────────────┼─────────────────────────────┼─────────────────┤\n",
       "│ dense_12 (\u001b[38;5;33mDense\u001b[0m)                     │ (\u001b[38;5;45mNone\u001b[0m, \u001b[38;5;34m2\u001b[0m)                   │              \u001b[38;5;34m18\u001b[0m │\n",
       "└──────────────────────────────────────┴─────────────────────────────┴─────────────────┘\n"
      ]
     },
     "metadata": {},
     "output_type": "display_data"
    },
    {
     "data": {
      "text/html": [
       "<pre style=\"white-space:pre;overflow-x:auto;line-height:normal;font-family:Menlo,'DejaVu Sans Mono',consolas,'Courier New',monospace\"><span style=\"font-weight: bold\"> Total params: </span><span style=\"color: #00af00; text-decoration-color: #00af00\">1,970</span> (7.70 KB)\n",
       "</pre>\n"
      ],
      "text/plain": [
       "\u001b[1m Total params: \u001b[0m\u001b[38;5;34m1,970\u001b[0m (7.70 KB)\n"
      ]
     },
     "metadata": {},
     "output_type": "display_data"
    },
    {
     "data": {
      "text/html": [
       "<pre style=\"white-space:pre;overflow-x:auto;line-height:normal;font-family:Menlo,'DejaVu Sans Mono',consolas,'Courier New',monospace\"><span style=\"font-weight: bold\"> Trainable params: </span><span style=\"color: #00af00; text-decoration-color: #00af00\">1,970</span> (7.70 KB)\n",
       "</pre>\n"
      ],
      "text/plain": [
       "\u001b[1m Trainable params: \u001b[0m\u001b[38;5;34m1,970\u001b[0m (7.70 KB)\n"
      ]
     },
     "metadata": {},
     "output_type": "display_data"
    },
    {
     "data": {
      "text/html": [
       "<pre style=\"white-space:pre;overflow-x:auto;line-height:normal;font-family:Menlo,'DejaVu Sans Mono',consolas,'Courier New',monospace\"><span style=\"font-weight: bold\"> Non-trainable params: </span><span style=\"color: #00af00; text-decoration-color: #00af00\">0</span> (0.00 B)\n",
       "</pre>\n"
      ],
      "text/plain": [
       "\u001b[1m Non-trainable params: \u001b[0m\u001b[38;5;34m0\u001b[0m (0.00 B)\n"
      ]
     },
     "metadata": {},
     "output_type": "display_data"
    }
   ],
   "source": [
    "model_lstm = make_model_lstm(input_shape= train_x.shape[1:])\n",
    "\n",
    "model_lstm.summary()"
   ]
  },
  {
   "cell_type": "code",
   "execution_count": 505,
   "id": "83a3bbbb-0a68-490b-8f1a-8182d4dc5a96",
   "metadata": {},
   "outputs": [
    {
     "data": {
      "text/html": [
       "<pre style=\"white-space:pre;overflow-x:auto;line-height:normal;font-family:Menlo,'DejaVu Sans Mono',consolas,'Courier New',monospace\"><span style=\"font-weight: bold\">Model: \"functional_27\"</span>\n",
       "</pre>\n"
      ],
      "text/plain": [
       "\u001b[1mModel: \"functional_27\"\u001b[0m\n"
      ]
     },
     "metadata": {},
     "output_type": "display_data"
    },
    {
     "data": {
      "text/html": [
       "<pre style=\"white-space:pre;overflow-x:auto;line-height:normal;font-family:Menlo,'DejaVu Sans Mono',consolas,'Courier New',monospace\">┏━━━━━━━━━━━━━━━━━━━━━━━━━━━━━━━━━━━━━━┳━━━━━━━━━━━━━━━━━━━━━━━━━━━━━┳━━━━━━━━━━━━━━━━━┓\n",
       "┃<span style=\"font-weight: bold\"> Layer (type)                         </span>┃<span style=\"font-weight: bold\"> Output Shape                </span>┃<span style=\"font-weight: bold\">         Param # </span>┃\n",
       "┡━━━━━━━━━━━━━━━━━━━━━━━━━━━━━━━━━━━━━━╇━━━━━━━━━━━━━━━━━━━━━━━━━━━━━╇━━━━━━━━━━━━━━━━━┩\n",
       "│ input_layer_13 (<span style=\"color: #0087ff; text-decoration-color: #0087ff\">InputLayer</span>)          │ (<span style=\"color: #00d7ff; text-decoration-color: #00d7ff\">None</span>, <span style=\"color: #00af00; text-decoration-color: #00af00\">186</span>, <span style=\"color: #00af00; text-decoration-color: #00af00\">1</span>)              │               <span style=\"color: #00af00; text-decoration-color: #00af00\">0</span> │\n",
       "├──────────────────────────────────────┼─────────────────────────────┼─────────────────┤\n",
       "│ simple_rnn_8 (<span style=\"color: #0087ff; text-decoration-color: #0087ff\">SimpleRNN</span>)             │ (<span style=\"color: #00d7ff; text-decoration-color: #00d7ff\">None</span>, <span style=\"color: #00af00; text-decoration-color: #00af00\">186</span>, <span style=\"color: #00af00; text-decoration-color: #00af00\">16</span>)             │             <span style=\"color: #00af00; text-decoration-color: #00af00\">288</span> │\n",
       "├──────────────────────────────────────┼─────────────────────────────┼─────────────────┤\n",
       "│ simple_rnn_9 (<span style=\"color: #0087ff; text-decoration-color: #0087ff\">SimpleRNN</span>)             │ (<span style=\"color: #00d7ff; text-decoration-color: #00d7ff\">None</span>, <span style=\"color: #00af00; text-decoration-color: #00af00\">8</span>)                   │             <span style=\"color: #00af00; text-decoration-color: #00af00\">200</span> │\n",
       "├──────────────────────────────────────┼─────────────────────────────┼─────────────────┤\n",
       "│ dense_13 (<span style=\"color: #0087ff; text-decoration-color: #0087ff\">Dense</span>)                     │ (<span style=\"color: #00d7ff; text-decoration-color: #00d7ff\">None</span>, <span style=\"color: #00af00; text-decoration-color: #00af00\">2</span>)                   │              <span style=\"color: #00af00; text-decoration-color: #00af00\">18</span> │\n",
       "└──────────────────────────────────────┴─────────────────────────────┴─────────────────┘\n",
       "</pre>\n"
      ],
      "text/plain": [
       "┏━━━━━━━━━━━━━━━━━━━━━━━━━━━━━━━━━━━━━━┳━━━━━━━━━━━━━━━━━━━━━━━━━━━━━┳━━━━━━━━━━━━━━━━━┓\n",
       "┃\u001b[1m \u001b[0m\u001b[1mLayer (type)                        \u001b[0m\u001b[1m \u001b[0m┃\u001b[1m \u001b[0m\u001b[1mOutput Shape               \u001b[0m\u001b[1m \u001b[0m┃\u001b[1m \u001b[0m\u001b[1m        Param #\u001b[0m\u001b[1m \u001b[0m┃\n",
       "┡━━━━━━━━━━━━━━━━━━━━━━━━━━━━━━━━━━━━━━╇━━━━━━━━━━━━━━━━━━━━━━━━━━━━━╇━━━━━━━━━━━━━━━━━┩\n",
       "│ input_layer_13 (\u001b[38;5;33mInputLayer\u001b[0m)          │ (\u001b[38;5;45mNone\u001b[0m, \u001b[38;5;34m186\u001b[0m, \u001b[38;5;34m1\u001b[0m)              │               \u001b[38;5;34m0\u001b[0m │\n",
       "├──────────────────────────────────────┼─────────────────────────────┼─────────────────┤\n",
       "│ simple_rnn_8 (\u001b[38;5;33mSimpleRNN\u001b[0m)             │ (\u001b[38;5;45mNone\u001b[0m, \u001b[38;5;34m186\u001b[0m, \u001b[38;5;34m16\u001b[0m)             │             \u001b[38;5;34m288\u001b[0m │\n",
       "├──────────────────────────────────────┼─────────────────────────────┼─────────────────┤\n",
       "│ simple_rnn_9 (\u001b[38;5;33mSimpleRNN\u001b[0m)             │ (\u001b[38;5;45mNone\u001b[0m, \u001b[38;5;34m8\u001b[0m)                   │             \u001b[38;5;34m200\u001b[0m │\n",
       "├──────────────────────────────────────┼─────────────────────────────┼─────────────────┤\n",
       "│ dense_13 (\u001b[38;5;33mDense\u001b[0m)                     │ (\u001b[38;5;45mNone\u001b[0m, \u001b[38;5;34m2\u001b[0m)                   │              \u001b[38;5;34m18\u001b[0m │\n",
       "└──────────────────────────────────────┴─────────────────────────────┴─────────────────┘\n"
      ]
     },
     "metadata": {},
     "output_type": "display_data"
    },
    {
     "data": {
      "text/html": [
       "<pre style=\"white-space:pre;overflow-x:auto;line-height:normal;font-family:Menlo,'DejaVu Sans Mono',consolas,'Courier New',monospace\"><span style=\"font-weight: bold\"> Total params: </span><span style=\"color: #00af00; text-decoration-color: #00af00\">506</span> (1.98 KB)\n",
       "</pre>\n"
      ],
      "text/plain": [
       "\u001b[1m Total params: \u001b[0m\u001b[38;5;34m506\u001b[0m (1.98 KB)\n"
      ]
     },
     "metadata": {},
     "output_type": "display_data"
    },
    {
     "data": {
      "text/html": [
       "<pre style=\"white-space:pre;overflow-x:auto;line-height:normal;font-family:Menlo,'DejaVu Sans Mono',consolas,'Courier New',monospace\"><span style=\"font-weight: bold\"> Trainable params: </span><span style=\"color: #00af00; text-decoration-color: #00af00\">506</span> (1.98 KB)\n",
       "</pre>\n"
      ],
      "text/plain": [
       "\u001b[1m Trainable params: \u001b[0m\u001b[38;5;34m506\u001b[0m (1.98 KB)\n"
      ]
     },
     "metadata": {},
     "output_type": "display_data"
    },
    {
     "data": {
      "text/html": [
       "<pre style=\"white-space:pre;overflow-x:auto;line-height:normal;font-family:Menlo,'DejaVu Sans Mono',consolas,'Courier New',monospace\"><span style=\"font-weight: bold\"> Non-trainable params: </span><span style=\"color: #00af00; text-decoration-color: #00af00\">0</span> (0.00 B)\n",
       "</pre>\n"
      ],
      "text/plain": [
       "\u001b[1m Non-trainable params: \u001b[0m\u001b[38;5;34m0\u001b[0m (0.00 B)\n"
      ]
     },
     "metadata": {},
     "output_type": "display_data"
    }
   ],
   "source": [
    "model_rnn = make_model_rnn(input_shape= train_x.shape[1:])\n",
    "\n",
    "model_rnn.summary()"
   ]
  },
  {
   "cell_type": "code",
   "execution_count": 506,
   "id": "51dff9aa-f08a-4fa2-be4e-3f3b33fe6022",
   "metadata": {},
   "outputs": [
    {
     "data": {
      "text/html": [
       "<pre style=\"white-space:pre;overflow-x:auto;line-height:normal;font-family:Menlo,'DejaVu Sans Mono',consolas,'Courier New',monospace\"><span style=\"font-weight: bold\">Model: \"functional_29\"</span>\n",
       "</pre>\n"
      ],
      "text/plain": [
       "\u001b[1mModel: \"functional_29\"\u001b[0m\n"
      ]
     },
     "metadata": {},
     "output_type": "display_data"
    },
    {
     "data": {
      "text/html": [
       "<pre style=\"white-space:pre;overflow-x:auto;line-height:normal;font-family:Menlo,'DejaVu Sans Mono',consolas,'Courier New',monospace\">┏━━━━━━━━━━━━━━━━━━━━━━━━━━━━━━━━━━━━━━┳━━━━━━━━━━━━━━━━━━━━━━━━━━━━━┳━━━━━━━━━━━━━━━━━┓\n",
       "┃<span style=\"font-weight: bold\"> Layer (type)                         </span>┃<span style=\"font-weight: bold\"> Output Shape                </span>┃<span style=\"font-weight: bold\">         Param # </span>┃\n",
       "┡━━━━━━━━━━━━━━━━━━━━━━━━━━━━━━━━━━━━━━╇━━━━━━━━━━━━━━━━━━━━━━━━━━━━━╇━━━━━━━━━━━━━━━━━┩\n",
       "│ input_layer_14 (<span style=\"color: #0087ff; text-decoration-color: #0087ff\">InputLayer</span>)          │ (<span style=\"color: #00d7ff; text-decoration-color: #00d7ff\">None</span>, <span style=\"color: #00af00; text-decoration-color: #00af00\">186</span>, <span style=\"color: #00af00; text-decoration-color: #00af00\">1</span>)              │               <span style=\"color: #00af00; text-decoration-color: #00af00\">0</span> │\n",
       "├──────────────────────────────────────┼─────────────────────────────┼─────────────────┤\n",
       "│ conv1d_4 (<span style=\"color: #0087ff; text-decoration-color: #0087ff\">Conv1D</span>)                    │ (<span style=\"color: #00d7ff; text-decoration-color: #00d7ff\">None</span>, <span style=\"color: #00af00; text-decoration-color: #00af00\">186</span>, <span style=\"color: #00af00; text-decoration-color: #00af00\">32</span>)             │             <span style=\"color: #00af00; text-decoration-color: #00af00\">128</span> │\n",
       "├──────────────────────────────────────┼─────────────────────────────┼─────────────────┤\n",
       "│ max_pooling1d_4 (<span style=\"color: #0087ff; text-decoration-color: #0087ff\">MaxPooling1D</span>)       │ (<span style=\"color: #00d7ff; text-decoration-color: #00d7ff\">None</span>, <span style=\"color: #00af00; text-decoration-color: #00af00\">93</span>, <span style=\"color: #00af00; text-decoration-color: #00af00\">32</span>)              │               <span style=\"color: #00af00; text-decoration-color: #00af00\">0</span> │\n",
       "├──────────────────────────────────────┼─────────────────────────────┼─────────────────┤\n",
       "│ flatten_4 (<span style=\"color: #0087ff; text-decoration-color: #0087ff\">Flatten</span>)                  │ (<span style=\"color: #00d7ff; text-decoration-color: #00d7ff\">None</span>, <span style=\"color: #00af00; text-decoration-color: #00af00\">2976</span>)                │               <span style=\"color: #00af00; text-decoration-color: #00af00\">0</span> │\n",
       "├──────────────────────────────────────┼─────────────────────────────┼─────────────────┤\n",
       "│ dense_14 (<span style=\"color: #0087ff; text-decoration-color: #0087ff\">Dense</span>)                     │ (<span style=\"color: #00d7ff; text-decoration-color: #00d7ff\">None</span>, <span style=\"color: #00af00; text-decoration-color: #00af00\">2</span>)                   │           <span style=\"color: #00af00; text-decoration-color: #00af00\">5,954</span> │\n",
       "└──────────────────────────────────────┴─────────────────────────────┴─────────────────┘\n",
       "</pre>\n"
      ],
      "text/plain": [
       "┏━━━━━━━━━━━━━━━━━━━━━━━━━━━━━━━━━━━━━━┳━━━━━━━━━━━━━━━━━━━━━━━━━━━━━┳━━━━━━━━━━━━━━━━━┓\n",
       "┃\u001b[1m \u001b[0m\u001b[1mLayer (type)                        \u001b[0m\u001b[1m \u001b[0m┃\u001b[1m \u001b[0m\u001b[1mOutput Shape               \u001b[0m\u001b[1m \u001b[0m┃\u001b[1m \u001b[0m\u001b[1m        Param #\u001b[0m\u001b[1m \u001b[0m┃\n",
       "┡━━━━━━━━━━━━━━━━━━━━━━━━━━━━━━━━━━━━━━╇━━━━━━━━━━━━━━━━━━━━━━━━━━━━━╇━━━━━━━━━━━━━━━━━┩\n",
       "│ input_layer_14 (\u001b[38;5;33mInputLayer\u001b[0m)          │ (\u001b[38;5;45mNone\u001b[0m, \u001b[38;5;34m186\u001b[0m, \u001b[38;5;34m1\u001b[0m)              │               \u001b[38;5;34m0\u001b[0m │\n",
       "├──────────────────────────────────────┼─────────────────────────────┼─────────────────┤\n",
       "│ conv1d_4 (\u001b[38;5;33mConv1D\u001b[0m)                    │ (\u001b[38;5;45mNone\u001b[0m, \u001b[38;5;34m186\u001b[0m, \u001b[38;5;34m32\u001b[0m)             │             \u001b[38;5;34m128\u001b[0m │\n",
       "├──────────────────────────────────────┼─────────────────────────────┼─────────────────┤\n",
       "│ max_pooling1d_4 (\u001b[38;5;33mMaxPooling1D\u001b[0m)       │ (\u001b[38;5;45mNone\u001b[0m, \u001b[38;5;34m93\u001b[0m, \u001b[38;5;34m32\u001b[0m)              │               \u001b[38;5;34m0\u001b[0m │\n",
       "├──────────────────────────────────────┼─────────────────────────────┼─────────────────┤\n",
       "│ flatten_4 (\u001b[38;5;33mFlatten\u001b[0m)                  │ (\u001b[38;5;45mNone\u001b[0m, \u001b[38;5;34m2976\u001b[0m)                │               \u001b[38;5;34m0\u001b[0m │\n",
       "├──────────────────────────────────────┼─────────────────────────────┼─────────────────┤\n",
       "│ dense_14 (\u001b[38;5;33mDense\u001b[0m)                     │ (\u001b[38;5;45mNone\u001b[0m, \u001b[38;5;34m2\u001b[0m)                   │           \u001b[38;5;34m5,954\u001b[0m │\n",
       "└──────────────────────────────────────┴─────────────────────────────┴─────────────────┘\n"
      ]
     },
     "metadata": {},
     "output_type": "display_data"
    },
    {
     "data": {
      "text/html": [
       "<pre style=\"white-space:pre;overflow-x:auto;line-height:normal;font-family:Menlo,'DejaVu Sans Mono',consolas,'Courier New',monospace\"><span style=\"font-weight: bold\"> Total params: </span><span style=\"color: #00af00; text-decoration-color: #00af00\">6,082</span> (23.76 KB)\n",
       "</pre>\n"
      ],
      "text/plain": [
       "\u001b[1m Total params: \u001b[0m\u001b[38;5;34m6,082\u001b[0m (23.76 KB)\n"
      ]
     },
     "metadata": {},
     "output_type": "display_data"
    },
    {
     "data": {
      "text/html": [
       "<pre style=\"white-space:pre;overflow-x:auto;line-height:normal;font-family:Menlo,'DejaVu Sans Mono',consolas,'Courier New',monospace\"><span style=\"font-weight: bold\"> Trainable params: </span><span style=\"color: #00af00; text-decoration-color: #00af00\">6,082</span> (23.76 KB)\n",
       "</pre>\n"
      ],
      "text/plain": [
       "\u001b[1m Trainable params: \u001b[0m\u001b[38;5;34m6,082\u001b[0m (23.76 KB)\n"
      ]
     },
     "metadata": {},
     "output_type": "display_data"
    },
    {
     "data": {
      "text/html": [
       "<pre style=\"white-space:pre;overflow-x:auto;line-height:normal;font-family:Menlo,'DejaVu Sans Mono',consolas,'Courier New',monospace\"><span style=\"font-weight: bold\"> Non-trainable params: </span><span style=\"color: #00af00; text-decoration-color: #00af00\">0</span> (0.00 B)\n",
       "</pre>\n"
      ],
      "text/plain": [
       "\u001b[1m Non-trainable params: \u001b[0m\u001b[38;5;34m0\u001b[0m (0.00 B)\n"
      ]
     },
     "metadata": {},
     "output_type": "display_data"
    }
   ],
   "source": [
    "model_cnn = make_model_cnn(input_shape= train_x.shape[1:])\n",
    "\n",
    "model_cnn.summary()"
   ]
  },
  {
   "cell_type": "markdown",
   "id": "9bd880bb-1a81-4e3e-a1bb-39495f448807",
   "metadata": {},
   "source": [
    "Parametros utilizados para rodar as Épocas"
   ]
  },
  {
   "cell_type": "code",
   "execution_count": 508,
   "id": "2f451bb1-419c-45d0-aa97-4866516fce23",
   "metadata": {},
   "outputs": [],
   "source": [
    "epochs = 50\n",
    "batch_size = 32\n",
    "\n",
    "callbacks = [\n",
    "    tf.keras.callbacks.ModelCheckpoint(\n",
    "        \"best_model.keras\", save_best_only=True, monitor=\"val_loss\"\n",
    "    ),\n",
    "    tf.keras.callbacks.ReduceLROnPlateau(\n",
    "        monitor=\"val_loss\", factor=0.5, patience=10, min_lr=0.0001\n",
    "    ),\n",
    "    tf.keras.callbacks.EarlyStopping(monitor=\"val_loss\", patience=20, verbose=1),\n",
    "]"
   ]
  },
  {
   "cell_type": "markdown",
   "id": "981fd858-5de7-42dc-a2f0-0521679563a0",
   "metadata": {},
   "source": [
    "LSTM"
   ]
  },
  {
   "cell_type": "code",
   "execution_count": 570,
   "id": "f46b7dfd-ebce-489c-b010-8a7ea6efbde6",
   "metadata": {},
   "outputs": [
    {
     "name": "stdout",
     "output_type": "stream",
     "text": [
      "Epoch 1/50\n",
      "\u001b[1m11/11\u001b[0m \u001b[32m━━━━━━━━━━━━━━━━━━━━\u001b[0m\u001b[37m\u001b[0m \u001b[1m7s\u001b[0m 139ms/step - loss: 0.6931 - sparse_categorical_accuracy: 0.8756 - val_loss: 0.6931 - val_sparse_categorical_accuracy: 0.8488 - learning_rate: 0.0010\n",
      "Epoch 2/50\n",
      "\u001b[1m11/11\u001b[0m \u001b[32m━━━━━━━━━━━━━━━━━━━━\u001b[0m\u001b[37m\u001b[0m \u001b[1m1s\u001b[0m 74ms/step - loss: 0.6931 - sparse_categorical_accuracy: 0.8683 - val_loss: 0.6931 - val_sparse_categorical_accuracy: 0.8488 - learning_rate: 0.0010\n",
      "Epoch 3/50\n",
      "\u001b[1m11/11\u001b[0m \u001b[32m━━━━━━━━━━━━━━━━━━━━\u001b[0m\u001b[37m\u001b[0m \u001b[1m1s\u001b[0m 71ms/step - loss: 0.6931 - sparse_categorical_accuracy: 0.8890 - val_loss: 0.6931 - val_sparse_categorical_accuracy: 0.8488 - learning_rate: 0.0010\n",
      "Epoch 4/50\n",
      "\u001b[1m11/11\u001b[0m \u001b[32m━━━━━━━━━━━━━━━━━━━━\u001b[0m\u001b[37m\u001b[0m \u001b[1m1s\u001b[0m 74ms/step - loss: 0.6931 - sparse_categorical_accuracy: 0.8999 - val_loss: 0.6931 - val_sparse_categorical_accuracy: 0.8488 - learning_rate: 0.0010\n",
      "Epoch 5/50\n",
      "\u001b[1m11/11\u001b[0m \u001b[32m━━━━━━━━━━━━━━━━━━━━\u001b[0m\u001b[37m\u001b[0m \u001b[1m1s\u001b[0m 72ms/step - loss: 0.6931 - sparse_categorical_accuracy: 0.9001 - val_loss: 0.6931 - val_sparse_categorical_accuracy: 0.8488 - learning_rate: 0.0010\n",
      "Epoch 6/50\n",
      "\u001b[1m11/11\u001b[0m \u001b[32m━━━━━━━━━━━━━━━━━━━━\u001b[0m\u001b[37m\u001b[0m \u001b[1m1s\u001b[0m 74ms/step - loss: 0.6931 - sparse_categorical_accuracy: 0.8983 - val_loss: 0.6931 - val_sparse_categorical_accuracy: 0.8488 - learning_rate: 0.0010\n",
      "Epoch 7/50\n",
      "\u001b[1m11/11\u001b[0m \u001b[32m━━━━━━━━━━━━━━━━━━━━\u001b[0m\u001b[37m\u001b[0m \u001b[1m1s\u001b[0m 73ms/step - loss: 0.6931 - sparse_categorical_accuracy: 0.8790 - val_loss: 0.6931 - val_sparse_categorical_accuracy: 0.8488 - learning_rate: 0.0010\n",
      "Epoch 8/50\n",
      "\u001b[1m11/11\u001b[0m \u001b[32m━━━━━━━━━━━━━━━━━━━━\u001b[0m\u001b[37m\u001b[0m \u001b[1m1s\u001b[0m 74ms/step - loss: 0.6931 - sparse_categorical_accuracy: 0.8853 - val_loss: 0.6931 - val_sparse_categorical_accuracy: 0.8488 - learning_rate: 0.0010\n",
      "Epoch 9/50\n",
      "\u001b[1m11/11\u001b[0m \u001b[32m━━━━━━━━━━━━━━━━━━━━\u001b[0m\u001b[37m\u001b[0m \u001b[1m1s\u001b[0m 80ms/step - loss: 0.6931 - sparse_categorical_accuracy: 0.8893 - val_loss: 0.6931 - val_sparse_categorical_accuracy: 0.8488 - learning_rate: 0.0010\n",
      "Epoch 10/50\n",
      "\u001b[1m11/11\u001b[0m \u001b[32m━━━━━━━━━━━━━━━━━━━━\u001b[0m\u001b[37m\u001b[0m \u001b[1m1s\u001b[0m 72ms/step - loss: 0.6931 - sparse_categorical_accuracy: 0.9023 - val_loss: 0.6931 - val_sparse_categorical_accuracy: 0.8488 - learning_rate: 0.0010\n",
      "Epoch 11/50\n",
      "\u001b[1m11/11\u001b[0m \u001b[32m━━━━━━━━━━━━━━━━━━━━\u001b[0m\u001b[37m\u001b[0m \u001b[1m1s\u001b[0m 72ms/step - loss: 0.6931 - sparse_categorical_accuracy: 0.8856 - val_loss: 0.6931 - val_sparse_categorical_accuracy: 0.8488 - learning_rate: 0.0010\n",
      "Epoch 12/50\n",
      "\u001b[1m11/11\u001b[0m \u001b[32m━━━━━━━━━━━━━━━━━━━━\u001b[0m\u001b[37m\u001b[0m \u001b[1m1s\u001b[0m 71ms/step - loss: 0.6931 - sparse_categorical_accuracy: 0.8641 - val_loss: 0.6931 - val_sparse_categorical_accuracy: 0.8488 - learning_rate: 5.0000e-04\n",
      "Epoch 13/50\n",
      "\u001b[1m11/11\u001b[0m \u001b[32m━━━━━━━━━━━━━━━━━━━━\u001b[0m\u001b[37m\u001b[0m \u001b[1m1s\u001b[0m 73ms/step - loss: 0.6931 - sparse_categorical_accuracy: 0.8901 - val_loss: 0.6931 - val_sparse_categorical_accuracy: 0.8488 - learning_rate: 5.0000e-04\n",
      "Epoch 14/50\n",
      "\u001b[1m11/11\u001b[0m \u001b[32m━━━━━━━━━━━━━━━━━━━━\u001b[0m\u001b[37m\u001b[0m \u001b[1m1s\u001b[0m 72ms/step - loss: 0.6931 - sparse_categorical_accuracy: 0.9027 - val_loss: 0.6931 - val_sparse_categorical_accuracy: 0.8488 - learning_rate: 5.0000e-04\n",
      "Epoch 15/50\n",
      "\u001b[1m11/11\u001b[0m \u001b[32m━━━━━━━━━━━━━━━━━━━━\u001b[0m\u001b[37m\u001b[0m \u001b[1m1s\u001b[0m 73ms/step - loss: 0.6931 - sparse_categorical_accuracy: 0.8967 - val_loss: 0.6931 - val_sparse_categorical_accuracy: 0.8488 - learning_rate: 5.0000e-04\n",
      "Epoch 16/50\n",
      "\u001b[1m11/11\u001b[0m \u001b[32m━━━━━━━━━━━━━━━━━━━━\u001b[0m\u001b[37m\u001b[0m \u001b[1m1s\u001b[0m 72ms/step - loss: 0.6931 - sparse_categorical_accuracy: 0.8952 - val_loss: 0.6931 - val_sparse_categorical_accuracy: 0.8488 - learning_rate: 5.0000e-04\n",
      "Epoch 17/50\n",
      "\u001b[1m11/11\u001b[0m \u001b[32m━━━━━━━━━━━━━━━━━━━━\u001b[0m\u001b[37m\u001b[0m \u001b[1m2s\u001b[0m 86ms/step - loss: 0.6931 - sparse_categorical_accuracy: 0.8912 - val_loss: 0.6931 - val_sparse_categorical_accuracy: 0.8488 - learning_rate: 5.0000e-04\n",
      "Epoch 18/50\n",
      "\u001b[1m11/11\u001b[0m \u001b[32m━━━━━━━━━━━━━━━━━━━━\u001b[0m\u001b[37m\u001b[0m \u001b[1m1s\u001b[0m 74ms/step - loss: 0.6931 - sparse_categorical_accuracy: 0.8924 - val_loss: 0.6931 - val_sparse_categorical_accuracy: 0.8488 - learning_rate: 5.0000e-04\n",
      "Epoch 19/50\n",
      "\u001b[1m11/11\u001b[0m \u001b[32m━━━━━━━━━━━━━━━━━━━━\u001b[0m\u001b[37m\u001b[0m \u001b[1m1s\u001b[0m 74ms/step - loss: 0.6931 - sparse_categorical_accuracy: 0.8959 - val_loss: 0.6931 - val_sparse_categorical_accuracy: 0.8488 - learning_rate: 5.0000e-04\n",
      "Epoch 20/50\n",
      "\u001b[1m11/11\u001b[0m \u001b[32m━━━━━━━━━━━━━━━━━━━━\u001b[0m\u001b[37m\u001b[0m \u001b[1m1s\u001b[0m 72ms/step - loss: 0.6931 - sparse_categorical_accuracy: 0.9054 - val_loss: 0.6931 - val_sparse_categorical_accuracy: 0.8488 - learning_rate: 5.0000e-04\n",
      "Epoch 20: early stopping\n"
     ]
    }
   ],
   "source": [
    "model_lstm.compile(\n",
    "    optimizer=\"adam\",\n",
    "    loss=\"sparse_categorical_crossentropy\",\n",
    "    metrics=[\n",
    "        \"sparse_categorical_accuracy\"\n",
    "    ]\n",
    ")\n",
    "history = model_lstm.fit(\n",
    "    train_x,\n",
    "    train_y,\n",
    "    batch_size=batch_size,\n",
    "    epochs=epochs,\n",
    "    callbacks=callbacks,\n",
    "    validation_split=0.2,\n",
    "    verbose=1,\n",
    ")"
   ]
  },
  {
   "cell_type": "code",
   "execution_count": 511,
   "id": "c249b492-93b8-4b51-9a63-66fcc8ceb56a",
   "metadata": {},
   "outputs": [
    {
     "name": "stdout",
     "output_type": "stream",
     "text": [
      "\u001b[1m2/2\u001b[0m \u001b[32m━━━━━━━━━━━━━━━━━━━━\u001b[0m\u001b[37m\u001b[0m \u001b[1m1s\u001b[0m 21ms/step - loss: 0.6931 - sparse_categorical_accuracy: 0.9147\n",
      "Test accuracy 0.9032257795333862\n",
      "Test loss 0.6931471824645996\n"
     ]
    }
   ],
   "source": [
    "model_lstm = tf.keras.models.load_model(\"best_model.keras\")\n",
    "\n",
    "test_loss, test_acc = model_lstm.evaluate(test_x, test_y)\n",
    "\n",
    "print(\"Test accuracy\", test_acc)\n",
    "print(\"Test loss\", test_loss)"
   ]
  },
  {
   "cell_type": "code",
   "execution_count": 572,
   "id": "987b208b-620d-4b2a-9493-72ddc55c9e46",
   "metadata": {},
   "outputs": [
    {
     "data": {
      "image/png": "[encoded data removed]",
      "text/plain": [
       "<Figure size 640x480 with 1 Axes>"
      ]
     },
     "metadata": {},
     "output_type": "display_data"
    }
   ],
   "source": [
    "metric = \"sparse_categorical_accuracy\"\n",
    "plt.figure()\n",
    "plt.plot(history.history[metric])\n",
    "plt.plot(history.history[\"val_\" + metric])\n",
    "plt.title(\"LSTM: \" + metric)\n",
    "plt.ylabel(metric, fontsize=\"large\")\n",
    "plt.xlabel(\"epoch\", fontsize=\"large\")\n",
    "plt.legend([\"train\", \"val\"], loc=\"best\")\n",
    "plt.show()\n",
    "plt.close()"
   ]
  },
  {
   "cell_type": "markdown",
   "id": "ede7cf24-890e-4cac-a374-2a08c2b8db8b",
   "metadata": {},
   "source": [
    "RNN"
   ]
  },
  {
   "cell_type": "code",
   "execution_count": 514,
   "id": "c8b1502d-906e-4c6d-83a7-b691d6093bb6",
   "metadata": {},
   "outputs": [
    {
     "name": "stdout",
     "output_type": "stream",
     "text": [
      "Epoch 1/50\n",
      "\u001b[1m11/11\u001b[0m \u001b[32m━━━━━━━━━━━━━━━━━━━━\u001b[0m\u001b[37m\u001b[0m \u001b[1m5s\u001b[0m 110ms/step - loss: 0.6800 - sparse_categorical_accuracy: 0.5849 - val_loss: 0.6314 - val_sparse_categorical_accuracy: 0.6744 - learning_rate: 0.0010\n",
      "Epoch 2/50\n",
      "\u001b[1m11/11\u001b[0m \u001b[32m━━━━━━━━━━━━━━━━━━━━\u001b[0m\u001b[37m\u001b[0m \u001b[1m1s\u001b[0m 47ms/step - loss: 0.6464 - sparse_categorical_accuracy: 0.5684 - val_loss: 0.5796 - val_sparse_categorical_accuracy: 0.6744 - learning_rate: 0.0010\n",
      "Epoch 3/50\n",
      "\u001b[1m11/11\u001b[0m \u001b[32m━━━━━━━━━━━━━━━━━━━━\u001b[0m\u001b[37m\u001b[0m \u001b[1m1s\u001b[0m 50ms/step - loss: 0.5814 - sparse_categorical_accuracy: 0.6117 - val_loss: 0.4866 - val_sparse_categorical_accuracy: 0.8488 - learning_rate: 0.0010\n",
      "Epoch 4/50\n",
      "\u001b[1m11/11\u001b[0m \u001b[32m━━━━━━━━━━━━━━━━━━━━\u001b[0m\u001b[37m\u001b[0m \u001b[1m1s\u001b[0m 48ms/step - loss: 0.4916 - sparse_categorical_accuracy: 0.8866 - val_loss: 0.4060 - val_sparse_categorical_accuracy: 0.8488 - learning_rate: 0.0010\n",
      "Epoch 5/50\n",
      "\u001b[1m11/11\u001b[0m \u001b[32m━━━━━━━━━━━━━━━━━━━━\u001b[0m\u001b[37m\u001b[0m \u001b[1m1s\u001b[0m 44ms/step - loss: 0.4161 - sparse_categorical_accuracy: 0.8577 - val_loss: 0.3708 - val_sparse_categorical_accuracy: 0.8488 - learning_rate: 0.0010\n",
      "Epoch 6/50\n",
      "\u001b[1m11/11\u001b[0m \u001b[32m━━━━━━━━━━━━━━━━━━━━\u001b[0m\u001b[37m\u001b[0m \u001b[1m1s\u001b[0m 46ms/step - loss: 0.3285 - sparse_categorical_accuracy: 0.8948 - val_loss: 0.3668 - val_sparse_categorical_accuracy: 0.8488 - learning_rate: 0.0010\n",
      "Epoch 7/50\n",
      "\u001b[1m11/11\u001b[0m \u001b[32m━━━━━━━━━━━━━━━━━━━━\u001b[0m\u001b[37m\u001b[0m \u001b[1m1s\u001b[0m 52ms/step - loss: 0.2974 - sparse_categorical_accuracy: 0.9074 - val_loss: 0.3660 - val_sparse_categorical_accuracy: 0.8488 - learning_rate: 0.0010\n",
      "Epoch 8/50\n",
      "\u001b[1m11/11\u001b[0m \u001b[32m━━━━━━━━━━━━━━━━━━━━\u001b[0m\u001b[37m\u001b[0m \u001b[1m1s\u001b[0m 48ms/step - loss: 0.3026 - sparse_categorical_accuracy: 0.8991 - val_loss: 0.3586 - val_sparse_categorical_accuracy: 0.8488 - learning_rate: 0.0010\n",
      "Epoch 9/50\n",
      "\u001b[1m11/11\u001b[0m \u001b[32m━━━━━━━━━━━━━━━━━━━━\u001b[0m\u001b[37m\u001b[0m \u001b[1m1s\u001b[0m 46ms/step - loss: 0.3172 - sparse_categorical_accuracy: 0.8876 - val_loss: 0.3472 - val_sparse_categorical_accuracy: 0.8488 - learning_rate: 0.0010\n",
      "Epoch 10/50\n",
      "\u001b[1m11/11\u001b[0m \u001b[32m━━━━━━━━━━━━━━━━━━━━\u001b[0m\u001b[37m\u001b[0m \u001b[1m1s\u001b[0m 47ms/step - loss: 0.2743 - sparse_categorical_accuracy: 0.9088 - val_loss: 0.3434 - val_sparse_categorical_accuracy: 0.8488 - learning_rate: 0.0010\n",
      "Epoch 11/50\n",
      "\u001b[1m11/11\u001b[0m \u001b[32m━━━━━━━━━━━━━━━━━━━━\u001b[0m\u001b[37m\u001b[0m \u001b[1m1s\u001b[0m 44ms/step - loss: 0.3222 - sparse_categorical_accuracy: 0.8761 - val_loss: 0.3376 - val_sparse_categorical_accuracy: 0.8488 - learning_rate: 0.0010\n",
      "Epoch 12/50\n",
      "\u001b[1m11/11\u001b[0m \u001b[32m━━━━━━━━━━━━━━━━━━━━\u001b[0m\u001b[37m\u001b[0m \u001b[1m1s\u001b[0m 47ms/step - loss: 0.3049 - sparse_categorical_accuracy: 0.8828 - val_loss: 0.3370 - val_sparse_categorical_accuracy: 0.8488 - learning_rate: 0.0010\n",
      "Epoch 13/50\n",
      "\u001b[1m11/11\u001b[0m \u001b[32m━━━━━━━━━━━━━━━━━━━━\u001b[0m\u001b[37m\u001b[0m \u001b[1m1s\u001b[0m 45ms/step - loss: 0.2603 - sparse_categorical_accuracy: 0.9088 - val_loss: 0.3385 - val_sparse_categorical_accuracy: 0.8488 - learning_rate: 0.0010\n",
      "Epoch 14/50\n",
      "\u001b[1m11/11\u001b[0m \u001b[32m━━━━━━━━━━━━━━━━━━━━\u001b[0m\u001b[37m\u001b[0m \u001b[1m1s\u001b[0m 55ms/step - loss: 0.3120 - sparse_categorical_accuracy: 0.8839 - val_loss: 0.3342 - val_sparse_categorical_accuracy: 0.8488 - learning_rate: 0.0010\n",
      "Epoch 15/50\n",
      "\u001b[1m11/11\u001b[0m \u001b[32m━━━━━━━━━━━━━━━━━━━━\u001b[0m\u001b[37m\u001b[0m \u001b[1m1s\u001b[0m 61ms/step - loss: 0.3292 - sparse_categorical_accuracy: 0.8753 - val_loss: 0.3353 - val_sparse_categorical_accuracy: 0.8488 - learning_rate: 0.0010\n",
      "Epoch 16/50\n",
      "\u001b[1m11/11\u001b[0m \u001b[32m━━━━━━━━━━━━━━━━━━━━\u001b[0m\u001b[37m\u001b[0m \u001b[1m1s\u001b[0m 79ms/step - loss: 0.2787 - sparse_categorical_accuracy: 0.8992 - val_loss: 0.3344 - val_sparse_categorical_accuracy: 0.8488 - learning_rate: 0.0010\n",
      "Epoch 17/50\n",
      "\u001b[1m11/11\u001b[0m \u001b[32m━━━━━━━━━━━━━━━━━━━━\u001b[0m\u001b[37m\u001b[0m \u001b[1m1s\u001b[0m 48ms/step - loss: 0.2996 - sparse_categorical_accuracy: 0.8876 - val_loss: 0.3300 - val_sparse_categorical_accuracy: 0.8488 - learning_rate: 0.0010\n",
      "Epoch 18/50\n",
      "\u001b[1m11/11\u001b[0m \u001b[32m━━━━━━━━━━━━━━━━━━━━\u001b[0m\u001b[37m\u001b[0m \u001b[1m1s\u001b[0m 45ms/step - loss: 0.2685 - sparse_categorical_accuracy: 0.9002 - val_loss: 0.3334 - val_sparse_categorical_accuracy: 0.8488 - learning_rate: 0.0010\n",
      "Epoch 19/50\n",
      "\u001b[1m11/11\u001b[0m \u001b[32m━━━━━━━━━━━━━━━━━━━━\u001b[0m\u001b[37m\u001b[0m \u001b[1m1s\u001b[0m 51ms/step - loss: 0.2999 - sparse_categorical_accuracy: 0.8867 - val_loss: 0.3269 - val_sparse_categorical_accuracy: 0.8488 - learning_rate: 0.0010\n",
      "Epoch 20/50\n",
      "\u001b[1m11/11\u001b[0m \u001b[32m━━━━━━━━━━━━━━━━━━━━\u001b[0m\u001b[37m\u001b[0m \u001b[1m1s\u001b[0m 48ms/step - loss: 0.2982 - sparse_categorical_accuracy: 0.8915 - val_loss: 0.3310 - val_sparse_categorical_accuracy: 0.8488 - learning_rate: 0.0010\n",
      "Epoch 21/50\n",
      "\u001b[1m11/11\u001b[0m \u001b[32m━━━━━━━━━━━━━━━━━━━━\u001b[0m\u001b[37m\u001b[0m \u001b[1m1s\u001b[0m 61ms/step - loss: 0.2907 - sparse_categorical_accuracy: 0.8909 - val_loss: 0.3263 - val_sparse_categorical_accuracy: 0.8488 - learning_rate: 0.0010\n",
      "Epoch 22/50\n",
      "\u001b[1m11/11\u001b[0m \u001b[32m━━━━━━━━━━━━━━━━━━━━\u001b[0m\u001b[37m\u001b[0m \u001b[1m1s\u001b[0m 47ms/step - loss: 0.2694 - sparse_categorical_accuracy: 0.9045 - val_loss: 0.3294 - val_sparse_categorical_accuracy: 0.8488 - learning_rate: 0.0010\n",
      "Epoch 23/50\n",
      "\u001b[1m11/11\u001b[0m \u001b[32m━━━━━━━━━━━━━━━━━━━━\u001b[0m\u001b[37m\u001b[0m \u001b[1m1s\u001b[0m 45ms/step - loss: 0.2740 - sparse_categorical_accuracy: 0.9017 - val_loss: 0.3307 - val_sparse_categorical_accuracy: 0.8488 - learning_rate: 0.0010\n",
      "Epoch 24/50\n",
      "\u001b[1m11/11\u001b[0m \u001b[32m━━━━━━━━━━━━━━━━━━━━\u001b[0m\u001b[37m\u001b[0m \u001b[1m1s\u001b[0m 48ms/step - loss: 0.2728 - sparse_categorical_accuracy: 0.8968 - val_loss: 0.3191 - val_sparse_categorical_accuracy: 0.8488 - learning_rate: 0.0010\n",
      "Epoch 25/50\n",
      "\u001b[1m11/11\u001b[0m \u001b[32m━━━━━━━━━━━━━━━━━━━━\u001b[0m\u001b[37m\u001b[0m \u001b[1m1s\u001b[0m 47ms/step - loss: 0.3246 - sparse_categorical_accuracy: 0.8827 - val_loss: 0.3232 - val_sparse_categorical_accuracy: 0.8488 - learning_rate: 0.0010\n",
      "Epoch 26/50\n",
      "\u001b[1m11/11\u001b[0m \u001b[32m━━━━━━━━━━━━━━━━━━━━\u001b[0m\u001b[37m\u001b[0m \u001b[1m0s\u001b[0m 42ms/step - loss: 0.2782 - sparse_categorical_accuracy: 0.8922 - val_loss: 0.3309 - val_sparse_categorical_accuracy: 0.8488 - learning_rate: 0.0010\n",
      "Epoch 27/50\n",
      "\u001b[1m11/11\u001b[0m \u001b[32m━━━━━━━━━━━━━━━━━━━━\u001b[0m\u001b[37m\u001b[0m \u001b[1m1s\u001b[0m 45ms/step - loss: 0.3270 - sparse_categorical_accuracy: 0.8724 - val_loss: 0.3193 - val_sparse_categorical_accuracy: 0.8488 - learning_rate: 0.0010\n",
      "Epoch 28/50\n",
      "\u001b[1m11/11\u001b[0m \u001b[32m━━━━━━━━━━━━━━━━━━━━\u001b[0m\u001b[37m\u001b[0m \u001b[1m1s\u001b[0m 44ms/step - loss: 0.2754 - sparse_categorical_accuracy: 0.8943 - val_loss: 0.3294 - val_sparse_categorical_accuracy: 0.8488 - learning_rate: 0.0010\n",
      "Epoch 29/50\n",
      "\u001b[1m11/11\u001b[0m \u001b[32m━━━━━━━━━━━━━━━━━━━━\u001b[0m\u001b[37m\u001b[0m \u001b[1m1s\u001b[0m 55ms/step - loss: 0.2845 - sparse_categorical_accuracy: 0.8866 - val_loss: 0.3327 - val_sparse_categorical_accuracy: 0.8488 - learning_rate: 0.0010\n",
      "Epoch 30/50\n",
      "\u001b[1m11/11\u001b[0m \u001b[32m━━━━━━━━━━━━━━━━━━━━\u001b[0m\u001b[37m\u001b[0m \u001b[1m1s\u001b[0m 45ms/step - loss: 0.3189 - sparse_categorical_accuracy: 0.8692 - val_loss: 0.3250 - val_sparse_categorical_accuracy: 0.8488 - learning_rate: 0.0010\n",
      "Epoch 31/50\n",
      "\u001b[1m11/11\u001b[0m \u001b[32m━━━━━━━━━━━━━━━━━━━━\u001b[0m\u001b[37m\u001b[0m \u001b[1m1s\u001b[0m 52ms/step - loss: 0.2969 - sparse_categorical_accuracy: 0.8852 - val_loss: 0.3240 - val_sparse_categorical_accuracy: 0.8488 - learning_rate: 0.0010\n",
      "Epoch 32/50\n",
      "\u001b[1m11/11\u001b[0m \u001b[32m━━━━━━━━━━━━━━━━━━━━\u001b[0m\u001b[37m\u001b[0m \u001b[1m1s\u001b[0m 54ms/step - loss: 0.2820 - sparse_categorical_accuracy: 0.8944 - val_loss: 0.3203 - val_sparse_categorical_accuracy: 0.8488 - learning_rate: 0.0010\n",
      "Epoch 33/50\n",
      "\u001b[1m11/11\u001b[0m \u001b[32m━━━━━━━━━━━━━━━━━━━━\u001b[0m\u001b[37m\u001b[0m \u001b[1m1s\u001b[0m 61ms/step - loss: 0.2995 - sparse_categorical_accuracy: 0.8880 - val_loss: 0.3223 - val_sparse_categorical_accuracy: 0.8488 - learning_rate: 0.0010\n",
      "Epoch 34/50\n",
      "\u001b[1m11/11\u001b[0m \u001b[32m━━━━━━━━━━━━━━━━━━━━\u001b[0m\u001b[37m\u001b[0m \u001b[1m1s\u001b[0m 65ms/step - loss: 0.2668 - sparse_categorical_accuracy: 0.8996 - val_loss: 0.3200 - val_sparse_categorical_accuracy: 0.8488 - learning_rate: 0.0010\n",
      "Epoch 35/50\n",
      "\u001b[1m11/11\u001b[0m \u001b[32m━━━━━━━━━━━━━━━━━━━━\u001b[0m\u001b[37m\u001b[0m \u001b[1m1s\u001b[0m 46ms/step - loss: 0.2938 - sparse_categorical_accuracy: 0.8870 - val_loss: 0.3291 - val_sparse_categorical_accuracy: 0.8488 - learning_rate: 5.0000e-04\n",
      "Epoch 36/50\n",
      "\u001b[1m11/11\u001b[0m \u001b[32m━━━━━━━━━━━━━━━━━━━━\u001b[0m\u001b[37m\u001b[0m \u001b[1m1s\u001b[0m 86ms/step - loss: 0.3071 - sparse_categorical_accuracy: 0.8858 - val_loss: 0.3247 - val_sparse_categorical_accuracy: 0.8488 - learning_rate: 5.0000e-04\n",
      "Epoch 37/50\n",
      "\u001b[1m11/11\u001b[0m \u001b[32m━━━━━━━━━━━━━━━━━━━━\u001b[0m\u001b[37m\u001b[0m \u001b[1m1s\u001b[0m 69ms/step - loss: 0.3079 - sparse_categorical_accuracy: 0.8797 - val_loss: 0.3202 - val_sparse_categorical_accuracy: 0.8488 - learning_rate: 5.0000e-04\n",
      "Epoch 38/50\n",
      "\u001b[1m11/11\u001b[0m \u001b[32m━━━━━━━━━━━━━━━━━━━━\u001b[0m\u001b[37m\u001b[0m \u001b[1m1s\u001b[0m 50ms/step - loss: 0.2800 - sparse_categorical_accuracy: 0.8912 - val_loss: 0.3285 - val_sparse_categorical_accuracy: 0.8488 - learning_rate: 5.0000e-04\n",
      "Epoch 39/50\n",
      "\u001b[1m11/11\u001b[0m \u001b[32m━━━━━━━━━━━━━━━━━━━━\u001b[0m\u001b[37m\u001b[0m \u001b[1m0s\u001b[0m 43ms/step - loss: 0.3274 - sparse_categorical_accuracy: 0.8672 - val_loss: 0.3212 - val_sparse_categorical_accuracy: 0.8488 - learning_rate: 5.0000e-04\n",
      "Epoch 40/50\n",
      "\u001b[1m11/11\u001b[0m \u001b[32m━━━━━━━━━━━━━━━━━━━━\u001b[0m\u001b[37m\u001b[0m \u001b[1m1s\u001b[0m 48ms/step - loss: 0.2690 - sparse_categorical_accuracy: 0.8983 - val_loss: 0.3226 - val_sparse_categorical_accuracy: 0.8488 - learning_rate: 5.0000e-04\n",
      "Epoch 41/50\n",
      "\u001b[1m11/11\u001b[0m \u001b[32m━━━━━━━━━━━━━━━━━━━━\u001b[0m\u001b[37m\u001b[0m \u001b[1m0s\u001b[0m 43ms/step - loss: 0.2672 - sparse_categorical_accuracy: 0.8982 - val_loss: 0.3225 - val_sparse_categorical_accuracy: 0.8488 - learning_rate: 5.0000e-04\n",
      "Epoch 42/50\n",
      "\u001b[1m11/11\u001b[0m \u001b[32m━━━━━━━━━━━━━━━━━━━━\u001b[0m\u001b[37m\u001b[0m \u001b[1m1s\u001b[0m 44ms/step - loss: 0.3242 - sparse_categorical_accuracy: 0.8742 - val_loss: 0.3238 - val_sparse_categorical_accuracy: 0.8488 - learning_rate: 5.0000e-04\n",
      "Epoch 43/50\n",
      "\u001b[1m11/11\u001b[0m \u001b[32m━━━━━━━━━━━━━━━━━━━━\u001b[0m\u001b[37m\u001b[0m \u001b[1m1s\u001b[0m 56ms/step - loss: 0.3194 - sparse_categorical_accuracy: 0.8737 - val_loss: 0.3211 - val_sparse_categorical_accuracy: 0.8488 - learning_rate: 5.0000e-04\n",
      "Epoch 44/50\n",
      "\u001b[1m11/11\u001b[0m \u001b[32m━━━━━━━━━━━━━━━━━━━━\u001b[0m\u001b[37m\u001b[0m \u001b[1m1s\u001b[0m 79ms/step - loss: 0.3315 - sparse_categorical_accuracy: 0.8709 - val_loss: 0.3198 - val_sparse_categorical_accuracy: 0.8488 - learning_rate: 5.0000e-04\n",
      "Epoch 44: early stopping\n"
     ]
    }
   ],
   "source": [
    "model_rnn.compile(\n",
    "    optimizer=\"adam\",\n",
    "    loss=\"sparse_categorical_crossentropy\",\n",
    "    metrics=[\"sparse_categorical_accuracy\"],\n",
    ")\n",
    "history = model_rnn.fit(\n",
    "    train_x,\n",
    "    train_y,\n",
    "    batch_size=batch_size,\n",
    "    epochs=epochs,\n",
    "    callbacks=callbacks,\n",
    "    validation_split=0.2,\n",
    "    verbose=1,\n",
    ")"
   ]
  },
  {
   "cell_type": "code",
   "execution_count": 515,
   "id": "92e8a822-85c3-43b1-906f-0185e359814e",
   "metadata": {},
   "outputs": [
    {
     "name": "stdout",
     "output_type": "stream",
     "text": [
      "\u001b[1m2/2\u001b[0m \u001b[32m━━━━━━━━━━━━━━━━━━━━\u001b[0m\u001b[37m\u001b[0m \u001b[1m1s\u001b[0m 11ms/step - loss: 0.2783 - sparse_categorical_accuracy: 0.9147\n",
      "Test accuracy 0.9032257795333862\n",
      "Test loss 0.28385671973228455\n"
     ]
    }
   ],
   "source": [
    "model_rnn = tf.keras.models.load_model(\"best_model.keras\")\n",
    "\n",
    "test_loss, test_acc = model_rnn.evaluate(test_x, test_y)\n",
    "\n",
    "print(\"Test accuracy\", test_acc)\n",
    "print(\"Test loss\", test_loss)"
   ]
  },
  {
   "cell_type": "code",
   "execution_count": 516,
   "id": "03485e19-4b43-493e-ba52-3139b3f09fb2",
   "metadata": {},
   "outputs": [
    {
     "data": {
      "image/png": "[encoded data removed]",
      "text/plain": [
       "<Figure size 640x480 with 1 Axes>"
      ]
     },
     "metadata": {},
     "output_type": "display_data"
    }
   ],
   "source": [
    "metric = \"sparse_categorical_accuracy\"\n",
    "plt.figure()\n",
    "plt.plot(history.history[metric])\n",
    "plt.plot(history.history[\"val_\" + metric])\n",
    "plt.title(\"RNN \" + metric)\n",
    "plt.ylabel(metric, fontsize=\"large\")\n",
    "plt.xlabel(\"epoch\", fontsize=\"large\")\n",
    "plt.legend([\"train\", \"val\"], loc=\"best\")\n",
    "plt.show()\n",
    "plt.close()"
   ]
  },
  {
   "cell_type": "markdown",
   "id": "6cfabe83-03d7-44bf-91e5-405aed8d50d2",
   "metadata": {},
   "source": [
    "CNN"
   ]
  },
  {
   "cell_type": "code",
   "execution_count": 518,
   "id": "89978828-42a9-47fe-834a-04df86c7326a",
   "metadata": {},
   "outputs": [
    {
     "name": "stdout",
     "output_type": "stream",
     "text": [
      "Epoch 1/50\n",
      "\u001b[1m11/11\u001b[0m \u001b[32m━━━━━━━━━━━━━━━━━━━━\u001b[0m\u001b[37m\u001b[0m \u001b[1m3s\u001b[0m 83ms/step - loss: 0.7116 - sparse_categorical_accuracy: 0.5605 - val_loss: 0.5623 - val_sparse_categorical_accuracy: 0.6744 - learning_rate: 0.0010\n",
      "Epoch 2/50\n",
      "\u001b[1m11/11\u001b[0m \u001b[32m━━━━━━━━━━━━━━━━━━━━\u001b[0m\u001b[37m\u001b[0m \u001b[1m1s\u001b[0m 39ms/step - loss: 0.6268 - sparse_categorical_accuracy: 0.6252 - val_loss: 0.4825 - val_sparse_categorical_accuracy: 0.8488 - learning_rate: 0.0010\n",
      "Epoch 3/50\n",
      "\u001b[1m11/11\u001b[0m \u001b[32m━━━━━━━━━━━━━━━━━━━━\u001b[0m\u001b[37m\u001b[0m \u001b[1m0s\u001b[0m 16ms/step - loss: 0.3975 - sparse_categorical_accuracy: 0.8878 - val_loss: 0.3239 - val_sparse_categorical_accuracy: 0.8488 - learning_rate: 0.0010\n",
      "Epoch 4/50\n",
      "\u001b[1m11/11\u001b[0m \u001b[32m━━━━━━━━━━━━━━━━━━━━\u001b[0m\u001b[37m\u001b[0m \u001b[1m0s\u001b[0m 7ms/step - loss: 0.2907 - sparse_categorical_accuracy: 0.8919 - val_loss: 0.3642 - val_sparse_categorical_accuracy: 0.8488 - learning_rate: 0.0010\n",
      "Epoch 5/50\n",
      "\u001b[1m11/11\u001b[0m \u001b[32m━━━━━━━━━━━━━━━━━━━━\u001b[0m\u001b[37m\u001b[0m \u001b[1m0s\u001b[0m 9ms/step - loss: 0.3068 - sparse_categorical_accuracy: 0.8890 - val_loss: 0.3108 - val_sparse_categorical_accuracy: 0.8488 - learning_rate: 0.0010\n",
      "Epoch 6/50\n",
      "\u001b[1m11/11\u001b[0m \u001b[32m━━━━━━━━━━━━━━━━━━━━\u001b[0m\u001b[37m\u001b[0m \u001b[1m0s\u001b[0m 7ms/step - loss: 0.2875 - sparse_categorical_accuracy: 0.8880 - val_loss: 0.3401 - val_sparse_categorical_accuracy: 0.8488 - learning_rate: 0.0010\n",
      "Epoch 7/50\n",
      "\u001b[1m11/11\u001b[0m \u001b[32m━━━━━━━━━━━━━━━━━━━━\u001b[0m\u001b[37m\u001b[0m \u001b[1m0s\u001b[0m 6ms/step - loss: 0.3438 - sparse_categorical_accuracy: 0.8636 - val_loss: 0.3256 - val_sparse_categorical_accuracy: 0.8488 - learning_rate: 0.0010\n",
      "Epoch 8/50\n",
      "\u001b[1m11/11\u001b[0m \u001b[32m━━━━━━━━━━━━━━━━━━━━\u001b[0m\u001b[37m\u001b[0m \u001b[1m0s\u001b[0m 9ms/step - loss: 0.2693 - sparse_categorical_accuracy: 0.9083 - val_loss: 0.3127 - val_sparse_categorical_accuracy: 0.8488 - learning_rate: 0.0010\n",
      "Epoch 9/50\n",
      "\u001b[1m11/11\u001b[0m \u001b[32m━━━━━━━━━━━━━━━━━━━━\u001b[0m\u001b[37m\u001b[0m \u001b[1m0s\u001b[0m 10ms/step - loss: 0.3186 - sparse_categorical_accuracy: 0.8690 - val_loss: 0.3438 - val_sparse_categorical_accuracy: 0.8488 - learning_rate: 0.0010\n",
      "Epoch 10/50\n",
      "\u001b[1m11/11\u001b[0m \u001b[32m━━━━━━━━━━━━━━━━━━━━\u001b[0m\u001b[37m\u001b[0m \u001b[1m0s\u001b[0m 7ms/step - loss: 0.3042 - sparse_categorical_accuracy: 0.8817 - val_loss: 0.3188 - val_sparse_categorical_accuracy: 0.8488 - learning_rate: 0.0010\n",
      "Epoch 11/50\n",
      "\u001b[1m11/11\u001b[0m \u001b[32m━━━━━━━━━━━━━━━━━━━━\u001b[0m\u001b[37m\u001b[0m \u001b[1m0s\u001b[0m 6ms/step - loss: 0.2934 - sparse_categorical_accuracy: 0.9005 - val_loss: 0.3170 - val_sparse_categorical_accuracy: 0.8488 - learning_rate: 0.0010\n",
      "Epoch 12/50\n",
      "\u001b[1m11/11\u001b[0m \u001b[32m━━━━━━━━━━━━━━━━━━━━\u001b[0m\u001b[37m\u001b[0m \u001b[1m0s\u001b[0m 7ms/step - loss: 0.3444 - sparse_categorical_accuracy: 0.8664 - val_loss: 0.3384 - val_sparse_categorical_accuracy: 0.8488 - learning_rate: 0.0010\n",
      "Epoch 13/50\n",
      "\u001b[1m11/11\u001b[0m \u001b[32m━━━━━━━━━━━━━━━━━━━━\u001b[0m\u001b[37m\u001b[0m \u001b[1m0s\u001b[0m 8ms/step - loss: 0.3260 - sparse_categorical_accuracy: 0.8772 - val_loss: 0.3178 - val_sparse_categorical_accuracy: 0.8488 - learning_rate: 0.0010\n",
      "Epoch 14/50\n",
      "\u001b[1m11/11\u001b[0m \u001b[32m━━━━━━━━━━━━━━━━━━━━\u001b[0m\u001b[37m\u001b[0m \u001b[1m0s\u001b[0m 8ms/step - loss: 0.2785 - sparse_categorical_accuracy: 0.8936 - val_loss: 0.3328 - val_sparse_categorical_accuracy: 0.8488 - learning_rate: 0.0010\n",
      "Epoch 15/50\n",
      "\u001b[1m11/11\u001b[0m \u001b[32m━━━━━━━━━━━━━━━━━━━━\u001b[0m\u001b[37m\u001b[0m \u001b[1m0s\u001b[0m 6ms/step - loss: 0.3475 - sparse_categorical_accuracy: 0.8574 - val_loss: 0.3412 - val_sparse_categorical_accuracy: 0.8488 - learning_rate: 0.0010\n",
      "Epoch 16/50\n",
      "\u001b[1m11/11\u001b[0m \u001b[32m━━━━━━━━━━━━━━━━━━━━\u001b[0m\u001b[37m\u001b[0m \u001b[1m0s\u001b[0m 16ms/step - loss: 0.3322 - sparse_categorical_accuracy: 0.8638 - val_loss: 0.3358 - val_sparse_categorical_accuracy: 0.8488 - learning_rate: 5.0000e-04\n",
      "Epoch 17/50\n",
      "\u001b[1m11/11\u001b[0m \u001b[32m━━━━━━━━━━━━━━━━━━━━\u001b[0m\u001b[37m\u001b[0m \u001b[1m0s\u001b[0m 8ms/step - loss: 0.2603 - sparse_categorical_accuracy: 0.9106 - val_loss: 0.3233 - val_sparse_categorical_accuracy: 0.8488 - learning_rate: 5.0000e-04\n",
      "Epoch 18/50\n",
      "\u001b[1m11/11\u001b[0m \u001b[32m━━━━━━━━━━━━━━━━━━━━\u001b[0m\u001b[37m\u001b[0m \u001b[1m0s\u001b[0m 8ms/step - loss: 0.2826 - sparse_categorical_accuracy: 0.8943 - val_loss: 0.3151 - val_sparse_categorical_accuracy: 0.8488 - learning_rate: 5.0000e-04\n",
      "Epoch 19/50\n",
      "\u001b[1m11/11\u001b[0m \u001b[32m━━━━━━━━━━━━━━━━━━━━\u001b[0m\u001b[37m\u001b[0m \u001b[1m0s\u001b[0m 7ms/step - loss: 0.3148 - sparse_categorical_accuracy: 0.8850 - val_loss: 0.3232 - val_sparse_categorical_accuracy: 0.8488 - learning_rate: 5.0000e-04\n",
      "Epoch 20/50\n",
      "\u001b[1m11/11\u001b[0m \u001b[32m━━━━━━━━━━━━━━━━━━━━\u001b[0m\u001b[37m\u001b[0m \u001b[1m0s\u001b[0m 6ms/step - loss: 0.2744 - sparse_categorical_accuracy: 0.9032 - val_loss: 0.3321 - val_sparse_categorical_accuracy: 0.8488 - learning_rate: 5.0000e-04\n",
      "Epoch 21/50\n",
      "\u001b[1m11/11\u001b[0m \u001b[32m━━━━━━━━━━━━━━━━━━━━\u001b[0m\u001b[37m\u001b[0m \u001b[1m0s\u001b[0m 7ms/step - loss: 0.3433 - sparse_categorical_accuracy: 0.8725 - val_loss: 0.3129 - val_sparse_categorical_accuracy: 0.8488 - learning_rate: 5.0000e-04\n",
      "Epoch 22/50\n",
      "\u001b[1m11/11\u001b[0m \u001b[32m━━━━━━━━━━━━━━━━━━━━\u001b[0m\u001b[37m\u001b[0m \u001b[1m0s\u001b[0m 7ms/step - loss: 0.3065 - sparse_categorical_accuracy: 0.8801 - val_loss: 0.3231 - val_sparse_categorical_accuracy: 0.8488 - learning_rate: 5.0000e-04\n",
      "Epoch 23/50\n",
      "\u001b[1m11/11\u001b[0m \u001b[32m━━━━━━━━━━━━━━━━━━━━\u001b[0m\u001b[37m\u001b[0m \u001b[1m0s\u001b[0m 6ms/step - loss: 0.3189 - sparse_categorical_accuracy: 0.8839 - val_loss: 0.3197 - val_sparse_categorical_accuracy: 0.8488 - learning_rate: 5.0000e-04\n",
      "Epoch 24/50\n",
      "\u001b[1m11/11\u001b[0m \u001b[32m━━━━━━━━━━━━━━━━━━━━\u001b[0m\u001b[37m\u001b[0m \u001b[1m0s\u001b[0m 23ms/step - loss: 0.2689 - sparse_categorical_accuracy: 0.9068 - val_loss: 0.3242 - val_sparse_categorical_accuracy: 0.8488 - learning_rate: 5.0000e-04\n",
      "Epoch 25/50\n",
      "\u001b[1m11/11\u001b[0m \u001b[32m━━━━━━━━━━━━━━━━━━━━\u001b[0m\u001b[37m\u001b[0m \u001b[1m0s\u001b[0m 11ms/step - loss: 0.2871 - sparse_categorical_accuracy: 0.8895 - val_loss: 0.3205 - val_sparse_categorical_accuracy: 0.8488 - learning_rate: 5.0000e-04\n",
      "Epoch 25: early stopping\n"
     ]
    }
   ],
   "source": [
    "model_cnn.compile(\n",
    "    optimizer=\"adam\",\n",
    "    loss=\"sparse_categorical_crossentropy\",\n",
    "    metrics=[\"sparse_categorical_accuracy\"],\n",
    ")\n",
    "history = model_cnn.fit(\n",
    "    train_x,\n",
    "    train_y,\n",
    "    batch_size=batch_size,\n",
    "    epochs=epochs,\n",
    "    callbacks=callbacks,\n",
    "    validation_split=0.2,\n",
    "    verbose=1,\n",
    ")"
   ]
  },
  {
   "cell_type": "code",
   "execution_count": 519,
   "id": "6c7d046f-80ed-472c-9009-996be9f4e9bd",
   "metadata": {},
   "outputs": [
    {
     "name": "stdout",
     "output_type": "stream",
     "text": [
      "\u001b[1m2/2\u001b[0m \u001b[32m━━━━━━━━━━━━━━━━━━━━\u001b[0m\u001b[37m\u001b[0m \u001b[1m1s\u001b[0m 6ms/step - loss: 0.2875 - sparse_categorical_accuracy: 0.9147\n",
      "Test accuracy 0.9032257795333862\n",
      "Test loss 0.2859932482242584\n"
     ]
    }
   ],
   "source": [
    "model_cnn = tf.keras.models.load_model(\"best_model.keras\")\n",
    "\n",
    "test_loss, test_acc = model_cnn.evaluate(test_x, test_y)\n",
    "\n",
    "print(\"Test accuracy\", test_acc)\n",
    "print(\"Test loss\", test_loss)"
   ]
  },
  {
   "cell_type": "code",
   "execution_count": 520,
   "id": "7ca6f0e5-09bc-4f84-a0c6-49c58bdf50e0",
   "metadata": {},
   "outputs": [
    {
     "data": {
      "image/png": "[encoded data removed]",
      "text/plain": [
       "<Figure size 640x480 with 1 Axes>"
      ]
     },
     "metadata": {},
     "output_type": "display_data"
    }
   ],
   "source": [
    "metric = \"sparse_categorical_accuracy\"\n",
    "plt.figure()\n",
    "plt.plot(history.history[metric])\n",
    "plt.plot(history.history[\"val_\" + metric])\n",
    "plt.title(\"CNN: \" + metric)\n",
    "plt.ylabel(metric, fontsize=\"large\")\n",
    "plt.xlabel(\"epoch\", fontsize=\"large\")\n",
    "plt.legend([\"train\", \"val\"], loc=\"best\")\n",
    "plt.show()\n",
    "plt.close()"
   ]
  }
 ],
 "metadata": {
  "kernelspec": {
   "display_name": "Python 3 (ipykernel)",
   "language": "python",
   "name": "python3"
  },
  "language_info": {
   "codemirror_mode": {
    "name": "ipython",
    "version": 3
   },
   "file_extension": ".py",
   "mimetype": "text/x-python",
   "name": "python",
   "nbconvert_exporter": "python",
   "pygments_lexer": "ipython3",
   "version": "3.11.7"
  }
 },
 "nbformat": 4,
 "nbformat_minor": 5
}
